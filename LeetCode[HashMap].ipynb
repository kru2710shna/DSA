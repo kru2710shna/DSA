{
 "cells": [
  {
   "cell_type": "markdown",
   "id": "e27c791d-8d93-4cde-b822-59e4b1e5b68f",
   "metadata": {},
   "source": [
    "#  LeetCode Problems "
   ]
  },
  {
   "cell_type": "markdown",
   "id": "0e60dbae-fcc9-493b-a857-f7394fac84ea",
   "metadata": {},
   "source": [
    "### Topic: HashMap\n",
    "#### Level: Easy  \n",
    "###### Question To Pratice: 5\n",
    "###### Probelms are numbered according to LeetCode Numbering."
   ]
  },
  {
   "cell_type": "markdown",
   "id": "4a5e8c76-bd80-4daf-bcfe-8a6633ab2c7b",
   "metadata": {},
   "source": [
    "Problem: #383. Ransom Note\n",
    "    \n",
    "Level - Easy\n",
    "\n",
    "Given two strings ransomNote and magazine, return true if ransomNote can be constructed by using the letters from magazine and false otherwise.\n",
    "\n",
    "Each letter in magazine can only be used once in ransomNote.\n",
    "\n",
    "Example 1:\n",
    "Input: ransomNote = \"a\", magazine = \"b\"\n",
    "Output: false\n",
    "\n",
    "Example 2:\n",
    "Input: ransomNote = \"aa\", magazine = \"ab\"\n",
    "Output: false\n",
    "\n",
    "Example 3:\n",
    "Input: ransomNote = \"aa\", magazine = \"aab\"\n",
    "Output: true"
   ]
  },
  {
   "cell_type": "code",
   "execution_count": 2,
   "id": "c720157c-c062-4324-a9f7-efde6b116d73",
   "metadata": {},
   "outputs": [],
   "source": [
    "class Solution(object):\n",
    "    def canConstruct(self, ransomNote, magazine):\n",
    "        \"\"\"\n",
    "        :type ransomNote: str\n",
    "        :type magazine: str\n",
    "        :rtype: bool\n",
    "        \"\"\"\n",
    "        st1, st2 = Counter(ransomNote), Counter(magazine)\n",
    "        if st1 & st2 == st1:\n",
    "            return True\n",
    "        return False"
   ]
  },
  {
   "cell_type": "markdown",
   "id": "58e33eb7-c740-48e9-bf3d-06e4550261d4",
   "metadata": {},
   "source": [
    "Time Complexity:O(1) Space Complexity:O(1)"
   ]
  },
  {
   "cell_type": "markdown",
   "id": "7aea9871-cc93-4ed1-a7f6-54b7d8e7678d",
   "metadata": {},
   "source": [
    "Problem: #205. Isomorphic Strings\n",
    "\n",
    "Level - Easy\n",
    "\n",
    "Given two strings s and t, determine if they are isomorphic.\n",
    "\n",
    "Two strings s and t are isomorphic if the characters in s can be replaced to get t.\n",
    "\n",
    "All occurrences of a character must be replaced with another character while preserving the order of characters. No two characters may map to the same character, but a character may map to itself.\n",
    "\n",
    "Example 1:\n",
    "Input: s = \"egg\", t = \"add\"\n",
    "Output: true\n",
    "\n",
    "Example 2:\n",
    "Input: s = \"foo\", t = \"bar\"\n",
    "Output: false\n",
    "\n",
    "Example 3:\n",
    "Input: s = \"paper\", t = \"title\"\n",
    "Output: true"
   ]
  },
  {
   "cell_type": "code",
   "execution_count": 3,
   "id": "cc8cddc9-3bf8-47a6-a1e0-7f989c44e48b",
   "metadata": {},
   "outputs": [],
   "source": [
    "\n",
    "class Solution(object):\n",
    "    def isIsomorphic(self, s, t):\n",
    "        map1 = []\n",
    "        map2 = []\n",
    "        for idx in s:\n",
    "            map1.append(s.index(idx))\n",
    "        for idx in t:\n",
    "            map2.append(t.index(idx))\n",
    "        if map1 == map2:\n",
    "            return True\n",
    "        return False"
   ]
  },
  {
   "cell_type": "markdown",
   "id": "9023a082-0c13-4e31-abe6-9f7aa18ca164",
   "metadata": {},
   "source": [
    "Time Complexity : O(n) and Space Complexity:"
   ]
  },
  {
   "cell_type": "markdown",
   "id": "cf29fcbd-297e-4cc0-96a6-06075853d5fe",
   "metadata": {},
   "source": [
    "Problem: #290. Word Pattern\n",
    "\n",
    "Level - Easy\n",
    "\n",
    "Given a pattern and a string s, find if s follows the same pattern.\n",
    "\n",
    "Here follow means a full match, such that there is a bijection between a letter in pattern and a non-empty word in s.\n",
    "\n",
    "Example 1:\n",
    "Input: pattern = \"abba\", s = \"dog cat cat dog\"\n",
    "Output: true\n",
    "\n",
    "Example 2:\n",
    "Input: pattern = \"abba\", s = \"dog cat cat fish\"\n",
    "Output: false\n",
    "\n",
    "Example 3:\n",
    "Input: pattern = \"aaaa\", s = \"dog cat cat dog\"\n",
    "Output: false"
   ]
  },
  {
   "cell_type": "code",
   "execution_count": 4,
   "id": "8a00fc58-89e0-4823-b446-da3dc37846f0",
   "metadata": {},
   "outputs": [],
   "source": [
    "class Solution(object):\n",
    "    def wordPattern(self, pattern, s):\n",
    "        \"\"\"\n",
    "        :type pattern: str\n",
    "        :type s: str\n",
    "        :rtype: bool\n",
    "        \"\"\"\n",
    "        d = {}\n",
    "        d2 = {}\n",
    "        words = s.split()\n",
    "        if len(words) != len(pattern): return False\n",
    "        i = 0\n",
    "        while i < len(words):\n",
    "            if words [i] not in d and pattern[i] not in d2:\n",
    "                d[words[i]] = pattern[i]\n",
    "                d2[pattern[i]] = True\n",
    "            elif d.get(words [i]) != pattern[i]:\n",
    "                return False \n",
    "            i+=1 \n",
    "        return True\n",
    "                "
   ]
  },
  {
   "cell_type": "markdown",
   "id": "dec72c56-da09-413f-958c-bc496b7b522e",
   "metadata": {},
   "source": [
    "Time Complexity: O(N) Space Complexity O(N)"
   ]
  },
  {
   "cell_type": "markdown",
   "id": "f99ef20a-18db-45fc-a4b7-a7b24f7e126a",
   "metadata": {},
   "source": [
    "Problem: #242. Valid Anagram\n",
    "\n",
    "Level - Easy\n",
    "\n",
    "Given two strings s and t, return true if t is an anagram of s, and false otherwise.\n",
    "\n",
    "An Anagram is a word or phrase formed by rearranging the letters of a different word or phrase, typically using all the original letters exactly once.\n",
    " \n",
    "Example 1:\n",
    "Input: s = \"anagram\", t = \"nagaram\"\n",
    "Output: true\n",
    "\n",
    "Example 2:\n",
    "Input: s = \"rat\", t = \"car\"\n",
    "Output: false"
   ]
  },
  {
   "cell_type": "code",
   "execution_count": 5,
   "id": "d38ad3a1-e40d-4149-a0c3-343a42a07351",
   "metadata": {},
   "outputs": [],
   "source": [
    "class Solution:\n",
    "    def isAnagram(self, s, t):\n",
    "        s1 = Counter(s)\n",
    "        t1 = Counter(t)\n",
    "\n",
    "        if s1 == t1:\n",
    "            return True\n",
    "        return False"
   ]
  },
  {
   "cell_type": "markdown",
   "id": "92863921-32be-4073-9485-ae65e6e8bf9f",
   "metadata": {},
   "source": [
    "Time Complexity: O(1) Space Complexity: O(1)"
   ]
  },
  {
   "cell_type": "markdown",
   "id": "173211fd-4263-479c-b19f-e0f3aad82dc3",
   "metadata": {},
   "source": [
    "Problem: #49. Group Anagrams\n",
    "\n",
    "Level - Medium\n",
    "\n",
    "Given an array of strings strs, group the anagrams together. You can return the answer in any order.\n",
    "\n",
    "An Anagram is a word or phrase formed by rearranging the letters of a different word or phrase, typically using all the original letters exactly once.\n",
    "\n",
    "Example 1:\n",
    "Input: strs = [\"eat\",\"tea\",\"tan\",\"ate\",\"nat\",\"bat\"]\n",
    "Output: [[\"bat\"],[\"nat\",\"tan\"],[\"ate\",\"eat\",\"tea\"]]\n",
    "\n",
    "Example 2:\n",
    "Input: strs = [\"\"]\n",
    "Output: [[\"\"]]\n",
    "\n",
    "Example 3:\n",
    "Input: strs = [\"a\"]\n",
    "Output: [[\"a\"]]"
   ]
  },
  {
   "cell_type": "code",
   "execution_count": 6,
   "id": "b7d6e561-22d3-49fe-b06b-929fc63f39db",
   "metadata": {},
   "outputs": [],
   "source": [
    "from collections import defaultdict\n",
    "\n",
    "class Solution:\n",
    "    def groupAnagrams(self, strs):\n",
    "        anagram_groups = defaultdict(list)\n",
    "\n",
    "        for word in strs:\n",
    "            sorted_key = \"\".join(sorted(word))\n",
    "            anagram_groups[sorted_key].append(word)\n",
    "\n",
    "        return list(anagram_groups.values())\n"
   ]
  },
  {
   "cell_type": "markdown",
   "id": "32eb3ec2-950a-4bdd-8209-91716c36c0c4",
   "metadata": {},
   "source": [
    "Time Complexity: O(N) Space Complexity:O(1)"
   ]
  },
  {
   "cell_type": "code",
   "execution_count": null,
   "id": "8d4a833e-7b17-4514-aab2-4424aed791c5",
   "metadata": {},
   "outputs": [],
   "source": []
  }
 ],
 "metadata": {
  "kernelspec": {
   "display_name": "Python 3 (ipykernel)",
   "language": "python",
   "name": "python3"
  },
  "language_info": {
   "codemirror_mode": {
    "name": "ipython",
    "version": 3
   },
   "file_extension": ".py",
   "mimetype": "text/x-python",
   "name": "python",
   "nbconvert_exporter": "python",
   "pygments_lexer": "ipython3",
   "version": "3.10.9"
  }
 },
 "nbformat": 4,
 "nbformat_minor": 5
}
