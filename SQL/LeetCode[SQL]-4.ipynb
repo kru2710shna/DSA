{
 "cells": [
  {
   "cell_type": "markdown",
   "id": "5d2bde12",
   "metadata": {},
   "source": [
    "# LeetCode Problems \n",
    "## Topic - SQL"
   ]
  },
  {
   "cell_type": "markdown",
   "id": "bf1b711d-23b7-45ef-b98e-251b6087d97d",
   "metadata": {},
   "source": [
    "Problem Number: #175. Combine Two Tables"
   ]
  },
  {
   "cell_type": "raw",
   "id": "4ddb1490",
   "metadata": {},
   "source": [
    "#Write your MySQL query statement below\n",
    "SELECT p.firstName, p.lastName, a.city, a.state \n",
    "FROM person as P \n",
    "LEFT JOIN address as a\n",
    "On p.personId = a.personId"
   ]
  },
  {
   "cell_type": "markdown",
   "id": "a8cd1c3e",
   "metadata": {},
   "source": [
    "#"
   ]
  },
  {
   "cell_type": "markdown",
   "id": "d6894df4-f08c-4063-8f77-a591a2df2ea6",
   "metadata": {},
   "source": [
    "Problem Number: 181. Employees Earning More Than Their Managers"
   ]
  },
  {
   "cell_type": "raw",
   "id": "7db1fbac-54ec-4024-bafb-48f2d5edafcb",
   "metadata": {},
   "source": [
    "# Write your MySQL query statement below\n",
    "SELECT e2.name as EMPLOYEE\n",
    "FROM employee e1\n",
    "INNER JOIN employee e2 ON e1.id = e2.managerID\n",
    "WHERE e1.salary < e2.salary ;\n"
   ]
  },
  {
   "cell_type": "markdown",
   "id": "19742997-7079-4908-8f38-af6d7a6372f4",
   "metadata": {},
   "source": [
    "Problem number: 196. Delete Duplicate Emails"
   ]
  },
  {
   "cell_type": "raw",
   "id": "58f6036d",
   "metadata": {},
   "source": [
    "# Write your MySQL query statement below\n",
    "# Delete p1\n",
    "# From person p1, person p2 \n",
    "# WHERE p1.email = p2.email and p1.Id > p2.Id\n",
    "\n",
    "DELETE FROM PERSON\n",
    " WHERE id not in \n",
    " (SELECT * FROM \n",
    "  (SELECT min(id) FROM Person GROUP BY email) AS temp_tab\n",
    " )\n"
   ]
  },
  {
   "cell_type": "markdown",
   "id": "8fc7e7ba-faa3-4e52-bc03-11514952a8c3",
   "metadata": {},
   "source": [
    "#"
   ]
  },
  {
   "cell_type": "markdown",
   "id": "3ef8e20f-a94a-44a5-b827-df4d6a2bb570",
   "metadata": {},
   "source": [
    "Problem Number: 595. Big Countries"
   ]
  },
  {
   "cell_type": "raw",
   "id": "c82a0805-1898-4bbd-ae90-f603622d95a7",
   "metadata": {},
   "source": [
    "SELECT name, population, area\n",
    "FROM World\n",
    "WHERE area >= 3000000 OR population >= 25000000;"
   ]
  },
  {
   "cell_type": "markdown",
   "id": "34fdac26-6854-48b7-993e-ec63a1da8414",
   "metadata": {},
   "source": [
    "#"
   ]
  },
  {
   "cell_type": "markdown",
   "id": "eb45a9c1-e37e-42a6-82e3-bd0d464c88fb",
   "metadata": {},
   "source": [
    "Problem Number:1757. Recyclable and Low Fat Products"
   ]
  },
  {
   "cell_type": "raw",
   "id": "871b52e9-6406-4b49-ba8b-fc39132a7e38",
   "metadata": {},
   "source": [
    "select product_id from Products\n",
    "where low_fats='Y' and recyclable='Y'"
   ]
  },
  {
   "cell_type": "markdown",
   "id": "8ea8cfc1-49c5-4221-afe7-3087286bebc6",
   "metadata": {},
   "source": [
    "#"
   ]
  },
  {
   "cell_type": "markdown",
   "id": "4d908d69-c9e7-421a-8a24-5d1f956beb02",
   "metadata": {},
   "source": [
    "Problem Number:183. Customers Who Never Order"
   ]
  },
  {
   "cell_type": "raw",
   "id": "acd2c454-592e-4bb6-816b-def8e98b600b",
   "metadata": {},
   "source": [
    "SELECT\n",
    "name as Customers \n",
    "from Customers\n",
    "\n",
    "WHERE \n",
    "    id not in (\n",
    "        SELECT customerId\n",
    "        from Orders\n",
    ");"
   ]
  }
 ],
 "metadata": {
  "kernelspec": {
   "display_name": "Python 3 (ipykernel)",
   "language": "python",
   "name": "python3"
  },
  "language_info": {
   "codemirror_mode": {
    "name": "ipython",
    "version": 3
   },
   "file_extension": ".py",
   "mimetype": "text/x-python",
   "name": "python",
   "nbconvert_exporter": "python",
   "pygments_lexer": "ipython3",
   "version": "3.11.7"
  }
 },
 "nbformat": 4,
 "nbformat_minor": 5
}
