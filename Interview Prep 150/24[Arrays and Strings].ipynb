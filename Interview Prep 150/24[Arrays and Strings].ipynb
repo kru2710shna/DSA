{
 "cells": [
  {
   "cell_type": "markdown",
   "id": "1ad479c2-d090-4f29-a345-a680733a924e",
   "metadata": {},
   "source": [
    "## LeetCode Problem ( Top Interview 150 )\n",
    "### Topic- Arrays and Strings "
   ]
  },
  {
   "cell_type": "markdown",
   "id": "9e7775fb-52dc-484e-8b87-d3eaa59a875e",
   "metadata": {},
   "source": [
    "### Problem: #88. Merge Sorted Array\n",
    "\n",
    "### Level - Easy\n",
    "\n",
    "##### You are given two integer arrays nums1 and nums2, sorted in non-decreasing order, and two integers m and n, representing the number of elements in nums1 and nums2 respectively. Merge nums1 and nums2 into a single array sorted in non-decreasing order. The final sorted array should not be returned by the function, but instead be stored inside the array nums1. To accommodate this, nums1 has a length of m + n, where the first m elements denote the elements that should be merged, and the last n elements are set to 0 and should be ignored. nums2 has a length of n.\n",
    "\n",
    " \n",
    "\n",
    "##### Example 1:\n",
    "\n",
    "##### Input: nums1 = [1,2,3,0,0,0], m = 3, nums2 = [2,5,6], n = 3\n",
    "##### Output: [1,2,2,3,5,6]\n",
    "\n",
    "##### Example 2:\n",
    "##### Input: nums1 = [1], m = 1, nums2 = [], n = 0\n",
    "##### Output: [1]\n",
    "\n",
    "##### Example 3:\n",
    "##### Input: nums1 = [0], m = 0, nums2 = [1], n = 1\n",
    "##### Output: [1]\n",
    "\n",
    "#### Follow up: Can you come up with an algorithm that runs in O(m + n) time?"
   ]
  },
  {
   "cell_type": "code",
   "execution_count": 5,
   "id": "146b574e-b081-42a2-bc95-83924fc5c34c",
   "metadata": {},
   "outputs": [],
   "source": [
    "class Solution(object):\n",
    "    def merge(self, nums1, m, nums2, n):\n",
    "        \"\"\"\n",
    "        :type nums1: List[int]\n",
    "        :type m: int\n",
    "        :type nums2: List[int]\n",
    "        :type n: int\n",
    "        :rtype: None Do not return anything, modify nums1 in-place instead.\n",
    "        \"\"\"\n",
    "        # ar1 - [1,2,3,0,0,0]          [2,3,4,0,0,0]     Result =  [1,2,4,0,0,0]\n",
    "        # ar2 - [2,5,6]          ar2 - [1,2,3]                      [3,2,3]\n",
    "        # i = 0 , 1 \n",
    "        while n > 0:\n",
    "            if nums1[m-1] >= nums2[n-1] and m>0:\n",
    "                nums1[m+n-1] = nums1[m-1]\n",
    "                m -= 1\n",
    "            else:\n",
    "                nums1[m+n-1] = nums2[n-1]\n",
    "                n -= 1"
   ]
  },
  {
   "cell_type": "markdown",
   "id": "80168461-be8f-40dd-b7bc-5c20947fdff4",
   "metadata": {},
   "source": [
    "##### Time Complexity: O(N+M) | Space Complexity: O(1) | Runtime: 21ms"
   ]
  },
  {
   "cell_type": "markdown",
   "id": "ec1ce386-9fc5-4920-b21e-7249ade93169",
   "metadata": {},
   "source": [
    "### Problem: #27. Remove Element\n",
    "\n",
    "### Level - Easy\n",
    "\n",
    "##### Given an integer array nums and an integer val, remove all occurrences of val in nums in-place. \n",
    "##### The order of the elements may be changed. Then return the number of elements in nums which are not equal to val. \n",
    "##### Consider the number of elements in nums which are not equal to val be k, to get accepted, \n",
    "##### you need to do the following things: Change the array nums such that the first k elements of nums contain the \n",
    "##### elements which are not equal to val. The remaining elements of nums are not important and the size of nums. Return k.\n",
    "##### Custom Judge: The judge will test your solution with the following code:\n",
    "\n",
    "\n",
    "##### Example 1:\n",
    "##### Input: nums = [3,2,2,3], val = 3\n",
    "##### Output: 2, nums = [2,2,_,_]\n",
    "\n",
    "##### Example 2:\n",
    "##### Input: nums = [0,1,2,2,3,0,4,2], val = 2\n",
    "##### Output: 5, nums = [0,1,4,0,3,_,_,_]"
   ]
  },
  {
   "cell_type": "code",
   "execution_count": null,
   "id": "0dc55f01-7dda-4791-95a3-34a1abbf6939",
   "metadata": {},
   "outputs": [],
   "source": []
  }
 ],
 "metadata": {
  "kernelspec": {
   "display_name": "Python 3 (ipykernel)",
   "language": "python",
   "name": "python3"
  },
  "language_info": {
   "codemirror_mode": {
    "name": "ipython",
    "version": 3
   },
   "file_extension": ".py",
   "mimetype": "text/x-python",
   "name": "python",
   "nbconvert_exporter": "python",
   "pygments_lexer": "ipython3",
   "version": "3.10.9"
  }
 },
 "nbformat": 4,
 "nbformat_minor": 5
}
