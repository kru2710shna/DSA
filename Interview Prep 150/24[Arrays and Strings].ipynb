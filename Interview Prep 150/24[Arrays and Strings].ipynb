{
 "cells": [
  {
   "cell_type": "markdown",
   "id": "1ad479c2-d090-4f29-a345-a680733a924e",
   "metadata": {},
   "source": [
    "## LeetCode Problem ( Top Interview 150 )\n",
    "### Topic- Arrays and Strings "
   ]
  },
  {
   "cell_type": "markdown",
   "id": "9e7775fb-52dc-484e-8b87-d3eaa59a875e",
   "metadata": {},
   "source": [
    "### Problem: #88. Merge Sorted Array\n",
    "\n",
    "### Level - Easy\n",
    "\n",
    "##### You are given two integer arrays nums1 and nums2, sorted in non-decreasing order, and two integers m and n, representing the number of elements in nums1 and nums2 respectively. Merge nums1 and nums2 into a single array sorted in non-decreasing order. The final sorted array should not be returned by the function, but instead be stored inside the array nums1. To accommodate this, nums1 has a length of m + n, where the first m elements denote the elements that should be merged, and the last n elements are set to 0 and should be ignored. nums2 has a length of n.\n",
    "\n",
    " \n",
    "\n",
    "##### Example 1:\n",
    "\n",
    "##### Input: nums1 = [1,2,3,0,0,0], m = 3, nums2 = [2,5,6], n = 3\n",
    "##### Output: [1,2,2,3,5,6]\n",
    "\n",
    "##### Example 2:\n",
    "##### Input: nums1 = [1], m = 1, nums2 = [], n = 0\n",
    "##### Output: [1]\n",
    "\n",
    "##### Example 3:\n",
    "##### Input: nums1 = [0], m = 0, nums2 = [1], n = 1\n",
    "##### Output: [1]\n",
    "\n",
    "#### Follow up: Can you come up with an algorithm that runs in O(m + n) time?"
   ]
  },
  {
   "cell_type": "code",
   "execution_count": 5,
   "id": "146b574e-b081-42a2-bc95-83924fc5c34c",
   "metadata": {},
   "outputs": [],
   "source": [
    "class Solution(object):\n",
    "    def merge(self, nums1, m, nums2, n):\n",
    "        \"\"\"\n",
    "        :type nums1: List[int]\n",
    "        :type m: int\n",
    "        :type nums2: List[int]\n",
    "        :type n: int\n",
    "        :rtype: None Do not return anything, modify nums1 in-place instead.\n",
    "        \"\"\"\n",
    "        # ar1 - [1,2,3,0,0,0]          [2,3,4,0,0,0]     Result =  [1,2,4,0,0,0]\n",
    "        # ar2 - [2,5,6]          ar2 - [1,2,3]                      [3,2,3]\n",
    "        # i = 0 , 1 \n",
    "        while n > 0:\n",
    "            if nums1[m-1] >= nums2[n-1] and m>0:\n",
    "                nums1[m+n-1] = nums1[m-1]\n",
    "                m -= 1\n",
    "            else:\n",
    "                nums1[m+n-1] = nums2[n-1]\n",
    "                n -= 1"
   ]
  },
  {
   "cell_type": "markdown",
   "id": "80168461-be8f-40dd-b7bc-5c20947fdff4",
   "metadata": {},
   "source": [
    "##### Time Complexity: O(N+M) | Space Complexity: O(1) | Runtime: 21ms"
   ]
  },
  {
   "cell_type": "markdown",
   "id": "ec1ce386-9fc5-4920-b21e-7249ade93169",
   "metadata": {},
   "source": [
    "### Problem: #27. Remove Element\n",
    "\n",
    "### Level - Easy\n",
    "\n",
    "##### Given an integer array nums and an integer val, remove all occurrences of val in nums in-place. \n",
    "##### The order of the elements may be changed. Then return the number of elements in nums which are not equal to val. \n",
    "##### Consider the number of elements in nums which are not equal to val be k, to get accepted, \n",
    "##### you need to do the following things: Change the array nums such that the first k elements of nums contain the \n",
    "##### elements which are not equal to val. The remaining elements of nums are not important and the size of nums. Return k.\n",
    "##### Custom Judge: The judge will test your solution with the following code:\n",
    "\n",
    "\n",
    "##### Example 1:\n",
    "##### Input: nums = [3,2,2,3], val = 3\n",
    "##### Output: 2, nums = [2,2,_,_]\n",
    "\n",
    "##### Example 2:\n",
    "##### Input: nums = [0,1,2,2,3,0,4,2], val = 2\n",
    "##### Output: 5, nums = [0,1,4,0,3,_,_,_]"
   ]
  },
  {
   "cell_type": "code",
   "execution_count": 1,
   "id": "0dc55f01-7dda-4791-95a3-34a1abbf6939",
   "metadata": {},
   "outputs": [],
   "source": [
    "class Solution(object):\n",
    "    def removeElement(self, nums, val):\n",
    "        \"\"\"\n",
    "        :type nums: List[int]\n",
    "        :type val: int\n",
    "        :rtype: int\n",
    "        \"\"\"\n",
    "        start = 0 \n",
    "        end = len(nums) -1\n",
    "        while start <= end:\n",
    "            if nums[start] == val:\n",
    "                nums[start], nums[end] , end  = nums[end], nums[start], end-1\n",
    "            else :\n",
    "                start += 1\n",
    "            \n",
    "        return start "
   ]
  },
  {
   "cell_type": "markdown",
   "id": "af3978da-2449-4892-a51c-6e7faa064fa5",
   "metadata": {},
   "source": [
    "##### Time Complexity: O(N) Space Complexity: O(1) Runtime: 23ms"
   ]
  },
  {
   "cell_type": "markdown",
   "id": "68d282df-d1ef-4715-aed8-2a375ecb1a34",
   "metadata": {},
   "source": [
    "### Problem: #26. Remove Duplicates from Sorted Array\n",
    "\n",
    "### Level - Easy\n",
    "\n",
    "##### Given an integer array nums sorted in non-decreasing order, remove the duplicates in-place such that each unique element \n",
    "##### appears only once. The relative order of the elements should be kept the same. Then return the number of unique elements \n",
    "##### in nums. Consider the number of unique elements of nums to be k, to get accepted, you need to do the following things:\n",
    "##### Change the array nums such that the first k elements of nums contain the unique elements in the order they were present \n",
    "##### in nums initially. The remaining elements of nums are not important as well as the size of nums. Return k. \n",
    "\n",
    "##### Example 1:\n",
    "##### Input: nums = [1,1,2]\n",
    "##### Output: 2, nums = [1,2,_]\n",
    "\n",
    "##### Example 2:\n",
    "##### Input: nums = [0,0,1,1,1,2,2,3,3,4]\n",
    "##### Output: 5, nums = [0,1,2,3,4,_,_,_,_,_]\n"
   ]
  },
  {
   "cell_type": "code",
   "execution_count": 2,
   "id": "9de8bc95-d16b-42d9-b182-ef43afc3f69b",
   "metadata": {},
   "outputs": [],
   "source": [
    "class Solution(object):\n",
    "    def removeDuplicates(self, nums):\n",
    "        \"\"\"\n",
    "        :type nums: List[int]\n",
    "        :rtype: int\n",
    "        \"\"\"\n",
    "        l = 1\n",
    "        for i in range(1, len(nums)):\n",
    "            if nums[i] != nums[i-1]:\n",
    "                nums[l] = nums[i]\n",
    "                l +=1\n",
    "        return l"
   ]
  },
  {
   "cell_type": "markdown",
   "id": "53adbef6-d140-4bf1-8f70-680ce92c2ae0",
   "metadata": {},
   "source": [
    "##### Time Complexity: O(N) Space Complexity:O(1) Runtime: 54ms"
   ]
  },
  {
   "cell_type": "markdown",
   "id": "711a2f31-daa9-4f29-9854-a0efa00016c2",
   "metadata": {},
   "source": [
    "### Problem: #80. Remove Duplicates from Sorted Array II\n",
    "\n",
    "### Level - Medium\n",
    "\n",
    "##### Given an integer array nums sorted in non-decreasing order, remove some duplicates in-place such that each unique element \n",
    "##### appears at most twice. The relative order of the elements should be kept the same. Since it is impossible to change the \n",
    "##### length of the array in some languages, you must instead have the result be placed in the first part of the array nums.\n",
    "##### More formally, if there are k elements after removing the duplicates, then the first k elements of nums should hold the \n",
    "##### final result. It does not matter what you leave beyond the first k elements.Return k after placing the final result in \n",
    "##### the first k slots of nums.Do not allocate extra space for another array. You must do this by modifying the input array \n",
    "##### in-place with O(1) extra memory.\n",
    "\n",
    "##### Example 1:\n",
    "##### Input: nums = [1,1,1,2,2,3]\n",
    "##### Output: 5, nums = [1,1,2,2,3,_]\n",
    "\n",
    "##### Example 2:\n",
    "##### Input: nums = [0,0,1,1,1,1,2,3,3]\n",
    "##### Output: 7, nums = [0,0,1,1,2,3,3,_,_]"
   ]
  },
  {
   "cell_type": "code",
   "execution_count": 1,
   "id": "ef546154-2e44-48dc-bd3e-eec4f229a847",
   "metadata": {},
   "outputs": [],
   "source": [
    "class Solution(object):\n",
    "    def removeDuplicates(self, nums):\n",
    "        \"\"\"\n",
    "        :type nums: List[int]\n",
    "        :rtype: int\n",
    "        \"\"\"\n",
    "        l, r = 0, 0\n",
    "        while r < len(nums):\n",
    "            count = 1\n",
    "            while r + 1 < len(nums) and nums[r] == nums[r + 1]:\n",
    "                r += 1\n",
    "                count += 1\n",
    "\n",
    "            for i in range(min(2, count)):\n",
    "                nums[l] = nums[r]\n",
    "                l += 1\n",
    "            r += 1\n",
    "        return l"
   ]
  },
  {
   "cell_type": "markdown",
   "id": "bbe0959e-4d11-476e-b95a-5e496d24943f",
   "metadata": {},
   "source": [
    "##### Time Complexity: O(N) Space Complexity: O(1) Runtime:36ms"
   ]
  },
  {
   "cell_type": "markdown",
   "id": "9646ff9d-9582-4ef7-85fb-6bab693ccfe6",
   "metadata": {},
   "source": [
    "### Problem: #169. Majority Element\n",
    "    \n",
    "### Level - Easy\n",
    "\n",
    "##### Given an array nums of size n, return the majority element.The majority element is the element that appears more than \n",
    "##### ⌊n / 2⌋ times. You may assume that the majority element always exists in the array.\n",
    "\n",
    "##### Example 1:\n",
    "##### Input: nums = [3,2,3]\n",
    "##### Output: 3\n",
    "\n",
    "##### Example 2:\n",
    "##### Input: nums = [2,2,1,1,1,2,2]\n",
    "##### Output: 2"
   ]
  },
  {
   "cell_type": "code",
   "execution_count": 3,
   "id": "ee92b879-496e-46a5-8751-f6d8a0e8952f",
   "metadata": {},
   "outputs": [],
   "source": [
    "class Solution(object):\n",
    "    def majorityElement(self, nums):\n",
    "        \"\"\"\n",
    "        :type nums: List[int]\n",
    "        :rtype: int\n",
    "        \"\"\"\n",
    "        nums.sort()\n",
    "        return nums[len(nums)//2]"
   ]
  },
  {
   "cell_type": "markdown",
   "id": "46dc0c76-c0e7-4370-9109-ccb53c684b9e",
   "metadata": {},
   "source": [
    "##### Time Complexity: O(LogN) Space Complexity:(1) Runtime: 120ms"
   ]
  },
  {
   "cell_type": "markdown",
   "id": "9f208c23-409f-489f-b771-6153e9d0ad9d",
   "metadata": {},
   "source": [
    "### Problem: #189. Rotate Array\n",
    "\n",
    "### Level - Medium\n",
    "\n",
    "##### Given an integer array nums, rotate the array to the right by k steps, where k is non-negative.\n",
    "\n",
    "##### Example 1:\n",
    "##### Input: nums = [1,2,3,4,5,6,7], k = 3\n",
    "##### Output: [5,6,7,1,2,3,4]\n",
    "\n",
    "##### Example 2:\n",
    "##### Input: nums = [-1,-100,3,99], k = 2\n",
    "##### Output: [3,99,-1,-100]"
   ]
  },
  {
   "cell_type": "code",
   "execution_count": 6,
   "id": "10dcc870-b018-4b44-9a7f-ff237e40da9a",
   "metadata": {},
   "outputs": [],
   "source": [
    "class Solution(object):\n",
    "    def rotate(self, nums, k):\n",
    "        \"\"\"\n",
    "        :type nums: List[int]\n",
    "        :type k: int\n",
    "        :rtype: None Do not return anything, modify nums in-place instead.\n",
    "        \"\"\"\n",
    "        n= len(nums)\n",
    "        k %= n  # To handle cases when k is larger than the array length.\n",
    "        def reverse(nums , start, end):\n",
    "\n",
    "            while start<end:\n",
    "                nums[start], nums[end] = nums[end], nums[start]\n",
    "                start +=1\n",
    "                end -=1\n",
    "                \n",
    "        # reverse array\n",
    "        reverse(nums, 0, n-1)\n",
    "        # reverse first k element \n",
    "        reverse(nums, 0 , k-1)\n",
    "        # reverse remaining \n",
    "        reverse(nums, k , n-1)"
   ]
  },
  {
   "cell_type": "markdown",
   "id": "04bb761d-cd0c-4147-a17f-8e1111799c48",
   "metadata": {},
   "source": [
    "##### Time Complexity:O(N) Space Complexity:O(1) Runtime: 154ms"
   ]
  },
  {
   "cell_type": "markdown",
   "id": "3d8fcd84-55d1-4ab8-b5b1-65677275d3bb",
   "metadata": {},
   "source": [
    "### Problem: #121. Best Time to Buy and Sell Stock\n",
    "\n",
    "### Level - Easy\n",
    "\n",
    "##### You are given an array prices where prices[i] is the price of a given stock on the ith day. You want to maximize your \n",
    "##### profit by choosing a single day to buy one stock and choosing a different day in the future to sell that stock.Return \n",
    "##### the maximum profit you can achieve from this transaction. If you cannot achieve any profit, return 0.\n",
    "\n",
    " \n",
    "\n",
    "##### Example 1:\n",
    "##### Input: prices = [7,1,5,3,6,4]\n",
    "##### Output: 5\n",
    "\n",
    "##### Example 2:\n",
    "##### Input: prices = [7,6,4,3,1]\n",
    "##### Output: 0"
   ]
  },
  {
   "cell_type": "code",
   "execution_count": null,
   "id": "ddf25ba8-838f-498e-b66b-42835a3d5f8f",
   "metadata": {},
   "outputs": [],
   "source": []
  }
 ],
 "metadata": {
  "kernelspec": {
   "display_name": "Python 3 (ipykernel)",
   "language": "python",
   "name": "python3"
  },
  "language_info": {
   "codemirror_mode": {
    "name": "ipython",
    "version": 3
   },
   "file_extension": ".py",
   "mimetype": "text/x-python",
   "name": "python",
   "nbconvert_exporter": "python",
   "pygments_lexer": "ipython3",
   "version": "3.10.9"
  }
 },
 "nbformat": 4,
 "nbformat_minor": 5
}
