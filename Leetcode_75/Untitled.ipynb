{
 "cells": [
  {
   "cell_type": "markdown",
   "id": "bc09967b",
   "metadata": {},
   "source": [
    "# Leetcode_75"
   ]
  },
  {
   "cell_type": "markdown",
   "id": "e94c2ba0",
   "metadata": {},
   "source": [
    "#### Arrays/Hashing "
   ]
  },
  {
   "cell_type": "markdown",
   "id": "f45b84eb",
   "metadata": {},
   "source": [
    "##### Problem Number: #217 Contains Duplicate\n",
    "##### Level: Easy\n",
    "\n",
    "###### Given an integer array nums, return true if any value appears at least twice in the array, and return false if every element is distinct.\n",
    "\n",
    "###### Example 1:\n",
    "###### Input: nums = [1,2,3,1]\n",
    "###### Output: true\n",
    "###### Example 2:\n",
    "###### Input: nums = [1,2,3,4]\n",
    "###### Output: false"
   ]
  },
  {
   "cell_type": "code",
   "execution_count": 5,
   "id": "5fd93b42",
   "metadata": {},
   "outputs": [],
   "source": [
    "class Solution(object):\n",
    "    def containsDuplicate(self, nums):\n",
    "        \"\"\"\n",
    "        :type nums: List[int]\n",
    "        :rtype: bool\n",
    "        \"\"\"\n",
    "        n = len(nums)\n",
    "        m = len(set(nums))\n",
    "        if n > m:\n",
    "            return True\n",
    "        else :\n",
    "            False\n",
    "            \n",
    "#Time Complexity: O(N)\n",
    "#Space Complexity: O(N)"
   ]
  },
  {
   "cell_type": "markdown",
   "id": "f1056625",
   "metadata": {},
   "source": [
    "#"
   ]
  },
  {
   "cell_type": "markdown",
   "id": "633616e9",
   "metadata": {},
   "source": [
    "##### Problem Number: #242 Valid Anagram\n",
    "##### Level - Easy\n",
    "###### Given two strings s and t, return true if t is an anagram of s, and false otherwise. An Anagram is a word or phrase formed by rearranging the letters of a different word or phrase, typically using all the original letters exactly once.\n",
    "###### Example 1:\n",
    "######  Input: s = \"anagram\", t = \"nagaram\"\n",
    "###### Output: true\n",
    "###### Example 2:\n",
    "###### Input: s = \"rat\", t = \"car\"\n",
    "###### Output: false"
   ]
  },
  {
   "cell_type": "code",
   "execution_count": 7,
   "id": "be528464",
   "metadata": {},
   "outputs": [],
   "source": [
    "# Mehtod#1\n",
    "class Solution:\n",
    "    def isAnagram(self, s, t):\n",
    "        if len(s) != len(t):\n",
    "            return False \n",
    "            \n",
    "        countS, countT = {}, {}\n",
    "\n",
    "        for i in range(len(s)):\n",
    "            countS[s[i]] = 1 + countS.get(s[i] , 0)\n",
    "            countT[t[i]] = 1 + countT.get(t[i] , 0)\n",
    "        \n",
    "        for c in countS:\n",
    "            if countS[c] != countT.get(c,0):\n",
    "                return False \n",
    "        \n",
    "        return True\n",
    "    \n",
    "#Time Complexity: O(N)\n",
    "#Space Complexity: O(1)\n",
    "\n",
    "#Method#2\n",
    "class Solution:\n",
    "    def isAnagram(self, s, t):\n",
    "        return sorted(s) == sorted(t)\n",
    "\n",
    "#Time Complexity: O(n log n)\n",
    "#Space Complexity: O(N)\n",
    "\n",
    "#Method#3\n",
    "class Solution:\n",
    "    def isAnagram(self, s, t):\n",
    "        return Counter(s) == Counter(t)\n",
    "    \n",
    "#Time Complexity: O(N)\n",
    "#Space complexity: O(k), k is the number of unique charaters."
   ]
  },
  {
   "cell_type": "markdown",
   "id": "42489e06",
   "metadata": {},
   "source": [
    "##### Problem Number: #1 Two Sum\n",
    "##### Level : Easy\n",
    "###### Given an array of integers nums and an integer target, return indices of the two numbers such that they add up to target. You may assume that each input would have exactly one solution, and you may not use the same element twice. You can return the answer in any order.\n",
    "###### Example 1:\n",
    "###### Input: nums = [2,7,11,15], target = 9\n",
    "###### Output: [0,1]\n",
    "###### Explanation: Because nums[0] + nums[1] == 9, we return [0, 1].\n",
    "###### Example 2:\n",
    "###### Input: nums = [3,2,4], target = 6\n",
    "###### Output: [1,2]"
   ]
  },
  {
   "cell_type": "code",
   "execution_count": 8,
   "id": "0ed86f10",
   "metadata": {},
   "outputs": [],
   "source": [
    "#Method1\n",
    "class Solution:\n",
    "    def twoSum(self, nums, target):\n",
    "        comp = {}\n",
    "        for i in range(len(nums)):\n",
    "            if nums[i] in comp:\n",
    "                return [comp[nums[i]], i]\n",
    "            comp[target - nums[i]] = i\n",
    "            \n",
    "#Time Complexity: O(N)\n",
    "#Space Complexity: O(N)"
   ]
  },
  {
   "cell_type": "markdown",
   "id": "4b573452",
   "metadata": {},
   "source": [
    "##### Problem Number: #49 Group Anagrams\n",
    "##### Level : Medium\n",
    "###### Given an array of strings strs, group the anagrams together. You can return the answer in any order. An Anagram is a word or phrase formed by rearranging the letters of a different word or phrase, typically using all the original letters exactly once.\n",
    "###### Example 1:\n",
    "###### Input: strs = [\"eat\",\"tea\",\"tan\",\"ate\",\"nat\",\"bat\"]\n",
    "###### Output: [[\"bat\"],[\"nat\",\"tan\"],[\"ate\",\"eat\",\"tea\"]]\n",
    "###### Example 2:\n",
    "###### Input: strs = [\"\"]\n",
    "###### Output: [[\"\"]]"
   ]
  },
  {
   "cell_type": "code",
   "execution_count": 10,
   "id": "95f29fe3",
   "metadata": {},
   "outputs": [],
   "source": [
    "#Method1\n",
    "from collections import defaultdict\n",
    "class Solution:\n",
    "    def groupAnagrams(self, strs):\n",
    "        res = defaultdict(list)\n",
    "\n",
    "        for s in strs:\n",
    "            count = [0] * 26\n",
    "\n",
    "            for c in s:\n",
    "                count[ord(c) - ord('a')] += 1 \n",
    "\n",
    "            res[tuple(count)].append(s)\n",
    "        \n",
    "        return res.values()\n",
    "\n",
    "#Time Complexity: O(N * K), N is the number of strings in the input strs and K is the number of strings in N.\n",
    "#Space Complexity: O(N * K)"
   ]
  },
  {
   "cell_type": "markdown",
   "id": "f7dd1ba5",
   "metadata": {},
   "source": [
    "##### Problem Number: 347. Top K Frequent Elements\n",
    "##### Level - Medium\n",
    "###### Given an integer array nums and an integer k, return the k most frequent elements. You may return the answer in any order.\n",
    "###### Example 1:\n",
    "###### Input: nums = [1,1,1,2,2,3], k = 2\n",
    "###### Output: [1,2]\n",
    "###### Example 2:\n",
    "###### Input: nums = [1], k = 1\n",
    "###### Output: [1]"
   ]
  },
  {
   "cell_type": "code",
   "execution_count": 11,
   "id": "8a3e9f19",
   "metadata": {},
   "outputs": [],
   "source": [
    "#Method1\n",
    "class Solution(object):\n",
    "    def topKFrequent(self, nums, k):\n",
    "        \"\"\"\n",
    "        :type nums: List[int]\n",
    "        :type k: int\n",
    "        :rtype: List[int]\n",
    "        \"\"\"\n",
    "        c = {}\n",
    "        res = []\n",
    "        for i in range(len(nums)):\n",
    "            c[nums[i]] = c.get(nums[i], 0) + 1\n",
    "\n",
    "        # Use a lambda function as the key for sorting\n",
    "        sorted_c = sorted(c.items(), key=lambda x: x[1], reverse=True)\n",
    "\n",
    "        # Extract the first k elements from the sorted list\n",
    "        for i in range(k):\n",
    "            res.append(sorted_c[i][0])\n",
    "\n",
    "        return res\n",
    "\n",
    "#Time Complexity: O(N log N), N is elements in Nums\n",
    "#Space Complexity: O(N), N is the dict created \n",
    "\n",
    "#Method2\n",
    "class Solution(object):\n",
    "    def topKFrequent(self, nums, k):\n",
    "        \"\"\"\n",
    "        :type nums: List[int]\n",
    "        :type k: int\n",
    "        :rtype: List[int]\n",
    "        \"\"\"\n",
    "        counter = Counter(nums)\n",
    "\n",
    "        # Step 2: Use a min heap to keep track of the k most frequent elements\n",
    "        heap = []\n",
    "        for num, freq in counter.items():\n",
    "            # Push the element and its frequency to the heap\n",
    "            heapq.heappush(heap, (freq, num))\n",
    "            # If the heap size exceeds k, pop the smallest element\n",
    "            if len(heap) > k:\n",
    "                heapq.heappop(heap)\n",
    "\n",
    "        # Step 3: Extract the k most frequent elements from the heap\n",
    "        result = [elem[1] for elem in heap]\n",
    "\n",
    "        return result\n",
    "\n",
    "#Time Complexity: O(N log K), K is the Smallest Elements \n",
    "#Space Complexity: O(N), N is the dict created "
   ]
  },
  {
   "cell_type": "markdown",
   "id": "8d8ed443",
   "metadata": {},
   "source": [
    "##### Problem Number: #238 Product of Array Except Self\n",
    "##### Level: Medium\n",
    "###### Given an integer array nums, return an array answer such that answer[i] is equal to the product of all the elements of nums except nums[i]. The product of any prefix or suffix of nums is guaranteed to fit in a 32-bit integer You must write an algorithm that runs in O(n) time and without using the division operation.\n",
    "###### Example 1:\n",
    "###### Input: nums = [1,2,3,4]\n",
    "###### Output: [24,12,8,6]\n",
    "###### Example 2:\n",
    "###### Input: nums = [-1,1,0,-3,3]\n",
    "###### Output: [0,0,9,0,0]"
   ]
  },
  {
   "cell_type": "code",
   "execution_count": 12,
   "id": "84c02f90",
   "metadata": {},
   "outputs": [],
   "source": [
    "class Solution(object):\n",
    "    def productExceptSelf(self, nums):\n",
    "        \"\"\"\n",
    "        :type nums: List[int]\n",
    "        :rtype: List[int]\n",
    "        \"\"\"\n",
    "        n = (len(nums))\n",
    "        res=[1]* (len(nums))\n",
    "\n",
    "        prefix = 1\n",
    "        for i in range((len(nums))):\n",
    "            res[i] = prefix \n",
    "            prefix *=nums[i]\n",
    "        postfix = 1\n",
    "        for i in range((len(nums))-1,-1,-1):\n",
    "            res[i] *=postfix\n",
    "            postfix *=nums[i]\n",
    "\n",
    "        return res\n",
    "#Time Complexity: O(N), \n",
    "#Space Complexity: O(1), result is the lst"
   ]
  },
  {
   "cell_type": "code",
   "execution_count": null,
   "id": "cc463aed",
   "metadata": {},
   "outputs": [],
   "source": []
  }
 ],
 "metadata": {
  "kernelspec": {
   "display_name": "Python 3 (ipykernel)",
   "language": "python",
   "name": "python3"
  },
  "language_info": {
   "codemirror_mode": {
    "name": "ipython",
    "version": 3
   },
   "file_extension": ".py",
   "mimetype": "text/x-python",
   "name": "python",
   "nbconvert_exporter": "python",
   "pygments_lexer": "ipython3",
   "version": "3.11.5"
  }
 },
 "nbformat": 4,
 "nbformat_minor": 5
}
