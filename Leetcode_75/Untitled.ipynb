{
 "cells": [
  {
   "cell_type": "markdown",
   "id": "1dd0e779",
   "metadata": {},
   "source": [
    "# Leetcode_75"
   ]
  },
  {
   "cell_type": "markdown",
   "id": "3f5e2a12",
   "metadata": {},
   "source": [
    "#### Arrays/Hashing "
   ]
  },
  {
   "cell_type": "markdown",
   "id": "abf8c639",
   "metadata": {},
   "source": [
    "##### Problem Number: #217 Contains Duplicate\n",
    "##### Level: Easy\n",
    "\n",
    "###### Given an integer array nums, return true if any value appears at least twice in the array, and return false if every element is distinct.\n",
    "\n",
    "###### Example 1:\n",
    "###### Input: nums = [1,2,3,1]\n",
    "###### Output: true\n",
    "###### Example 2:\n",
    "###### Input: nums = [1,2,3,4]\n",
    "###### Output: false"
   ]
  },
  {
   "cell_type": "code",
   "execution_count": 5,
   "id": "0b81a185",
   "metadata": {},
   "outputs": [],
   "source": [
    "class Solution(object):\n",
    "    def containsDuplicate(self, nums):\n",
    "        \"\"\"\n",
    "        :type nums: List[int]\n",
    "        :rtype: bool\n",
    "        \"\"\"\n",
    "        n = len(nums)\n",
    "        m = len(set(nums))\n",
    "        if n > m:\n",
    "            return True\n",
    "        else :\n",
    "            False\n",
    "            \n",
    "#Time Complexity: O(N)\n",
    "#Space Complexity: O(N)"
   ]
  },
  {
   "cell_type": "markdown",
   "id": "16e54fff",
   "metadata": {},
   "source": [
    "#"
   ]
  },
  {
   "cell_type": "markdown",
   "id": "89efca72",
   "metadata": {},
   "source": [
    "##### Problem Number: #242 Valid Anagram\n",
    "##### Level - Easy\n",
    "###### Given two strings s and t, return true if t is an anagram of s, and false otherwise. An Anagram is a word or phrase formed by rearranging the letters of a different word or phrase, typically using all the original letters exactly once.\n",
    "###### Example 1:\n",
    "######  Input: s = \"anagram\", t = \"nagaram\"\n",
    "###### Output: true\n",
    "###### Example 2:\n",
    "###### Input: s = \"rat\", t = \"car\"\n",
    "###### Output: false"
   ]
  },
  {
   "cell_type": "code",
   "execution_count": 6,
   "id": "88e23156",
   "metadata": {},
   "outputs": [],
   "source": [
    "# Mehtod#1\n",
    "class Solution:\n",
    "    def isAnagram(self, s, t):\n",
    "        if len(s) != len(t):\n",
    "            return False \n",
    "            \n",
    "        countS, countT = {}, {}\n",
    "\n",
    "        for i in range(len(s)):\n",
    "            countS[s[i]] = 1 + countS.get(s[i] , 0)\n",
    "            countT[t[i]] = 1 + countT.get(t[i] , 0)\n",
    "        \n",
    "        for c in countS:\n",
    "            if countS[c] != countT.get(c,0):\n",
    "                return False \n",
    "        \n",
    "        return True\n",
    "    \n",
    "#Time Complexity: O(N)\n",
    "#Space Complexity: O(1)\n",
    "\n",
    "#Method#2\n",
    "class Solution:\n",
    "    def isAnagram(self, s, t):\n",
    "        return sorted(s) == sorted(t)\n",
    "\n",
    "#Time Complexity: O(n log n)\n",
    "#Space Complexity: O(N)\n",
    "\n",
    "#Method#3\n",
    "class Solution:\n",
    "    def isAnagram(self, s, t):\n",
    "        return Counter(s) == Counter(t)\n",
    "    \n",
    "#Time Complexity: O(N)\n",
    "#Space complexity: O(k), k is the number of un"
   ]
  },
  {
   "cell_type": "code",
   "execution_count": null,
   "id": "9913671b",
   "metadata": {},
   "outputs": [],
   "source": []
  }
 ],
 "metadata": {
  "kernelspec": {
   "display_name": "Python 3 (ipykernel)",
   "language": "python",
   "name": "python3"
  },
  "language_info": {
   "codemirror_mode": {
    "name": "ipython",
    "version": 3
   },
   "file_extension": ".py",
   "mimetype": "text/x-python",
   "name": "python",
   "nbconvert_exporter": "python",
   "pygments_lexer": "ipython3",
   "version": "3.11.5"
  }
 },
 "nbformat": 4,
 "nbformat_minor": 5
}
