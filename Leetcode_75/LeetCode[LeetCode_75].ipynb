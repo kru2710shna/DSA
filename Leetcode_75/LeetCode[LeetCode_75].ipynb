{
 "cells": [
  {
   "cell_type": "markdown",
   "id": "37fae40f",
   "metadata": {},
   "source": [
    "# Leetcode_75"
   ]
  },
  {
   "cell_type": "markdown",
   "id": "592d9b61",
   "metadata": {},
   "source": [
    "#### Arrays/Hashing "
   ]
  },
  {
   "cell_type": "markdown",
   "id": "dee4ceea",
   "metadata": {},
   "source": [
    "##### Problem Number: #217 Contains Duplicate\n",
    "##### Level: Easy\n",
    "\n",
    "###### Given an integer array nums, return true if any value appears at least twice in the array, and return false if every element is distinct.\n",
    "\n",
    "###### Example 1:\n",
    "###### Input: nums = [1,2,3,1]\n",
    "###### Output: true\n",
    "###### Example 2:\n",
    "###### Input: nums = [1,2,3,4]\n",
    "###### Output: false"
   ]
  },
  {
   "cell_type": "code",
   "execution_count": 5,
   "id": "ecb81a28",
   "metadata": {},
   "outputs": [],
   "source": [
    "class Solution(object):\n",
    "    def containsDuplicate(self, nums):\n",
    "        \"\"\"\n",
    "        :type nums: List[int]\n",
    "        :rtype: bool\n",
    "        \"\"\"\n",
    "        n = len(nums)\n",
    "        m = len(set(nums))\n",
    "        if n > m:\n",
    "            return True\n",
    "        else :\n",
    "            False\n",
    "            \n",
    "#Time Complexity: O(N)\n",
    "#Space Complexity: O(N)"
   ]
  },
  {
   "cell_type": "markdown",
   "id": "dd8ead06",
   "metadata": {},
   "source": [
    "#"
   ]
  },
  {
   "cell_type": "markdown",
   "id": "617bc717",
   "metadata": {},
   "source": [
    "##### Problem Number: #242 Valid Anagram\n",
    "##### Level - Easy\n",
    "###### Given two strings s and t, return true if t is an anagram of s, and false otherwise. An Anagram is a word or phrase formed by rearranging the letters of a different word or phrase, typically using all the original letters exactly once.\n",
    "###### Example 1:\n",
    "######  Input: s = \"anagram\", t = \"nagaram\"\n",
    "###### Output: true\n",
    "###### Example 2:\n",
    "###### Input: s = \"rat\", t = \"car\"\n",
    "###### Output: false"
   ]
  },
  {
   "cell_type": "code",
   "execution_count": 7,
   "id": "c4d9b74e",
   "metadata": {},
   "outputs": [],
   "source": [
    "# Mehtod#1\n",
    "class Solution:\n",
    "    def isAnagram(self, s, t):\n",
    "        if len(s) != len(t):\n",
    "            return False \n",
    "            \n",
    "        countS, countT = {}, {}\n",
    "\n",
    "        for i in range(len(s)):\n",
    "            countS[s[i]] = 1 + countS.get(s[i] , 0)\n",
    "            countT[t[i]] = 1 + countT.get(t[i] , 0)\n",
    "        \n",
    "        for c in countS:\n",
    "            if countS[c] != countT.get(c,0):\n",
    "                return False \n",
    "        \n",
    "        return True\n",
    "    \n",
    "#Time Complexity: O(N)\n",
    "#Space Complexity: O(1)\n",
    "\n",
    "#Method#2\n",
    "class Solution:\n",
    "    def isAnagram(self, s, t):\n",
    "        return sorted(s) == sorted(t)\n",
    "\n",
    "#Time Complexity: O(n log n)\n",
    "#Space Complexity: O(N)\n",
    "\n",
    "#Method#3\n",
    "class Solution:\n",
    "    def isAnagram(self, s, t):\n",
    "        return Counter(s) == Counter(t)\n",
    "    \n",
    "#Time Complexity: O(N)\n",
    "#Space complexity: O(k), k is the number of unique charaters."
   ]
  },
  {
   "cell_type": "markdown",
   "id": "cb40f50d",
   "metadata": {},
   "source": [
    "##### Problem Number: #1 Two Sum\n",
    "##### Level : Easy\n",
    "###### Given an array of integers nums and an integer target, return indices of the two numbers such that they add up to target. You may assume that each input would have exactly one solution, and you may not use the same element twice. You can return the answer in any order.\n",
    "###### Example 1:\n",
    "###### Input: nums = [2,7,11,15], target = 9\n",
    "###### Output: [0,1]\n",
    "###### Explanation: Because nums[0] + nums[1] == 9, we return [0, 1].\n",
    "###### Example 2:\n",
    "###### Input: nums = [3,2,4], target = 6\n",
    "###### Output: [1,2]"
   ]
  },
  {
   "cell_type": "code",
   "execution_count": 8,
   "id": "121cdb51",
   "metadata": {},
   "outputs": [],
   "source": [
    "#Method1\n",
    "class Solution:\n",
    "    def twoSum(self, nums, target):\n",
    "        comp = {}\n",
    "        for i in range(len(nums)):\n",
    "            if nums[i] in comp:\n",
    "                return [comp[nums[i]], i]\n",
    "            comp[target - nums[i]] = i\n",
    "            \n",
    "#Time Complexity: O(N)\n",
    "#Space Complexity: O(N)"
   ]
  },
  {
   "cell_type": "markdown",
   "id": "36db7a86",
   "metadata": {},
   "source": [
    "##### Problem Number: #49 Group Anagrams\n",
    "##### Level : Medium\n",
    "###### Given an array of strings strs, group the anagrams together. You can return the answer in any order. An Anagram is a word or phrase formed by rearranging the letters of a different word or phrase, typically using all the original letters exactly once.\n",
    "###### Example 1:\n",
    "###### Input: strs = [\"eat\",\"tea\",\"tan\",\"ate\",\"nat\",\"bat\"]\n",
    "###### Output: [[\"bat\"],[\"nat\",\"tan\"],[\"ate\",\"eat\",\"tea\"]]\n",
    "###### Example 2:\n",
    "###### Input: strs = [\"\"]\n",
    "###### Output: [[\"\"]]"
   ]
  },
  {
   "cell_type": "code",
   "execution_count": 10,
   "id": "8447944e",
   "metadata": {},
   "outputs": [],
   "source": [
    "#Method1\n",
    "from collections import defaultdict\n",
    "class Solution:\n",
    "    def groupAnagrams(self, strs):\n",
    "        res = defaultdict(list)\n",
    "\n",
    "        for s in strs:\n",
    "            count = [0] * 26\n",
    "\n",
    "            for c in s:\n",
    "                count[ord(c) - ord('a')] += 1 \n",
    "\n",
    "            res[tuple(count)].append(s)\n",
    "        \n",
    "        return res.values()\n",
    "\n",
    "#Time Complexity: O(N * K), N is the number of strings in the input strs and K is the number of strings in N.\n",
    "#Space Complexity: O(N * K)"
   ]
  },
  {
   "cell_type": "markdown",
   "id": "4be853f1",
   "metadata": {},
   "source": [
    "##### Problem Number: 347. Top K Frequent Elements\n",
    "##### Level - Medium\n",
    "###### Given an integer array nums and an integer k, return the k most frequent elements. You may return the answer in any order.\n",
    "###### Example 1:\n",
    "###### Input: nums = [1,1,1,2,2,3], k = 2\n",
    "###### Output: [1,2]\n",
    "###### Example 2:\n",
    "###### Input: nums = [1], k = 1\n",
    "###### Output: [1]"
   ]
  },
  {
   "cell_type": "code",
   "execution_count": 11,
   "id": "02f2ce1e",
   "metadata": {},
   "outputs": [],
   "source": [
    "#Method1\n",
    "class Solution(object):\n",
    "    def topKFrequent(self, nums, k):\n",
    "        \"\"\"\n",
    "        :type nums: List[int]\n",
    "        :type k: int\n",
    "        :rtype: List[int]\n",
    "        \"\"\"\n",
    "        c = {}\n",
    "        res = []\n",
    "        for i in range(len(nums)):\n",
    "            c[nums[i]] = c.get(nums[i], 0) + 1\n",
    "\n",
    "        # Use a lambda function as the key for sorting\n",
    "        sorted_c = sorted(c.items(), key=lambda x: x[1], reverse=True)\n",
    "\n",
    "        # Extract the first k elements from the sorted list\n",
    "        for i in range(k):\n",
    "            res.append(sorted_c[i][0])\n",
    "\n",
    "        return res\n",
    "\n",
    "#Time Complexity: O(N log N), N is elements in Nums\n",
    "#Space Complexity: O(N), N is the dict created \n",
    "\n",
    "#Method2\n",
    "class Solution(object):\n",
    "    def topKFrequent(self, nums, k):\n",
    "        \"\"\"\n",
    "        :type nums: List[int]\n",
    "        :type k: int\n",
    "        :rtype: List[int]\n",
    "        \"\"\"\n",
    "        counter = Counter(nums)\n",
    "\n",
    "        # Step 2: Use a min heap to keep track of the k most frequent elements\n",
    "        heap = []\n",
    "        for num, freq in counter.items():\n",
    "            # Push the element and its frequency to the heap\n",
    "            heapq.heappush(heap, (freq, num))\n",
    "            # If the heap size exceeds k, pop the smallest element\n",
    "            if len(heap) > k:\n",
    "                heapq.heappop(heap)\n",
    "\n",
    "        # Step 3: Extract the k most frequent elements from the heap\n",
    "        result = [elem[1] for elem in heap]\n",
    "\n",
    "        return result\n",
    "\n",
    "#Time Complexity: O(N log K), K is the Smallest Elements \n",
    "#Space Complexity: O(N), N is the dict created "
   ]
  },
  {
   "cell_type": "markdown",
   "id": "5e65672f",
   "metadata": {},
   "source": [
    "##### Problem Number: #238 Product of Array Except Self\n",
    "##### Level: Medium\n",
    "###### Given an integer array nums, return an array answer such that answer[i] is equal to the product of all the elements of nums except nums[i]. The product of any prefix or suffix of nums is guaranteed to fit in a 32-bit integer You must write an algorithm that runs in O(n) time and without using the division operation.\n",
    "###### Example 1:\n",
    "###### Input: nums = [1,2,3,4]\n",
    "###### Output: [24,12,8,6]\n",
    "###### Example 2:\n",
    "###### Input: nums = [-1,1,0,-3,3]\n",
    "###### Output: [0,0,9,0,0]"
   ]
  },
  {
   "cell_type": "code",
   "execution_count": 12,
   "id": "01dd8574",
   "metadata": {},
   "outputs": [],
   "source": [
    "class Solution(object):\n",
    "    def productExceptSelf(self, nums):\n",
    "        \"\"\"\n",
    "        :type nums: List[int]\n",
    "        :rtype: List[int]\n",
    "        \"\"\"\n",
    "        n = (len(nums))\n",
    "        res=[1]* (len(nums))\n",
    "\n",
    "        prefix = 1\n",
    "        for i in range((len(nums))):\n",
    "            res[i] = prefix \n",
    "            prefix *=nums[i]\n",
    "        postfix = 1\n",
    "        for i in range((len(nums))-1,-1,-1):\n",
    "            res[i] *=postfix\n",
    "            postfix *=nums[i]\n",
    "\n",
    "        return res\n",
    "#Time Complexity: O(N), \n",
    "#Space Complexity: O(1), result is the lst"
   ]
  },
  {
   "cell_type": "markdown",
   "id": "2a7adb25",
   "metadata": {},
   "source": [
    "##### Problem Number #659 Encode and Decode Strings\n",
    "##### Level: Medium\n",
    "###### Design an algorithm to encode a list of strings to a string. The encoded string is then sent over the network and is decoded back to the original list of strings.\n",
    "###### Input: [\"lint\",\"code\",\"love\",\"you\"]\n",
    "###### Output: [\"lint\",\"code\",\"love\",\"you\"]\n",
    "###### Explanation:\n",
    "###### One possible encode method is: \"lint:;code:;love:;you\"\n",
    "###### Example2\n",
    "###### Input: [\"we\", \"say\", \":\", \"yes\"]\n",
    "###### Output: [\"we\", \"say\", \":\", \"yes\"]\n",
    "###### Explanation:\n",
    "###### One possible encode method is: \"we:;say:;:::;yes\""
   ]
  },
  {
   "cell_type": "code",
   "execution_count": 13,
   "id": "cc808e5b",
   "metadata": {},
   "outputs": [],
   "source": [
    "class Solution:\n",
    "    \"\"\"\n",
    "    @param: strs: a list of strings\n",
    "    @return: encodes a list of strings to a single string.\n",
    "    \"\"\"\n",
    "    def encode(self, strs):\n",
    "        # write your code here\n",
    "        res = \"\"\n",
    "        for s in strs:\n",
    "            res += str(len(s)) + \"#\" + s\n",
    "        return res\n",
    "    \"\"\"\n",
    "    @param: str: A string\n",
    "    @return: decodes a single string to a list of strings\n",
    "    \"\"\"\n",
    "    def decode(self, str):\n",
    "        # write your code here\n",
    "        res, i = [] , 0 \n",
    "        while i< len(res):\n",
    "            j = i \n",
    "            while j != \"#\":\n",
    "                j+=1\n",
    "            length = int(str[i:j])\n",
    "            res.append(str[j+1: j+1+length])\n",
    "            i = j + 1 + length\n",
    "        return res\n",
    "\n",
    "#Time Complexity:O(N)\n",
    "#Space Complexity: O(N)"
   ]
  },
  {
   "cell_type": "markdown",
   "id": "630b5719",
   "metadata": {},
   "source": [
    "##### Problem Number: #128 Longest Consecutive Sequence\n",
    "##### Level - Medium\n",
    "###### Given an unsorted array of integers nums, return the length of the longest consecutive elements sequence. You must write an algorithm that runs in O(n) time.\n",
    "###### Example 1:\n",
    "###### Input: nums = [100,4,200,1,3,2]\n",
    "###### Output: 4\n",
    "###### Explanation: The longest consecutive elements sequence is [1, 2, 3, 4]. Therefore its length is 4.\n",
    "###### Example 2:\n",
    "###### Input: nums = [0,3,7,2,5,8,4,6,0,1]\n",
    "###### Output: 9"
   ]
  },
  {
   "cell_type": "code",
   "execution_count": 17,
   "id": "a098bb1e",
   "metadata": {},
   "outputs": [],
   "source": [
    "class Solution(object):\n",
    "    def longestConsecutive(self, nums):\n",
    "        \"\"\"\n",
    "        :type nums: List[int]\n",
    "        :rtype: int\n",
    "        \"\"\"\n",
    "        nums=set(nums)\n",
    "        if not nums:\n",
    "            return 0\n",
    "        output = 0\n",
    "        for num in nums:\n",
    "            if num-1 not in nums:\n",
    "                start = num \n",
    "                while start in nums:\n",
    "                    start+=1\n",
    "                output = max(output, start-num)\n",
    "        return output\n",
    "\n",
    "#Time Complexity: O(N)\n",
    "#Space Complexity:O(N)"
   ]
  },
  {
   "cell_type": "markdown",
   "id": "85294a04",
   "metadata": {},
   "source": [
    "## Pointers"
   ]
  },
  {
   "cell_type": "code",
   "execution_count": null,
   "id": "fb3977fd",
   "metadata": {},
   "outputs": [],
   "source": []
  }
 ],
 "metadata": {
  "kernelspec": {
   "display_name": "Python 3 (ipykernel)",
   "language": "python",
   "name": "python3"
  },
  "language_info": {
   "codemirror_mode": {
    "name": "ipython",
    "version": 3
   },
   "file_extension": ".py",
   "mimetype": "text/x-python",
   "name": "python",
   "nbconvert_exporter": "python",
   "pygments_lexer": "ipython3",
   "version": "3.11.5"
  }
 },
 "nbformat": 4,
 "nbformat_minor": 5
}
