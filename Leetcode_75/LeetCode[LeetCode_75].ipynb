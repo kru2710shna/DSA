{
 "cells": [
  {
   "cell_type": "markdown",
   "id": "7a7219b9",
   "metadata": {},
   "source": [
    "# Leetcode_75"
   ]
  },
  {
   "cell_type": "markdown",
   "id": "320065b2",
   "metadata": {},
   "source": [
    "## Arrays/Hashing "
   ]
  },
  {
   "cell_type": "markdown",
   "id": "aa049903",
   "metadata": {},
   "source": [
    "#"
   ]
  },
  {
   "cell_type": "markdown",
   "id": "f02921f7",
   "metadata": {},
   "source": [
    "##### Problem Number: #217 Contains Duplicate\n",
    "##### Level: Easy\n",
    "\n",
    "###### Given an integer array nums, return true if any value appears at least twice in the array, and return false if every element is distinct.\n",
    "\n",
    "###### Example 1:\n",
    "###### Input: nums = [1,2,3,1]\n",
    "###### Output: true\n",
    "###### Example 2:\n",
    "###### Input: nums = [1,2,3,4]\n",
    "###### Output: false"
   ]
  },
  {
   "cell_type": "code",
   "execution_count": 1,
   "id": "1675a86f",
   "metadata": {},
   "outputs": [],
   "source": [
    "class Solution(object):\n",
    "    def containsDuplicate(self, nums):\n",
    "        \"\"\"\n",
    "        :type nums: List[int]\n",
    "        :rtype: bool\n",
    "        \"\"\"\n",
    "        n = len(nums)\n",
    "        m = len(set(nums))\n",
    "        if n > m:\n",
    "            return True\n",
    "        else :\n",
    "            False\n",
    "            \n",
    "#Time Complexity: O(N)\n",
    "#Space Complexity: O(N)"
   ]
  },
  {
   "cell_type": "markdown",
   "id": "33207e14",
   "metadata": {},
   "source": [
    "#"
   ]
  },
  {
   "cell_type": "markdown",
   "id": "a0097525",
   "metadata": {},
   "source": [
    "##### Problem Number: #242 Valid Anagram\n",
    "##### Level - Easy\n",
    "###### Given two strings s and t, return true if t is an anagram of s, and false otherwise. An Anagram is a word or phrase formed by rearranging the letters of a different word or phrase, typically using all the original letters exactly once.\n",
    "###### Example 1:\n",
    "######  Input: s = \"anagram\", t = \"nagaram\"\n",
    "###### Output: true\n",
    "###### Example 2:\n",
    "###### Input: s = \"rat\", t = \"car\"\n",
    "###### Output: false"
   ]
  },
  {
   "cell_type": "code",
   "execution_count": 2,
   "id": "6d93470f",
   "metadata": {},
   "outputs": [],
   "source": [
    "# Mehtod#1\n",
    "class Solution:\n",
    "    def isAnagram(self, s, t):\n",
    "        if len(s) != len(t):\n",
    "            return False \n",
    "            \n",
    "        countS, countT = {}, {}\n",
    "\n",
    "        for i in range(len(s)):\n",
    "            countS[s[i]] = 1 + countS.get(s[i] , 0)\n",
    "            countT[t[i]] = 1 + countT.get(t[i] , 0)\n",
    "        \n",
    "        for c in countS:\n",
    "            if countS[c] != countT.get(c,0):\n",
    "                return False \n",
    "        \n",
    "        return True\n",
    "    \n",
    "#Time Complexity: O(N)\n",
    "#Space Complexity: O(1)\n",
    "\n",
    "#Method#2\n",
    "class Solution:\n",
    "    def isAnagram(self, s, t):\n",
    "        return sorted(s) == sorted(t)\n",
    "\n",
    "#Time Complexity: O(n log n)\n",
    "#Space Complexity: O(N)\n",
    "\n",
    "#Method#3\n",
    "class Solution:\n",
    "    def isAnagram(self, s, t):\n",
    "        return Counter(s) == Counter(t)\n",
    "    \n",
    "#Time Complexity: O(N)\n",
    "#Space complexity: O(k), k is the number of unique charaters."
   ]
  },
  {
   "cell_type": "markdown",
   "id": "ae5e97ef",
   "metadata": {},
   "source": [
    "#"
   ]
  },
  {
   "cell_type": "markdown",
   "id": "b0266a34",
   "metadata": {},
   "source": [
    "##### Problem Number: #1 Two Sum\n",
    "##### Level : Easy\n",
    "###### Given an array of integers nums and an integer target, return indices of the two numbers such that they add up to target. You may assume that each input would have exactly one solution, and you may not use the same element twice. You can return the answer in any order.\n",
    "###### Example 1:\n",
    "###### Input: nums = [2,7,11,15], target = 9\n",
    "###### Output: [0,1]\n",
    "###### Explanation: Because nums[0] + nums[1] == 9, we return [0, 1].\n",
    "###### Example 2:\n",
    "###### Input: nums = [3,2,4], target = 6\n",
    "###### Output: [1,2]"
   ]
  },
  {
   "cell_type": "code",
   "execution_count": 3,
   "id": "416de6f2",
   "metadata": {},
   "outputs": [],
   "source": [
    "#Method1\n",
    "class Solution:\n",
    "    def twoSum(self, nums, target):\n",
    "        comp = {}\n",
    "        for i in range(len(nums)):\n",
    "            if nums[i] in comp:\n",
    "                return [comp[nums[i]], i]\n",
    "            comp[target - nums[i]] = i\n",
    "            \n",
    "#Time Complexity: O(N)\n",
    "#Space Complexity: O(N)"
   ]
  },
  {
   "cell_type": "markdown",
   "id": "f6ebeeea",
   "metadata": {},
   "source": [
    "#"
   ]
  },
  {
   "cell_type": "markdown",
   "id": "06a29a65",
   "metadata": {},
   "source": [
    "##### Problem Number: #49 Group Anagrams\n",
    "##### Level : Medium\n",
    "###### Given an array of strings strs, group the anagrams together. You can return the answer in any order. An Anagram is a word or phrase formed by rearranging the letters of a different word or phrase, typically using all the original letters exactly once.\n",
    "###### Example 1:\n",
    "###### Input: strs = [\"eat\",\"tea\",\"tan\",\"ate\",\"nat\",\"bat\"]\n",
    "###### Output: [[\"bat\"],[\"nat\",\"tan\"],[\"ate\",\"eat\",\"tea\"]]\n",
    "###### Example 2:\n",
    "###### Input: strs = [\"\"]\n",
    "###### Output: [[\"\"]]"
   ]
  },
  {
   "cell_type": "code",
   "execution_count": 4,
   "id": "f840864d",
   "metadata": {},
   "outputs": [],
   "source": [
    "#Method1\n",
    "from collections import defaultdict\n",
    "class Solution:\n",
    "    def groupAnagrams(self, strs):\n",
    "        res = defaultdict(list)\n",
    "\n",
    "        for s in strs:\n",
    "            count = [0] * 26\n",
    "\n",
    "            for c in s:\n",
    "                count[ord(c) - ord('a')] += 1 \n",
    "\n",
    "            res[tuple(count)].append(s)\n",
    "        \n",
    "        return res.values()\n",
    "\n",
    "#Time Complexity: O(N * K), N is the number of strings in the input strs and K is the number of strings in N.\n",
    "#Space Complexity: O(N * K)"
   ]
  },
  {
   "cell_type": "markdown",
   "id": "9ea37c98",
   "metadata": {},
   "source": [
    "#"
   ]
  },
  {
   "cell_type": "markdown",
   "id": "b79610d1",
   "metadata": {},
   "source": [
    "##### Problem Number: 347. Top K Frequent Elements\n",
    "##### Level - Medium\n",
    "###### Given an integer array nums and an integer k, return the k most frequent elements. You may return the answer in any order.\n",
    "###### Example 1:\n",
    "###### Input: nums = [1,1,1,2,2,3], k = 2\n",
    "###### Output: [1,2]\n",
    "###### Example 2:\n",
    "###### Input: nums = [1], k = 1\n",
    "###### Output: [1]"
   ]
  },
  {
   "cell_type": "code",
   "execution_count": 5,
   "id": "cf03b90c",
   "metadata": {},
   "outputs": [],
   "source": [
    "#Method1\n",
    "class Solution(object):\n",
    "    def topKFrequent(self, nums, k):\n",
    "        \"\"\"\n",
    "        :type nums: List[int]\n",
    "        :type k: int\n",
    "        :rtype: List[int]\n",
    "        \"\"\"\n",
    "        c = {}\n",
    "        res = []\n",
    "        for i in range(len(nums)):\n",
    "            c[nums[i]] = c.get(nums[i], 0) + 1\n",
    "\n",
    "        # Use a lambda function as the key for sorting\n",
    "        sorted_c = sorted(c.items(), key=lambda x: x[1], reverse=True)\n",
    "\n",
    "        # Extract the first k elements from the sorted list\n",
    "        for i in range(k):\n",
    "            res.append(sorted_c[i][0])\n",
    "\n",
    "        return res\n",
    "\n",
    "#Time Complexity: O(N log N), N is elements in Nums\n",
    "#Space Complexity: O(N), N is the dict created \n",
    "\n",
    "#Method2\n",
    "class Solution(object):\n",
    "    def topKFrequent(self, nums, k):\n",
    "        \"\"\"\n",
    "        :type nums: List[int]\n",
    "        :type k: int\n",
    "        :rtype: List[int]\n",
    "        \"\"\"\n",
    "        counter = Counter(nums)\n",
    "\n",
    "        # Step 2: Use a min heap to keep track of the k most frequent elements\n",
    "        heap = []\n",
    "        for num, freq in counter.items():\n",
    "            # Push the element and its frequency to the heap\n",
    "            heapq.heappush(heap, (freq, num))\n",
    "            # If the heap size exceeds k, pop the smallest element\n",
    "            if len(heap) > k:\n",
    "                heapq.heappop(heap)\n",
    "\n",
    "        # Step 3: Extract the k most frequent elements from the heap\n",
    "        result = [elem[1] for elem in heap]\n",
    "\n",
    "        return result\n",
    "\n",
    "#Time Complexity: O(N log K), K is the Smallest Elements \n",
    "#Space Complexity: O(N), N is the dict created "
   ]
  },
  {
   "cell_type": "markdown",
   "id": "9c6a4123",
   "metadata": {},
   "source": [
    "#"
   ]
  },
  {
   "cell_type": "markdown",
   "id": "8eb0a59d",
   "metadata": {},
   "source": [
    "##### Problem Number: #238 Product of Array Except Self\n",
    "##### Level: Medium\n",
    "###### Given an integer array nums, return an array answer such that answer[i] is equal to the product of all the elements of nums except nums[i]. The product of any prefix or suffix of nums is guaranteed to fit in a 32-bit integer You must write an algorithm that runs in O(n) time and without using the division operation.\n",
    "###### Example 1:\n",
    "###### Input: nums = [1,2,3,4]\n",
    "###### Output: [24,12,8,6]\n",
    "###### Example 2:\n",
    "###### Input: nums = [-1,1,0,-3,3]\n",
    "###### Output: [0,0,9,0,0]"
   ]
  },
  {
   "cell_type": "code",
   "execution_count": 6,
   "id": "bce79449",
   "metadata": {},
   "outputs": [],
   "source": [
    "class Solution(object):\n",
    "    def productExceptSelf(self, nums):\n",
    "        \"\"\"\n",
    "        :type nums: List[int]\n",
    "        :rtype: List[int]\n",
    "        \"\"\"\n",
    "        n = (len(nums))\n",
    "        res=[1]* (len(nums))\n",
    "\n",
    "        prefix = 1\n",
    "        for i in range((len(nums))):\n",
    "            res[i] = prefix \n",
    "            prefix *=nums[i]\n",
    "        postfix = 1\n",
    "        for i in range((len(nums))-1,-1,-1):\n",
    "            res[i] *=postfix\n",
    "            postfix *=nums[i]\n",
    "\n",
    "        return res\n",
    "#Time Complexity: O(N), \n",
    "#Space Complexity: O(1), result is the lst"
   ]
  },
  {
   "cell_type": "markdown",
   "id": "bdc5e172",
   "metadata": {},
   "source": [
    "#"
   ]
  },
  {
   "cell_type": "markdown",
   "id": "c77e1465",
   "metadata": {},
   "source": [
    "##### Problem Number #659 Encode and Decode Strings\n",
    "##### Level: Medium\n",
    "###### Design an algorithm to encode a list of strings to a string. The encoded string is then sent over the network and is decoded back to the original list of strings.\n",
    "###### Input: [\"lint\",\"code\",\"love\",\"you\"]\n",
    "###### Output: [\"lint\",\"code\",\"love\",\"you\"]\n",
    "###### Explanation:\n",
    "###### One possible encode method is: \"lint:;code:;love:;you\"\n",
    "###### Example2\n",
    "###### Input: [\"we\", \"say\", \":\", \"yes\"]\n",
    "###### Output: [\"we\", \"say\", \":\", \"yes\"]\n",
    "###### Explanation:\n",
    "###### One possible encode method is: \"we:;say:;:::;yes\""
   ]
  },
  {
   "cell_type": "code",
   "execution_count": 7,
   "id": "41b6e31d",
   "metadata": {},
   "outputs": [],
   "source": [
    "class Solution:\n",
    "    \"\"\"\n",
    "    @param: strs: a list of strings\n",
    "    @return: encodes a list of strings to a single string.\n",
    "    \"\"\"\n",
    "    def encode(self, strs):\n",
    "        # write your code here\n",
    "        res = \"\"\n",
    "        for s in strs:\n",
    "            res += str(len(s)) + \"#\" + s\n",
    "        return res\n",
    "    \"\"\"\n",
    "    @param: str: A string\n",
    "    @return: decodes a single string to a list of strings\n",
    "    \"\"\"\n",
    "    def decode(self, str):\n",
    "        # write your code here\n",
    "        res, i = [] , 0 \n",
    "        while i< len(res):\n",
    "            j = i \n",
    "            while j != \"#\":\n",
    "                j+=1\n",
    "            length = int(str[i:j])\n",
    "            res.append(str[j+1: j+1+length])\n",
    "            i = j + 1 + length\n",
    "        return res\n",
    "\n",
    "#Time Complexity:O(N)\n",
    "#Space Complexity: O(N)"
   ]
  },
  {
   "cell_type": "markdown",
   "id": "6df8db78",
   "metadata": {},
   "source": [
    "#"
   ]
  },
  {
   "cell_type": "markdown",
   "id": "9abbe2f3",
   "metadata": {},
   "source": [
    "##### Problem Number: #128 Longest Consecutive Sequence\n",
    "##### Level - Medium\n",
    "###### Given an unsorted array of integers nums, return the length of the longest consecutive elements sequence. You must write an algorithm that runs in O(n) time.\n",
    "###### Example 1:\n",
    "###### Input: nums = [100,4,200,1,3,2]\n",
    "###### Output: 4\n",
    "###### Explanation: The longest consecutive elements sequence is [1, 2, 3, 4]. Therefore its length is 4.\n",
    "###### Example 2:\n",
    "###### Input: nums = [0,3,7,2,5,8,4,6,0,1]\n",
    "###### Output: 9"
   ]
  },
  {
   "cell_type": "code",
   "execution_count": 8,
   "id": "cf85d2b9",
   "metadata": {},
   "outputs": [],
   "source": [
    "class Solution(object):\n",
    "    def longestConsecutive(self, nums):\n",
    "        \"\"\"\n",
    "        :type nums: List[int]\n",
    "        :rtype: int\n",
    "        \"\"\"\n",
    "        nums=set(nums)\n",
    "        if not nums:\n",
    "            return 0\n",
    "        output = 0\n",
    "        for num in nums:\n",
    "            if num-1 not in nums:\n",
    "                start = num \n",
    "                while start in nums:\n",
    "                    start+=1\n",
    "                output = max(output, start-num)\n",
    "        return output\n",
    "\n",
    "#Time Complexity: O(N)\n",
    "#Space Complexity:O(N)"
   ]
  },
  {
   "cell_type": "markdown",
   "id": "74bf8b82",
   "metadata": {},
   "source": [
    "#"
   ]
  },
  {
   "cell_type": "markdown",
   "id": "f4f78f26",
   "metadata": {},
   "source": [
    "## Pointers"
   ]
  },
  {
   "cell_type": "markdown",
   "id": "b427d99a",
   "metadata": {},
   "source": [
    "#"
   ]
  },
  {
   "cell_type": "markdown",
   "id": "6a215e77",
   "metadata": {},
   "source": [
    "##### Problem Number: #125 Valid Palindrome\n",
    "##### Level- Easy\n",
    "##### A phrase is a palindrome if, after converting all uppercase letters into lowercase letters and removing all non-alphanumeric characters, it reads the same forward and backward. Alphanumeric characters include letters and numbers.\n",
    "##### Given a string s, return true if it is a palindrome, or false otherwise.\n",
    "##### Example 1:\n",
    "##### Input: s = \"A man, a plan, a canal: Panama\"\n",
    "##### Output: true\n",
    "##### Explanation: \"amanaplanacanalpanama\" is a palindrome.\n",
    "##### Example 2:\n",
    "##### Input: s = \"race a car\"\n",
    "##### Output: false\n",
    "##### Explanation: \"raceacar\" is not a palindrome."
   ]
  },
  {
   "cell_type": "code",
   "execution_count": 9,
   "id": "7ef19b06",
   "metadata": {},
   "outputs": [],
   "source": [
    "#Method1\n",
    "class Solution(object):\n",
    "    def isPalindrome(self, s):\n",
    "        \"\"\"\n",
    "        :type s: str\n",
    "        :rtype: bool\n",
    "        \"\"\"\n",
    "        s = ''.join(char.lower() for char in s if char.isalnum())\n",
    "        if len(s) == 0:\n",
    "            return True\n",
    "        \n",
    "        i = 0\n",
    "        j = len(s) -1\n",
    "        while i < j:\n",
    "            if s[i] != s[j]:\n",
    "                return False \n",
    "            i += 1\n",
    "            j -= 1\n",
    "        \n",
    "        return True\n",
    "    \n",
    "#Time Complexity: O(N)\n",
    "#Space Complexity:O(N)\n",
    "#Runtime: 29ms\n",
    "\n",
    "#Method2\n",
    "class Solution(object):\n",
    "    def isPalindrome(self, s):\n",
    "        \"\"\"\n",
    "        :type s: str\n",
    "        :rtype: bool\n",
    "        \"\"\"\n",
    "        s = ''.join(char.lower() for char in s if char.isalnum())\n",
    "        if len(s) == 0:\n",
    "            return True\n",
    "        \n",
    "        reversed_s = s[::-1]\n",
    "\n",
    "        return reversed_s == s\n",
    "        \n",
    "#Time Complexity: O(N)\n",
    "#Space Complexity:O(N)\n",
    "#Runtime: 20ms"
   ]
  },
  {
   "cell_type": "markdown",
   "id": "01da8946",
   "metadata": {},
   "source": [
    "#"
   ]
  },
  {
   "cell_type": "markdown",
   "id": "279156ec",
   "metadata": {},
   "source": [
    "##### Problem Number: #15 3Sum\n",
    "##### Level - Medium\n",
    "###### Given an integer array nums, return all the triplets [nums[i], nums[j], nums[k]] such that i != j, i != k, and j != k, and nums[i] + nums[j] + nums[k] == 0. Notice that the solution set must not contain duplicate triplets.\n",
    "###### Example 1:\n",
    "###### Input: nums = [-1,0,1,2,-1,-4]\n",
    "###### Output: [[-1,-1,2],[-1,0,1]]\n",
    "###### Explanation: \n",
    "###### nums[0] + nums[1] + nums[2] = (-1) + 0 + 1 = 0.\n",
    "###### nums[1] + nums[2] + nums[4] = 0 + 1 + (-1) = 0.\n",
    "###### nums[0] + nums[3] + nums[4] = (-1) + 2 + (-1) = 0.\n",
    "###### The distinct triplets are [-1,0,1] and [-1,-1,2].\n",
    "###### Notice that the order of the output and the order of the triplets does not matter.\n",
    "###### Example 2:\n",
    "###### Input: nums = [0,1,1]\n",
    "###### Output: []\n",
    "###### Explanation: The only possible triplet does not sum up to 0.\n",
    "###### Example 3:\n",
    "###### Input: nums = [0,0,0]\n",
    "###### Output: [[0,0,0]]\n",
    "###### Explanation: The only possible triplet sums up to 0."
   ]
  },
  {
   "cell_type": "code",
   "execution_count": 10,
   "id": "e8350d1b",
   "metadata": {},
   "outputs": [],
   "source": [
    "class Solution:\n",
    "    def threeSum(self, nums):\n",
    "        nums.sort()\n",
    "        result = []\n",
    "\n",
    "        for i in range(len(nums) - 2):\n",
    "            if i > 0 and nums[i] == nums[i - 1]:\n",
    "                continue\n",
    "\n",
    "            left, right = i + 1, len(nums) - 1\n",
    "\n",
    "            while left < right:\n",
    "                current_sum = nums[i] + nums[left] + nums[right]\n",
    "\n",
    "                if current_sum < 0:\n",
    "                    left += 1\n",
    "                elif current_sum > 0:\n",
    "                    right -= 1\n",
    "                else:\n",
    "                    result.append([nums[i], nums[left], nums[right]])\n",
    "\n",
    "                    while left < right and nums[left] == nums[left + 1]:\n",
    "                        left += 1\n",
    "\n",
    "                    while left < right and nums[right] == nums[right - 1]:\n",
    "                        right -= 1\n",
    "\n",
    "                    left += 1\n",
    "                    right -= 1\n",
    "\n",
    "        return result\n",
    "\n",
    "#Time Complexity:O(N^2)\n",
    "#Space Complexity:O(1)"
   ]
  },
  {
   "cell_type": "markdown",
   "id": "e09e9b94",
   "metadata": {},
   "source": [
    "#"
   ]
  },
  {
   "cell_type": "markdown",
   "id": "a6bf158f",
   "metadata": {},
   "source": [
    "##### Problem Number: #11 Container With Most Water\n",
    "##### Level - MediumYou are given an integer array height of length n. There are n vertical lines drawn such that the two endpoints of the ith line are (i, 0) and (i, height[i]).\n",
    "###### Find two lines that together with the x-axis form a container, such that the container contains the most water Return the maximum amount of water a container can store. Notice that you may not slant the container.\n",
    "###### Example 1:\n",
    "###### Input: height = [1,8,6,2,5,4,8,3,7]\n",
    "###### Output: 49\n",
    "###### Explanation: The above vertical lines are represented by array [1,8,6,2,5,4,8,3,7]. In this case, the max area of water (blue section) the container can contain is 49.\n",
    "###### Example 2:\n",
    "###### Input: height = [1,1]\n",
    "###### Output: 1"
   ]
  },
  {
   "cell_type": "code",
   "execution_count": 11,
   "id": "be62cacd",
   "metadata": {},
   "outputs": [],
   "source": [
    "class Solution(object):\n",
    "    def maxArea(self, height):\n",
    "        \"\"\"\n",
    "        :type height: List[int]\n",
    "        :rtype: int\n",
    "        \"\"\"\n",
    "        left, right = 0, len(height) - 1\n",
    "        max_area = 0\n",
    "\n",
    "        while left < right:\n",
    "            h = min(height[left], height[right])\n",
    "            w = right - left\n",
    "            max_area = max(max_area, h * w)\n",
    "\n",
    "            if height[left] < height[right]:\n",
    "                left += 1\n",
    "            else:\n",
    "                right -= 1\n",
    "\n",
    "        return max_area\n",
    "    \n",
    "#Time Complexity: O(N)\n",
    "#Space Complexity:O(1)"
   ]
  },
  {
   "cell_type": "markdown",
   "id": "a56c7fd1",
   "metadata": {},
   "source": [
    "#"
   ]
  },
  {
   "cell_type": "markdown",
   "id": "066b65ef",
   "metadata": {},
   "source": [
    "## Sliding Window "
   ]
  },
  {
   "cell_type": "markdown",
   "id": "9f3ff45c",
   "metadata": {},
   "source": [
    "#"
   ]
  },
  {
   "cell_type": "markdown",
   "id": "3663b807",
   "metadata": {},
   "source": [
    "##### Problem Number 121 Best Time to Buy and Sell Stock\n",
    "##### Level - Easy\n",
    "###### You are given an array prices where prices[i] is the price of a given stock on the ith day You want to maximize your profit by choosing a single day to buy one stock and choosing a different day in the future to sell that stock Return the maximum profit you can achieve from this transaction. If you cannot achieve any profit, return 0.\n",
    "###### Example 1:\n",
    "###### Input: prices = [7,1,5,3,6,4]\n",
    "###### Output: 5\n",
    "###### Explanation: Buy on day 2 (price = 1) and sell on day 5 (price = 6), profit = 6-1 = 5.\n",
    "###### Note that buying on day 2 and selling on day 1 is not allowed because you must buy before you sell.\n",
    "###### Example 2:\n",
    "###### Input: prices = [7,6,4,3,1]\n",
    "###### Output: 0\n",
    "###### Explanation: In this case, no transactions are done and the max profit = 0."
   ]
  },
  {
   "cell_type": "code",
   "execution_count": 12,
   "id": "b59013f6",
   "metadata": {},
   "outputs": [],
   "source": [
    "class Solution(object):\n",
    "    def maxProfit(self, prices):\n",
    "        \"\"\"\n",
    "        :type prices: List[int]\n",
    "        :rtype: int\n",
    "        \"\"\"\n",
    "        small = prices[0]\n",
    "        big = prices[0]\n",
    "        diff = 0\n",
    "\n",
    "        for i in prices:\n",
    "            if i < small: \n",
    "                small = i\n",
    "                big = i\n",
    "            elif i > big: \n",
    "                big = i\n",
    "                diff = max(diff, big-small)\n",
    "            \n",
    "            \n",
    "\n",
    "        return diff\n",
    "\n",
    "# Time Complexity:O(N)\n",
    "# Space Complexity:O(1)"
   ]
  },
  {
   "cell_type": "markdown",
   "id": "9e547c8b",
   "metadata": {},
   "source": [
    "#"
   ]
  },
  {
   "cell_type": "markdown",
   "id": "909ac7f4",
   "metadata": {},
   "source": [
    "##### Probem Number #3 Longest Substring Without Repeating Characters\n",
    "##### Level - Medium\n",
    "###### Given a string s, find the length of the longest substring without repeating characters.\n",
    "##### Example 1:\n",
    "##### Input: s = \"abcabcbb\"\n",
    "##### Output: 3\n",
    "##### Explanation: The answer is \"abc\", with the length of 3.\n",
    "##### Example 2:\n",
    "##### Input: s = \"bbbbb\"\n",
    "##### Output: 1\n",
    "##### Explanation: The answer is \"b\", with the length of 1.\n",
    "##### Example 3:\n",
    "##### Input: s = \"pwwkew\"\n",
    "##### Output: 3\n",
    "##### Explanation: The answer is \"wke\", with the length of 3.\n",
    "##### Notice that the answer must be a substring, \"pwke\" is a subsequence and not a substring."
   ]
  },
  {
   "cell_type": "code",
   "execution_count": 13,
   "id": "27000b07",
   "metadata": {},
   "outputs": [],
   "source": [
    "  class Solution(object):\n",
    "    def lengthOfLongestSubstring(self, s):\n",
    "        \"\"\"\n",
    "        :type s: str\n",
    "        :rtype: int\n",
    "        \"\"\"\n",
    "        start = 0\n",
    "        maxlen = 0\n",
    "        lookup={}\n",
    "\n",
    "        for i , c in enumerate(s):\n",
    "            if c in lookup and start <= lookup[c]:\n",
    "                start = lookup[c] + 1\n",
    "            else:\n",
    "                maxlen = max(maxlen , i-start+1)\n",
    "            lookup[c] = i\n",
    "        return maxlen \n",
    "    \n",
    "#Time Complexity: O(N)\n",
    "#Space Complexity:O(N)"
   ]
  },
  {
   "cell_type": "markdown",
   "id": "d9aba061",
   "metadata": {},
   "source": [
    "#"
   ]
  },
  {
   "cell_type": "markdown",
   "id": "68a02234",
   "metadata": {},
   "source": [
    "##### Problem Number #424 Longest Repeating Character Replacement\n",
    "##### Level- Medium\n",
    "###### You are given a string s and an integer k. You can choose any character of the string and change it to any other uppercase English character. You can perform this operation at most k times. Return the length of the longest substring containing the same letter you can get after performing the above operations.\n",
    "###### Example 1:\n",
    "###### Input: s = \"ABAB\", k = 2\n",
    "###### Output: 4\n",
    "###### Explanation: Replace the two 'A's with two 'B's or vice versa.\n",
    "###### Example 2:\n",
    "###### Input: s = \"AABABBA\", k = 1\n",
    "###### Output: 4\n",
    "###### Explanation: Replace the one 'A' in the middle with 'B' and form \"AABBBBA\".\n",
    "###### The substring \"BBBB\" has the longest repeating letters, which is 4.\n",
    "###### There may exists other ways to achieve this answer too."
   ]
  },
  {
   "cell_type": "code",
   "execution_count": 14,
   "id": "7d44481c",
   "metadata": {},
   "outputs": [],
   "source": [
    "class Solution(object):\n",
    "    def characterReplacement(self, s, k):\n",
    "        \"\"\"\n",
    "        :type s: str\n",
    "        :type k: int\n",
    "        :rtype: int\n",
    "        \"\"\"\n",
    "        count = {}\n",
    "        l = 0 \n",
    "        res = 0\n",
    "\n",
    "        for r in range(len(s)):\n",
    "            count[s[r]] = 1 + count.get(s[r],0)\n",
    "\n",
    "            while (r-l+1) - max(count.values()) > k:\n",
    "                count[s[l]] -= 1\n",
    "                l +=1\n",
    "            res = max(res, r-l+1)\n",
    "        return res\n",
    "\n",
    "#Time Complexity:O(N)\n",
    "#Space Complexity:O(N)"
   ]
  },
  {
   "cell_type": "markdown",
   "id": "1fb7781a",
   "metadata": {},
   "source": [
    "#"
   ]
  },
  {
   "cell_type": "markdown",
   "id": "10915ae4",
   "metadata": {},
   "source": [
    "##### 76. Minimum Window Substring\n",
    "##### Lvvel - Hard\n",
    "###### Given two strings s and t of lengths m and n respectively, return the minimum window substring of s such that every character in t (including duplicates) is included in the window. If there is no such substring, return the empty string \"\". The testcases will be generated such that the answer is unique.\n",
    "###### Example 1:\n",
    "###### Input: s = \"ADOBECODEBANC\", t = \"ABC\"\n",
    "###### Output: \"BANC\"\n",
    "###### Explanation: The minimum window substring \"BANC\" includes 'A', 'B', and 'C' from string t.\n",
    "###### Example 2:\n",
    "###### Input: s = \"a\", t = \"a\"\n",
    "###### Output: \"a\"\n",
    "###### Explanation: The entire string s is the minimum window.\n",
    "###### Example 3:\n",
    "###### Input: s = \"a\", t = \"aa\"\n",
    "###### Output: \"\"\n",
    "###### Explanation: Both 'a's from t must be included in the window.\n",
    "###### Since the largest window of s only has one 'a', return empty string."
   ]
  },
  {
   "cell_type": "code",
   "execution_count": 15,
   "id": "9fa2e18b",
   "metadata": {},
   "outputs": [],
   "source": [
    "class Solution:\n",
    "    def minWindow(self, s, t):\n",
    "        if t == \"\":\n",
    "            return \"\"\n",
    "\n",
    "        countT, window = {}, {}\n",
    "        for c in t:\n",
    "            countT[c] = 1 + countT.get(c, 0)\n",
    "\n",
    "        have, need = 0, len(countT)\n",
    "        res, resLen = [-1, -1], float(\"infinity\")\n",
    "        l = 0\n",
    "        for r in range(len(s)):\n",
    "            c = s[r]\n",
    "            window[c] = 1 + window.get(c, 0)\n",
    "\n",
    "            if c in countT and window[c] == countT[c]:\n",
    "                have += 1\n",
    "\n",
    "            while have == need:\n",
    "                # update our result\n",
    "                if (r - l + 1) < resLen:\n",
    "                    res = [l, r]\n",
    "                    resLen = r - l + 1\n",
    "                # pop from the left of our window\n",
    "                window[s[l]] -= 1\n",
    "                if s[l] in countT and window[s[l]] < countT[s[l]]:\n",
    "                    have -= 1\n",
    "                l += 1\n",
    "        l, r = res\n",
    "        return s[l : r + 1] if resLen != float(\"infinity\") else \"\"\n",
    "\n",
    "#Time Complexity:O(N)\n",
    "#Space Complexity:O(k), K is the number of unique characters "
   ]
  },
  {
   "cell_type": "markdown",
   "id": "3bb0baf5",
   "metadata": {},
   "source": [
    "#"
   ]
  },
  {
   "cell_type": "markdown",
   "id": "010c6541",
   "metadata": {},
   "source": [
    "## Stack "
   ]
  },
  {
   "cell_type": "markdown",
   "id": "1879e028",
   "metadata": {},
   "source": [
    "#"
   ]
  },
  {
   "cell_type": "markdown",
   "id": "f64abe80",
   "metadata": {},
   "source": [
    "##### Problem Number: #20 Valid Parentheses\n",
    "##### Easy\n",
    "###### Given a string s containing just the characters '(', ')', '{', '}', '[' and ']', determine if the input string is valid. An input string is valid if. Open brackets must be closed by the same type of brackets. Open brackets must be closed in the correct order. Every close bracket has a corresponding open bracket of the same type.\n",
    "###### Example 1:\n",
    "###### Input: s = \"()\"\n",
    "###### Output: true\n",
    "###### Example 2:\n",
    "###### Input: s = \"()[]{}\"\n",
    "###### Output: true\n",
    "###### Example 3:\n",
    "###### Input: s = \"(]\"\n",
    "###### Output: false"
   ]
  },
  {
   "cell_type": "code",
   "execution_count": 16,
   "id": "ce047549",
   "metadata": {},
   "outputs": [],
   "source": [
    "class Solution(object):\n",
    "    def isValid(self, s):\n",
    "        \"\"\"\n",
    "        :type s: str\n",
    "        :rtype: bool\n",
    "        \"\"\"\n",
    "        brackets = {']':'[',\n",
    "             ')': '(',\n",
    "             '}': '{'}\n",
    "\n",
    "        stack = []\n",
    "            \n",
    "        for p in s:\n",
    "            # check open\n",
    "            if p in brackets.values():\n",
    "                stack.append(p)\n",
    "            elif stack and brackets[p] == stack[-1]:\n",
    "                stack.pop()\n",
    "            else:\n",
    "                return False \n",
    "        \n",
    "        return stack == [] \n",
    "            \n",
    "\n",
    "#Time Complexity:O(N)\n",
    "#Space Complexity:O(N)"
   ]
  },
  {
   "cell_type": "markdown",
   "id": "8d8fd20c",
   "metadata": {},
   "source": [
    "#"
   ]
  },
  {
   "cell_type": "markdown",
   "id": "0dd96d55",
   "metadata": {},
   "source": [
    "## Binary Search "
   ]
  },
  {
   "cell_type": "markdown",
   "id": "d61adfcd",
   "metadata": {},
   "source": [
    "##### Problem Number:#153 Find Minimum in Rotated Sorted Array\n",
    "##### Level - Medium\n",
    "###### Suppose an array of length n sorted in ascending order is rotated between 1 and n times. For example, the array nums = [0,1,2,4,5,6,7] might become: [4,5,6,7,0,1,2] if it was rotated 4 times. [0,1,2,4,5,6,7] if it was rotated 7 times. Notice that rotating an array [a[0], a[1], a[2], ..., a[n-1]] 1 time results in the array [a[n-1], a[0], a[1], a[2], ..., a[n-2]]. Given the sorted rotated array nums of unique elements, return the minimum element of this array. You must write an algorithm that runs in O(log n) time.\n",
    "###### Example 1:\n",
    "###### Input: nums = [3,4,5,1,2]\n",
    "###### Output: 1\n",
    "###### Explanation: The original array was [1,2,3,4,5] rotated 3 times.\n",
    "###### Example 2:\n",
    "###### Input: nums = [4,5,6,7,0,1,2]\n",
    "###### Output: 0\n",
    "###### Explanation: The original array was [0,1,2,4,5,6,7] and it was rotated 4 times.\n",
    "###### Example 3:\n",
    "###### Input: nums = [11,13,15,17]\n",
    "###### Output: 11\n",
    "###### Explanation: The original array was [11,13,15,17] and it was rotated 4 times."
   ]
  },
  {
   "cell_type": "code",
   "execution_count": 17,
   "id": "6c7f8856",
   "metadata": {},
   "outputs": [],
   "source": [
    "class Solution(object):\n",
    "    def findMin(self, nums):\n",
    "        \"\"\"\n",
    "        :type nums: List[int]\n",
    "        :rtype: int\n",
    "        \"\"\"\n",
    "        N= len(nums)\n",
    "        l , r = 0, N-1\n",
    "\n",
    "        while l<r:\n",
    "            mid = (l+r)//2\n",
    "            if nums[mid] > nums[r]:\n",
    "                l = mid+1\n",
    "            else:\n",
    "                r = mid \n",
    "        return nums[l]\n",
    "    \n",
    "#Time Complexity: O(Log N)\n",
    "# Space Complexity:O(1)"
   ]
  },
  {
   "cell_type": "markdown",
   "id": "22d4e2aa",
   "metadata": {},
   "source": [
    "#"
   ]
  },
  {
   "cell_type": "markdown",
   "id": "5832846f",
   "metadata": {},
   "source": [
    "##### Problem Number:#33  Search in Rotated Sorted Array\n",
    "##### Lvevel - Medium\n",
    "###### There is an integer array nums sorted in ascending order (with distinct values). Prior to being passed to your function, nums is possibly rotated at an unknown pivot index k (1 <= k < nums.length) such that the resulting array is [nums[k], nums[k+1], ..., nums[n-1], nums[0], nums[1], ..., nums[k-1]] (0-indexed). For example, [0,1,2,4,5,6,7] might be rotated at pivot index 3 and become [4,5,6,7,0,1,2]. Given the array nums after the possible rotation and an integer target, return the index of target if it is in nums, or -1 if it is not in nums. You must write an algorithm with O(log n) runtime complexity.\n",
    "###### Example 1:\n",
    "###### Input: nums = [4,5,6,7,0,1,2], target = 0\n",
    "###### Output: 4\n",
    "###### Example 2:\n",
    "###### Input: nums = [4,5,6,7,0,1,2], target = 3\n",
    "###### Output: -1\n",
    "###### Example 3:\n",
    "###### Input: nums = [1], target = 0\n",
    "###### Output: -1"
   ]
  },
  {
   "cell_type": "code",
   "execution_count": 18,
   "id": "2c360707",
   "metadata": {},
   "outputs": [],
   "source": [
    "class Solution:\n",
    "    def search(self, nums, target):\n",
    "        \"\"\"\n",
    "        :type nums: List[int]\n",
    "        :type target: int\n",
    "        :rtype: int\n",
    "        \"\"\"\n",
    "        def pivot(nums):\n",
    "            start = 0 \n",
    "            end = len(nums) - 1 \n",
    "        \n",
    "            while start < end:\n",
    "                mid = start + (end - start) // 2  \n",
    "                if nums[mid] > nums[mid + 1]:\n",
    "                    return mid\n",
    "                \n",
    "                if nums[mid] < nums[start]:\n",
    "                    end = mid\n",
    "                \n",
    "                else:\n",
    "                    start = mid + 1\n",
    "    \n",
    "            return start\n",
    "        \n",
    "        def bs(start, end):\n",
    "\n",
    "            while start <= end:\n",
    "                mid = (start + end) // 2\n",
    "\n",
    "                if nums[mid] == target:\n",
    "                    return mid\n",
    "                \n",
    "                if nums[mid] > target:\n",
    "                    end = mid - 1\n",
    "                \n",
    "                else:\n",
    "                    start = mid + 1\n",
    "            return -1\n",
    "\n",
    "        pivot_index = pivot(nums)\n",
    "\n",
    "        if target == nums[pivot_index]:\n",
    "            return pivot_index\n",
    "        \n",
    "        if target >= nums[0]:\n",
    "            return bs(0, pivot_index - 1)\n",
    "        \n",
    "        return bs(pivot_index + 1, len(nums) - 1)\n",
    "\n",
    "# Time Complexity:O(Log N)\n",
    "# Space Complexity:O(N)"
   ]
  },
  {
   "cell_type": "markdown",
   "id": "398cfb05",
   "metadata": {},
   "source": [
    "#"
   ]
  },
  {
   "cell_type": "markdown",
   "id": "a1171f21",
   "metadata": {},
   "source": [
    "## Linked List"
   ]
  },
  {
   "cell_type": "markdown",
   "id": "18e770cc",
   "metadata": {},
   "source": [
    "##### Problem Number: #206 Reverse Linked List\n",
    "##### Level - Easy\n",
    "###### Given the head of a singly linked list, reverse the list, and return the reversed list.\n",
    "###### Example 1:\n",
    "###### Input: head = [1,2,3,4,5]\n",
    "###### Output: [5,4,3,2,1]\n",
    "###### Example 2\n",
    "###### Input: head = [1,2]\n",
    "###### Output: [2,1]"
   ]
  },
  {
   "cell_type": "code",
   "execution_count": 19,
   "id": "a63c0ce4",
   "metadata": {},
   "outputs": [],
   "source": [
    "# Definition for singly-linked list.\n",
    "# class ListNode(object):\n",
    "#     def __init__(self, val=0, next=None):\n",
    "#         self.val = val\n",
    "#         self.next = next\n",
    "class Solution(object):\n",
    "    def reverseList(self, head):\n",
    "        \"\"\"\n",
    "        :type head: ListNode\n",
    "        :rtype: ListNode\n",
    "        \"\"\"\n",
    "        if not head:\n",
    "            return\n",
    "        \n",
    "        prev = None \n",
    "        while head:\n",
    "            curr = head\n",
    "            head = head.next\n",
    "            curr.next = prev\n",
    "            prev = curr\n",
    "        return curr"
   ]
  },
  {
   "cell_type": "markdown",
   "id": "f87972c2",
   "metadata": {},
   "source": [
    "#"
   ]
  },
  {
   "cell_type": "markdown",
   "id": "b09bedcc",
   "metadata": {},
   "source": [
    "##### Problem Number: #21. Merge Two Sorted Lists\n",
    "##### Level - Easy\n",
    "###### You are given the heads of two sorted linked lists list1 and list2. Merge the two lists into one sorted list. The list should be made by splicing together the nodes of the first two lists. Return the head of the merged linked list.\n",
    "###### Example 1:\n",
    "###### Input: list1 = [1,2,4], list2 = [1,3,4]\n",
    "###### Output: [1,1,2,3,4,4]\n",
    "###### Example 2:\n",
    "###### Input: list1 = [], list2 = []\n",
    "###### Output: []\n",
    "###### Example 3:\n",
    "###### Input: list1 = [], list2 = [0]\n",
    "###### Output: [0]"
   ]
  },
  {
   "cell_type": "code",
   "execution_count": 20,
   "id": "f225c3f7",
   "metadata": {},
   "outputs": [],
   "source": [
    "# Method 1 - Recursion\n",
    "class Solution(object):\n",
    "    def mergeTwoLists(self, list1, list2):\n",
    "        if not list1:\n",
    "            return list2\n",
    "        if not list2:\n",
    "            return list1\n",
    "        \n",
    "        if list1.val >= list2.val:\n",
    "            merged = list2\n",
    "            merged.next = self.mergeTwoLists(list1, list2.next)\n",
    "        else:\n",
    "            merged = list1\n",
    "            merged.next = self.mergeTwoLists(list1.next, list2)\n",
    "\n",
    "        return merged\n",
    "\n",
    "# Time Complexity: O(N+M)\n",
    "# Space Complexity O(1)\n",
    "\n",
    "# Method 2- Iterative\n",
    "class Solution(object):\n",
    "    def mergeTwoLists(self, list1, list2):\n",
    "        \"\"\"\n",
    "        :type list1: ListNode\n",
    "        :type list2: ListNode\n",
    "        :rtype: ListNode\n",
    "        \"\"\"\n",
    "        # Create a dummy node to start the merged list\n",
    "        dummy = ListNode(0)\n",
    "        # Initialize current pointer to the dummy node\n",
    "        current = dummy\n",
    "        \n",
    "        while list1 is not None and list2 is not None:\n",
    "            if list1.val < list2.val:\n",
    "                # Append the smaller value to the merged list\n",
    "                current.next = list1\n",
    "                list1 = list1.next\n",
    "            else:\n",
    "                current.next = list2\n",
    "                list2 = list2.next\n",
    "            \n",
    "            # Move the current pointer to the last appended node\n",
    "            current = current.next\n",
    "        \n",
    "        # If one of the lists is exhausted, append the remaining nodes of the other list\n",
    "        if list1 is not None:\n",
    "            current.next = list1\n",
    "        else:\n",
    "            current.next = list2\n",
    "        \n",
    "        # The merged list starts from the next of the dummy node\n",
    "        return dummy.next\n",
    "\n",
    "# Time Complexity: O(N+M)\n",
    "# Space Complexity O(N+M)"
   ]
  },
  {
   "cell_type": "markdown",
   "id": "e5c1b606",
   "metadata": {},
   "source": [
    "#"
   ]
  },
  {
   "cell_type": "markdown",
   "id": "66eccecc",
   "metadata": {},
   "source": [
    "##### Problem Number: #143 Reorder List\n",
    "##### Level - Medium\n",
    "###### You are given the head of a singly linked-list. The list can be represented as: L0 → L1 → … → Ln - 1 → Ln Reorder the list to be on the following form: L0 → Ln → L1 → Ln - 1 → L2 → Ln - 2 → … You may not modify the values in the list's nodes. Only nodes themselves may be changed.\n",
    "###### Example 1:\n",
    "###### Input: head = [1,2,3,4\n",
    "###### Output: [1,4,2,3]\n",
    "###### Example 2:\n",
    "###### Input: head = [1,2,3,4,5]\n",
    "###### Output: [1,5,2,4,3]"
   ]
  },
  {
   "cell_type": "code",
   "execution_count": 21,
   "id": "24fa8868",
   "metadata": {},
   "outputs": [],
   "source": [
    "class Solution:\n",
    "    def reorderList(self, head):\n",
    "        #step 1: find middle\n",
    "        if not head: return []\n",
    "        slow, fast = head, head\n",
    "        while fast.next and fast.next.next:\n",
    "            slow = slow.next\n",
    "            fast = fast.next.next\n",
    "        \n",
    "        #step 2: reverse second half\n",
    "        prev, curr = None, slow.next\n",
    "        while curr:\n",
    "            nextt = curr.next\n",
    "            curr.next = prev\n",
    "            prev = curr\n",
    "            curr = nextt    \n",
    "        slow.next = None\n",
    "        \n",
    "        #step 3: merge lists\n",
    "        head1, head2 = head, prev\n",
    "        while head2:\n",
    "            nextt = head1.next\n",
    "            head1.next = head2\n",
    "            head1 = head2\n",
    "            head2 = nextt\n",
    "\n",
    "# Time Complexity:O(N)\n",
    "# Space Complexity:O(1)"
   ]
  },
  {
   "cell_type": "markdown",
   "id": "ab89bf35",
   "metadata": {},
   "source": [
    "#"
   ]
  },
  {
   "cell_type": "markdown",
   "id": "b6432afc",
   "metadata": {},
   "source": [
    "##### Problem Number: #19 Remove Nth Node From End of List\n",
    "##### Level - Medium\n",
    "###### Given the head of a linked list, remove the nth node from the end of the list and return its head.\n",
    "###### Example 1:\n",
    "###### Input: head = [1,2,3,4,5], n = 2\n",
    "###### Output: [1,2,3,5]\n",
    "###### Example 2:\n",
    "###### Input: head = [1], n = 1\n",
    "###### Output: []\n",
    "###### Example 3:\n",
    "###### Input: head = [1,2], n = 1\n",
    "###### Output: [1]"
   ]
  },
  {
   "cell_type": "code",
   "execution_count": 22,
   "id": "9fc03daa",
   "metadata": {},
   "outputs": [],
   "source": [
    "# Definition for singly-linked list.\n",
    "class ListNode(object):\n",
    "    def __init__(self, val=0, next=None):\n",
    "        self.val = val\n",
    "        self.next = next\n",
    "\n",
    "class Solution(object):\n",
    "    def removeNthFromEnd(self, head, n):\n",
    "        \"\"\"\n",
    "        :type head: ListNode\n",
    "        :type n: int\n",
    "        :rtype: ListNode\n",
    "        \"\"\"\n",
    "        dummy = ListNode(0)\n",
    "        dummy.next = head\n",
    "\n",
    "        # Find the length of the linked list\n",
    "        length = 0\n",
    "        current = head\n",
    "        while current:\n",
    "            length += 1\n",
    "            current = current.next\n",
    "\n",
    "        # Find the target position to remove the nth node from the end\n",
    "        target = length - n\n",
    "\n",
    "        # Reset current to the dummy node\n",
    "        current = dummy\n",
    "\n",
    "        # Move to the node just before the target\n",
    "        for i in range(target):\n",
    "            current = current.next\n",
    "\n",
    "        # Remove the nth node from the end\n",
    "        current.next = current.next.next\n",
    "\n",
    "        return dummy.next\n",
    "\n",
    "# Time Complexity:O(N)\n",
    "# Space Complexity:O(1)"
   ]
  },
  {
   "cell_type": "markdown",
   "id": "1dc4a78e",
   "metadata": {},
   "source": [
    "#"
   ]
  },
  {
   "cell_type": "markdown",
   "id": "90fa84a1",
   "metadata": {},
   "source": [
    "##### Problem Number: #141 Linked List Cycle\n",
    "##### Level - Easy\n",
    "###### Given head, the head of a linked list, determine if the linked list has a cycle in it. There is a cycle in a linked list if there is some node in the list that can be reached again by continuously following the next pointer. Internally, pos is used to denote the index of the node that tail's next pointer is connected to. Note that pos is not passed as a parameter. Return true if there is a cycle in the linked list. Otherwise, return false.\n",
    "###### Example 1:\n",
    "###### Input: head = [3,2,0,-4], pos = 1\n",
    "###### Output: true\n",
    "###### Explanation: There is a cycle in the linked list, where the tail connects to the 1st node (0-indexed).\n",
    "###### Example 2:\n",
    "###### Input: head = [1,2], pos = 0\n",
    "###### Output: true\n",
    "###### Explanation: There is a cycle in the linked list, where the tail connects to the 0th node.\n",
    "###### Example 3:\n",
    "###### Input: head = [1], pos = -1\n",
    "###### Output: false\n",
    "###### Explanation: There is no cycle in the linked list."
   ]
  },
  {
   "cell_type": "code",
   "execution_count": 23,
   "id": "012ac8aa",
   "metadata": {},
   "outputs": [],
   "source": [
    "# Definition for singly-linked list.\n",
    "# class ListNode(object):\n",
    "#     def __init__(self, x):\n",
    "#         self.val = x\n",
    "#         self.next = None\n",
    "\n",
    "class Solution(object):\n",
    "    def hasCycle(self, head):\n",
    "        \"\"\"\n",
    "        :type head: ListNode\n",
    "        :rtype: bool\n",
    "        \"\"\"\n",
    "        slow = head\n",
    "        fast = head\n",
    "        while fast and fast.next:\n",
    "            slow = slow.next\n",
    "            fast=fast.next.next\n",
    "            if slow == fast:\n",
    "                return True\n",
    "        return False\n",
    "\n",
    "# Time Complexity:O(N)\n",
    "# Space Complexity:O(1)"
   ]
  },
  {
   "cell_type": "markdown",
   "id": "e8fae4a7",
   "metadata": {},
   "source": [
    "#"
   ]
  },
  {
   "cell_type": "markdown",
   "id": "d224f415",
   "metadata": {},
   "source": [
    "##### Problem Number: #23 Merge k Sorted Lists\n",
    "##### Level - Hard\n",
    "###### You are given an array of k linked-lists lists, each linked-list is sorted in ascending order. Merge all the linked-lists into one sorted linked-list and return it.\n",
    "###### Example 1:\n",
    "###### Input: lists = [[1,4,5],[1,3,4],[2,6]]\n",
    "###### Output: [1,1,2,3,4,4,5,6]\n",
    "###### Explanation: The linked-lists are:\n",
    "###### [\n",
    "######   1->4->5,\n",
    "######   1->3->4,\n",
    "######   2->6\n",
    "###### ]\n",
    "###### merging them into one sorted list:\n",
    "###### 1->1->2->3->4->4->5->6\n",
    "###### Example 2:\n",
    "###### Input: lists = []\n",
    "###### Output: []\n",
    "###### Example 3:\n",
    "###### Input: lists = [[]]\n",
    "###### Output: []"
   ]
  },
  {
   "cell_type": "code",
   "execution_count": 24,
   "id": "afe2b09c",
   "metadata": {},
   "outputs": [],
   "source": [
    " class ListNode:\n",
    "    def __init__(self, val=0, next=None):\n",
    "        self.val = val\n",
    "        self.next = next\n",
    "\n",
    "class Solution(object):\n",
    "    def mergeKLists(self, lists):\n",
    "        h = []\n",
    "        for i , l in enumerate(lists):\n",
    "            if l:\n",
    "                heapq.heappush(h, (l.val, i))\n",
    "\n",
    "        dummy = curr = ListNode(0)\n",
    "\n",
    "        while h:\n",
    "            val, i = heapq.heappop(h)\n",
    "            curr.next = ListNode(val)\n",
    "            if lists[i].next:\n",
    "                heappush(h, (lists[i].next.val, i))\n",
    "                lists[i] = lists[i].next\n",
    "            \n",
    "            curr = curr.next\n",
    "        \n",
    "        return dummy.next\n",
    "\n",
    "#Time Complexity: O(N log k)\n",
    "# Space Complexity: O(N)"
   ]
  },
  {
   "cell_type": "markdown",
   "id": "194823ae",
   "metadata": {},
   "source": [
    "#"
   ]
  },
  {
   "cell_type": "markdown",
   "id": "eac7cbb2",
   "metadata": {},
   "source": [
    "## Trees "
   ]
  },
  {
   "cell_type": "markdown",
   "id": "f7633887",
   "metadata": {},
   "source": [
    "#"
   ]
  },
  {
   "cell_type": "markdown",
   "id": "6404d7f5",
   "metadata": {},
   "source": [
    "# Problem Number: #226 Invert Binary Tree\n",
    "# Level - Easy\n",
    "###### Given the root of a binary tree, invert the tree, and return its root.\n",
    "###### Example 1:\n",
    "###### Input: root = [4,2,7,1,3,6,9]\n",
    "###### Output: [4,7,2,9,6,3,1]\n",
    "###### Example 2:\n",
    "###### Input: root = [2,1,3]\n",
    "###### Output: [2,3,1]\n",
    "###### Example 3:\n",
    "###### Input: root = []\n",
    "###### Output: []"
   ]
  },
  {
   "cell_type": "code",
   "execution_count": null,
   "id": "a78fef63",
   "metadata": {},
   "outputs": [],
   "source": []
  },
  {
   "cell_type": "markdown",
   "id": "ac9a09a7",
   "metadata": {},
   "source": [
    "##### Problem Number: #104 Maximum Depth of Binary Tree\n",
    "##### Level - Easy\n",
    "###### Given the root of a binary tree, return its maximum depth. A binary tree's maximum depth is the number of nodes along the longest path from the root node down to the farthest leaf node.\n",
    "###### Example 1:\n",
    "###### Input: root = [3,9,20,null,null,15,7]\n",
    "###### Output: 3\n",
    "###### Example 2:\n",
    "###### Input: root = [1,null,2]\n",
    "###### Output: 2"
   ]
  },
  {
   "cell_type": "markdown",
   "id": "84bfee42",
   "metadata": {},
   "source": [
    "##### Problem Number: #100 Same Tree\n",
    "##### Level - Easy\n",
    "###### Given the roots of two binary trees p and q, write a function to check if they are the same or not. Two binary trees are considered the same if they are structurally identical, and the nodes have the same value.\n",
    "###### Example 1:\n",
    "###### Input: p = [1,2,3], q = [1,2,3]\n",
    "###### Output: true\n",
    "###### Example 2:\n",
    "###### Input: p = [1,2], q = [1,null,2]\n",
    "###### Output: false\n",
    "###### Example 3:\n",
    "###### Input: p = [1,2,1], q = [1,1,2]\n",
    "###### Output: false"
   ]
  },
  {
   "cell_type": "markdown",
   "id": "64912e5f",
   "metadata": {},
   "source": [
    "##### Problem Number: #572 Subtree of Another Tree\n",
    "##### Easy\n",
    "###### Given the roots of two binary trees root and subRoot, return true if there is a subtree of root with the same structure and node values of subRoot and false otherwise. A subtree of a binary tree tree is a tree that consists of a node in tree and all of this node's descendants. The tree tree could also be considered as a subtree of itself.\n",
    "###### Example 1:\n",
    "###### Input: root = [3,4,5,1,2], subRoot = [4,1,2]\n",
    "###### Output: true\n",
    "###### Example 2:\n",
    "###### Input: root = [3,4,5,1,2,null,null,null,null,0], subRoot = [4,1,2]\n",
    "###### Output: false"
   ]
  },
  {
   "cell_type": "markdown",
   "id": "ee873e60",
   "metadata": {},
   "source": [
    "##### Problem Number: #235 Lowest Common Ancestor of a Binary Search Tree\n",
    "##### Level - Medium\n",
    "###### Given a binary search tree (BST), find the lowest common ancestor (LCA) node of two given nodes in the BST. According to the definition of LCA on Wikipedia: “The lowest common ancestor is defined between two nodes p and q as the lowest node in T that has both p and q as descendants (where we allow a node to be a descendant of itself).”\n",
    "###### Example 1:\n",
    "###### Input: root = [6,2,8,0,4,7,9,null,null,3,5], p = 2, q = 8\n",
    "###### Output: 6\n",
    "###### Explanation: The LCA of nodes 2 and 8 is 6.\n",
    "###### Example 2:\n",
    "###### Input: root = [6,2,8,0,4,7,9,null,null,3,5], p = 2, q = 4\n",
    "###### Output: 2\n",
    "###### Explanation: The LCA of nodes 2 and 4 is 2, since a node can be a descendant of itself according to the LCA definition.\n",
    "###### Example 3:\n",
    "###### Input: root = [2,1], p = 2, q = 1\n",
    "###### Output: 2235. Lowest Common Ancestor of a Binary Search Tree"
   ]
  },
  {
   "cell_type": "markdown",
   "id": "5240622e",
   "metadata": {},
   "source": [
    "##### Problem Number: #102 Binary Tree Level Order Traversal\n",
    "##### Level - Medium\n",
    "###### Given the root of a binary tree, return the level order traversal of its nodes' values. (i.e., from left to right, level by level).\n",
    "###### Example 1:\n",
    "###### Input: root = [3,9,20,null,null,15,7]\n",
    "###### Output: [[3],[9,20],[15,7]]\n",
    "###### Example 2:\n",
    "###### Input: root = [1]\n",
    "###### Output: [[1]]\n",
    "###### Example 3:\n",
    "###### Input: root = []\n",
    "###### Output: []"
   ]
  },
  {
   "cell_type": "code",
   "execution_count": null,
   "id": "4f039976",
   "metadata": {},
   "outputs": [],
   "source": [
    "# Definition for a binary tree node.\n",
    "# class TreeNode(object):\n",
    "#     def __init__(self, val=0, left=None, right=None):\n",
    "#         self.val = val\n",
    "#         self.left = left\n",
    "#         self.right = right\n",
    "class Solution(object):\n",
    "    def levelOrder(self, root):\n",
    "        \"\"\"\n",
    "        :type root: TreeNode\n",
    "        :rtype: List[List[int]]\n",
    "        \"\"\"\n",
    "        if root is None:\n",
    "            return root\n",
    "        res = []\n",
    "        q = collections.deque()\n",
    "        q.append(root)\n",
    "        while q:\n",
    "            qlen = len(q)\n",
    "            level = []\n",
    "            for i in range(qlen):\n",
    "                node = q.popleft()\n",
    "                if node:\n",
    "                    level.append(node.val)\n",
    "                    q.append(node.left)\n",
    "                    q.append(node.right)\n",
    "            if level:\n",
    "                res.append(level)\n",
    "        return res\n",
    "\n",
    "# Time Complexity:O(N)\n",
    "# Space Complexity:O(N)"
   ]
  },
  {
   "cell_type": "markdown",
   "id": "cf8c655a",
   "metadata": {},
   "source": [
    "##### Problem Number: #98 Validate Binary Search Tree\n",
    "##### Level - Medium\n",
    "###### Given the root of a binary tree, determine if it is a valid binary search tree (BST). A valid BST is defined as follows: The left  subtree of a node contains only nodes with keys less than the node's key. The right subtree of a node contains only nodes with keys greater than the node's key. Both the left and right subtrees must also be binary search trees.\n",
    "###### Example 1:\n",
    "###### Input: root = [2,1,3]\n",
    "###### Output: true\n",
    "###### Example 2:\n",
    "###### Input: root = [5,1,4,null,null,3,6]\n",
    "###### Output: false\n",
    "###### Explanation: The root node's value is 5 but its right child's value is 4."
   ]
  },
  {
   "cell_type": "markdown",
   "id": "e7ff00ce",
   "metadata": {},
   "source": [
    "##### Probelm Number: #230 Kth Smallest Element in a BST\n",
    "##### Medium\n",
    "###### Given the root of a binary search tree, and an integer k, return the kth smallest value (1-indexed) of all the values of the nodes in the tree.\n",
    "###### Example 1:\n",
    "###### Input: root = [3,1,4,null,2], k = 1\n",
    "###### Output: 1\n",
    "###### Example 2:\n",
    "###### Input: root = [5,3,6,2,4,null,null,1], k = 3\n",
    "###### Output: 3"
   ]
  },
  {
   "cell_type": "markdown",
   "id": "e26f14f7",
   "metadata": {},
   "source": [
    "##### Probelm Number: #105 Construct Binary Tree from Preorder and Inorder Traversal\n",
    "##### Medium\n",
    "###### Given two integer arrays preorder and inorder where preorder is the preorder traversal of a binary tree and inorder is the inorder traversal of the same tree, construct and return the binary tree.\n",
    "###### Example 1:\n",
    "###### Input: preorder = [3,9,20,15,7], inorder = [9,3,15,20,7]\n",
    "###### Output: [3,9,20,null,null,15,7]\n",
    "###### Example 2:\n",
    "###### Input: preorder = [-1], inorder = [-1]\n",
    "###### Output: [-1]"
   ]
  },
  {
   "cell_type": "markdown",
   "id": "6d5dd5a2",
   "metadata": {},
   "source": [
    "##### Probelm Number: #124 Binary Tree Maximum Path Sum\n",
    "##### Hard\n",
    "###### A path in a binary tree is a sequence of nodes where each pair of adjacent nodes in the sequence has an edge connecting them. A node can only appear in the sequence at most once. Note that the path does not need to pass through the root The path sum of a path is the sum of the node's values in the path. Given the root of a binary tree, return the maximum path sum of any non-empty path.\n",
    "###### Example 1:\n",
    "###### Input: root = [1,2,3]\n",
    "###### Output: 6\n",
    "###### Explanation: The optimal path is 2 -> 1 -> 3 with a path sum of 2 + 1 + 3 = 6.\n",
    "###### Example 2:\n",
    "###### Input: root = [-10,9,20,null,null,15,7]\n",
    "###### Output: 42\n",
    "###### Explanation: The optimal path is 15 -> 20 -> 7 with a path sum of 15 + 20 + 7 = 42."
   ]
  },
  {
   "cell_type": "markdown",
   "id": "c55356f1",
   "metadata": {},
   "source": [
    "##### Problem Number: #297 Serialize and Deserialize Binary Tree\n",
    "##### Level - Hard\n",
    "##### Serialization is the process of converting a data structure or object into a sequence of bits so that it can be stored in a file or memory buffer, or transmitted across a network connection link to be reconstructed later in the same or another computer environment. Design an algorithm to serialize and deserialize a binary tree. There is no restriction on how your serialization/deserialization algorithm should work. You just need to ensure that a binary tree can be serialized to a string and this string can be deserialized to the original tree structure. Clarification: The input/output format is the same as how LeetCode serializes a binary tree. You do not necessarily need to follow this format, so please be creative and come up with different approaches yourself.\n",
    "##### Example 1:\n",
    "##### Input: root = [1,2,3,null,null,4,5]\n",
    "##### Output: [1,2,3,null,null,4,5]\n",
    "##### Example 2:\n",
    "##### Input: root = []\n",
    "##### Output: []"
   ]
  },
  {
   "cell_type": "code",
   "execution_count": null,
   "id": "0e883ce9",
   "metadata": {},
   "outputs": [],
   "source": []
  }
 ],
 "metadata": {
  "kernelspec": {
   "display_name": "Python 3 (ipykernel)",
   "language": "python",
   "name": "python3"
  },
  "language_info": {
   "codemirror_mode": {
    "name": "ipython",
    "version": 3
   },
   "file_extension": ".py",
   "mimetype": "text/x-python",
   "name": "python",
   "nbconvert_exporter": "python",
   "pygments_lexer": "ipython3",
   "version": "3.11.5"
  }
 },
 "nbformat": 4,
 "nbformat_minor": 5
}
