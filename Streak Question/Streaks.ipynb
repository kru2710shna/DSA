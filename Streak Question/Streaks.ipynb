{
 "cells": [
  {
   "cell_type": "markdown",
   "id": "c11d545c-e2f9-415b-a5d4-ea098fe2360f",
   "metadata": {},
   "source": [
    "### Problem: #2366. Minimum Replacements to Sort the Array\n",
    "\n",
    "### Level - Hard\n",
    "\n",
    "##### You are given a 0-indexed integer array nums. In one operation you can replace any element of the array with any two elements that sum to it.\n",
    "\n",
    "##### For example, consider nums = [5,6,7]. In one operation, we can replace nums[1] with 2 and 4 and convert nums to [5,2,4,7]. Return the minimum number of operations to make an array that is sorted in non-decreasing order.\n",
    "\n",
    "\n",
    "##### Example 1:\n",
    "##### Input: nums = [3,9,3]\n",
    "##### Output: 2\n",
    "##### Explanation: Here are the steps to sort the array in non-decreasing order:\n",
    "#####  - From [3,9,3], replace the 9 with 3 and 6 so the array becomes [3,3,6,3]\n",
    "#####  - From [3,3,6,3], replace the 6 with 3 and 3 so the array becomes [3,3,3,3,3]\n",
    "##### There are 2 steps to sort the array in non-decreasing order. Therefore, we return 2.\n",
    "\n",
    "##### Example 2:\n",
    "##### Input: nums = [1,2,3,4,5]\n",
    "##### Output: 0\n",
    "##### Explanation: The array is already in non-decreasing order. Therefore, we return 0. "
   ]
  },
  {
   "cell_type": "code",
   "execution_count": 2,
   "id": "f669bedb-822a-473f-a8be-7f3dfaf0c307",
   "metadata": {},
   "outputs": [],
   "source": [
    "class Solution(object):\n",
    "    def minimumReplacement(self, nums):\n",
    "        \"\"\"\n",
    "        :type nums: List[int]\n",
    "        :rtype: int\n",
    "        \"\"\"\n",
    "        \n",
    "        x = nums[-1]\n",
    "        res = 0\n",
    "        for a in reversed(nums):\n",
    "            k = (a + x - 1) // x\n",
    "            x = a // k\n",
    "            res += k - 1\n",
    "        return res\n"
   ]
  },
  {
   "cell_type": "markdown",
   "id": "8e8eee16-7766-4405-9be0-f265898283c4",
   "metadata": {},
   "source": [
    "### Time Complexity: O(N) | Space Complexity:O(1) | Runtime: 415ms"
   ]
  },
  {
   "cell_type": "code",
   "execution_count": null,
   "id": "01e69df7-914e-489a-bd3c-f5909485845e",
   "metadata": {},
   "outputs": [],
   "source": []
  }
 ],
 "metadata": {
  "kernelspec": {
   "display_name": "Python 3 (ipykernel)",
   "language": "python",
   "name": "python3"
  },
  "language_info": {
   "codemirror_mode": {
    "name": "ipython",
    "version": 3
   },
   "file_extension": ".py",
   "mimetype": "text/x-python",
   "name": "python",
   "nbconvert_exporter": "python",
   "pygments_lexer": "ipython3",
   "version": "3.10.9"
  }
 },
 "nbformat": 4,
 "nbformat_minor": 5
}
