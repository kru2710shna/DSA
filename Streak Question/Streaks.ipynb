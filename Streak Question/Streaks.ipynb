{
 "cells": [
  {
   "cell_type": "markdown",
   "id": "c11d545c-e2f9-415b-a5d4-ea098fe2360f",
   "metadata": {},
   "source": [
    "### Problem: #2366. Minimum Replacements to Sort the Array\n",
    "\n",
    "### Level - Hard\n",
    "\n",
    "##### You are given a 0-indexed integer array nums. In one operation you can replace any element of the array with any two elements that sum to it.\n",
    "\n",
    "##### For example, consider nums = [5,6,7]. In one operation, we can replace nums[1] with 2 and 4 and convert nums to [5,2,4,7]. Return the minimum number of operations to make an array that is sorted in non-decreasing order.\n",
    "\n",
    "\n",
    "##### Example 1:\n",
    "##### Input: nums = [3,9,3]\n",
    "##### Output: 2\n",
    "##### Explanation: Here are the steps to sort the array in non-decreasing order:\n",
    "#####  - From [3,9,3], replace the 9 with 3 and 6 so the array becomes [3,3,6,3]\n",
    "#####  - From [3,3,6,3], replace the 6 with 3 and 3 so the array becomes [3,3,3,3,3]\n",
    "##### There are 2 steps to sort the array in non-decreasing order. Therefore, we return 2.\n",
    "\n",
    "##### Example 2:\n",
    "##### Input: nums = [1,2,3,4,5]\n",
    "##### Output: 0\n",
    "##### Explanation: The array is already in non-decreasing order. Therefore, we return 0. "
   ]
  },
  {
   "cell_type": "code",
   "execution_count": 1,
   "id": "f669bedb-822a-473f-a8be-7f3dfaf0c307",
   "metadata": {},
   "outputs": [],
   "source": [
    "class Solution(object):\n",
    "    def minimumReplacement(self, nums):\n",
    "        \"\"\"\n",
    "        :type nums: List[int]\n",
    "        :rtype: int\n",
    "        \"\"\"\n",
    "        \n",
    "        x = nums[-1]\n",
    "        res = 0\n",
    "        for a in reversed(nums):\n",
    "            k = (a + x - 1) // x\n",
    "            x = a // k\n",
    "            res += k - 1\n",
    "        return res\n"
   ]
  },
  {
   "cell_type": "markdown",
   "id": "8e8eee16-7766-4405-9be0-f265898283c4",
   "metadata": {},
   "source": [
    "### Time Complexity: O(N) | Space Complexity:O(1) | Runtime: 415ms"
   ]
  },
  {
   "cell_type": "markdown",
   "id": "1dfadd4f",
   "metadata": {},
   "source": [
    "### Problem: #19. Remove Nth Node From End of List\n",
    "### Level - Medium \n",
    "##### Given the head of a linked list, remove the nth node from the end of the list and return its head.\n",
    "##### Input: head = [1,2,3,4,5], n = 2\n",
    "##### Output: [1,2,3,5]\n",
    "\n",
    "##### Example 2:\n",
    "##### Input: head = [1], n = 1\n",
    "##### Output: []\n",
    "\n",
    "#### Example 3:\n",
    "##### Input: head = [1,2], n = 1\n",
    "##### Output: [1]"
   ]
  },
  {
   "cell_type": "code",
   "execution_count": 2,
   "id": "40b3da4c",
   "metadata": {},
   "outputs": [],
   "source": [
    "class Solution(object):\n",
    "    def removeNthFromEnd(self, head, n):\n",
    "        \"\"\"\n",
    "        :type head: ListNode\n",
    "        :type n: int\n",
    "        :rtype: ListNode\n",
    "        \"\"\"\n",
    "        dummy = ListNode(0)\n",
    "        dummy.next = head\n",
    "        curr = head\n",
    "        before = dummy\n",
    "        after = dummy\n",
    "        \n",
    "        # Move the \"after\" pointer n nodes ahead\n",
    "        for _ in range(n):\n",
    "            after = after.next\n",
    "        \n",
    "        # Move both pointers until the \"after\" pointer reaches the end\n",
    "        while after.next:\n",
    "            before = before.next\n",
    "            after = after.next\n",
    "        \n",
    "        # Remove the nth node from the end\n",
    "        before.next = before.next.next\n",
    "        \n",
    "        return dummy.next\n"
   ]
  },
  {
   "cell_type": "markdown",
   "id": "d094fa73",
   "metadata": {},
   "source": [
    "Time Complexity: O(N)\n",
    "Space Complexity: O(1)"
   ]
  },
  {
   "cell_type": "markdown",
   "id": "e36ebdd3",
   "metadata": {},
   "source": [
    "## Problem Number: 948. Bag of Tokens\n",
    "## Level - Medium \n",
    "#### You start with an initial power of power, an initial score of 0, and a bag of tokens given as an integer array tokens, where each tokens[i] donates the value of tokeni. Your goal is to maximize the total score by strategically playing these tokens. In one move, you can play an unplayed token in one of the two ways (but not both for the same token): Face-up: If your current power is at least tokens[i], you may play tokeni, losing tokens[i] power and gaining 1 score. Face-down: If your current score is at least 1, you may play tokeni, gaining tokens[i] power and losing 1 score. Return the maximum possible score you can achieve after playing any number of tokens.\n",
    "\n",
    "#### Example 1:\n",
    "#### Input: tokens = [100], power = 50\n",
    "#### Output: 0\n",
    "#### Explanation: Since your score is 0 initially, you cannot play the token face-down. You also cannot play it face-up since your power (50) is less than tokens[0] (100).\n",
    "\n",
    "#### Example 2:\n",
    "#### Input: tokens = [200,100], power = 150\n",
    "#### Output: 1\n",
    "#### Explanation: Play token1 (100) face-up, reducing your power to 50 and increasing your score to 1. There is no need to play token0, since you cannot play it face-up to add to your score. The maximum score achievable is 1.\n",
    "\n",
    "#### Example 3:\n",
    "#### Input: tokens = [100,200,300,400], power = 200\n",
    "#### Output: 2\n",
    "#### Explanation: Play the tokens in this order to get a score of 2: Play token0 (100) face-up, reducing power to 100 and increasing score to 1. Play token3 (400) face-down, increasing power to 500 and reducing score to 0. Play token1 (200) face-up, reducing power to 300 and increasing score to 1. Play token2 (300) face-up, reducing power to 0 and increasing score to 2. The maximum score achievable is 2."
   ]
  },
  {
   "cell_type": "code",
   "execution_count": 1,
   "id": "718aeae8",
   "metadata": {},
   "outputs": [],
   "source": [
    "class Solution(object):\n",
    "    def bagOfTokensScore(self, tokens, power):\n",
    "        \"\"\"\n",
    "        :type tokens: List[int]\n",
    "        :type power: int\n",
    "        :rtype: int\n",
    "        \"\"\"\n",
    "        tokens.sort()  # Sort tokens in increasing order\n",
    "        score = 0\n",
    "        max_score = 0\n",
    "        left = 0\n",
    "        right = len(tokens) - 1\n",
    "        \n",
    "        while left <= right:\n",
    "            # Try playing tokens face-up as long as power allows\n",
    "            while left <= right and power >= tokens[left]:\n",
    "                power -= tokens[left]\n",
    "                score += 1\n",
    "                left += 1\n",
    "                max_score = max(max_score, score)\n",
    "            \n",
    "            # If no tokens can be played face-up, try playing one token face-down\n",
    "            if left <= right and score > 0:\n",
    "                power += tokens[right]\n",
    "                score -= 1\n",
    "                right -= 1\n",
    "            else:\n",
    "                break  # No more valid moves possible\n",
    "        \n",
    "        return max_score"
   ]
  },
  {
   "cell_type": "markdown",
   "id": "a834b6f2",
   "metadata": {},
   "source": [
    "Time Complexity: O(NLogN)\n",
    "    Space Complexity: O(1)"
   ]
  },
  {
   "cell_type": "code",
   "execution_count": null,
   "id": "6c26982c",
   "metadata": {},
   "outputs": [],
   "source": []
  }
 ],
 "metadata": {
  "kernelspec": {
   "display_name": "Python 3 (ipykernel)",
   "language": "python",
   "name": "python3"
  },
  "language_info": {
   "codemirror_mode": {
    "name": "ipython",
    "version": 3
   },
   "file_extension": ".py",
   "mimetype": "text/x-python",
   "name": "python",
   "nbconvert_exporter": "python",
   "pygments_lexer": "ipython3",
   "version": "3.11.5"
  }
 },
 "nbformat": 4,
 "nbformat_minor": 5
}
