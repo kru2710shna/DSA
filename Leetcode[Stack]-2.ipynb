{
 "cells": [
  {
   "cell_type": "markdown",
   "id": "1e90a6bb-7285-4428-b76c-f808a70fbf47",
   "metadata": {},
   "source": [
    "## Leetcode Stack Probelms "
   ]
  },
  {
   "cell_type": "markdown",
   "id": "0d19a42c-4984-47b6-8def-7d79028b864e",
   "metadata": {},
   "source": [
    "#"
   ]
  },
  {
   "cell_type": "markdown",
   "id": "ed58f0ef-f0f4-4c0b-bc29-c8f116a8d873",
   "metadata": {},
   "source": [
    "GFG: Next Greater Element (NGE) for every element in given Array"
   ]
  },
  {
   "cell_type": "code",
   "execution_count": 1,
   "id": "4f654635-60bd-4574-a44c-46b5b9bcf969",
   "metadata": {},
   "outputs": [
    {
     "name": "stdout",
     "output_type": "stream",
     "text": [
      "11 -- 13\n",
      "13 -- 21\n",
      "3 -- -1\n",
      "21 -- -1\n"
     ]
    }
   ],
   "source": [
    "def createStack():\n",
    "    stack = []\n",
    "    return stack\n",
    "\n",
    "\n",
    "def isEmpty(stack):\n",
    "    return len(stack) == 0\n",
    "\n",
    "\n",
    "def push(stack, x):\n",
    "    stack.append(x)\n",
    "\n",
    "\n",
    "def pop(stack):\n",
    "    if isEmpty(stack):\n",
    "        print(\"Error : stack underflow\")\n",
    "    else:\n",
    "        return stack.pop()\n",
    "\n",
    "\n",
    "'''prints element and NGE pair for all elements of\n",
    "   arr[] '''\n",
    "\n",
    "\n",
    "def printNGE(arr):\n",
    "    s = createStack()\n",
    "    element = 0\n",
    "    next = 0\n",
    "\n",
    "    # push the first element to stack\n",
    "    push(s, arr[0])\n",
    "\n",
    "    # iterate for rest of the elements\n",
    "    for i in range(1, len(arr), 1):\n",
    "        next = arr[i]\n",
    "\n",
    "        if isEmpty(s) == False:\n",
    "\n",
    "            # if stack is not empty, then pop an element from stack\n",
    "            element = pop(s)\n",
    "\n",
    "            '''If the popped element is smaller than next, then\n",
    "                a) print the pair\n",
    "                b) keep popping while elements are smaller and\n",
    "                   stack is not empty '''\n",
    "            while element < next:\n",
    "                print(str(element) + \" -- \" + str(next))\n",
    "                if isEmpty(s) == True:\n",
    "                    break\n",
    "                element = pop(s)\n",
    "\n",
    "            '''If element is greater than next, then push\n",
    "               the element back '''\n",
    "            if element > next:\n",
    "                push(s, element)\n",
    "\n",
    "        '''push next to stack so that we can find\n",
    "           next greater for it '''\n",
    "        push(s, next)\n",
    "\n",
    "    '''After iterating over the loop, the remaining\n",
    "       elements in stack do not have the next greater\n",
    "       element, so print -1 for them '''\n",
    "\n",
    "    while isEmpty(s) == False:\n",
    "        element = pop(s)\n",
    "        next = -1\n",
    "        print(str(element) + \" -- \" + str(next))\n",
    "\n",
    "\n",
    "# Driver code\n",
    "arr = [11, 13, 21, 3]\n",
    "printNGE(arr)\n",
    "\n"
   ]
  },
  {
   "cell_type": "markdown",
   "id": "8958ee6d-6417-4330-9132-199365480819",
   "metadata": {},
   "source": [
    "Time Complexity: O(N) \n",
    "Auxiliary Space: O(N) "
   ]
  },
  {
   "cell_type": "markdown",
   "id": "ea7d9a97-db33-4f3b-b696-274b8000704f",
   "metadata": {},
   "source": [
    "#"
   ]
  },
  {
   "cell_type": "markdown",
   "id": "9d4b60a3-ce32-4c7f-a08d-7ecd009e1b8e",
   "metadata": {},
   "source": [
    "Pro Coding: Nearest greater to left"
   ]
  },
  {
   "cell_type": "code",
   "execution_count": 2,
   "id": "9bff52c1-fc53-4776-8c0c-8b7435734586",
   "metadata": {},
   "outputs": [
    {
     "name": "stdout",
     "output_type": "stream",
     "text": [
      "[-1, -1, 3, 0, 3, -1]\n"
     ]
    }
   ],
   "source": [
    "def NearestGreaterToLeft(A):\n",
    "    result = []\n",
    "    stack = []\n",
    "\n",
    "    for i in range(len(A)):\n",
    "        if not stack:\n",
    "            result.append(-1)\n",
    "        else:\n",
    "            while stack and A[i] > stack[-1]:\n",
    "                stack.pop()\n",
    "            if not stack:\n",
    "                result.append(-1)\n",
    "            else:\n",
    "                result.append(stack[-1])\n",
    "        stack.append(A[i])\n",
    "\n",
    "    return result\n",
    "\n",
    "# Example usage:\n",
    "A = [1, 3, 0, 0, 2, 4]\n",
    "print(NearestGreaterToLeft(A))  # Output: [-1, -1, 3, 3, 3, -1]\n"
   ]
  },
  {
   "cell_type": "markdown",
   "id": "a0ef2318-b578-483c-bfe7-65029798a1e5",
   "metadata": {},
   "source": [
    "Time Complexity: O(N) Auxiliary Space: O(N)"
   ]
  },
  {
   "cell_type": "markdown",
   "id": "07e52d69-6cce-4347-9aae-47fcad0e8b6e",
   "metadata": {},
   "source": [
    "#"
   ]
  },
  {
   "cell_type": "markdown",
   "id": "664f4237-8eb1-41d0-b922-61d29fc147a3",
   "metadata": {},
   "source": [
    "GFG: Find the nearest smaller numbers on left side in an array"
   ]
  },
  {
   "cell_type": "code",
   "execution_count": 3,
   "id": "0bfe3c51-d9af-412f-b55d-63d3400025ed",
   "metadata": {},
   "outputs": [
    {
     "name": "stdout",
     "output_type": "stream",
     "text": [
      "_, 1, _, 0, 2, "
     ]
    }
   ],
   "source": [
    "import math as mt\n",
    " \n",
    "# Prints smaller elements on left \n",
    "# side of every element\n",
    "def printPrevSmaller(arr, n):\n",
    " \n",
    "    # Create an empty stack\n",
    "    S = list()\n",
    " \n",
    "    # Traverse all array elements\n",
    "    for i in range(n):\n",
    "     \n",
    "        # Keep removing top element from S \n",
    "        # while the top element is greater \n",
    "        # than or equal to arr[i]\n",
    "        while (len(S) > 0 and S[-1] >= arr[i]):\n",
    "            S.pop()\n",
    " \n",
    "        # If all elements in S were greater\n",
    "        # than arr[i]\n",
    "        if (len(S) == 0):\n",
    "            print(\"_, \", end = \"\")\n",
    "        else: # Else print the nearest \n",
    "              # smaller element\n",
    "            print(S[-1], end = \", \")\n",
    " \n",
    "        # Push this element\n",
    "        S.append(arr[i])\n",
    "     \n",
    "# Driver Code\n",
    "arr = [ 1, 3, 0, 2, 5]\n",
    "n = len(arr)\n",
    "printPrevSmaller(arr, n)\n",
    " \n",
    "# This code is contributed by\n",
    "# Mohit kumar 29"
   ]
  },
  {
   "cell_type": "markdown",
   "id": "ba5ec3c2-7c35-489b-ba71-991173429c21",
   "metadata": {},
   "source": [
    "Time Complexity: O(N) Auxiliary Space: O(N)"
   ]
  },
  {
   "cell_type": "markdown",
   "id": "aa2d1af7-22f1-4002-af66-bb5de02714c9",
   "metadata": {},
   "source": [
    "#"
   ]
  },
  {
   "cell_type": "markdown",
   "id": "e7430b12-bfcb-46c9-9d56-13aad1b5aa26",
   "metadata": {},
   "source": [
    "Problem Number: 901. Online Stock Span\\\n",
    "GFG: Stock Span Problem "
   ]
  },
  {
   "cell_type": "code",
   "execution_count": 10,
   "id": "e3aade20-2f4a-454e-b662-6968f133451b",
   "metadata": {},
   "outputs": [
    {
     "name": "stdout",
     "output_type": "stream",
     "text": [
      "[1, 1, 1, 2, 1, 4, 6]\n",
      "[1, 1, 2, 4, 5, 1]\n"
     ]
    }
   ],
   "source": [
    "def calculateSpan(prices, n):\n",
    "    # Create a stack and a list to store spans\n",
    "    stack = []\n",
    "    spans = [0] * n\n",
    "\n",
    "    # Traverse the price array\n",
    "    for i in range(n):\n",
    "        # Pop elements from the stack while the stack is not empty and\n",
    "        # the top of the stack is less than or equal to the current price\n",
    "        while stack and prices[stack[-1]] <= prices[i]:\n",
    "            stack.pop()\n",
    "        \n",
    "        # If the stack is empty, the span is the current day index + 1\n",
    "        if not stack:\n",
    "            spans[i] = i + 1\n",
    "        else:\n",
    "            # Otherwise, the span is the difference between the current day and\n",
    "            # the index of the last higher price\n",
    "            spans[i] = i - stack[-1]\n",
    "        \n",
    "        # Push this element's index to the stack\n",
    "        stack.append(i)\n",
    "\n",
    "    return spans\n",
    "    # Test the function\n",
    "prices1 = [100 ,80 ,60 ,70 ,60 ,75 ,85]\n",
    "n1 = 7\n",
    "print(calculateSpan(prices1, n1))  \n",
    "# Output: [1, 1, 1, 2, 1, 4, 6]\n",
    "    \n",
    "prices2 = [10, 4, 5, 90, 120, 80]\n",
    "n2 = len(prices2)\n",
    "print(calculateSpan(prices2, n2))  # Output: [1, 1, 2, 4, 5, 1]\n"
   ]
  },
  {
   "cell_type": "markdown",
   "id": "e9fb21fe-bff2-4bb7-85a6-c9823dffdef3",
   "metadata": {},
   "source": [
    "Time Complexity: O(N) Auxiliary Space: O(N)"
   ]
  },
  {
   "cell_type": "markdown",
   "id": "d620d0f6-90f4-4dd7-8b35-d1967758da91",
   "metadata": {},
   "source": [
    "#"
   ]
  },
  {
   "cell_type": "markdown",
   "id": "bdcc9d10-6a9f-43ce-a70b-4ec4ddfcf37e",
   "metadata": {},
   "source": [
    "Problem Number: 84 Largest Rectangle in Histogram"
   ]
  },
  {
   "cell_type": "code",
   "execution_count": null,
   "id": "996908ef-7033-4db9-9346-1d3089b35489",
   "metadata": {},
   "outputs": [],
   "source": []
  }
 ],
 "metadata": {
  "kernelspec": {
   "display_name": "Python 3 (ipykernel)",
   "language": "python",
   "name": "python3"
  },
  "language_info": {
   "codemirror_mode": {
    "name": "ipython",
    "version": 3
   },
   "file_extension": ".py",
   "mimetype": "text/x-python",
   "name": "python",
   "nbconvert_exporter": "python",
   "pygments_lexer": "ipython3",
   "version": "3.11.7"
  }
 },
 "nbformat": 4,
 "nbformat_minor": 5
}
