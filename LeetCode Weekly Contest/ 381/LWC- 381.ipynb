{
 "cells": [
  {
   "cell_type": "markdown",
   "id": "b1bb6cdd",
   "metadata": {},
   "source": [
    "# LeetCode Weekly Contest 381"
   ]
  },
  {
   "cell_type": "markdown",
   "id": "338494e2",
   "metadata": {},
   "source": [
    "## Question - 1"
   ]
  },
  {
   "cell_type": "markdown",
   "id": "8fda8f0f",
   "metadata": {},
   "source": [
    "### 3014. Minimum Number of Pushes to Type Word I\n",
    "##### You are given a string word containing distinct lowercase English letters. Telephone keypads have keys mapped with distinct collections of lowercase English letters, which can be used to form words by pushing them. For example, the key 2 is mapped with [\"a\",\"b\",\"c\"], we need to push the key one time to type \"a\", two times to type \"b\", and three times to type \"c\" . It is allowed to remap the keys numbered 2 to 9 to distinct collections of letters. The keys can be remapped to any amount of letters, but each letter must be mapped to exactly one key. You need to find the minimum number of times the keys will be pushed to type the string word. Return the minimum number of pushes needed to type word after remapping the keys. An example mapping of letters to keys on a telephone keypad is given below. Note that 1, *, #, and 0 do not map to any letters.\n",
    "##### Example -1 \n",
    "##### Input: word = \"abcde\" Output: 5\n",
    "##### Example-2 \n",
    "##### Input: word = \"xycdefghij\" Output: 12"
   ]
  },
  {
   "cell_type": "code",
   "execution_count": 7,
   "id": "fe09d7aa",
   "metadata": {},
   "outputs": [],
   "source": [
    "class Solution(object):\n",
    "    def minimumPushes(self, word):\n",
    "        \"\"\"\n",
    "        :type word: str\n",
    "        :rtype: int\n",
    "        \"\"\"\n",
    "        letter_to_key = {\n",
    "        'a': 2, 'b': 2, 'c': 2,\n",
    "        'd': 3, 'e': 3, 'f': 3,\n",
    "        'g': 4, 'h': 4, 'i': 4,\n",
    "        'j': 5, 'k': 5, 'l': 5,\n",
    "        'm': 6, 'n': 6, 'o': 6,\n",
    "        'p': 7, 'q': 7, 'r': 7, 's': 7,\n",
    "        't': 8, 'u': 8, 'v': 8,\n",
    "        'w': 9, 'x': 9, 'y': 9, 'z': 9,\n",
    "    }\n",
    "        total_point = 0\n",
    "        for char in word:\n",
    "            key = letter_to_key[char]\n",
    "            pushes = ord(char) - ord('a') + 1\n",
    "            total_point += min(pushes, 10-pushes)\n",
    "        return total_point"
   ]
  },
  {
   "cell_type": "code",
   "execution_count": null,
   "id": "67d25455",
   "metadata": {},
   "outputs": [],
   "source": []
  },
  {
   "cell_type": "code",
   "execution_count": null,
   "id": "8bb5dc3c",
   "metadata": {},
   "outputs": [],
   "source": []
  },
  {
   "cell_type": "code",
   "execution_count": null,
   "id": "bf9d0303",
   "metadata": {},
   "outputs": [],
   "source": []
  }
 ],
 "metadata": {
  "kernelspec": {
   "display_name": "Python 3 (ipykernel)",
   "language": "python",
   "name": "python3"
  },
  "language_info": {
   "codemirror_mode": {
    "name": "ipython",
    "version": 3
   },
   "file_extension": ".py",
   "mimetype": "text/x-python",
   "name": "python",
   "nbconvert_exporter": "python",
   "pygments_lexer": "ipython3",
   "version": "3.11.5"
  }
 },
 "nbformat": 4,
 "nbformat_minor": 5
}
