{
 "cells": [
  {
   "cell_type": "markdown",
   "id": "e813a631-d871-48f1-87ef-b2afa6dd5b01",
   "metadata": {},
   "source": [
    "## Weekly Contest 382\n"
   ]
  },
  {
   "cell_type": "markdown",
   "id": "a9ff2c04-8bf6-41c6-a4ff-65e2263ccc0b",
   "metadata": {},
   "source": [
    "### Problem Number: #3019 Number of Changing Keys\n",
    "### Level - Easy\n",
    "#####  You are given a 0-indexed string s typed by a user. Changing a key is defined as using a key different from the last used key. \n",
    "\n",
    "###### For example, s = \"ab\" has a change of a key while s = \"bBBb\" does not have any. Return the number of times the user had to change the key. Note: Modifiers like shift or caps lock won't be counted in changing the key that is if a user typed the letter 'a' and then the letter 'A' then it will not be considered as a changing of key. \n",
    "\n",
    "#####  Example 1: Input: s = \"aAbBcC\" Output: 2 Explanation:  From s[0] = 'a' to s[1] = 'A', there is no change of key as caps lock or shift is not counted. From s[1] = 'A' to s[2] = 'b', there is a change of key  From s[2] = 'b' to s[3] = 'B', there is no change of key as caps lock or shift is not counted. From s[3] = 'B' to s[4] = 'c', there is a change of key. From s[4] = 'c' to s[5] = 'C', there is no change of key as caps lock or shift is not counted. \n",
    "\n",
    "#####  Example 2: Input: s = \"AaAaAaaA\" Output: 0 Explanation: There is no change of key since only the letters 'a' and 'A' are pressed which does not require change of key."
   ]
  },
  {
   "cell_type": "code",
   "execution_count": 2,
   "id": "91ce2855-811e-4914-abeb-9b9e2e7454d1",
   "metadata": {
    "tags": []
   },
   "outputs": [],
   "source": [
    "class Solution(object):\n",
    "    def countKeyChanges(self, s):\n",
    "        \"\"\"\n",
    "        :type s: str\n",
    "        :rtype: int\n",
    "        \"\"\"\n",
    "        # approach Sliding Window \n",
    "        l = 0 \n",
    "        r = 1\n",
    "        count = 0 \n",
    "        while (r < len(s)):\n",
    "            if (s[l].islower()):\n",
    "                current = ord(s[l]) - ord('a')\n",
    "            elif (s[l].isupper()):\n",
    "                current = ord(s[l]) - ord('A')\n",
    "            \n",
    "            if (s[r].islower()):\n",
    "                nextnum = ord(s[r]) - ord('a')\n",
    "            elif (s[r].isupper()):\n",
    "                nextnum = ord(s[r]) - ord('A')\n",
    "            \n",
    "            if current != nextnum:\n",
    "                count += 1\n",
    "            \n",
    "            r += 1\n",
    "            l += 1\n",
    "        \n",
    "        return count\n"
   ]
  },
  {
   "cell_type": "markdown",
   "id": "cac066fa-2d72-4bd9-b40a-5e7348cd6fa2",
   "metadata": {},
   "source": [
    "### 3020. Find the Maximum Number of Elements in Subset\n",
    "### Difficulty: Medium\n",
    "##### You are given an array of positive integers nums. You need to select a subset of nums which satisfies the following condition: You can place the selected elements in a 0-indexed array such that it follows the pattern: [x, x2, x4, ..., xk/2, xk, xk/2, ..., x4, x2, x] (Note that k can be be any non-negative power of 2). For example, [2, 4, 16, 4, 2] and [3, 9, 3] follow the pattern while [2, 4, 8, 4, 2] does not. Return the maximum number of elements in a subset that satisfies these conditions.\n",
    "##### Example 1: Input: nums = [5,4,1,2,2] Output: 3 Explanation: We can select the subset {4,2,2}, which can be placed in the array as [2,4,2] which follows the pattern and 22 == 4. Hence the answer is 3.\n",
    "##### Example 2: Input: nums = [1,3,2,4] Output: 1 Explanation: We can select the subset {1}, which can be placed in the array as [1] which follows the pattern. Hence the answer is 1. Note that we could have also selected the subsets {2}, {4}, or {3}, there may be multiple subsets which provide the same answer. "
   ]
  },
  {
   "cell_type": "code",
   "execution_count": null,
   "id": "9bfa9ec9-826e-48be-8988-57d233a6b522",
   "metadata": {},
   "outputs": [],
   "source": []
  }
 ],
 "metadata": {
  "kernelspec": {
   "display_name": "Python 3 (ipykernel)",
   "language": "python",
   "name": "python3"
  },
  "language_info": {
   "codemirror_mode": {
    "name": "ipython",
    "version": 3
   },
   "file_extension": ".py",
   "mimetype": "text/x-python",
   "name": "python",
   "nbconvert_exporter": "python",
   "pygments_lexer": "ipython3",
   "version": "3.11.5"
  }
 },
 "nbformat": 4,
 "nbformat_minor": 5
}
