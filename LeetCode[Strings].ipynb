{
 "cells": [
  {
   "cell_type": "markdown",
   "id": "a4bdf9d0",
   "metadata": {},
   "source": [
    "# LeetCode Problems "
   ]
  },
  {
   "cell_type": "markdown",
   "id": "67b96ae1",
   "metadata": {},
   "source": [
    "## Topic: Strings \n",
    "###### Question To Pratice: 3\n",
    "###### Probelms are numbered according to LeetCode Numbering."
   ]
  },
  {
   "cell_type": "markdown",
   "id": "75ede988",
   "metadata": {},
   "source": [
    "Problem: #415. Add Strings\n",
    "\n",
    "Level- Easy\n",
    "\n",
    "Given two non-negative integers, num1 and num2 represented as string, return the sum of num1 and num2 as a string. You must solve the problem without using any built-in library for handling large integers (such as BigInteger). You must also not convert the inputs to integers directly.\n",
    "\n",
    "Example 1:\n",
    "Input: num1 = \"11\", num2 = \"123\"\n",
    "Output: \"134\"\n",
    "\n",
    "Example 2:\n",
    "Input: num1 = \"456\", num2 = \"77\"\n",
    "Output: \"533\""
   ]
  },
  {
   "cell_type": "code",
   "execution_count": 1,
   "id": "e181de4c",
   "metadata": {},
   "outputs": [],
   "source": [
    "class Solution(object):\n",
    "    def addStrings(self, num1, num2):\n",
    "        \"\"\"\n",
    "        :type num1: str\n",
    "        :type num2: str\n",
    "        :rtype: str\n",
    "        \"\"\"\n",
    "        i = len(num1)-1\n",
    "        j= len(num2)-1\n",
    "        carry = 0 \n",
    "        res = []\n",
    "        \n",
    "        while i>= 0 or j>=0:\n",
    "            curr_i = int(num1[i]) if i >= 0 else 0\n",
    "            curr_j = int(num2[j]) if j >= 0 else 0\n",
    "            \n",
    "            curr_sum = curr_i +curr_j +carry\n",
    "            \n",
    "            res.append(str(curr_sum%10))\n",
    "            \n",
    "            carry = curr_sum // 10\n",
    "            \n",
    "            i -= 1\n",
    "            j -= 1\n",
    "\n",
    "        if carry:\n",
    "            res.append(str(carry))\n",
    "            \n",
    "        return \"\".join(reversed(res))"
   ]
  },
  {
   "cell_type": "markdown",
   "id": "09d6b7f9",
   "metadata": {},
   "source": [
    "Time Compllexity: O(n) Runtime : 21ms\n"
   ]
  },
  {
   "cell_type": "markdown",
   "id": "fe0f0099",
   "metadata": {},
   "source": [
    "Problem: #14. Longest Common Prefix\n",
    "\n",
    "Level- Easy\n",
    "\n",
    "Write a function to find the longest common prefix string amongst an array of strings.\n",
    "\n",
    "If there is no common prefix, return an empty string \"\".\n",
    "\n",
    "Example 1:\n",
    "Input: strs = [\"flower\",\"flow\",\"flight\"]\n",
    "Output: \"fl\"\n",
    "    \n",
    "Example 2:\n",
    "Input: strs = [\"dog\",\"racecar\",\"car\"]\n",
    "Output: \"\"\n",
    "Explanation: There is no common prefix among the input strings."
   ]
  },
  {
   "cell_type": "code",
   "execution_count": 2,
   "id": "54304f82",
   "metadata": {},
   "outputs": [],
   "source": [
    "class Solution(object):\n",
    "    def longestCommonPrefix(self, strs):\n",
    "        \"\"\"\n",
    "        :type strs: List[str]\n",
    "        :rtype: str\n",
    "        \"\"\"\n",
    "        res = \"\"\n",
    "        for i in range(len(strs[0])):\n",
    "            for s in strs:\n",
    "                if i == len(s) or s[i] != str[0][i]:\n",
    "                    return res\n",
    "            res += str[0][i]\n",
    "        return res\n",
    "            "
   ]
  },
  {
   "cell_type": "markdown",
   "id": "754bf5a9",
   "metadata": {},
   "source": [
    "Time Complexity: O(m * n) Runtime : 81ms "
   ]
  },
  {
   "cell_type": "markdown",
   "id": "9a3d1015",
   "metadata": {},
   "source": [
    "Probelm: #680. Valid Palindrome II\n",
    "\n",
    "Given a string s, return true if the s can be palindrome after deleting at most one character from it.\n",
    "\n",
    "Example 1:\n",
    "Input: s = \"aba\"\n",
    "Output: true\n",
    "\n",
    "Example 2:\n",
    "Input: s = \"abca\"\n",
    "Output: true\n",
    "Explanation: You could delete the character 'c'."
   ]
  },
  {
   "cell_type": "code",
   "execution_count": 3,
   "id": "f13c650d",
   "metadata": {},
   "outputs": [],
   "source": [
    "class Solution(object):\n",
    "    def validPalindrome(self, s):\n",
    "        \"\"\"\n",
    "        :type s: str\n",
    "        :rtype: bool\n",
    "        \"\"\"\n",
    "        l, r = 0, len(s) - 1\n",
    "        while l < r:\n",
    "            if s[l] != s[r]:\n",
    "                skipL, skipR = s[l+1:r+1], s[l:r]\n",
    "                return skipL == skipL[::-1] or skipR == skipR[::-1]\n",
    "            l += 1\n",
    "            r -= 1\n",
    "        return True\n"
   ]
  },
  {
   "cell_type": "markdown",
   "id": "bb86c5b8",
   "metadata": {},
   "source": [
    "Time Complexity : O(n) Runtime: 63ms"
   ]
  },
  {
   "cell_type": "markdown",
   "id": "88f8c9c0",
   "metadata": {},
   "source": [
    "Problem: #13. Roman to Integer\n",
    "    \n",
    "Roman numerals are represented by seven different symbols: I, V, X, L, C, D and M.\n",
    "\n",
    "Symbol       Value\n",
    "I             1\n",
    "V             5\n",
    "X             10\n",
    "L             50\n",
    "C             100\n",
    "D             500\n",
    "M             1000\n",
    "For example, 2 is written as II in Roman numeral, just two ones added together. 12 is written as XII, which is simply X + II. The number 27 is written as XXVII, which is XX + V + II. Roman numerals are usually written largest to smallest from left to right. However, the numeral for four is not IIII. Instead, the number four is written as IV. Because the one is before the five we subtract it making four. The same principle applies to the number nine, which is written as IX. There are six instances where subtraction is used: I can be placed before V (5) and X (10) to make 4 and 9.  X can be placed before L (50) and C (100) to make 40 and 90.  C can be placed before D (500) and M (1000) to make 400 and 900.\n",
    "Given a roman numeral, convert it to an integer.\n",
    "\n",
    "Example 1:\n",
    "Input: s = \"III\"\n",
    "Output: 3\n",
    "Explanation: III = 3.\n",
    "\n",
    "Example 2:\n",
    "Input: s = \"LVIII\"\n",
    "Output: 58\n",
    "Explanation: L = 50, V= 5, III = 3.\n",
    "\n",
    "Example 3:\n",
    "Input: s = \"MCMXCIV\"\n",
    "Output: 1994\n",
    "Explanation: M = 1000, CM = 900, XC = 90 and IV = 4.\n"
   ]
  },
  {
   "cell_type": "code",
   "execution_count": 4,
   "id": "cb185e5d",
   "metadata": {},
   "outputs": [],
   "source": [
    "class Solution(object):\n",
    "    def romanToInt(self, s):\n",
    "        \"\"\"\n",
    "        :type s: str\n",
    "        :rtype: int\n",
    "        \"\"\"\n",
    "        count = 0\n",
    "        m = {'I': 1, 'V': 5, 'X': 10, 'L': 50, 'C': 100, 'D': 500, 'M': 1000}\n",
    "        for i in range(len(s)):\n",
    "            if i + 1 < len(s) and m[s[i]] < m[s[i + 1]]:\n",
    "                count -= m[s[i]]\n",
    "            else:\n",
    "                count += m[s[i]]\n",
    "        return count                "
   ]
  },
  {
   "cell_type": "markdown",
   "id": "3e35c39d",
   "metadata": {},
   "source": [
    "Time Complexity: O(n) Runtime: 80ms"
   ]
  }
 ],
 "metadata": {
  "kernelspec": {
   "display_name": "Python 3 (ipykernel)",
   "language": "python",
   "name": "python3"
  },
  "language_info": {
   "codemirror_mode": {
    "name": "ipython",
    "version": 3
   },
   "file_extension": ".py",
   "mimetype": "text/x-python",
   "name": "python",
   "nbconvert_exporter": "python",
   "pygments_lexer": "ipython3",
   "version": "3.9.12"
  }
 },
 "nbformat": 4,
 "nbformat_minor": 5
}
