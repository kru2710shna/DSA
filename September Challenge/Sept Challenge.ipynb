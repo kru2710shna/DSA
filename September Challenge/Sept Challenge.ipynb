{
 "cells": [
  {
   "cell_type": "markdown",
   "id": "f548766e-0266-4dd5-ae25-9a834c1ab478",
   "metadata": {},
   "source": [
    "### LeetCode[Sept Challenge]"
   ]
  },
  {
   "cell_type": "markdown",
   "id": "e2245d2a-f752-4028-bdff-03b713562267",
   "metadata": {},
   "source": [
    "#### 338. Counting Bits\n",
    "\n",
    "#### Level - Easy\n",
    "\n",
    "##### Given an integer n, return an array ans of length n + 1 such that for each i (0 <= i <= n), ans[i] is the number of \n",
    "##### 1's in the binary representation of i.\n",
    "\n",
    "##### Example 1:\n",
    "##### Input: n = 2\n",
    "##### Output: [0,1,1]\n",
    "\n",
    "##### Example 2:\n",
    "##### Input: n = 5\n",
    "##### Output: [0,1,1,2,1,2]"
   ]
  },
  {
   "cell_type": "code",
   "execution_count": 1,
   "id": "96e29264-f4e3-4351-bea9-4f2558e4a484",
   "metadata": {},
   "outputs": [],
   "source": [
    "class Solution(object):\n",
    "    def countBits(self, n):\n",
    "        \"\"\"\n",
    "        :type n: int\n",
    "        :rtype: List[int]\n",
    "        \"\"\"\n",
    "        dp = [0] * (n+1)\n",
    "        ans = [0]\n",
    "        offset = 1\n",
    "\n",
    "        for i in range(1, n+1):\n",
    "            if offset*2 ==i:\n",
    "                offset = i\n",
    "            dp[i] = 1+ dp[i-offset]\n",
    "        return dp\n"
   ]
  },
  {
   "cell_type": "markdown",
   "id": "3e92cf55-91c8-4ab4-b2eb-48be69844190",
   "metadata": {},
   "source": [
    "##### Time Complexity: O(N) Space complexity: O(N) Runtime: 45ms"
   ]
  },
  {
   "cell_type": "code",
   "execution_count": null,
   "id": "0878a1bd-a3be-4056-8503-1346a241dc1c",
   "metadata": {},
   "outputs": [],
   "source": []
  }
 ],
 "metadata": {
  "kernelspec": {
   "display_name": "Python 3 (ipykernel)",
   "language": "python",
   "name": "python3"
  },
  "language_info": {
   "codemirror_mode": {
    "name": "ipython",
    "version": 3
   },
   "file_extension": ".py",
   "mimetype": "text/x-python",
   "name": "python",
   "nbconvert_exporter": "python",
   "pygments_lexer": "ipython3",
   "version": "3.10.9"
  }
 },
 "nbformat": 4,
 "nbformat_minor": 5
}
