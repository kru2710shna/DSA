{
 "cells": [
  {
   "cell_type": "markdown",
   "id": "f548766e-0266-4dd5-ae25-9a834c1ab478",
   "metadata": {},
   "source": [
    "### LeetCode[Sept Challenge]"
   ]
  },
  {
   "cell_type": "markdown",
   "id": "e2245d2a-f752-4028-bdff-03b713562267",
   "metadata": {},
   "source": [
    "#### 338. Counting Bits\n",
    "\n",
    "#### Level - Easy\n",
    "\n",
    "##### Given an integer n, return an array ans of length n + 1 such that for each i (0 <= i <= n), ans[i] is the number of \n",
    "##### 1's in the binary representation of i.\n",
    "\n",
    "##### Example 1:\n",
    "##### Input: n = 2\n",
    "##### Output: [0,1,1]\n",
    "\n",
    "##### Example 2:\n",
    "##### Input: n = 5\n",
    "##### Output: [0,1,1,2,1,2]"
   ]
  },
  {
   "cell_type": "code",
   "execution_count": 1,
   "id": "96e29264-f4e3-4351-bea9-4f2558e4a484",
   "metadata": {},
   "outputs": [],
   "source": [
    "class Solution(object):\n",
    "    def countBits(self, n):\n",
    "        \"\"\"\n",
    "        :type n: int\n",
    "        :rtype: List[int]\n",
    "        \"\"\"\n",
    "        dp = [0] * (n+1)\n",
    "        ans = [0]\n",
    "        offset = 1\n",
    "\n",
    "        for i in range(1, n+1):\n",
    "            if offset*2 ==i:\n",
    "                offset = i\n",
    "            dp[i] = 1+ dp[i-offset]\n",
    "        return dp\n"
   ]
  },
  {
   "cell_type": "markdown",
   "id": "3e92cf55-91c8-4ab4-b2eb-48be69844190",
   "metadata": {},
   "source": [
    "##### Time Complexity: O(N) Space complexity: O(N) Runtime: 45ms"
   ]
  },
  {
   "cell_type": "markdown",
   "id": "c3a04ff6-c693-4140-a2dc-e479653680b9",
   "metadata": {},
   "source": [
    "### Problem: #62. Unique Paths\n",
    "\n",
    "### Level - Medium\n",
    "\n",
    "##### There is a robot on an m x n grid. The robot is initially located at the top-left corner (i.e., grid[0][0]). The robot \n",
    "##### tries to move to the bottom-right corner (i.e., grid[m - 1][n - 1]). The robot can only move either down or right at any \n",
    "##### point in time. Given the two integers m and n, return the number of possible unique paths that the robot can take to \n",
    "##### reach the bottom-right corner. The test cases are generated so that the answer will be less than or equal to 2 * 109.\n",
    "\n",
    "##### Example 1:\n",
    "##### Input: m = 3, n = 7\n",
    "##### Output: 28\n",
    "\n",
    "##### Example 2:\n",
    "##### Input: m = 3, n = 2\n",
    "##### Output: 3"
   ]
  },
  {
   "cell_type": "code",
   "execution_count": 3,
   "id": "3fbf846a-3947-4ebf-ab0a-33582f9907d6",
   "metadata": {},
   "outputs": [],
   "source": [
    "class Solution(object):\n",
    "    def uniquePaths(self, m, n):\n",
    "        \"\"\"\n",
    "        :type m: int\n",
    "        :type n: int\n",
    "        :rtype: int\n",
    "        \"\"\"\n",
    "        dp = [[0 for _ in range(m)] for _ in range(n)]\n",
    "\n",
    "        for i in range(m):\n",
    "            dp[0][i] = 1\n",
    "\n",
    "        for k in range(n):\n",
    "            dp[k][0] = 1\n",
    "        \n",
    "        for i in range(1,n):\n",
    "            for j in range(1,m):\n",
    "\n",
    "                dp[i][j] = dp[i-1][j] + dp[i][j-1]\n",
    "        \n",
    "        return dp[-1][-1]\n"
   ]
  },
  {
   "cell_type": "markdown",
   "id": "0ec47554-85ac-472f-8eaf-772bb171d4a8",
   "metadata": {},
   "source": [
    "##### Time Complexity: O(n*m) Space Complexity:O(N*M) Runtime:11ms"
   ]
  },
  {
   "cell_type": "code",
   "execution_count": null,
   "id": "3fa683db-7537-4c22-982b-0f052c48eaf9",
   "metadata": {},
   "outputs": [],
   "source": []
  }
 ],
 "metadata": {
  "kernelspec": {
   "display_name": "Python 3 (ipykernel)",
   "language": "python",
   "name": "python3"
  },
  "language_info": {
   "codemirror_mode": {
    "name": "ipython",
    "version": 3
   },
   "file_extension": ".py",
   "mimetype": "text/x-python",
   "name": "python",
   "nbconvert_exporter": "python",
   "pygments_lexer": "ipython3",
   "version": "3.10.9"
  }
 },
 "nbformat": 4,
 "nbformat_minor": 5
}
