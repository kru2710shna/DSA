{
 "cells": [
  {
   "cell_type": "markdown",
   "id": "9c286f95-082a-445e-888e-d82734e0b320",
   "metadata": {},
   "source": [
    "## Cheat Sheet Pratice - 1 - Array"
   ]
  },
  {
   "cell_type": "markdown",
   "id": "462d5cf9-0d75-476b-ac46-cf98c00c8397",
   "metadata": {},
   "source": [
    "Problem number: 121. Best Time to Buy and Sell Stock"
   ]
  },
  {
   "cell_type": "code",
   "execution_count": 6,
   "id": "ab7dd1c0-8280-46ad-9147-94f2dbaae2a0",
   "metadata": {},
   "outputs": [],
   "source": [
    "class Solution(object):\n",
    "    def maxProfit(self, prices):\n",
    "        \"\"\"\n",
    "        :type prices: List[int]\n",
    "        :rtype: int\n",
    "        \"\"\"\n",
    "        if not prices:\n",
    "            return 0 \n",
    "        sell = prices[0]\n",
    "        buy = prices[0]\n",
    "        diff = 0\n",
    "\n",
    "        for i in prices:\n",
    "            if i < buy:\n",
    "                sell = i \n",
    "                buy = i \n",
    "            elif i > sell:\n",
    "                sell = i \n",
    "                diff = max(diff , sell-buy)\n",
    "\n",
    "        return diff"
   ]
  },
  {
   "cell_type": "markdown",
   "id": "b7de9ecd-428a-4c28-8fce-fbd072c9d718",
   "metadata": {},
   "source": [
    "Time Complexity:O(N) Space Complexity:O(1) Runtime 90%"
   ]
  },
  {
   "cell_type": "markdown",
   "id": "03e2153b-0fff-4615-b69e-4a8e9fb5d7cc",
   "metadata": {},
   "source": [
    "#"
   ]
  },
  {
   "cell_type": "markdown",
   "id": "6b6a6671-25ac-4122-ae2b-4b9f601d8ef1",
   "metadata": {},
   "source": [
    "Problem Number: 88. Merge Sorted Array"
   ]
  },
  {
   "cell_type": "code",
   "execution_count": 7,
   "id": "3a4690da-3cef-4816-abd8-3f470066111a",
   "metadata": {},
   "outputs": [],
   "source": [
    "class Solution(object):\n",
    "    def merge(self, nums1, m, nums2, n):\n",
    "        \"\"\"\n",
    "        :type nums1: List[int]\n",
    "        :type m: int\n",
    "        :type nums2: List[int]\n",
    "        :type n: int\n",
    "        :rtype: None Do not return anything, modify nums1 in-place instead.\n",
    "        \"\"\"\n",
    "        i = m-1\n",
    "        j= n-1\n",
    "        k = m + n - 1\n",
    "        while i >= 0 and j >= 0:\n",
    "            if nums1[i] > nums2[j]:\n",
    "                nums1[k] = nums1[i]\n",
    "                i -= 1\n",
    "            else:\n",
    "                nums1[k] = nums2[j]\n",
    "                j -= 1\n",
    "            k -= 1\n",
    "        while j >= 0:\n",
    "            nums1[k] = nums2[j]\n",
    "            j -= 1\n",
    "            k -= 1  "
   ]
  },
  {
   "cell_type": "markdown",
   "id": "208bc955-a294-4b4b-9971-a6d7dab7a4c6",
   "metadata": {},
   "source": [
    "Time Complexity:O(N) Space Complexity:O(1) Runtime 20ms HIGHEST"
   ]
  },
  {
   "cell_type": "markdown",
   "id": "f7c6d123-8a6c-4de3-a847-96d78fd3be69",
   "metadata": {},
   "source": [
    "#"
   ]
  },
  {
   "cell_type": "markdown",
   "id": "d500c70b-ab5f-40b3-9c2f-366387658af3",
   "metadata": {},
   "source": [
    "Problem Number: 283. Move Zeroes"
   ]
  },
  {
   "cell_type": "code",
   "execution_count": 8,
   "id": "00c7daa9-92e7-4898-9093-99bdfeb6209c",
   "metadata": {},
   "outputs": [],
   "source": [
    "class Solution(object):\n",
    "    def moveZeroes(self, nums):\n",
    "        \"\"\"\n",
    "        :type nums: List[int]\n",
    "        :rtype: None Do not return anything, modify nums in-place instead.\n",
    "        \"\"\"\n",
    "        i = 0 \n",
    "        for j in range(len(nums)):\n",
    "            if nums[j] != 0:\n",
    "                nums[i] , nums[j] = nums[j] , nums[i]\n",
    "                i +=1"
   ]
  },
  {
   "cell_type": "markdown",
   "id": "cf0b361e-2b7e-498e-bd9b-bd9580e67d42",
   "metadata": {},
   "source": [
    "Time Complexity:O(N) Space Complexity:O(1) Runtime 122ms HIGHEST"
   ]
  },
  {
   "cell_type": "markdown",
   "id": "b4220e6f-c46a-4a35-a5db-b7a4e51d66d8",
   "metadata": {},
   "source": [
    "#"
   ]
  },
  {
   "cell_type": "markdown",
   "id": "8027661f-8023-4b4f-895f-5d22eb104586",
   "metadata": {},
   "source": [
    "Problem Number: 122. Best Time to Buy and Sell Stock II"
   ]
  },
  {
   "cell_type": "code",
   "execution_count": 10,
   "id": "1b522084-21d2-4e72-8f6f-5a5dbdabfa96",
   "metadata": {},
   "outputs": [],
   "source": [
    "class Solution(object):\n",
    "    def maxProfit(self, prices):\n",
    "        \"\"\"\n",
    "        :type prices: List[int]\n",
    "        :rtype: int\n",
    "        \"\"\"\n",
    "        # buy = high-low + -high\n",
    "        # sell= low-high+ -low\n",
    "        profit = 0 \n",
    "        for i in range (1,len(prices)):\n",
    "            if prices[i] > prices[i-1]:\n",
    "                profit += (prices[i]-prices[i-1])\n",
    "        return profit \n",
    "       "
   ]
  },
  {
   "cell_type": "markdown",
   "id": "a9305bde-7176-4656-9e24-a58c4b7626cc",
   "metadata": {},
   "source": [
    "Time Complexity:O(N) Space Complexity:O(1) Runtime 30ms BETTER"
   ]
  },
  {
   "cell_type": "markdown",
   "id": "c3b1ef15-5b93-45d8-9128-d8e9aea72bcb",
   "metadata": {},
   "source": [
    "#"
   ]
  },
  {
   "cell_type": "markdown",
   "id": "acdf35da-619e-4e54-8e84-94550d574c1b",
   "metadata": {},
   "source": [
    "Problem Number: 1480. Running Sum of 1d Array"
   ]
  },
  {
   "cell_type": "code",
   "execution_count": 11,
   "id": "47b15036-88ff-4fee-95e4-6fc8d69ccfb2",
   "metadata": {},
   "outputs": [],
   "source": [
    "class Solution(object):\n",
    "    def runningSum(self, nums):\n",
    "        \"\"\"\n",
    "        :type nums: List[int]\n",
    "        :rtype: List[int]\n",
    "        \"\"\"\n",
    "        for n in range(1, len(nums)):\n",
    "            nums[n] += nums[n-1]\n",
    "        return nums\n",
    "\n",
    "\n",
    "        "
   ]
  },
  {
   "cell_type": "markdown",
   "id": "6aa756f0-4438-4df3-a255-ae80269df363",
   "metadata": {},
   "source": [
    "Time Complexity:O(N) Space Complexity:O(1) Runtime 24 HIGHEST"
   ]
  },
  {
   "cell_type": "markdown",
   "id": "358696a9-706e-4778-abbe-7b129679a612",
   "metadata": {},
   "source": [
    "#"
   ]
  },
  {
   "cell_type": "markdown",
   "id": "b4fa7e84-09e9-434b-b6cd-936d3bb4b805",
   "metadata": {},
   "source": [
    "Problem number: 724. Find Pivot Index"
   ]
  },
  {
   "cell_type": "code",
   "execution_count": 12,
   "id": "1783479d-4824-4f19-ad9e-a1c7fc8d3f90",
   "metadata": {},
   "outputs": [],
   "source": [
    "class Solution(object):\n",
    "    def pivotIndex(self, nums):\n",
    "        \"\"\"\n",
    "        :type nums: List[int]\n",
    "        :rtype: int\n",
    "        \"\"\"\n",
    "        total_sum = sum(nums)\n",
    "        left_sum = 0\n",
    "        \n",
    "        for i in range(len(nums)):\n",
    "            # Right sum is total_sum - left_sum - nums[i]\n",
    "            if left_sum == (total_sum - left_sum - nums[i]):\n",
    "                return i\n",
    "            left_sum += nums[i]\n",
    "        \n",
    "        return -1 "
   ]
  },
  {
   "cell_type": "markdown",
   "id": "e069c060-2eb9-4ee4-9621-f2b76bcdd989",
   "metadata": {},
   "source": [
    "Time Complexity:O(N) Space Complexity:O(1) Runtime 20 HIGHEST"
   ]
  },
  {
   "cell_type": "markdown",
   "id": "4c6f1bcc-2b46-444c-9908-c77d01c707b8",
   "metadata": {},
   "source": [
    "#"
   ]
  },
  {
   "cell_type": "markdown",
   "id": "cee2e0a6-5630-43cc-9769-c934f7fffe57",
   "metadata": {},
   "source": [
    "Problem Number: 169. Majority Element"
   ]
  },
  {
   "cell_type": "code",
   "execution_count": 15,
   "id": "d4e38c64-981e-4f6d-bc23-fa86a0fa018e",
   "metadata": {},
   "outputs": [],
   "source": [
    "class Solution(object):\n",
    "    def majorityElement(self, nums):\n",
    "        \"\"\"\n",
    "        :type nums: List[int]\n",
    "        :rtype: int\n",
    "        \"\"\"\n",
    "        counts = Counter(nums)\n",
    "        n = len(nums)\n",
    "    \n",
    "        for num, count in counts.items():\n",
    "            if count > n // 2:\n",
    "                return num\n"
   ]
  },
  {
   "cell_type": "markdown",
   "id": "ca9420a3-40a1-4929-add6-2e9d9bb5808f",
   "metadata": {},
   "source": [
    "Time Complexity:O(N) Space Complexity:O(1) Runtime 20 HIGHEST"
   ]
  },
  {
   "cell_type": "markdown",
   "id": "d30e9074-2e22-4dcf-988c-c509a4ef39b6",
   "metadata": {},
   "source": [
    "#"
   ]
  },
  {
   "cell_type": "markdown",
   "id": "837512f4-213f-4199-8716-f81c1cc910b3",
   "metadata": {},
   "source": [
    "Problem Number 509. Fibonacci Number"
   ]
  },
  {
   "cell_type": "code",
   "execution_count": 1,
   "id": "484d710a-9164-4a2e-b157-c1c6e50ce05b",
   "metadata": {},
   "outputs": [],
   "source": [
    "class Solution(object):\n",
    "    def fib(self, n):\n",
    "        \"\"\"\n",
    "        :type n: int\n",
    "        :rtype: int\n",
    "        \"\"\"\n",
    "        if n == 0 :\n",
    "            return 0\n",
    "        if n == 1:\n",
    "            return 1\n",
    "        return self.fib(n-1) + self.fib(n-2)"
   ]
  },
  {
   "cell_type": "markdown",
   "id": "68897295-85a7-4617-872f-f81b128de216",
   "metadata": {},
   "source": [
    "Time Complexity:O(2^n) Space Complexity:O(1) Runtime 20 HIGHEST"
   ]
  },
  {
   "cell_type": "markdown",
   "id": "2303aa89-1c59-4e7d-85e6-69767424d559",
   "metadata": {},
   "source": [
    "#"
   ]
  },
  {
   "cell_type": "markdown",
   "id": "747a9bbc-bdf6-44de-b863-561b03535cb9",
   "metadata": {},
   "source": [
    "Problem Number: 977. Squares of a Sorted Array"
   ]
  },
  {
   "cell_type": "code",
   "execution_count": 3,
   "id": "60aaa2cd-fb6c-4bb8-a4d2-ddb53aa38be5",
   "metadata": {},
   "outputs": [],
   "source": [
    "class Solution(object):\n",
    "    def sortedSquares(self, nums):\n",
    "        \"\"\"\n",
    "        :type nums: List[int]\n",
    "        :rtype: List[int]\n",
    "        \"\"\"\n",
    "        for i in range(len(nums)):\n",
    "            nums[i] = nums[i] ** 2\n",
    "        return sorted(nums)\n",
    "\n",
    "        "
   ]
  },
  {
   "cell_type": "markdown",
   "id": "54f9adec-d1a3-45e0-a14d-5732e85311d7",
   "metadata": {},
   "source": [
    "Time Complexity:O(NLogN) Space Complexity:O(1) Runtime 20 HIGHEST"
   ]
  },
  {
   "cell_type": "markdown",
   "id": "7d553c92-1f1f-4ba7-9cd9-393c99443030",
   "metadata": {},
   "source": [
    "#"
   ]
  },
  {
   "cell_type": "markdown",
   "id": "fac77950-b406-4e3f-8758-ba712e5d289a",
   "metadata": {},
   "source": [
    "Problem Number: 118. Pascal's Triangle"
   ]
  },
  {
   "cell_type": "code",
   "execution_count": 4,
   "id": "81b89b73-f5ee-463f-bbcd-b3ab93144d4e",
   "metadata": {},
   "outputs": [],
   "source": [
    "class Solution(object):\n",
    "    def generate(self, numRows):\n",
    "        \"\"\"\n",
    "        :type numRows: int\n",
    "        :rtype: List[List[int]]\n",
    "        \"\"\"\n",
    "        output  = [[1]]\n",
    "\n",
    "        for i in range(2, numRows+1):\n",
    "            temp = [1]\n",
    "            for c in range(1,i-1):\n",
    "                temp.append(output[-1][c] + output[-1][c-1])\n",
    "            temp.append(1)\n",
    "            output.append(temp)\n",
    "        return output\n",
    "\n",
    "        "
   ]
  },
  {
   "cell_type": "markdown",
   "id": "46749d92-0a3b-4b2a-a7be-494a42007f2a",
   "metadata": {},
   "source": [
    "Time Complexity:O(N^2) Space Complexity:O(1) Runtime 20 HIGHEST"
   ]
  },
  {
   "cell_type": "markdown",
   "id": "5ca8eeb1-abbf-41e2-adc9-008d4f7d7e2a",
   "metadata": {},
   "source": [
    "#"
   ]
  },
  {
   "cell_type": "markdown",
   "id": "0216395c-4bea-469e-85cb-caf8912a6e65",
   "metadata": {},
   "source": [
    "Problem Number: 26. Remove Duplicates from Sorted Array"
   ]
  },
  {
   "cell_type": "code",
   "execution_count": null,
   "id": "de8f2fa4-9fc9-448c-a1b3-9d4e21f822df",
   "metadata": {},
   "outputs": [],
   "source": [
    "class Solution(object):\n",
    "    def removeDuplicates(self, nums):\n",
    "        \"\"\"\n",
    "        :type nums: List[int]\n",
    "        :rtype: int\n",
    "        \"\"\"\n",
    "        l = 1\n",
    "        for i in range(1,len(nums)):\n",
    "            if nums[i] != nums[i-1]:\n",
    "                nums[l] = nums[i]\n",
    "                l+=1\n",
    "        return l"
   ]
  }
 ],
 "metadata": {
  "kernelspec": {
   "display_name": "Python 3 (ipykernel)",
   "language": "python",
   "name": "python3"
  },
  "language_info": {
   "codemirror_mode": {
    "name": "ipython",
    "version": 3
   },
   "file_extension": ".py",
   "mimetype": "text/x-python",
   "name": "python",
   "nbconvert_exporter": "python",
   "pygments_lexer": "ipython3",
   "version": "3.11.7"
  }
 },
 "nbformat": 4,
 "nbformat_minor": 5
}
