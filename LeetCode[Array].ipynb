{
 "cells": [
  {
   "cell_type": "markdown",
   "id": "e2d0caf8",
   "metadata": {},
   "source": [
    "#  LeetCode Problems "
   ]
  },
  {
   "cell_type": "markdown",
   "id": "bf3e16ae",
   "metadata": {},
   "source": [
    "### Topic: Arrays\n",
    "#### Level: Easy  \n",
    "###### Question To Pratice: 11\n",
    "###### Probelms are numbered according to LeetCode Numbering."
   ]
  },
  {
   "cell_type": "markdown",
   "id": "68cde915",
   "metadata": {},
   "source": [
    "PROBLEM NUMBER #1. Two Sum\n",
    "\n",
    "Given an array of integers nums and an integer target, return indices of the two numbers such that they add up to target. You may assume that each input would have exactly one solution, and you may not use the same element twice. You can return the answer in any order.\n",
    "\n",
    "Example 1:\n",
    "\n",
    "Input: nums = [2,7,11,15], target = 9\n",
    "Output: [0,1]\n",
    "Explanation: Because nums[0] + nums[1] == 9, we return [0, 1].\n",
    "\n",
    "Example 2:\n",
    "Input: nums = [3,2,4], target = 6\n",
    "Output: [1,2]"
   ]
  },
  {
   "cell_type": "code",
   "execution_count": 6,
   "id": "05f819f7",
   "metadata": {},
   "outputs": [],
   "source": [
    "class Solution(object):\n",
    "    def twoSum(self, nums, target):\n",
    "        \"\"\"\n",
    "        :type nums: List[int]\n",
    "        :type target: int\n",
    "        :rtype: List[int]\n",
    "        \"\"\"\n",
    "        for i in range(len(nums)):\n",
    "            for j in range(i+1, len(nums)):\n",
    "                if (i != j and nums[i] + nums[j] == target):\n",
    "                    return [i,j]\n",
    "                \n",
    "class Solution:\n",
    "    def twoSum(self, nums, target):\n",
    "        \"\"\"\n",
    "        :type nums: List[int]\n",
    "        :type target: int\n",
    "        :rtype: List[int]\n",
    "        \"\"\"\n",
    "        num_dict = {}\n",
    "        for i, num in enumerate(nums):\n",
    "            complement = target - num\n",
    "            if complement in num_dict:\n",
    "                return [num_dict[complement], i]\n",
    "            num_dict[num] = i\n",
    "        return []\n",
    "                   \n",
    "                \n",
    "        "
   ]
  },
  {
   "cell_type": "markdown",
   "id": "61ff65ae",
   "metadata": {},
   "source": [
    "Time Complexity : O(N^2)\n",
    "\n",
    "Time Complexity : O(N)\n"
   ]
  },
  {
   "cell_type": "markdown",
   "id": "d4315257",
   "metadata": {},
   "source": [
    "PROBLEM NUMBER #121. Best Time to Buy and Sell Stock\n",
    "\n",
    "You are given an array prices where prices[i] is the price of a given stock on the ith day. You want to maximize your profit by choosing a single day to buy one stock and choosing a different day in the future to sell that stock. Return the maximum profit you can achieve from this transaction. If you cannot achieve any profit, return 0.\n",
    "\n",
    "Example 1:\n",
    "Input: prices = [7,1,5,3,6,4]\n",
    "Output: 5\n",
    "Explanation: Buy on day 2 (price = 1) and sell on day 5 (price = 6), profit = 6-1 = 5.\n",
    "Note that buying on day 2 and selling on day 1 is not allowed because you must buy before you sell.\n",
    "\n",
    "Example 2:\n",
    "Input: prices = [7,6,4,3,1]\n",
    "Output: 0\n",
    "Explanation: In this case, no transactions are done and the max profit = 0.\n"
   ]
  },
  {
   "cell_type": "code",
   "execution_count": 7,
   "id": "d6fc21b2",
   "metadata": {},
   "outputs": [],
   "source": [
    "class Solution(object):\n",
    "    def maxProfit(self, prices):\n",
    "        \"\"\"\n",
    "        :type prices: List[int]\n",
    "        :rtype: int\n",
    "        \"\"\"\n",
    "        if len(prices) < 2:\n",
    "            return 0\n",
    "\n",
    "        buy = prices[0]  # Initialize buy to the first price in the array\n",
    "        max_profit = 0\n",
    "\n",
    "        for i in range(1, len(prices)):\n",
    "            if prices[i] < buy:\n",
    "                buy = prices[i]\n",
    "            else:\n",
    "                profit = prices[i] - buy\n",
    "                max_profit = max(max_profit, profit)\n",
    "\n",
    "        return max_profit  \n",
    "    "
   ]
  },
  {
   "cell_type": "markdown",
   "id": "18792f5d",
   "metadata": {},
   "source": [
    "Time Complexity: 0(N)"
   ]
  },
  {
   "cell_type": "markdown",
   "id": "4a961472",
   "metadata": {},
   "source": [
    "PROBLEM NUMBER #88. Merge Sorted Array\n",
    "You are given two integer arrays nums1 and nums2, sorted in non-decreasing order, and two integers m and n, representing the number of elements in nums1 and nums2 respectively. Merge nums1 and nums2 into a single array sorted in non-decreasing order. The final sorted array should not be returned by the function, but instead be stored inside the array nums1. To accommodate this, nums1 has a length of m + n, where the first m elements denote the elements that should be merged, and the last n elements are set to 0 and should be ignored. nums2 has a length of n.\n",
    "\n",
    "Example 1:\n",
    "Input: nums1 = [1,2,3,0,0,0], m = 3, nums2 = [2,5,6], n = 3\n",
    "Output: [1,2,2,3,5,6]\n",
    "Explanation: The arrays we are merging are [1,2,3] and [2,5,6].\n",
    "The result of the merge is [1,2,2,3,5,6] with the underlined elements coming from nums1.\n",
    "\n",
    "Example 2:\n",
    "Input: nums1 = [1], m = 1, nums2 = [], n = 0\n",
    "Output: [1]\n",
    "Explanation: The arrays we are merging are [1] and [].\n",
    "The result of the merge is [1].\n",
    "\n"
   ]
  },
  {
   "cell_type": "code",
   "execution_count": 8,
   "id": "3d8449c9",
   "metadata": {},
   "outputs": [],
   "source": [
    "class Solution(object):\n",
    "    def merge(self, nums1, m, nums2, n):\n",
    "        \"\"\"\n",
    "        :type nums1: List[int]\n",
    "        :type m: int\n",
    "        :type nums2: List[int]\n",
    "        :type n: int\n",
    "        :rtype: None Do not return anything, modify nums1 in-place instead.\n",
    "        \"\"\"\n",
    "        n2 = n\n",
    "        for i in range(n):\n",
    "            nums1[m + i] = nums2[n2 - 1]\n",
    "            while n2 < 0:\n",
    "                return\n",
    "            n2 -= 1\n",
    "        nums1.sort() \n",
    "\n",
    "class Solution(object):\n",
    "    def merge(self, nums1, m, nums2, n):\n",
    "        \"\"\"\n",
    "        :type nums1: List[int]\n",
    "        :type m: int\n",
    "        :type nums2: List[int]\n",
    "        :type n: int\n",
    "        \"\"\"\n",
    "        i = m - 1\n",
    "        j = n - 1\n",
    "        k = m + n - 1\n",
    "        \n",
    "        while j >= 0:\n",
    "            if i >= 0 and nums1[i] > nums2[j]:\n",
    "                nums1[k] = nums1[i]\n",
    "                i -= 1\n",
    "            else:\n",
    "                nums1[k] = nums2[j]\n",
    "                j -= 1\n",
    "            k -= 1 \n",
    "        "
   ]
  },
  {
   "cell_type": "markdown",
   "id": "43d4741c",
   "metadata": {},
   "source": [
    "Time Complexity : O(1) with Runtime : 33ms \n",
    "\n",
    "Time Complexity : O(1) with Runtime : 16ms "
   ]
  },
  {
   "cell_type": "markdown",
   "id": "2b130c78",
   "metadata": {},
   "source": [
    "PROBLEM NUMBER #283. Move Zeroes\n",
    "\n",
    "Given an integer array nums, move all 0's to the end of it while maintaining the relative order of the non-zero elements. Note that you must do this in-place without making a copy of the array.\n",
    "\n",
    "Example 1:\n",
    "Input: nums = [0,1,0,3,12]\n",
    "Output: [1,3,12,0,0]\n",
    "\n",
    "Example 2:\n",
    "Input: nums = [0]\n",
    "Output: [0]"
   ]
  },
  {
   "cell_type": "code",
   "execution_count": 9,
   "id": "9991707b",
   "metadata": {},
   "outputs": [],
   "source": [
    "class Solution(object):\n",
    "    def moveZeroes(self, nums):\n",
    "        \"\"\"\n",
    "        :type nums: List[int]\n",
    "        :rtype: None Do not return anything, modify nums in-place instead.\n",
    "        \"\"\"\n",
    "        count = 0\n",
    "        i = 0\n",
    "        while i < len(nums):\n",
    "            if nums[i] == 0:\n",
    "                nums.pop(i)\n",
    "                count += 1\n",
    "            else:\n",
    "                i += 1\n",
    "        nums.extend([0] * count)\n",
    "        \n",
    "class Solution(object):\n",
    "    def moveZeroes(self, nums):\n",
    "        \"\"\"\n",
    "        :type nums: List[int]\n",
    "        :rtype: None Do not return anything, modify nums in-place instead.\n",
    "        \"\"\"\n",
    "        i = 0\n",
    "        for j in range(len(nums)):\n",
    "            if nums[j] != 0:\n",
    "                nums[i], nums[j] = nums[j], nums[i]\n",
    "                i += 1"
   ]
  },
  {
   "cell_type": "markdown",
   "id": "16f101d2",
   "metadata": {},
   "source": [
    "Time Complexity : O(n^2) Runtime : 150ms\n",
    "\n",
    "Time Complexity : O(n)   Runtime : 132ms"
   ]
  },
  {
   "cell_type": "markdown",
   "id": "ef337d99",
   "metadata": {},
   "source": [
    "PROBLEM NUMBER #122. Best Time to Buy and Sell Stock II\n",
    "\n",
    "You are given an integer array prices where prices[i] is the price of a given stock on the ith day. On each day, you may decide to buy and/or sell the stock. You can only hold at most one share of the stock at any time. However, you can buy it then immediately sell it on the same day. Find and return the maximum profit you can achieve.\n",
    "\n",
    " \n",
    "\n",
    "Example 1:\n",
    "\n",
    "Input: prices = [7,1,5,3,6,4]\n",
    "Output: 7\n",
    "Explanation: Buy on day 2 (price = 1) and sell on day 3 (price = 5), profit = 5-1 = 4.\n",
    "Then buy on day 4 (price = 3) and sell on day 5 (price = 6), profit = 6-3 = 3.\n",
    "Total profit is 4 + 3 = 7."
   ]
  },
  {
   "cell_type": "code",
   "execution_count": 10,
   "id": "f2b79a16",
   "metadata": {},
   "outputs": [],
   "source": [
    "class Solution(object):\n",
    "    def maxProfit(self, prices):\n",
    "        \"\"\"\n",
    "        :type prices: List[int]\n",
    "        :rtype: int\n",
    "        \"\"\"\n",
    "        profit = 0 \n",
    "        for i in range (1,len(prices)):\n",
    "            if prices[i] > prices[i-1]:\n",
    "                profit += (prices[i]-prices[i-1])\n",
    "        return profit "
   ]
  },
  {
   "cell_type": "markdown",
   "id": "38c9e158",
   "metadata": {},
   "source": [
    "Time Complexity : O(n) Runtime : 42ms "
   ]
  },
  {
   "cell_type": "markdown",
   "id": "07971e9e",
   "metadata": {},
   "source": [
    "PROBLEM NUMBER #1480. Running Sum of 1d Array\n",
    "\n",
    "Given an array nums. We define a running sum of an array as runningSum[i] = sum(nums[0]…nums[i]). Return the running sum of nums.\n",
    "\n",
    "Example 1:\n",
    "Input: nums = [1,2,3,4]\n",
    "Output: [1,3,6,10]\n",
    "Explanation: Running sum is obtained as follows: [1, 1+2, 1+2+3, 1+2+3+4]."
   ]
  },
  {
   "cell_type": "code",
   "execution_count": 11,
   "id": "0a5dad11",
   "metadata": {},
   "outputs": [],
   "source": [
    "class Solution(object):\n",
    "    def runningSum(self, nums):\n",
    "        \"\"\"\n",
    "        :type nums: List[int]\n",
    "        :rtype: List[int]\n",
    "        \"\"\"\n",
    "        result = []\n",
    "        result.append(nums[0])\n",
    "        for i in range(1,len(nums)):\n",
    "            nums[i] += nums[i-1]\n",
    "            result.append(nums[i])\n",
    "        return result"
   ]
  },
  {
   "cell_type": "markdown",
   "id": "303bb864",
   "metadata": {},
   "source": [
    "Time Complexity : O(n) Runtime : 42ms "
   ]
  },
  {
   "cell_type": "markdown",
   "id": "daa52872",
   "metadata": {},
   "source": [
    "PROBLEM NUMBER #724. Find Pivot Index\n",
    "\n",
    "Given an array of integers nums, calculate the pivot index of this array.\n",
    "The pivot index is the index where the sum of all the numbers strictly to the left of the index is equal to the sum of all the numbers strictly to the index's right.\n",
    "If the index is on the left edge of the array, then the left sum is 0 because there are no elements to the left. This also applies to the right edge of the array.\n",
    "Return the leftmost pivot index. If no such index exists, return -1.\n",
    "\n",
    "Example 1:\n",
    "\n",
    "Input: nums = [1,7,3,6,5,6]\n",
    "Output: 3\n",
    "Explanation:\n",
    "The pivot index is 3.\n",
    "Left sum = nums[0] + nums[1] + nums[2] = 1 + 7 + 3 = 11\n",
    "Right sum = nums[4] + nums[5] = 5 + 6 = 11"
   ]
  },
  {
   "cell_type": "code",
   "execution_count": 12,
   "id": "01ab7567",
   "metadata": {},
   "outputs": [],
   "source": [
    "class Solution(object):\n",
    "    def pivotIndex(self, nums):\n",
    "        \"\"\"\n",
    "        :type nums: List[int]\n",
    "        :rtype: int\n",
    "        \"\"\"\n",
    "        leftSum = 0 \n",
    "        total  = sum(nums)\n",
    "        for i in range(len(nums)):\n",
    "            rightsum = total - nums[i] - leftSum\n",
    "            if rightsum == leftSum:\n",
    "                return i\n",
    "            leftSum += nums[i]\n",
    "        return -1 "
   ]
  },
  {
   "cell_type": "markdown",
   "id": "8322b177",
   "metadata": {},
   "source": [
    "Time Complexity : O(n) Runtime : 110ms"
   ]
  },
  {
   "cell_type": "markdown",
   "id": "fab3cdd5",
   "metadata": {},
   "source": [
    "PROBLEM NUMBER #169. Majority Element\n",
    "\n",
    "Given an array nums of size n, return the majority element. The majority element is the element that appears more than ⌊n / 2⌋ times. You may assume that the majority element always exists in the array.\n",
    "\n",
    "Example 1:\n",
    "Input: nums = [3,2,3]\n",
    "Output: 3\n",
    "    \n",
    "Example 2:\n",
    "Input: nums = [2,2,1,1,1,2,2]\n",
    "Output: 2"
   ]
  },
  {
   "cell_type": "code",
   "execution_count": 1,
   "id": "47618941",
   "metadata": {},
   "outputs": [],
   "source": [
    "class Solution(object):\n",
    "    def majorityElement(self, nums):\n",
    "        \"\"\"\n",
    "        :type nums: List[int]\n",
    "        :rtype: int\n",
    "        \"\"\"\n",
    "        nums.sort()\n",
    "        return nums[len(nums)//2]"
   ]
  },
  {
   "cell_type": "markdown",
   "id": "465864a2",
   "metadata": {},
   "source": [
    "Time Complexity : O(n) Runtime : 130ms"
   ]
  },
  {
   "cell_type": "markdown",
   "id": "70fc5082",
   "metadata": {},
   "source": [
    "PROBLEM NUMBER #509. Fibonacci Number\n",
    "\n",
    "The Fibonacci numbers, commonly denoted F(n) form a sequence, called the Fibonacci sequence, such that each number is the sum of the two preceding ones, starting from 0 and 1. That is,\n",
    "\n",
    "F(0) = 0, F(1) = 1\n",
    "F(n) = F(n - 1) + F(n - 2), for n > 1.\n",
    "Given n, calculate F(n).\n",
    "\n",
    "Example 1:\n",
    "Input: n = 2\n",
    "Output: 1\n",
    "Explanation: F(2) = F(1) + F(0) = 1 + 0 = 1."
   ]
  },
  {
   "cell_type": "code",
   "execution_count": 2,
   "id": "df81a42a",
   "metadata": {},
   "outputs": [],
   "source": [
    "class Solution(object):\n",
    "    def fib(self, n):\n",
    "        \"\"\"\n",
    "        :type n: int\n",
    "        :rtype: int\n",
    "        \"\"\"\n",
    "        n1=0\n",
    "        n2=1\n",
    "        count=0\n",
    "\n",
    "        for i in range(0,n):\n",
    "            n3=n1+n2\n",
    "            n1=n2\n",
    "            n2=n3\n",
    "            \n",
    "\n",
    "        return n1"
   ]
  },
  {
   "cell_type": "markdown",
   "id": "91dec5d8",
   "metadata": {},
   "source": [
    "Time Complexity : O(n) Runtime : 7ms"
   ]
  },
  {
   "cell_type": "markdown",
   "id": "e4881af4",
   "metadata": {},
   "source": [
    "PROBLEM NUMBER #977. Squares of a Sorted Array\n",
    "\n",
    "Given an integer array nums sorted in non-decreasing order, return an array of the squares of each number sorted in non-decreasing order.\n",
    "\n",
    "Example 1:\n",
    "\n",
    "Input: nums = [-4,-1,0,3,10]\n",
    "Output: [0,1,9,16,100]\n",
    "Explanation: After squaring, the array becomes [16,1,0,9,100].\n",
    "After sorting, it becomes [0,1,9,16,100]."
   ]
  },
  {
   "cell_type": "code",
   "execution_count": 4,
   "id": "c62d3e68",
   "metadata": {},
   "outputs": [],
   "source": [
    "class Solution(object):\n",
    "    def sortedSquares(self, nums):\n",
    "        \"\"\"\n",
    "        :type nums: List[int]\n",
    "        :rtype: List[int]\n",
    "        \"\"\"\n",
    "        return sorted([i * i for i in nums])\n",
    "\n",
    "\n",
    "class Solution(object):\n",
    "    def sortedSquares(self, nums):\n",
    "        \"\"\"\n",
    "        :type nums: List[int]\n",
    "        :rtype: List[int]\n",
    "        \"\"\"\n",
    "        for i in range(len(nums)):\n",
    "            nums[i] = nums[i] ** 2\n",
    "        return sorted(nums)    "
   ]
  },
  {
   "cell_type": "markdown",
   "id": "58cae646",
   "metadata": {},
   "source": [
    "Time Complexity : O(n logn) Runtime : 169ms\n",
    "\n",
    "Time Complexity : O(n) Runtime : 172ms"
   ]
  },
  {
   "cell_type": "markdown",
   "id": "ea33df99",
   "metadata": {},
   "source": [
    "PROBLEM NUMBER #26. Remove Duplicates from Sorted Array\n",
    "\n",
    "Given an integer array nums sorted in non-decreasing order, remove the duplicates in-place such that each unique element appears only once. The relative order of the elements should be kept the same. \n",
    "Then return the number of unique elements in nums. Consider the number of unique elements of nums to be k, to get accepted, you need to do the following things: \n",
    "Change the array nums such that the first k elements of nums contain the unique elements in the order they were present in nums initially. \n",
    "The remaining elements of nums are not important as well as the size of nums.\n",
    "Return k. Custom Judge: \n",
    "\n",
    "The judge will test your solution with the following code:\n",
    "\n",
    "int[] nums = [...]; // Input array\n",
    "int[] expectedNums = [...]; // The expected answer with correct length\n",
    "\n",
    "int k = removeDuplicates(nums); // Calls your implementation\n",
    "assert k == expectedNums.length;\n",
    "for (int i = 0; i < k; i++) \n",
    "{\n",
    "    assert nums[i] == expectedNums[i];\n",
    "}\n",
    "\n",
    "If all assertions pass, then your solution will be accepted.\n",
    "\n",
    "Example 1:\n",
    "Input: nums = [1,1,2]\n",
    "Output: 2, nums = [1,2,_]\n",
    "Explanation: Your function should return k = 2, with the first two elements of nums being 1 and 2 respectively.\n",
    "It does not matter what you leave beyond the returned k (hence they are underscores).\n",
    "\n",
    "Example 2:\n",
    "Input: nums = [0,0,1,1,1,2,2,3,3,4]\n",
    "Output: 5, nums = [0,1,2,3,4,_,_,_,_,_]\n",
    "Explanation: Your function should return k = 5, with the first five elements of nums being 0, 1, 2, 3, and 4 respectively.\n",
    "It does not matter what you leave beyond the returned k (hence they are underscores)."
   ]
  },
  {
   "cell_type": "code",
   "execution_count": 7,
   "id": "60a9d72b",
   "metadata": {},
   "outputs": [],
   "source": [
    "class Solution(object):\n",
    "    def removeDuplicates(self, nums):\n",
    "        \"\"\"\n",
    "        :type nums: List[int]\n",
    "        :rtype: int\n",
    "        \"\"\"\n",
    "        if len(nums) == 0:\n",
    "            return 0\n",
    "        \n",
    "        k = 1  # Number of unique elements\n",
    "         \n",
    "        for i in range(1, len(nums)):\n",
    "            if nums[i] != nums[i-1]:\n",
    "                nums[k] = nums[i]\n",
    "                k += 1\n",
    "        \n",
    "        return k"
   ]
  },
  {
   "cell_type": "markdown",
   "id": "3d53ac01",
   "metadata": {},
   "source": [
    "Time Complexity : O(N) Runtime: 72ms"
   ]
  },
  {
   "cell_type": "markdown",
   "id": "62cc2770",
   "metadata": {},
   "source": [
    "Problem: #217. Contains Duplicate\n",
    "\n",
    "Level - Easy\n",
    "\n",
    "Given an integer array nums, return true if any value appears at least twice in the array, and return false if every element is distinct.\n",
    "\n",
    "Example 1:\n",
    "Input: nums = [1,2,3,1]\n",
    "Output: true\n",
    "    \n",
    "Example 2:\n",
    "Input: nums = [1,2,3,4]\n",
    "Output: false\n",
    "    \n",
    "Example 3:\n",
    "Input: nums = [1,1,1,3,3,4,3,2,4,2]\n",
    "Output: true"
   ]
  },
  {
   "cell_type": "code",
   "execution_count": 1,
   "id": "f6931c29",
   "metadata": {},
   "outputs": [],
   "source": [
    "class Solution(object):\n",
    "    def containsDuplicate(self, nums):\n",
    "        \"\"\"\n",
    "        :type nums: List[int]\n",
    "        :rtype: bool\n",
    "        \"\"\"\n",
    "        s = set(nums)\n",
    "        if(len(s)==len(nums)):\n",
    "            return False\n",
    "        else:\n",
    "            return True"
   ]
  },
  {
   "cell_type": "markdown",
   "id": "0d8f3837",
   "metadata": {},
   "source": [
    "Time Complexity: O(1) Runtime: 500ms"
   ]
  },
  {
   "cell_type": "markdown",
   "id": "f3e03ac3",
   "metadata": {},
   "source": [
    "Problem: #242. Valid Anagram\n",
    "    \n",
    "Level - Easy\n",
    "\n",
    "Given two strings s and t, return true if t is an anagram of s, and false otherwise.\n",
    "An Anagram is a word or phrase formed by rearranging the letters of a different word or phrase, typically using all the original letters exactly once.\n",
    "\n",
    "Example 1:\n",
    "Input: s = \"anagram\", t = \"nagaram\"\n",
    "Output: true\n",
    "    \n",
    "Example 2:\n",
    "Input: s = \"rat\", t = \"car\"\n",
    "Output: false"
   ]
  },
  {
   "cell_type": "markdown",
   "id": "88b5cfd5",
   "metadata": {},
   "source": [
    "HINT:\n",
    "\n",
    "Python List count() Method\n",
    "\n",
    "Return the number of times the value \"cherry\" appears in the fruits list:\n",
    "\n",
    "fruits = ['apple', 'banana', 'cherry']\n",
    "\n",
    "x = fruits.count(\"cherry\")"
   ]
  },
  {
   "cell_type": "code",
   "execution_count": 3,
   "id": "30cde9e1",
   "metadata": {},
   "outputs": [],
   "source": [
    "class Solution:\n",
    "    def isAnagram(self, s: str, t: str) -> bool:\n",
    "        flag = True\n",
    "        if len(s) != len(t): \n",
    "            flag = False\n",
    "        else:\n",
    "            letters = \"abcdefghijklmnopqrstuvwxyz\"\n",
    "            for letter in letters:\n",
    "                if s.count(letter) != t.count(letter):\n",
    "                    flag = False\n",
    "                    break\n",
    "        return flag"
   ]
  },
  {
   "cell_type": "markdown",
   "id": "f7a95b62",
   "metadata": {},
   "source": [
    "Time Coomplexity: O(n) Runtime: 41ms"
   ]
  },
  {
   "cell_type": "markdown",
   "id": "6fc774a7",
   "metadata": {},
   "source": [
    "Problem: #9. Group Anagrams\n",
    "\n",
    "Level - Medium\n",
    "\n",
    "Given an array of strings strs, group the anagrams together. You can return the answer in any order.\n",
    "An Anagram is a word or phrase formed by rearranging the letters of a different word or phrase, typically using all the original letters exactly once.\n",
    "\n",
    "Example 1:\n",
    "Input: strs = [\"eat\",\"tea\",\"tan\",\"ate\",\"nat\",\"bat\"]\n",
    "Output: [[\"bat\"],[\"nat\",\"tan\"],[\"ate\",\"eat\",\"tea\"]]\n",
    "\n",
    "Example 2:\n",
    "Input: strs = [\"\"]\n",
    "Output: [[\"\"]]\n",
    "\n",
    "Example 3:\n",
    "Input: strs = [\"a\"]\n",
    "Output: [[\"a\"]]"
   ]
  },
  {
   "cell_type": "code",
   "execution_count": 5,
   "id": "7f4af10c",
   "metadata": {},
   "outputs": [],
   "source": [
    "class Solution(object):\n",
    "    def groupAnagrams(self, strs):\n",
    "        \"\"\"\n",
    "        :type strs: List[str]\n",
    "        :rtype: List[List[str]]\n",
    "        \"\"\"\n",
    "        h = defaultdict(list) \n",
    "        \n",
    "        for s in strs:\n",
    "            count = [0]*26 \n",
    "            \n",
    "            for c in s:\n",
    "                count[ord(c)- ord(\"a\")] += 1\n",
    "            \n",
    "            h[tuple(count)].append(s)\n",
    "        return h.values()"
   ]
  },
  {
   "cell_type": "markdown",
   "id": "9e6b0043",
   "metadata": {},
   "source": [
    "Time complexity: O(m*n log n) Runtime: 67ms"
   ]
  },
  {
   "cell_type": "markdown",
   "id": "3cb8be01",
   "metadata": {},
   "source": [
    "Problem: #347. Top K Frequent Elements\n",
    "    \n",
    "Level: Medium\n",
    "\n",
    "Given an integer array nums and an integer k, return the k most frequent elements. You may return the answer in any order.\n",
    "\n",
    "Example 1:\n",
    "Input: nums = [1,1,1,2,2,3], k = 2\n",
    "Output: [1,2]\n",
    "    \n",
    "Example 2:\n",
    "Input: nums = [1], k = 1\n",
    "Output: [1]"
   ]
  },
  {
   "cell_type": "code",
   "execution_count": 7,
   "id": "2358f439",
   "metadata": {},
   "outputs": [],
   "source": [
    "class Solution(object):\n",
    "    def topKFrequent(self, nums, k):\n",
    "        \"\"\"\n",
    "        :type nums: List[int]\n",
    "        :type k: int\n",
    "        :rtype: List[int]\n",
    "        \"\"\"\n",
    "        h = {}\n",
    "        freq = [[]for i in range(len(nums)+1)]\n",
    "        \n",
    "        for n in nums:\n",
    "            h[n] = 1+ h.get(n,0)\n",
    "        for n,c in count.items():\n",
    "            freq[c].append(n)\n",
    "        \n",
    "        res =[]\n",
    "        for i in range(len(freq)-1, 0, -1):\n",
    "            for n in freq[i]:\n",
    "                res.append(n)\n",
    "                if len(res) ==k:\n",
    "                    return res\n",
    "            \n",
    "        \n",
    "        "
   ]
  },
  {
   "cell_type": "markdown",
   "id": "2971c2fb",
   "metadata": {},
   "source": [
    "Time Complexity: O(n) Runtime: 62ms"
   ]
  },
  {
   "cell_type": "markdown",
   "id": "a62cc93f",
   "metadata": {},
   "source": [
    "Problem: #167. Two Sum II - Input Array Is Sorted\n",
    "\n",
    "Level- Medium\n",
    "\n",
    "Given a 1-indexed array of integers numbers that is already sorted in non-decreasing order, find two numbers such that they add up to a specific target number. Let these two numbers be numbers[index1] and numbers[index2] where 1 <= index1 < index2 < numbers.length.\n",
    "Return the indices of the two numbers, index1 and index2, added by one as an integer array [index1, index2] of length 2.\n",
    "The tests are generated such that there is exactly one solution. You may not use the same element twice.\n",
    "your solution must use only constant extra space.\n",
    "\n",
    "\n",
    "Example 1:\n",
    "Input: numbers = [2,7,11,15], target = 9\n",
    "Output: [1,2]\n",
    "Explanation: The sum of 2 and 7 is 9. Therefore, index1 = 1, index2 = 2. We return [1, 2].\n",
    "\n",
    "Example 2:\n",
    "Input: numbers = [2,3,4], target = 6\n",
    "Output: [1,3]\n",
    "Explanation: The sum of 2 and 4 is 6. Therefore index1 = 1, index2 = 3. We return [1, 3].\n",
    "\n",
    "Example 3:\n",
    "Input: numbers = [-1,0], target = -1\n",
    "Output: [1,2]\n",
    "Explanation: The sum of -1 and 0 is -1. Therefore index1 = 1, index2 = 2. We return [1, 2]."
   ]
  },
  {
   "cell_type": "code",
   "execution_count": 10,
   "id": "47e98dd0",
   "metadata": {},
   "outputs": [],
   "source": [
    "class Solution(object):\n",
    "    def twoSum(self, numbers, target):\n",
    "        \"\"\"\n",
    "        :type numbers: List[int]\n",
    "        :type target: int\n",
    "        :rtype: List[int]\n",
    "        \"\"\"\n",
    "        l,r = 0 , len(numbers) -1\n",
    "        while l<r:\n",
    "            sum = numbers[i] +numbers[j]\n",
    "            \n",
    "            if sum > target:\n",
    "                r-=1\n",
    "            elif sum < target:\n",
    "                l +=1\n",
    "            else:\n",
    "                [l+1,r+1]\n",
    "        return []\n",
    "        "
   ]
  },
  {
   "cell_type": "markdown",
   "id": "ca9d694b",
   "metadata": {},
   "source": [
    "Time Complexity: O(n) Runtime: 91ms"
   ]
  },
  {
   "cell_type": "markdown",
   "id": "8ad5a304",
   "metadata": {},
   "source": [
    "Problem: #15. 3Sum\n",
    "\n",
    "Level - Medium\n",
    "\n",
    "Given an integer array nums, return all the triplets [nums[i], nums[j], nums[k]] such that i != j, i != k, and j != k, and nums[i] + nums[j] + nums[k] == 0.\n",
    "Notice that the solution set must not contain duplicate triplets.\n",
    "\n",
    "\n",
    "Example 1:\n",
    "Input: nums = [-1,0,1,2,-1,-4]\n",
    "Output: [[-1,-1,2],[-1,0,1]]\n",
    "Explanation: \n",
    "nums[0] + nums[1] + nums[2] = (-1) + 0 + 1 = 0.\n",
    "nums[1] + nums[2] + nums[4] = 0 + 1 + (-1) = 0.\n",
    "nums[0] + nums[3] + nums[4] = (-1) + 2 + (-1) = 0.\n",
    "The distinct triplets are [-1,0,1] and [-1,-1,2].\n",
    "Notice that the order of the output and the order of the triplets does not matter.\n",
    "\n",
    "Example 2:\n",
    "Input: nums = [0,1,1]\n",
    "Output: []\n",
    "Explanation: The only possible triplet does not sum up to 0.\n",
    "\n",
    "Example 3:\n",
    "Input: nums = [0,0,0]\n",
    "Output: [[0,0,0]]\n",
    "Explanation: The only possible triplet sums up to 0."
   ]
  },
  {
   "cell_type": "code",
   "execution_count": 11,
   "id": "477d99de",
   "metadata": {},
   "outputs": [],
   "source": [
    "class Solution(object):\n",
    "    def threeSum(self, nums):\n",
    "        \"\"\"\n",
    "        :type nums: List[int]\n",
    "        :rtype: List[List[int]]\n",
    "        \"\"\"\n",
    "        res = []\n",
    "        \n",
    "        nums.sort()\n",
    "        \n",
    "        for i, a in enumerate(nums):\n",
    "            if i > 0 and a == nums[i-1]:\n",
    "                continue\n",
    "                \n",
    "            l, r = i + 1, len(nums) - 1\n",
    "            while l < r:\n",
    "                s = a + nums[l] + nums[r]\n",
    "                \n",
    "                if s > 0:\n",
    "                    r -= 1\n",
    "                elif s < 0:\n",
    "                    l += 1\n",
    "                else:\n",
    "                    res.append([a, nums[l], nums[r]])\n",
    "                    l += 1\n",
    "                    while nums[l] == nums[l-1] and l < r:\n",
    "                        l += 1\n",
    "        return res"
   ]
  },
  {
   "cell_type": "markdown",
   "id": "52ba1434",
   "metadata": {},
   "source": [
    "Time Complexity: O(nlogn) + O(n^2) = 0(n^2) Runtime: 870ms  "
   ]
  },
  {
   "cell_type": "markdown",
   "id": "74cbd93e",
   "metadata": {},
   "source": [
    "Problem: #238. Product of Array Except Self\n",
    "    \n",
    "Level - Medium\n",
    "\n",
    "Given an integer array nums, return an array answer such that answer[i] is equal to the product of all the elements of nums except nums[i].\n",
    "The product of any prefix or suffix of nums is guaranteed to fit in a 32-bit integer.\n",
    "You must write an algorithm that runs in O(n) time and without using the division operation\n",
    "\n",
    "Example 1:\n",
    "Input: nums = [1,2,3,4]\n",
    "Output: [24,12,8,6]\n",
    "\n",
    "Example 2:\n",
    "Input: nums = [-1,1,0,-3,3]\n",
    "Output: [0,0,9,0,0]"
   ]
  },
  {
   "cell_type": "code",
   "execution_count": null,
   "id": "1081cbbf",
   "metadata": {},
   "outputs": [],
   "source": []
  }
 ],
 "metadata": {
  "kernelspec": {
   "display_name": "Python 3 (ipykernel)",
   "language": "python",
   "name": "python3"
  },
  "language_info": {
   "codemirror_mode": {
    "name": "ipython",
    "version": 3
   },
   "file_extension": ".py",
   "mimetype": "text/x-python",
   "name": "python",
   "nbconvert_exporter": "python",
   "pygments_lexer": "ipython3",
   "version": "3.9.12"
  }
 },
 "nbformat": 4,
 "nbformat_minor": 5
}
