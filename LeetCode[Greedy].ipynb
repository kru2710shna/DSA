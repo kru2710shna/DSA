{
 "cells": [
  {
   "cell_type": "markdown",
   "id": "869d9777",
   "metadata": {},
   "source": [
    "# LeetCode Problems"
   ]
  },
  {
   "cell_type": "markdown",
   "id": "ae99ddfb",
   "metadata": {},
   "source": [
    "## Topic: Greedy Problems \n",
    "###### Question To Pratice: 8\n",
    "###### Probelms are numbered according to LeetCode Numbering."
   ]
  },
  {
   "cell_type": "markdown",
   "id": "b72d75d3",
   "metadata": {},
   "source": [
    "### Problem: #621 Task Schedule \n",
    "    \n",
    "##### Given a characters array tasks, representing the tasks a CPU needs to do, where each letter represents a different task. Tasks could be done in any order. Each task is done in one unit of time. For each unit of time, the CPU could complete either one task or just be idle. However, there is a non-negative integer n that represents the cooldown period between two same tasks (the same letter in the array), that is that there must be at least n units of time between any two same tasks.\n",
    "### Return the least number of units of times that the CPU will take to finish all the given tasks.\n",
    "\n",
    "##### Example 1:\n",
    "##### Input: tasks = [\"A\",\"A\",\"A\",\"B\",\"B\",\"B\"], n = 2\n",
    "##### Output: 8\n",
    "##### Explanation: \n",
    "##### A -> B -> idle -> A -> B -> idle -> A -> B\n",
    "##### There is at least 2 units of time between any two same tasks.\n",
    "\n",
    "##### Example 2:\n",
    "##### Input: tasks = [\"A\",\"A\",\"A\",\"B\",\"B\",\"B\"], n = 0\n",
    "##### Output: 6\n",
    "##### Explanation: On this case any permutation of size 6 would work since n = 0.\n",
    "##### [\"A\",\"A\",\"A\",\"B\",\"B\",\"B\"]\n",
    "##### [\"A\",\"B\",\"A\",\"B\",\"A\",\"B\"]\n",
    "##### [\"B\",\"B\",\"B\",\"A\",\"A\",\"A\"]\n",
    "\n",
    "##### Example 3:\n",
    "##### Input: tasks = [\"A\",\"A\",\"A\",\"A\",\"A\",\"A\",\"B\",\"C\",\"D\",\"E\",\"F\",\"G\"], n = 2\n",
    "##### Output: 16\n",
    "##### Explanation: \n",
    "##### One possible solution is\n",
    "#####A -> B -> C -> A -> D -> E -> A -> F -> G -> A -> idle -> idle -> A -> idle -> idle -> A"
   ]
  },
  {
   "cell_type": "code",
   "execution_count": 1,
   "id": "512154d2",
   "metadata": {},
   "outputs": [],
   "source": [
    "class Solution(object):\n",
    "    def leastInterval(self, tasks, n):\n",
    "        \"\"\"\n",
    "        :type tasks: List[str]\n",
    "        :type n: int\n",
    "        :rtype: int\n",
    "        \"\"\"\n",
    "        count = Counter(tasks)\n",
    "        maxheap = [-cnt for cnt in count.values()]\n",
    "        heapq.heapify(maxheap)\n",
    "        time = 0 \n",
    "        q = dequeue() # pairs of [-cnt.timeFrame]\n",
    "        \n",
    "        while maxheap or q: # while they arn't empty\n",
    "            time = time + 1\n",
    "            \n",
    "            if maxheap:\n",
    "                cnt = 1 + heapq.heappop(macheap)\n",
    "                if cnt:\n",
    "                    q.append([cnt,time+n])\n",
    "            if q and q[0][1] == time:\n",
    "                heapq.heappush(maxheap, q.popleft()[0])\n",
    "        return time        "
   ]
  },
  {
   "cell_type": "markdown",
   "id": "8ea8fcaa",
   "metadata": {},
   "source": [
    "##### Time Complexity : O(m*n) Runtime: 571ms"
   ]
  },
  {
   "cell_type": "markdown",
   "id": "ecb511bb",
   "metadata": {},
   "source": [
    "### Problem. #134 Gas Station \n",
    "\n",
    "##### There are n gas stations along a circular route, where the amount of gas at the ith station is gas[i]. You have a car with an unlimited gas tank and it costs cost[i] of gas to travel from the ith station to its next (i + 1)th station. You begin the journey with an empty tank at one of the gas stations.Given two integer arrays gas and cost, return the starting gas station's index if you can travel around the circuit once in the clockwise direction, otherwise return -1. If there exists a solution, it is guaranteed to be unique\n",
    "\n",
    "##### Example 1:\n",
    "##### Input: gas = [1,2,3,4,5], cost = [3,4,5,1,2]\n",
    "##### Output: 3\n",
    "\n",
    "##### Example 2:\n",
    "##### Input: gas = [2,3,4], cost = [3,4,3]\n",
    "##### Output: -1"
   ]
  },
  {
   "cell_type": "code",
   "execution_count": 3,
   "id": "b34e9c6d",
   "metadata": {},
   "outputs": [],
   "source": [
    "class Solution(object):\n",
    "    def canCompleteCircuit(self, gas, cost):\n",
    "        if sum(gas) < sum(cost):\n",
    "            return -1\n",
    "\n",
    "        total = 0\n",
    "        res = 0\n",
    "\n",
    "        for i in range(len(gas)):\n",
    "            total += (gas[i] - cost[i])  # Subtract cost[i] instead of adding\n",
    "            if total < 0:\n",
    "                total = 0\n",
    "                res = i + 1\n",
    "        return res"
   ]
  },
  {
   "cell_type": "markdown",
   "id": "63eb226a",
   "metadata": {},
   "source": [
    "##### Time Complexity : O(n) Runtime: 1110ms"
   ]
  },
  {
   "cell_type": "markdown",
   "id": "46c366a8",
   "metadata": {},
   "source": [
    "### Problem. #1578 Minimum Time to Make Rope Colorful\n",
    "\n",
    "##### Alice has n balloons arranged on a rope. You are given a 0-indexed string colors where colors[i] is the color of the ith balloon. Alice wants the rope to be colorful. She does not want two consecutive balloons to be of the same color, so she asks Bob for help. Bob can remove some balloons from the rope to make it colorful. You are given a 0-indexed integer array neededTime where neededTime[i] is the time (in seconds) that Bob needs to remove the ith balloon from the rope. Return the minimum time Bob needs to make the rope colorful.\n",
    "\n",
    "##### Example 1:\n",
    "##### Input: colors = \"abaac\", neededTime = [1,2,3,4,5]\n",
    "##### Output: 3\n",
    "\n",
    "##### Example 2:\n",
    "##### Input: colors = \"abc\", neededTime = [1,2,3]\n",
    "##### Output: 0\n",
    "\n",
    "##### Example 3:\n",
    "##### Input: colors = \"aabaa\", neededTime = [1,2,3,4,1]\n",
    "##### Output: 2"
   ]
  },
  {
   "cell_type": "code",
   "execution_count": 4,
   "id": "8d0091ed",
   "metadata": {},
   "outputs": [],
   "source": [
    "class Solution(object):\n",
    "    def minCost(self, colors, neededTime):\n",
    "        \"\"\"\n",
    "        :type colors: str\n",
    "        :type neededTime: List[int]\n",
    "        :rtype: int\n",
    "        \"\"\"\n",
    "        res = cur = 0 \n",
    "        \n",
    "        for i in range(len(colors)):\n",
    "            if i > 0 and colors[i] != colors[i-1]:\n",
    "                cur = 0\n",
    "            res += min (cur, neededTime[i])\n",
    "            cur = max(cur,neededTime[i])\n",
    "        return res\n",
    "        "
   ]
  },
  {
   "cell_type": "markdown",
   "id": "9c18c9fa",
   "metadata": {},
   "source": [
    "##### Time Complexity: O(n) Runtim: 1042ms"
   ]
  },
  {
   "cell_type": "markdown",
   "id": "bf65b630",
   "metadata": {},
   "source": [
    "### Problem. #402. Remove K Digits\n",
    "\n",
    "##### Given string num representing a non-negative integer num, and an integer k, return the smallest possible integer after removing k digits from num.\n",
    "\n",
    "##### Example 1:\n",
    "##### Input: num = \"1432219\", k = 3\n",
    "##### Output: \"1219\"\n",
    "\n",
    "##### Example 2:\n",
    "##### Input: num = \"10200\", k = 1\n",
    "##### Output: \"200\""
   ]
  },
  {
   "cell_type": "code",
   "execution_count": 5,
   "id": "4d34e346",
   "metadata": {},
   "outputs": [],
   "source": [
    "class Solution(object):\n",
    "    def removeKdigits(self, num, k):\n",
    "        \"\"\"\n",
    "        :type num: str\n",
    "        :type k: int\n",
    "        :rtype: str\n",
    "        \"\"\"\n",
    "        stack = []\n",
    "        for c in num:\n",
    "            while k > 0 and stack and stack[-1] > c:\n",
    "                k -=1\n",
    "                stack.pop()\n",
    "            stack.append(c)\n",
    "        stack = stack[:len(stack) - k]\n",
    "        res = \"\".join(stack)\n",
    "        return str(int(res)) if res else \"0\"\n",
    "        \n",
    "        "
   ]
  },
  {
   "cell_type": "markdown",
   "id": "8d49228f",
   "metadata": {},
   "source": [
    "##### Time Complexity: O(n) Runtime: 91ms"
   ]
  },
  {
   "cell_type": "markdown",
   "id": "a17e1afd",
   "metadata": {},
   "source": [
    "##### Problem. #435 Non-overlapping Intervals \n",
    "\n",
    "##### Given an array of intervals intervals where intervals[i] = [starti, endi], return the minimum number of intervals you need to remove to make the rest of the intervals non-overlapping.\n",
    "\n",
    "##### Example 1:\n",
    "##### Input: intervals = [[1,2],[2,3],[3,4],[1,3]]\n",
    "##### Output: 1\n",
    "\n",
    "##### Example 2:\n",
    "##### Input: intervals = [[1,2],[1,2],[1,2]]\n",
    "##### Output: 2\n",
    "\n",
    "##### Example 3:\n",
    "##### Input: intervals = [[1,2],[2,3]]\n",
    "##### Output: 0"
   ]
  },
  {
   "cell_type": "code",
   "execution_count": 7,
   "id": "85a90027",
   "metadata": {},
   "outputs": [],
   "source": [
    "class Solution(object):\n",
    "    def eraseOverlapIntervals(self, intervals):\n",
    "        \"\"\"\n",
    "        :type intervals: List[List[int]]\n",
    "        :rtype: int\n",
    "        \"\"\"\n",
    "        interval.sort()\n",
    "        \n",
    "        res = 0 \n",
    "        prevend = intervals[0][1] # First End Value \n",
    "        for start,end in intervals[1:]:\n",
    "            if start >= prevend:\n",
    "                prevend = end\n",
    "            else :\n",
    "                res += 1\n",
    "                prevend = min(end,prevend)\n",
    "        return res\n",
    "        "
   ]
  },
  {
   "cell_type": "markdown",
   "id": "2417cb47",
   "metadata": {},
   "source": [
    "##### Time Complexity: O(n) Runtime : 1102ms"
   ]
  },
  {
   "cell_type": "markdown",
   "id": "13950d67-0157-438e-a243-e8474eae2451",
   "metadata": {},
   "source": [
    "### Problem: #628. Maximum Product of Three Numbers\n",
    "\n",
    "### Level - Easy\n",
    "\n",
    "##### Given an integer array nums, find three numbers whose product is maximum and return the maximum product.\n",
    "\n",
    "##### Example 1:\n",
    "##### Input: nums = [1,2,3]\n",
    "##### Output: 6\n",
    "\n",
    "##### Example 2:\n",
    "##### Input: nums = [1,2,3,4]\n",
    "##### Output: 24\n",
    "\n",
    "##### Example 3:\n",
    "##### Input: nums = [-1,-2,-3]\n",
    "##### Output: -6\n"
   ]
  },
  {
   "cell_type": "code",
   "execution_count": 8,
   "id": "935f8932-df65-424d-80f3-d5dff76682c4",
   "metadata": {},
   "outputs": [],
   "source": [
    "class Solution(object):\n",
    "    def maximumProduct(self, nums):\n",
    "        \"\"\"\n",
    "        :type nums: List[int]\n",
    "        :rtype: int\n",
    "        \"\"\"\n",
    "        # Initialize the three largest and two smallest variables\n",
    "        max1 = max2 = max3 = float('-inf')\n",
    "        min1 = min2 = float('inf')\n",
    "\n",
    "        # Iterate through the array\n",
    "        for num in nums:\n",
    "            if num > max1:\n",
    "                max3 = max2\n",
    "                max2 = max1\n",
    "                max1 = num\n",
    "            elif num > max2:\n",
    "                max3 = max2\n",
    "                max2 = num\n",
    "            elif num > max3:\n",
    "                max3 = num\n",
    "\n",
    "            if num < min1:\n",
    "                min2 = min1\n",
    "                min1 = num\n",
    "            elif num < min2:\n",
    "                min2 = num\n",
    "        return max(max1 * max2 * max3, min1 * min2 * max1)\n"
   ]
  },
  {
   "cell_type": "markdown",
   "id": "90d1afd1-1e55-4d5d-98a9-2e67c33814be",
   "metadata": {},
   "source": [
    "##### Time Complexity: O(N) Runtime: 190 Space Complexity: O(1)"
   ]
  },
  {
   "cell_type": "markdown",
   "id": "86f9f50f-7d46-4aba-8e22-c9683160a096",
   "metadata": {},
   "source": [
    "### Geeks Of Geeks \n",
    "##### Question: Maximise the number of toys that can be purchased with amount K.\n",
    "##### Given an array consisting of the cost of toys. Given an integer K depicting the amount of money available to purchase toys. Write a program to find the maximum number of toys one can buy with the amount K. \n",
    "##### Note: One can buy only 1 quantity of a particular toy.\n",
    "\n",
    "##### Examples:  \n",
    "##### Input:  N = 10, K =  50,  cost = { 1, 12, 5, 111, 200, 1000, 10, 9, 12, 15 }\n",
    "##### Output: 6\n",
    "##### Explanation: Toys with amount 1, 5, 9, 10, 12, and 12  can be purchased resulting in a total amount of 49. Hence, maximum number of toys is 6."
   ]
  },
  {
   "cell_type": "code",
   "execution_count": 9,
   "id": "eb966f7b-0673-4005-8a60-243ca731adfb",
   "metadata": {},
   "outputs": [
    {
     "name": "stdout",
     "output_type": "stream",
     "text": [
      "6\n"
     ]
    }
   ],
   "source": [
    "def maximum_toys(cost, N, K):\n",
    "    count = 0\n",
    "    sum = 0\n",
    " \n",
    "    # sort the cost array\n",
    "    cost.sort(reverse = False)\n",
    "    for i in range(0, N, 1):\n",
    "         \n",
    "        # Check if we can buy ith toy or not\n",
    "        if (sum+cost[i] <= K):\n",
    "            sum = sum + cost[i]\n",
    "            # Increment the count variable\n",
    "            count += 1\n",
    "     \n",
    "    return count\n",
    " \n",
    "# Driver Code\n",
    "if __name__ == '__main__':\n",
    "    K = 50\n",
    "    cost = [1, 12, 5, 111, 200,\n",
    "            1000, 10, 9, 12, 15]\n",
    "    N = len(cost)\n",
    " \n",
    "    print(maximum_toys(cost, N, K))\n",
    " "
   ]
  },
  {
   "cell_type": "code",
   "execution_count": 11,
   "id": "d1b8d14e-6e90-44b9-8afe-465414d54643",
   "metadata": {},
   "outputs": [
    {
     "name": "stdout",
     "output_type": "stream",
     "text": [
      "4\n"
     ]
    }
   ],
   "source": [
    "import heapq\n",
    " \n",
    " \n",
    "def maxToys(arr, n, k):\n",
    "    # Create a priority_queue and push\n",
    "    # all the array elements in it\n",
    "    pq = arr\n",
    "    heapq.heapify(pq)\n",
    "    # To store the count of maximum\n",
    "    # toys that can be bought\n",
    "    count = 0\n",
    " \n",
    "    while (pq[0] <= k):\n",
    "        count += 1\n",
    "        k -= pq[0]\n",
    "        # assigning last element of the min heap\n",
    "        # to top of the heap\n",
    "        pq[0] = pq[-1]\n",
    "        # deleting the last element.\n",
    "        pq.pop()\n",
    "        # pq.pop() is an O(1) operation\n",
    "        # maintaining the heap property again\n",
    " \n",
    "        heapq.heapify(pq)\n",
    "    return count\n",
    " \n",
    " \n",
    "# Driver code\n",
    "arr = [1, 12, 5, 111, 200, 1000, 10]\n",
    "n = len(arr)\n",
    "k = 50\n",
    "print(maxToys(arr, n, k))\n",
    "\n"
   ]
  },
  {
   "cell_type": "markdown",
   "id": "a98fef3e-68cf-448a-bf04-aed3280f54d6",
   "metadata": {},
   "source": [
    "##### Time Complexity: O(N*logN) Auxiliary Space: O(N)"
   ]
  },
  {
   "cell_type": "markdown",
   "id": "7e8ddfe0-0270-44fd-a4f1-ebfd61b80dd6",
   "metadata": {
    "tags": []
   },
   "source": [
    "### Problem: #1658. Minimum Operations to Reduce X to Zero\n",
    "\n",
    "### Level - Medium\n",
    "\n",
    "##### You are given an integer array nums and an integer x. In one operation, you can either remove the leftmost or the rightmost element from the array nums and subtract its value from x. Note that this modifies the array for future operations.\n",
    "\n",
    "##### Return the minimum number of operations to reduce x to exactly 0 if it is possible, otherwise, return -1.\n",
    "\n",
    " \n",
    "\n",
    "##### Example 1:\n",
    "##### Input: nums = [1,1,4,2,3], x = 5\n",
    "##### Output: 2\n",
    "\n",
    "##### Input: nums = [5,6,7,8,9], x = 4\n",
    "##### Output: -1\n",
    "\n",
    "##### Example 3:\n",
    "##### Input: nums = [3,2,20,1,1,3], x = 10\n",
    "##### Output: 5"
   ]
  },
  {
   "cell_type": "code",
   "execution_count": 12,
   "id": "04eb2159-51bd-41ed-b648-b5e54cfb236a",
   "metadata": {},
   "outputs": [],
   "source": [
    "class Solution(object):\n",
    "    def minOperations(self, nums, x):\n",
    "        \"\"\"\n",
    "        :type nums: List[int]\n",
    "        :type x: int\n",
    "        :rtype: int\n",
    "        \"\"\"\n",
    "        n = len(nums)\n",
    "        total_sum = sum(nums)\n",
    "        target = total_sum - x  # The target sum we want to achieve\n",
    "\n",
    "        if target < 0:\n",
    "            return -1\n",
    "\n",
    "        i = 0\n",
    "        curr_sum = 0\n",
    "        min_ops = float('inf')\n",
    "\n",
    "        for j in range(n):\n",
    "            curr_sum += nums[j]\n",
    "\n",
    "            while curr_sum > target:\n",
    "                curr_sum -= nums[i]\n",
    "                i += 1\n",
    "\n",
    "            if curr_sum == target:\n",
    "                min_ops = min(min_ops, n - (j - i + 1))\n",
    "\n",
    "        return min_ops if min_ops != float('inf') else -1\n"
   ]
  },
  {
   "cell_type": "markdown",
   "id": "554957a0-7de3-4a1c-9b69-1c4f6547a602",
   "metadata": {},
   "source": [
    "##### Time Complexity:O(N) Space Complexity:O(N) Runtime: 180ms"
   ]
  },
  {
   "cell_type": "markdown",
   "id": "28c56e92-1c41-4282-85bc-8dbbf5c937be",
   "metadata": {},
   "source": [
    "### Problem: #169. Majority Element\n",
    "\n",
    "### Level - Easy\n",
    "\n",
    "##### Given an array nums of size n, return the majority element.The majority element is the element that appears more than ⌊n / 2⌋ times. You may assume that the majority element always exists in the array.\n",
    "\n",
    "##### Example 1:\n",
    "##### Input: nums = [3,2,3]\n",
    "##### Output: 3\n",
    "\n",
    "##### Example 2:\n",
    "##### Input: nums = [2,2,1,1,1,2,2]\n",
    "##### Output: 2"
   ]
  },
  {
   "cell_type": "code",
   "execution_count": 13,
   "id": "eecfc768-36ac-45d0-ae3d-952381b8c06c",
   "metadata": {},
   "outputs": [],
   "source": [
    "class Solution(object):\n",
    "    def majorityElement(self, nums):\n",
    "        \"\"\"\n",
    "        :type nums: List[int]\n",
    "        :rtype: int\n",
    "        \"\"\"\n",
    "        nums.sort()\n",
    "        return nums[len(nums)//2]\n"
   ]
  },
  {
   "cell_type": "markdown",
   "id": "4596a469-7bf1-479d-be0d-34fb2e4e23d0",
   "metadata": {},
   "source": [
    "###### Time Complexity: O(LogN) Space Complexity:O(N) Runtime: 20ms "
   ]
  },
  {
   "cell_type": "markdown",
   "id": "b3741a89-a38b-4532-8173-8799b33340a9",
   "metadata": {},
   "source": [
    "### Geeks Of Geeks Platform- 0/1 Knapsack Problem\n",
    "\n",
    "##### Given N items where each item has some weight and profit associated with it and also given a bag with capacity W, [i.e., the bag can hold at most W weight in it]. The task is to put the items into the bag such that the sum of profits associated with them is the maximum possible. Note: The constraint here is we can either put an item completely into the bag or cannot put it at all [It is not possible to put a part of an item into the bag].\n",
    "\n",
    "##### Examples:\n",
    "##### Input: N = 3, W = 4, profit[] = {1, 2, 3}, weight[] = {4, 5, 1}\n",
    "##### Output: 3\n",
    "\n",
    "##### Input: N = 3, W = 3, profit[] = {1, 2, 3}, weight[] = {4, 5, 6}\n",
    "##### Output: 0"
   ]
  },
  {
   "cell_type": "markdown",
   "id": "828dbc58-0f5c-4bfc-88f8-7e388ffcd575",
   "metadata": {},
   "source": [
    "### Problem: #45. Jump Game II\n",
    "\n",
    "### Level - Medium\n",
    "\n",
    "##### You are given a 0-indexed array of integers nums of length n. You are initially positioned at nums[0].Each element nums[i] represents the maximum length of a forward jump from index i. In other words, if you are at nums[i], you can jump to any nums[i + j] where: 0 <= j <= nums[i] and i + j < n Return the minimum number of jumps to reach nums[n - 1]. The test cases are generated such that you can reach nums[n - 1].\n",
    "\n",
    "##### Example 1:\n",
    "##### Input: nums = [2,3,1,1,4]\n",
    "##### Output: 2\n",
    "\n",
    "##### Example 2:\n",
    "##### Input: nums = [2,3,0,1,4]\n",
    "##### Output: 2"
   ]
  },
  {
   "cell_type": "code",
   "execution_count": 1,
   "id": "991d97b3-58ac-4dc9-b519-49173c17c2f7",
   "metadata": {},
   "outputs": [],
   "source": [
    "class Solution(object):\n",
    "    def jump(self, nums):\n",
    "        \"\"\"\n",
    "        :type nums: List[int]\n",
    "        :rtype: int\n",
    "        \"\"\"\n",
    "        res = 0\n",
    "        l=r=0\n",
    "        while r < len(nums) - 1:\n",
    "            farthest = 0\n",
    "            for i in range(l, r + 1):\n",
    "                farthest = max(farthest, i + nums[i])\n",
    "            l = r + 1 \n",
    "            r = farthest\n",
    "            res+=1\n",
    "        return res\n",
    "                "
   ]
  },
  {
   "cell_type": "markdown",
   "id": "12f56d58-6676-44ee-a2d7-eb66caf17f51",
   "metadata": {},
   "source": [
    "#### Time Complexity: O(N) Space complexity: O(1) Runtime: 88ms"
   ]
  },
  {
   "cell_type": "markdown",
   "id": "d8a6bf4f-a76f-41b1-9a6c-22853d591d02",
   "metadata": {},
   "source": [
    "### Geeks of Geeks \n",
    "\n",
    "##### Given an array of size n that has the following specifications: Each element in the array contains either a policeman or a thief.Each policeman can catch only one thief. A policeman cannot catch a thief who is more than K units away from the policeman. We need to find the maximum number of thieves that can be caught.\n",
    "\n",
    "##### Examples: \n",
    "##### Input : arr[] = {'P', 'T', 'T', 'P', 'T'}, k = 1.\n",
    "##### Output : 2.\n",
    "\n",
    "\n",
    "##### Input : arr[] = {'T', 'T', 'P', 'P', 'T', 'P'},k = 2.\n",
    "##### Output : 3.\n",
    "\n",
    "##### Input : arr[] = {'P', 'T', 'P', 'T', 'T', 'P'}, k = 3.\n",
    "##### Output : 3."
   ]
  },
  {
   "cell_type": "code",
   "execution_count": 12,
   "id": "53664b57-fade-4675-8efc-0bfc1b96c390",
   "metadata": {},
   "outputs": [
    {
     "name": "stdout",
     "output_type": "stream",
     "text": [
      "Maximum thieves caught: 2\n"
     ]
    }
   ],
   "source": [
    "def policeThief(arr, n, k):\n",
    "    res, police, thief, l, r = 0, [], [], 0, 0\n",
    "\n",
    "    for i in range(n):\n",
    "        if arr[i] == 'P':\n",
    "            police.append(i)\n",
    "        else:\n",
    "            thief.append(i)\n",
    "\n",
    "    while l < len(police) and r < len(thief):\n",
    "        if abs(thief[r] - police[l]) <= k:\n",
    "            res += 1\n",
    "            l += 1\n",
    "            r += 1\n",
    "        elif thief[r] < police[l]:\n",
    "            r += 1\n",
    "        else:\n",
    "            l += 1\n",
    "\n",
    "    return res\n",
    "\n",
    "if __name__ == '__main__':\n",
    "    arr1 = ['P', 'T', 'T', 'P', 'T']\n",
    "    k = 1\n",
    "    n = len(arr1)\n",
    "    print(\"Maximum thieves caught: {}\".format(policeThief(arr1, n, k)))\n"
   ]
  },
  {
   "cell_type": "code",
   "execution_count": null,
   "id": "30c864b4-768c-48d9-a2f6-e405e7c0f1f7",
   "metadata": {},
   "outputs": [],
   "source": []
  }
 ],
 "metadata": {
  "kernelspec": {
   "display_name": "Python 3 (ipykernel)",
   "language": "python",
   "name": "python3"
  },
  "language_info": {
   "codemirror_mode": {
    "name": "ipython",
    "version": 3
   },
   "file_extension": ".py",
   "mimetype": "text/x-python",
   "name": "python",
   "nbconvert_exporter": "python",
   "pygments_lexer": "ipython3",
   "version": "3.10.9"
  }
 },
 "nbformat": 4,
 "nbformat_minor": 5
}
