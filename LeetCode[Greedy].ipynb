{
 "cells": [
  {
   "cell_type": "markdown",
   "id": "869d9777",
   "metadata": {},
   "source": [
    "# LeetCode Problems"
   ]
  },
  {
   "cell_type": "markdown",
   "id": "ae99ddfb",
   "metadata": {},
   "source": [
    "## Topic: Greedy Problems \n",
    "###### Question To Pratice: 8\n",
    "###### Probelms are numbered according to LeetCode Numbering."
   ]
  },
  {
   "cell_type": "markdown",
   "id": "b72d75d3",
   "metadata": {},
   "source": [
    "Problem: #621 Task Schedule \n",
    "    \n",
    "Given a characters array tasks, representing the tasks a CPU needs to do, where each letter represents a different task. Tasks could be done in any order. Each task is done in one unit of time. For each unit of time, the CPU could complete either one task or just be idle. However, there is a non-negative integer n that represents the cooldown period between two same tasks (the same letter in the array), that is that there must be at least n units of time between any two same tasks.\n",
    "Return the least number of units of times that the CPU will take to finish all the given tasks.\n",
    "\n",
    "Example 1:\n",
    "Input: tasks = [\"A\",\"A\",\"A\",\"B\",\"B\",\"B\"], n = 2\n",
    "Output: 8\n",
    "Explanation: \n",
    "A -> B -> idle -> A -> B -> idle -> A -> B\n",
    "There is at least 2 units of time between any two same tasks.\n",
    "\n",
    "Example 2:\n",
    "Input: tasks = [\"A\",\"A\",\"A\",\"B\",\"B\",\"B\"], n = 0\n",
    "Output: 6\n",
    "Explanation: On this case any permutation of size 6 would work since n = 0.\n",
    "[\"A\",\"A\",\"A\",\"B\",\"B\",\"B\"]\n",
    "[\"A\",\"B\",\"A\",\"B\",\"A\",\"B\"]\n",
    "[\"B\",\"B\",\"B\",\"A\",\"A\",\"A\"]\n",
    "...\n",
    "And so on.\n",
    "\n",
    "Example 3:\n",
    "Input: tasks = [\"A\",\"A\",\"A\",\"A\",\"A\",\"A\",\"B\",\"C\",\"D\",\"E\",\"F\",\"G\"], n = 2\n",
    "Output: 16\n",
    "Explanation: \n",
    "One possible solution is\n",
    "A -> B -> C -> A -> D -> E -> A -> F -> G -> A -> idle -> idle -> A -> idle -> idle -> A"
   ]
  },
  {
   "cell_type": "code",
   "execution_count": 1,
   "id": "512154d2",
   "metadata": {},
   "outputs": [],
   "source": [
    "class Solution(object):\n",
    "    def leastInterval(self, tasks, n):\n",
    "        \"\"\"\n",
    "        :type tasks: List[str]\n",
    "        :type n: int\n",
    "        :rtype: int\n",
    "        \"\"\"\n",
    "        count = Counter(tasks)\n",
    "        maxheap = [-cnt for cnt in count.values()]\n",
    "        heapq.heapify(maxheap)\n",
    "        time = 0 \n",
    "        q = dequeue() # pairs of [-cnt.timeFrame]\n",
    "        \n",
    "        while maxheap or q: # while they arn't empty\n",
    "            time = time + 1\n",
    "            \n",
    "            if maxheap:\n",
    "                cnt = 1 + heapq.heappop(macheap)\n",
    "                if cnt:\n",
    "                    q.append([cnt,time+n])\n",
    "            if q and q[0][1] == time:\n",
    "                heapq.heappush(maxheap, q.popleft()[0])\n",
    "        return time        "
   ]
  },
  {
   "cell_type": "markdown",
   "id": "8ea8fcaa",
   "metadata": {},
   "source": [
    "Time Complexity : O(m*n) Runtime: 571ms"
   ]
  },
  {
   "cell_type": "markdown",
   "id": "ecb511bb",
   "metadata": {},
   "source": [
    "Problem. #134 Gas Station \n",
    "\n",
    "There are n gas stations along a circular route, where the amount of gas at the ith station is gas[i]. You have a car with an unlimited gas tank and it costs cost[i] of gas to travel from the ith station to its next (i + 1)th station. You begin the journey with an empty tank at one of the gas stations.\n",
    "Given two integer arrays gas and cost, return the starting gas station's index if you can travel around the circuit once in the clockwise direction, otherwise return -1. If there exists a solution, it is guaranteed to be unique\n",
    "\n",
    "Example 1:\n",
    "Input: gas = [1,2,3,4,5], cost = [3,4,5,1,2]\n",
    "Output: 3\n",
    "Explanation:\n",
    "Start at station 3 (index 3) and fill up with 4 unit of gas. Your tank = 0 + 4 = 4\n",
    "Travel to station 4. Your tank = 4 - 1 + 5 = 8\n",
    "Travel to station 0. Your tank = 8 - 2 + 1 = 7\n",
    "Travel to station 1. Your tank = 7 - 3 + 2 = 6\n",
    "Travel to station 2. Your tank = 6 - 4 + 3 = 5\n",
    "Travel to station 3. The cost is 5. Your gas is just enough to travel back to station 3.\n",
    "Therefore, return 3 as the starting index.\n",
    "\n",
    "Example 2:\n",
    "Input: gas = [2,3,4], cost = [3,4,3]\n",
    "Output: -1\n",
    "Explanation:\n",
    "You can't start at station 0 or 1, as there is not enough gas to travel to the next station.\n",
    "Let's start at station 2 and fill up with 4 unit of gas. Your tank = 0 + 4 = 4\n",
    "Travel to station 0. Your tank = 4 - 3 + 2 = 3\n",
    "Travel to station 1. Your tank = 3 - 3 + 3 = 3\n",
    "You cannot travel back to station 2, as it requires 4 unit of gas but you only have 3.\n",
    "Therefore, you can't travel around the circuit once no matter where you start."
   ]
  },
  {
   "cell_type": "code",
   "execution_count": 2,
   "id": "b34e9c6d",
   "metadata": {},
   "outputs": [],
   "source": [
    "class Solution(object):\n",
    "    def canCompleteCircuit(self, gas, cost):\n",
    "        if sum(gas) < sum(cost):\n",
    "            return -1\n",
    "\n",
    "        total = 0\n",
    "        res = 0\n",
    "\n",
    "        for i in range(len(gas)):\n",
    "            total += (gas[i] - cost[i])  # Subtract cost[i] instead of adding\n",
    "            if total < 0:\n",
    "                total = 0\n",
    "                res = i + 1\n",
    "        return res"
   ]
  },
  {
   "cell_type": "markdown",
   "id": "63eb226a",
   "metadata": {},
   "source": [
    "Time Complexity : O(n) Runtime: 1110ms"
   ]
  },
  {
   "cell_type": "markdown",
   "id": "46c366a8",
   "metadata": {},
   "source": [
    "Problem. #1578 Minimum Time to Make Rope Colorful\n",
    "\n",
    "Alice has n balloons arranged on a rope. You are given a 0-indexed string colors where colors[i] is the color of the ith balloon. Alice wants the rope to be colorful. She does not want two consecutive balloons to be of the same color, so she asks Bob for help. Bob can remove some balloons from the rope to make it colorful. You are given a 0-indexed integer array neededTime where neededTime[i] is the time (in seconds) that Bob needs to remove the ith balloon from the rope. Return the minimum time Bob needs to make the rope colorful.\n",
    "\n",
    "Example 1:\n",
    "Input: colors = \"abaac\", neededTime = [1,2,3,4,5]\n",
    "Output: 3\n",
    "Explanation: In the above image, 'a' is blue, 'b' is red, and 'c' is green.\n",
    "Bob can remove the blue balloon at index 2. This takes 3 seconds.\n",
    "There are no longer two consecutive balloons of the same color. Total time = 3.\n",
    "\n",
    "Example 2:\n",
    "Input: colors = \"abc\", neededTime = [1,2,3]\n",
    "Output: 0\n",
    "Explanation: The rope is already colorful. Bob does not need to remove any balloons from the rope.\n",
    "\n",
    "Example 3:\n",
    "Input: colors = \"aabaa\", neededTime = [1,2,3,4,1]\n",
    "Output: 2\n",
    "Explanation: Bob will remove the ballons at indices 0 and 4. Each ballon takes 1 second to remove.\n",
    "There are no longer two consecutive balloons of the same color. Total time = 1 + 1 = 2."
   ]
  },
  {
   "cell_type": "code",
   "execution_count": 3,
   "id": "8d0091ed",
   "metadata": {},
   "outputs": [],
   "source": [
    "class Solution(object):\n",
    "    def minCost(self, colors, neededTime):\n",
    "        \"\"\"\n",
    "        :type colors: str\n",
    "        :type neededTime: List[int]\n",
    "        :rtype: int\n",
    "        \"\"\"\n",
    "        res = cur = 0 \n",
    "        \n",
    "        for i in range(len(colors)):\n",
    "            if i > 0 and colors[i] != colors[i-1]:\n",
    "                cur = 0\n",
    "            res += min (cur, neededTime[i])\n",
    "            cur = max(cur,neededTime[i])\n",
    "        return res\n",
    "        "
   ]
  },
  {
   "cell_type": "markdown",
   "id": "9c18c9fa",
   "metadata": {},
   "source": [
    "Time Complexity: O(n) Runtim: 1042ms"
   ]
  },
  {
   "cell_type": "markdown",
   "id": "bf65b630",
   "metadata": {},
   "source": [
    "Problem. #402. Remove K Digits\n",
    "\n",
    "Given string num representing a non-negative integer num, and an integer k, return the smallest possible integer after removing k digits from num.\n",
    "\n",
    "Example 1:\n",
    "Input: num = \"1432219\", k = 3\n",
    "Output: \"1219\"\n",
    "Explanation: Remove the three digits 4, 3, and 2 to form the new number 1219 which is the smallest.\n",
    "\n",
    "Example 2:\n",
    "Input: num = \"10200\", k = 1\n",
    "Output: \"200\"\n",
    "Explanation: Remove the leading 1 and the number is 200. Note that the output must not contain leading zeroes."
   ]
  },
  {
   "cell_type": "code",
   "execution_count": 4,
   "id": "4d34e346",
   "metadata": {},
   "outputs": [],
   "source": [
    "class Solution(object):\n",
    "    def removeKdigits(self, num, k):\n",
    "        \"\"\"\n",
    "        :type num: str\n",
    "        :type k: int\n",
    "        :rtype: str\n",
    "        \"\"\"\n",
    "        stack = []\n",
    "        for c in num:\n",
    "            while k > 0 and stack and stack[-1] > c:\n",
    "                k -=1\n",
    "                stack.pop()\n",
    "            stack.append(c)\n",
    "        stack = stack[:len(stack) - k]\n",
    "        res = \"\".join(stack)\n",
    "        return str(int(res)) if res else \"0\"\n",
    "        \n",
    "        "
   ]
  },
  {
   "cell_type": "markdown",
   "id": "8d49228f",
   "metadata": {},
   "source": [
    "Time Complexity: O(n) Runtime: 91ms"
   ]
  },
  {
   "cell_type": "markdown",
   "id": "a17e1afd",
   "metadata": {},
   "source": [
    "Problem. #435 Non-overlapping Intervals \n",
    "\n",
    "Given an array of intervals intervals where intervals[i] = [starti, endi], return the minimum number of intervals you need to remove to make the rest of the intervals non-overlapping.\n",
    "\n",
    "Example 1:\n",
    "Input: intervals = [[1,2],[2,3],[3,4],[1,3]]\n",
    "Output: 1\n",
    "Explanation: [1,3] can be removed and the rest of the intervals are non-overlapping.\n",
    "\n",
    "Example 2:\n",
    "Input: intervals = [[1,2],[1,2],[1,2]]\n",
    "Output: 2\n",
    "Explanation: You need to remove two [1,2] to make the rest of the intervals non-overlapping.\n",
    "\n",
    "Example 3:\n",
    "Input: intervals = [[1,2],[2,3]]\n",
    "Output: 0\n",
    "Explanation: You don't need to remove any of the intervals since they're already non-overlapping."
   ]
  },
  {
   "cell_type": "code",
   "execution_count": 5,
   "id": "85a90027",
   "metadata": {},
   "outputs": [],
   "source": [
    "class Solution(object):\n",
    "    def eraseOverlapIntervals(self, intervals):\n",
    "        \"\"\"\n",
    "        :type intervals: List[List[int]]\n",
    "        :rtype: int\n",
    "        \"\"\"\n",
    "        interval.sort()\n",
    "        \n",
    "        res = 0 \n",
    "        prevend = intervals[0][1] # First End Value \n",
    "        for start,end in intervals[1:]:\n",
    "            if start >= prevend:\n",
    "                prevend = end\n",
    "            else :\n",
    "                res += 1\n",
    "                prevend = min(end,prevend)\n",
    "        return res\n",
    "        "
   ]
  },
  {
   "cell_type": "markdown",
   "id": "2417cb47",
   "metadata": {},
   "source": [
    "Time Complexity: O(n) Runtime : 1102ms"
   ]
  }
 ],
 "metadata": {
  "kernelspec": {
   "display_name": "Python 3 (ipykernel)",
   "language": "python",
   "name": "python3"
  },
  "language_info": {
   "codemirror_mode": {
    "name": "ipython",
    "version": 3
   },
   "file_extension": ".py",
   "mimetype": "text/x-python",
   "name": "python",
   "nbconvert_exporter": "python",
   "pygments_lexer": "ipython3",
   "version": "3.9.12"
  }
 },
 "nbformat": 4,
 "nbformat_minor": 5
}
