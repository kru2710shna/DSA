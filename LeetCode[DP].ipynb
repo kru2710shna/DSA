{
 "cells": [
  {
   "cell_type": "markdown",
   "id": "1847c943",
   "metadata": {},
   "source": [
    "# LeetCode Problems "
   ]
  },
  {
   "cell_type": "markdown",
   "id": "aea74231",
   "metadata": {},
   "source": [
    "## Topic: Dynamic Programming \n",
    "###### Question To Pratice: 4\n",
    "###### Probelms are numbered according to LeetCode Numbering."
   ]
  },
  {
   "cell_type": "markdown",
   "id": "275d2fef",
   "metadata": {},
   "source": [
    "Problem: #53. Maximum Subarray\n",
    "\n",
    "Level- Medium\n",
    "\n",
    "Given an integer array nums, find the subarray with the largest sum, and return its sum.\n",
    "\n",
    "Example 1:\n",
    "Input: nums = [-2,1,-3,4,-1,2,1,-5,4]\n",
    "Output: 6\n",
    "Explanation: The subarray [4,-1,2,1] has the largest sum 6.\n",
    "\n",
    "Example 2:\n",
    "Input: nums = [1]\n",
    "Output: 1\n",
    "Explanation: The subarray [1] has the largest sum 1.\n"
   ]
  },
  {
   "cell_type": "code",
   "execution_count": 3,
   "id": "09842545",
   "metadata": {},
   "outputs": [],
   "source": [
    "class Solution(object):\n",
    "    def maxSubArray(self, nums):\n",
    "        \"\"\"\n",
    "        :type nums: List[int]\n",
    "        :rtype: int\n",
    "        \"\"\"\n",
    "        maxsub = nums[0]\n",
    "        curr = 0\n",
    "        \n",
    "        for n in nums:\n",
    "            if cur < 0:\n",
    "                curr = 0 \n",
    "            curr += n\n",
    "            maxsub = max(maxsub, curr)\n",
    "        return maxsub \n",
    "            \n",
    "        \n",
    "\n",
    "class Solution(object):\n",
    "    def maxSubArray(self, nums):\n",
    "        max_sum = float('-inf') # Means Negative Infinity\n",
    "        current_sum = 0\n",
    "        for i in range(0,len(nums)):\n",
    "            current_sum += nums[i]\n",
    "            if current_sum > max_sum:\n",
    "                max_sum = current_sum\n",
    "            if current_sum < 0:\n",
    "                current_sum = 0\n",
    "        return max_sum"
   ]
  },
  {
   "cell_type": "markdown",
   "id": "3d3a309d",
   "metadata": {},
   "source": [
    "Time Complexity : O(n) Runtime : 598ms\n",
    "        \n",
    "Time Complexity : O(n) Runtime : 596ms"
   ]
  },
  {
   "cell_type": "markdown",
   "id": "1999ab0e",
   "metadata": {},
   "source": [
    "Problem: #70. Climbing Stairs\n",
    "\n",
    "Level- Easy\n",
    "\n",
    "You are climbing a staircase. It takes n steps to reach the top.\n",
    "Each time you can either climb 1 or 2 steps. In how many distinct ways can you climb to the top?\n",
    "\n",
    "Example 1:\n",
    "Input: n = 2\n",
    "Output: 2\n",
    "Explanation: There are two ways to climb to the top.\n",
    "1. 1 step + 1 step\n",
    "2. 2 steps\n",
    "\n",
    "Example 2:\n",
    "Input: n = 3\n",
    "Output: 3\n",
    "Explanation: There are three ways to climb to the top.\n",
    "1. 1 step + 1 step + 1 step\n",
    "2. 1 step + 2 steps\n",
    "3. 2 steps + 1 step"
   ]
  },
  {
   "cell_type": "code",
   "execution_count": 6,
   "id": "b89aa86f",
   "metadata": {},
   "outputs": [],
   "source": [
    "class Solution(object):\n",
    "    def climbStairs(self, n):\n",
    "        \"\"\"\n",
    "        :type n: int\n",
    "        :rtype: int\n",
    "        \"\"\"\n",
    "        one, two =1,1\n",
    "        \n",
    "        for i in range(n-1):\n",
    "            temp = one\n",
    "            one = one+two\n",
    "            two = temp\n",
    "        return one\n",
    "        "
   ]
  },
  {
   "cell_type": "markdown",
   "id": "d75a5820",
   "metadata": {},
   "source": [
    "Time Complexity: O(n) Runtime: 21ms\n"
   ]
  },
  {
   "cell_type": "markdown",
   "id": "5a95c171",
   "metadata": {},
   "source": [
    "Problem: #1025. Divisor Game\n",
    "\n",
    "Level- Easy\n",
    "\n",
    "Alice and Bob take turns playing a game, with Alice starting first\n",
    "Initially, there is a number n on the chalkboard. On each player's turn, that player makes a move consisting of:\n",
    "Choosing any x with 0 < x < n and n % x == 0.\n",
    "Replacing the number n on the chalkboard with n - x.\n",
    "Also, if a player cannot make a move, they lose the game.\n",
    "Return true if and only if Alice wins the game, assuming both players play optimally.\n",
    "\n",
    "Example 1:\n",
    "Input: n = 2\n",
    "Output: true\n",
    "Explanation: Alice chooses 1, and Bob has no more moves.\n",
    "    \n",
    "Example 2:\n",
    "Input: n = 3\n",
    "Output: false\n",
    "Explanation: Alice chooses 1, Bob chooses 1, and Alice has no more moves."
   ]
  },
  {
   "cell_type": "code",
   "execution_count": 7,
   "id": "709c27e7",
   "metadata": {},
   "outputs": [],
   "source": [
    "class Solution(object):\n",
    "    def divisorGame(self, n):\n",
    "        \"\"\"\n",
    "        :type n: int\n",
    "        :rtype: bool\n",
    "        \"\"\"\n",
    "        return n%2==0"
   ]
  },
  {
   "cell_type": "markdown",
   "id": "ab9704df",
   "metadata": {},
   "source": [
    "Time Complexity: O(1) Runtime : 12ms"
   ]
  },
  {
   "cell_type": "markdown",
   "id": "f08c3826",
   "metadata": {},
   "source": [
    "Problem: #338. Counting Bites\n",
    "    \n",
    "Given an integer n, return an array ans of length n + 1 such that for each i (0 <= i <= n), ans[i] is the number of 1's in the binary representation of i.\n",
    "\n",
    "Example 1:\n",
    "Input: n = 2\n",
    "Output: [0,1,1]\n",
    "Explanation:\n",
    "0 --> 0\n",
    "1 --> 1\n",
    "2 --> 10\n",
    "\n",
    "Example 2:\n",
    "Input: n = 5\n",
    "Output: [0,1,1,2,1,2]\n",
    "Explanation:\n",
    "0 --> 0\n",
    "1 --> 1\n",
    "2 --> 10\n",
    "3 --> 11\n",
    "4 --> 100\n",
    "5 --> 101"
   ]
  },
  {
   "cell_type": "code",
   "execution_count": 9,
   "id": "0506c124",
   "metadata": {},
   "outputs": [],
   "source": [
    "class Solution(object):\n",
    "    def countBits(self, n):\n",
    "        \"\"\"\n",
    "        :type n: int\n",
    "        :rtype: List[int]\n",
    "        \"\"\"\n",
    "        dp = [0]* (n+1)\n",
    "        ans=[0]\n",
    "        offset = 1\n",
    "        \n",
    "        for i in range(1,n+1):\n",
    "            if offset*2 == i:\n",
    "                offset = i\n",
    "            dp[i] = 1+dp[i-offset]\n",
    "        return dp"
   ]
  },
  {
   "cell_type": "markdown",
   "id": "cb132ce1",
   "metadata": {},
   "source": [
    "Time Complexity: O(n) Runtime: 49ms"
   ]
  }
 ],
 "metadata": {
  "kernelspec": {
   "display_name": "Python 3 (ipykernel)",
   "language": "python",
   "name": "python3"
  },
  "language_info": {
   "codemirror_mode": {
    "name": "ipython",
    "version": 3
   },
   "file_extension": ".py",
   "mimetype": "text/x-python",
   "name": "python",
   "nbconvert_exporter": "python",
   "pygments_lexer": "ipython3",
   "version": "3.9.12"
  }
 },
 "nbformat": 4,
 "nbformat_minor": 5
}
