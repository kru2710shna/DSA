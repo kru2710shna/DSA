{
 "cells": [
  {
   "cell_type": "markdown",
   "id": "1847c943",
   "metadata": {},
   "source": [
    "# LeetCode Problems "
   ]
  },
  {
   "cell_type": "markdown",
   "id": "aea74231",
   "metadata": {},
   "source": [
    "## Topic: Dynamic Programming \n",
    "###### Question To Pratice: 4\n",
    "###### Probelms are numbered according to LeetCode Numbering."
   ]
  },
  {
   "cell_type": "markdown",
   "id": "275d2fef",
   "metadata": {},
   "source": [
    "Problem: #53. Maximum Subarray\n",
    "\n",
    "Level- Medium\n",
    "\n",
    "Given an integer array nums, find the subarray with the largest sum, and return its sum.\n",
    "\n",
    "Example 1:\n",
    "Input: nums = [-2,1,-3,4,-1,2,1,-5,4]\n",
    "Output: 6\n",
    "Explanation: The subarray [4,-1,2,1] has the largest sum 6.\n",
    "\n",
    "Example 2:\n",
    "Input: nums = [1]\n",
    "Output: 1\n",
    "Explanation: The subarray [1] has the largest sum 1.\n"
   ]
  },
  {
   "cell_type": "code",
   "execution_count": 3,
   "id": "09842545",
   "metadata": {},
   "outputs": [],
   "source": [
    "class Solution(object):\n",
    "    def maxSubArray(self, nums):\n",
    "        \"\"\"\n",
    "        :type nums: List[int]\n",
    "        :rtype: int\n",
    "        \"\"\"\n",
    "        maxsub = nums[0]\n",
    "        curr = 0\n",
    "        \n",
    "        for n in nums:\n",
    "            if cur < 0:\n",
    "                curr = 0 \n",
    "            curr += n\n",
    "            maxsub = max(maxsub, curr)\n",
    "        return maxsub \n",
    "            \n",
    "        \n",
    "\n",
    "class Solution(object):\n",
    "    def maxSubArray(self, nums):\n",
    "        max_sum = float('-inf') # Means Negative Infinity\n",
    "        current_sum = 0\n",
    "        for i in range(0,len(nums)):\n",
    "            current_sum += nums[i]\n",
    "            if current_sum > max_sum:\n",
    "                max_sum = current_sum\n",
    "            if current_sum < 0:\n",
    "                current_sum = 0\n",
    "        return max_sum"
   ]
  },
  {
   "cell_type": "markdown",
   "id": "3d3a309d",
   "metadata": {},
   "source": [
    "Time Complexity : O(n) Runtime : 598ms\n",
    "        \n",
    "Time Complexity : O(n) Runtime : 596ms"
   ]
  },
  {
   "cell_type": "markdown",
   "id": "1999ab0e",
   "metadata": {},
   "source": [
    "Problem: #70. Climbing Stairs\n",
    "\n",
    "Level- Easy\n",
    "\n",
    "You are climbing a staircase. It takes n steps to reach the top.\n",
    "Each time you can either climb 1 or 2 steps. In how many distinct ways can you climb to the top?\n",
    "\n",
    "Example 1:\n",
    "Input: n = 2\n",
    "Output: 2\n",
    "Explanation: There are two ways to climb to the top.\n",
    "1. 1 step + 1 step\n",
    "2. 2 steps\n",
    "\n",
    "Example 2:\n",
    "Input: n = 3\n",
    "Output: 3\n",
    "Explanation: There are three ways to climb to the top.\n",
    "1. 1 step + 1 step + 1 step\n",
    "2. 1 step + 2 steps\n",
    "3. 2 steps + 1 step"
   ]
  },
  {
   "cell_type": "code",
   "execution_count": 6,
   "id": "b89aa86f",
   "metadata": {},
   "outputs": [],
   "source": [
    "class Solution(object):\n",
    "    def climbStairs(self, n):\n",
    "        \"\"\"\n",
    "        :type n: int\n",
    "        :rtype: int\n",
    "        \"\"\"\n",
    "        one, two =1,1\n",
    "        \n",
    "        for i in range(n-1):\n",
    "            temp = one\n",
    "            one = one+two\n",
    "            two = temp\n",
    "        return one\n",
    "        "
   ]
  },
  {
   "cell_type": "markdown",
   "id": "d75a5820",
   "metadata": {},
   "source": [
    "Time Complexity: O(n) Runtime: 21ms\n"
   ]
  },
  {
   "cell_type": "markdown",
   "id": "5a95c171",
   "metadata": {},
   "source": [
    "Problem: #1025. Divisor Game\n",
    "\n",
    "Level- Easy\n",
    "\n",
    "Alice and Bob take turns playing a game, with Alice starting first\n",
    "Initially, there is a number n on the chalkboard. On each player's turn, that player makes a move consisting of:\n",
    "Choosing any x with 0 < x < n and n % x == 0.\n",
    "Replacing the number n on the chalkboard with n - x.\n",
    "Also, if a player cannot make a move, they lose the game.\n",
    "Return true if and only if Alice wins the game, assuming both players play optimally.\n",
    "\n",
    "Example 1:\n",
    "Input: n = 2\n",
    "Output: true\n",
    "Explanation: Alice chooses 1, and Bob has no more moves.\n",
    "    \n",
    "Example 2:\n",
    "Input: n = 3\n",
    "Output: false\n",
    "Explanation: Alice chooses 1, Bob chooses 1, and Alice has no more moves."
   ]
  },
  {
   "cell_type": "code",
   "execution_count": 7,
   "id": "709c27e7",
   "metadata": {},
   "outputs": [],
   "source": [
    "class Solution(object):\n",
    "    def divisorGame(self, n):\n",
    "        \"\"\"\n",
    "        :type n: int\n",
    "        :rtype: bool\n",
    "        \"\"\"\n",
    "        return n%2==0"
   ]
  },
  {
   "cell_type": "markdown",
   "id": "ab9704df",
   "metadata": {},
   "source": [
    "Time Complexity: O(1) Runtime : 12ms"
   ]
  },
  {
   "cell_type": "markdown",
   "id": "f08c3826",
   "metadata": {},
   "source": [
    "Problem: #338. Counting Bites\n",
    "    \n",
    "Given an integer n, return an array ans of length n + 1 such that for each i (0 <= i <= n), ans[i] is the number of 1's in the binary representation of i.\n",
    "\n",
    "Example 1:\n",
    "Input: n = 2\n",
    "Output: [0,1,1]\n",
    "Explanation:\n",
    "0 --> 0\n",
    "1 --> 1\n",
    "2 --> 10\n",
    "\n",
    "Example 2:\n",
    "Input: n = 5\n",
    "Output: [0,1,1,2,1,2]\n",
    "Explanation:\n",
    "0 --> 0\n",
    "1 --> 1\n",
    "2 --> 10\n",
    "3 --> 11\n",
    "4 --> 100\n",
    "5 --> 101"
   ]
  },
  {
   "cell_type": "code",
   "execution_count": 9,
   "id": "0506c124",
   "metadata": {},
   "outputs": [],
   "source": [
    "class Solution(object):\n",
    "    def countBits(self, n):\n",
    "        \"\"\"\n",
    "        :type n: int\n",
    "        :rtype: List[int]\n",
    "        \"\"\"\n",
    "        dp = [0]* (n+1)\n",
    "        ans=[0]\n",
    "        offset = 1\n",
    "        \n",
    "        for i in range(1,n+1):\n",
    "            if offset*2 == i:\n",
    "                offset = i\n",
    "            dp[i] = 1+dp[i-offset]\n",
    "        return dp"
   ]
  },
  {
   "cell_type": "markdown",
   "id": "cb132ce1",
   "metadata": {},
   "source": [
    "Time Complexity: O(n) Runtime: 49ms"
   ]
  },
  {
   "cell_type": "markdown",
   "id": "7f23880e",
   "metadata": {},
   "source": [
    "Problem: #518. Coin Change II\n",
    "\n",
    "Level - Medium\n",
    "\n",
    "You are given an integer array coins representing coins of different denominations and an integer amount representing a total amount of money.\n",
    "\n",
    "Return the number of combinations that make up that amount. If that amount of money cannot be made up by any combination of the coins, return 0.\n",
    "You may assume that you have an infinite number of each kind of coin.\n",
    "The answer is guaranteed to fit into a signed 32-bit integer.\n",
    "\n",
    "Example 1:\n",
    "Input: amount = 5, coins = [1,2,5]\n",
    "Output: 4\n",
    "Explanation: there are four ways to make up the amount:\n",
    "5=5\n",
    "5=2+2+1\n",
    "5=2+1+1+1\n",
    "5=1+1+1+1+1\n",
    "\n",
    "Example 2:\n",
    "Input: amount = 3, coins = [2]\n",
    "Output: 0\n",
    "Explanation: the amount of 3 cannot be made up just with coins of 2.\n",
    "\n",
    "Example 3:\n",
    "Input: amount = 10, coins = [10]\n",
    "Output: 1"
   ]
  },
  {
   "cell_type": "code",
   "execution_count": 1,
   "id": "13e35a47",
   "metadata": {},
   "outputs": [],
   "source": [
    "class Solution(object):\n",
    "    def change(self, amount, coins):\n",
    "        \"\"\"\n",
    "        :type amount: int\n",
    "        :type coins: List[int]\n",
    "        :rtype: int\n",
    "        \"\"\"\n",
    "        n = len(coins) # Use the length of coins array instead of sum(coins)\n",
    "        t = [[0 for _ in range(amount + 1)] for _ in range(n + 1)]\n",
    "\n",
    "        for i in range(n + 1):\n",
    "            t[i][0] = 1\n",
    "\n",
    "        for i in range(1, n + 1):\n",
    "            for j in range(1, amount + 1):\n",
    "                if j >= coins[i - 1]:\n",
    "                    t[i][j] = t[i - 1][j] + t[i][j - coins[i - 1]]\n",
    "                else:\n",
    "                    t[i][j] = t[i - 1][j]\n",
    "        \n",
    "        return t[n][amount]"
   ]
  },
  {
   "cell_type": "markdown",
   "id": "ba3cb606",
   "metadata": {},
   "source": [
    "Time Complexity: O(n * m) Runtime: 328ms"
   ]
  },
  {
   "cell_type": "markdown",
   "id": "043a63e2",
   "metadata": {},
   "source": [
    "Problem: #1143. Longest Common Subsequence\n",
    "\n",
    "Level - Medium\n",
    "\n",
    "Given two strings text1 and text2, return the length of their longest common subsequence. If there is no common subsequence, return 0.\n",
    "A subsequence of a string is a new string generated from the original string with some characters (can be none) deleted without changing the relative order of the remaining characters.\n",
    "For example, \"ace\" is a subsequence of \"abcde\".\n",
    "A common subsequence of two strings is a subsequence that is common to both strings.\n",
    "\n",
    "Example 1:\n",
    "Input: text1 = \"abcde\", text2 = \"ace\" \n",
    "Output: 3  \n",
    "Explanation: The longest common subsequence is \"ace\" and its length is 3.\n",
    "    \n",
    "Example 2:\n",
    "Input: text1 = \"abc\", text2 = \"abc\"\n",
    "Output: 3\n",
    "Explanation: The longest common subsequence is \"abc\" and its length is 3.\n",
    "    \n",
    "Example 3:\n",
    "Input: text1 = \"abc\", text2 = \"def\"\n",
    "Output: 0\n",
    "Explanation: There is no such common subsequence, so the result is 0."
   ]
  },
  {
   "cell_type": "code",
   "execution_count": 2,
   "id": "ef4b3afa",
   "metadata": {},
   "outputs": [],
   "source": [
    "class Solution(object):\n",
    "    def longestCommonSubsequence(self, text1, text2):\n",
    "        n = len(text1)\n",
    "        m = len(text2)\n",
    "\n",
    "        dp = [[0] * (m + 1) for _ in range(n + 1)]\n",
    "\n",
    "        for i in range(1, n + 1):\n",
    "            for j in range(1, m + 1):\n",
    "                if text1[i - 1] == text2[j - 1]:\n",
    "                    dp[i][j] = dp[i - 1][j - 1] + 1\n",
    "                else:\n",
    "                    dp[i][j] = max(dp[i - 1][j], dp[i][j - 1])\n",
    "\n",
    "        return dp[n][m]"
   ]
  },
  {
   "cell_type": "markdown",
   "id": "ba898bb4",
   "metadata": {},
   "source": [
    "Time Complexity: O(N * M) Runtime: 630ms"
   ]
  },
  {
   "cell_type": "markdown",
   "id": "73b5e193",
   "metadata": {},
   "source": [
    "Problem: #516. Longest Palindromic Subsequence\n",
    "\n",
    "Level - Medium\n",
    "\n",
    "Given a string s, find the longest palindromic subsequence's length in s.\n",
    "A subsequence is a sequence that can be derived from another sequence by deleting some or no elements without changing the order of the remaining elements.\n",
    "\n",
    "Example 1:\n",
    "Input: s = \"bbbab\"\n",
    "Output: 4\n",
    "Explanation: One possible longest palindromic subsequence is \"bbbb\".\n",
    "\n",
    "Example 2:\n",
    "Input: s = \"cbbd\"\n",
    "Output: 2\n",
    "Explanation: One possible longest palindromic subsequence is \"bb\"."
   ]
  },
  {
   "cell_type": "code",
   "execution_count": 3,
   "id": "ca5f1c9a",
   "metadata": {},
   "outputs": [],
   "source": [
    "class Solution(object):\n",
    "    def longestPalindromeSubseq(self, s):\n",
    "        \"\"\"\n",
    "        :type s: str\n",
    "        :rtype: int\n",
    "            \"\"\"\n",
    "        m = len(s)\n",
    "        c = s[::-1]\n",
    "        n = len(c) \n",
    "        def lcs(self, x , y, m, n):     \n",
    "\n",
    "            L = [[None]*(n+1) for i in range(m+1)]\n",
    "        \n",
    "\n",
    "            for i in range(m+1):\n",
    "                for j in range(n+1):\n",
    "                    if i == 0 or j == 0 :\n",
    "                        L[i][j] = 0\n",
    "                    elif x[i-1] == y[j-1]:\n",
    "                        L[i][j] = L[i-1][j-1]+1\n",
    "                    else:\n",
    "                        L[i][j] = max(L[i-1][j] , L[i][j-1])\n",
    "            return L[m][n]\n",
    "    \n",
    "        ans = lcs(self,s,c,m,n,)\n",
    "        return ans\n"
   ]
  },
  {
   "cell_type": "markdown",
   "id": "ce9ec861",
   "metadata": {},
   "source": [
    "Time Complexity: O(n * m ) Runtime: 2k "
   ]
  },
  {
   "cell_type": "markdown",
   "id": "22996582",
   "metadata": {},
   "source": [
    "Problem: #1312. Minimum Insertion Steps to Make a String Palindrome\n",
    "\n",
    "Level - Hard\n",
    "\n",
    "\n",
    "Given a string s. In one step you can insert any character at any index of the string.\n",
    "Return the minimum number of steps to make s palindrome.\n",
    "A Palindrome String is one that reads the same backward as well as forward.\n",
    "\n",
    "Example 1:\n",
    "Input: s = \"zzazz\"\n",
    "Output: 0\n",
    "Explanation: The string \"zzazz\" is already palindrome we do not need any insertions.\n",
    "\n",
    "Example 2:\n",
    "Input: s = \"mbadm\"\n",
    "Output: 2\n",
    "Explanation: String can be \"mbdadbm\" or \"mdbabdm\".\n",
    "\n",
    "Example 3:\n",
    "Input: s = \"leetcode\"\n",
    "Output: 5\n",
    "Explanation: Inserting 5 characters the string becomes \"leetcodocteel\"."
   ]
  },
  {
   "cell_type": "markdown",
   "id": "f1d555f6",
   "metadata": {},
   "source": [
    "class Solution(object):\n",
    "    def minInsertions(self, s):\n",
    "        \"\"\"\n",
    "        :type s: str\n",
    "        :rtype: int\n",
    "        \"\"\" \n",
    "        m = len(s)\n",
    "        c = s[::-1]\n",
    "        n = len(c) \n",
    "\n",
    "        def lcs(self, x , y, m, n):\n",
    "            L = [[None]*(n+1) for i in range(m+1)]\n",
    "            for i in range(m+1):\n",
    "                for j in range(n+1):\n",
    "                    if i == 0 or j == 0 :\n",
    "                        L[i][j] = 0\n",
    "                    elif x[i-1] == y[j-1]:\n",
    "                        L[i][j] = L[i-1][j-1]+1\n",
    "                    else:\n",
    "                        L[i][j] = max(L[i-1][j] , L[i][j-1])\n",
    "            return L[m][n] if L[m][n] is not None else 0\n",
    "    \n",
    "        ans = lcs(self,s,c,m,n,)\n",
    "        result = len(s) - ans\n",
    "        return result"
   ]
  },
  {
   "cell_type": "markdown",
   "id": "39759da7",
   "metadata": {},
   "source": [
    "Time Complexity: O(n * m ) Runtime: 600ms"
   ]
  },
  {
   "cell_type": "markdown",
   "id": "a3d7a736-70df-479b-9b98-4e36956a188c",
   "metadata": {},
   "source": [
    "Problem: #55. Jump Game\n",
    "\n",
    "Level - Medium\n",
    "\n",
    "You are given an integer array nums. You are initially positioned at the array's first index, and each element in the array represents your maximum jump length at that position.\n",
    "\n",
    "Return true if you can reach the last index, or false otherwise.\n",
    "\n",
    "Example 1:\n",
    "Input: nums = [2,3,1,1,4]\n",
    "Output: true\n",
    "Explanation: Jump 1 step from index 0 to 1, then 3 steps to the last index.\n",
    "\n",
    "Example 2:\n",
    "Input: nums = [3,2,1,0,4]\n",
    "Output: false\n",
    "Explanation: You will always arrive at index 3 no matter what. Its maximum jump length is 0, which makes it impossible to reach the last index."
   ]
  },
  {
   "cell_type": "code",
   "execution_count": 1,
   "id": "b4a3e3d2-f792-4c64-9c2a-f6a8dc608a75",
   "metadata": {},
   "outputs": [],
   "source": [
    "class Solution(object):\n",
    "    def canJump(self, nums):\n",
    "        \"\"\"\n",
    "        :type nums: List[int]\n",
    "        :rtype: bool\n",
    "        \"\"\"\n",
    "        max_reach = 0\n",
    "\n",
    "        for i in range(len(nums)):\n",
    "\n",
    "            if i > max_reach:\n",
    "                return 0\n",
    "            \n",
    "            max_reach = max(max_reach, i + nums[i])\n",
    "\n",
    "            if max_reach >= len(nums)-1:\n",
    "                return True \n",
    "        return False \n"
   ]
  },
  {
   "cell_type": "markdown",
   "id": "ee897250-3b24-43cb-bd09-68628e2de5f2",
   "metadata": {},
   "source": [
    "Problem: #45. Jump Game II\n",
    "    \n",
    "Level - Medium\n",
    "\n",
    "You are given a 0-indexed array of integers nums of length n. You are initially positioned at nums[0].\n",
    "\n",
    "Each element nums[i] represents the maximum length of a forward jump from index i. In other words, if you are at nums[i], you can jump to any nums[i + j] where:\n",
    "\n",
    "0 <= j <= nums[i] and\n",
    "i + j < n\n",
    "Return the minimum number of jumps to reach nums[n - 1]. The test cases are generated such that you can reach nums[n - 1]. \n",
    "\n",
    "Example 1:\n",
    "Input: nums = [2,3,1,1,4]\n",
    "Output: 2\n",
    "Explanation: The minimum number of jumps to reach the last index is 2. Jump 1 step from index 0 to 1, then 3 steps to the last index.\n",
    "\n",
    "Example 2:\n",
    "Input: nums = [2,3,0,1,4]\n",
    "Output: 2\n"
   ]
  },
  {
   "cell_type": "code",
   "execution_count": 3,
   "id": "aa3db501-4bdf-47fd-a17e-0e39f8883577",
   "metadata": {},
   "outputs": [],
   "source": [
    "class Solution(object):\n",
    "    def jump(self, nums):\n",
    "        \"\"\"\n",
    "        :type nums: List[int]\n",
    "        :rtype: int\n",
    "        \"\"\"\n",
    "        N = len(nums)\n",
    "        i , jumps, maxjump, lastmaxjump = 0,0,0 ,0\n",
    "\n",
    "        while i < N-1 :\n",
    "            maxjump = max(maxjump , i + nums[i])\n",
    "\n",
    "            if i == lastmaxjump :\n",
    "                lastmaxjump = maxjump\n",
    "                jumps +=1\n",
    "            i += 1\n",
    "            \n",
    "        return jumps \n",
    "            \n",
    "\n",
    "    \n"
   ]
  },
  {
   "cell_type": "code",
   "execution_count": null,
   "id": "8fbf1a2c-5d51-4190-9ed5-65ce46dda62a",
   "metadata": {},
   "outputs": [],
   "source": []
  }
 ],
 "metadata": {
  "kernelspec": {
   "display_name": "Python 3 (ipykernel)",
   "language": "python",
   "name": "python3"
  },
  "language_info": {
   "codemirror_mode": {
    "name": "ipython",
    "version": 3
   },
   "file_extension": ".py",
   "mimetype": "text/x-python",
   "name": "python",
   "nbconvert_exporter": "python",
   "pygments_lexer": "ipython3",
   "version": "3.10.9"
  }
 },
 "nbformat": 4,
 "nbformat_minor": 5
}
