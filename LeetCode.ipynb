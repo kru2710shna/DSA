{
 "cells": [
  {
   "cell_type": "markdown",
   "id": "e2d0caf8",
   "metadata": {},
   "source": [
    "#  LeetCode Problems "
   ]
  },
  {
   "cell_type": "markdown",
   "id": "bf3e16ae",
   "metadata": {},
   "source": [
    "### Topic: Arrays\n",
    "##### Level: Easy"
   ]
  },
  {
   "cell_type": "markdown",
   "id": "68cde915",
   "metadata": {},
   "source": [
    "PROBLEM NUMBER #1. Two Sum\n",
    "\n",
    "Given an array of integers nums and an integer target, return indices of the two numbers such that they add up to target. You may assume that each input would have exactly one solution, and you may not use the same element twice. You can return the answer in any order.\n",
    "\n",
    "Example 1:\n",
    "\n",
    "Input: nums = [2,7,11,15], target = 9\n",
    "Output: [0,1]\n",
    "Explanation: Because nums[0] + nums[1] == 9, we return [0, 1].\n",
    "\n",
    "Example 2:\n",
    "Input: nums = [3,2,4], target = 6\n",
    "Output: [1,2]"
   ]
  },
  {
   "cell_type": "code",
   "execution_count": 6,
   "id": "05f819f7",
   "metadata": {},
   "outputs": [],
   "source": [
    "class Solution(object):\n",
    "    def twoSum(self, nums, target):\n",
    "        \"\"\"\n",
    "        :type nums: List[int]\n",
    "        :type target: int\n",
    "        :rtype: List[int]\n",
    "        \"\"\"\n",
    "        for i in range(len(nums)):\n",
    "            for j in range(i+1, len(nums)):\n",
    "                if (i != j and nums[i] + nums[j] == target):\n",
    "                    return [i,j]\n",
    "                \n",
    "class Solution:\n",
    "    def twoSum(self, nums, target):\n",
    "        \"\"\"\n",
    "        :type nums: List[int]\n",
    "        :type target: int\n",
    "        :rtype: List[int]\n",
    "        \"\"\"\n",
    "        num_dict = {}\n",
    "        for i, num in enumerate(nums):\n",
    "            complement = target - num\n",
    "            if complement in num_dict:\n",
    "                return [num_dict[complement], i]\n",
    "            num_dict[num] = i\n",
    "        return []\n",
    "                   \n",
    "                \n",
    "        "
   ]
  },
  {
   "cell_type": "markdown",
   "id": "61ff65ae",
   "metadata": {},
   "source": [
    "Time Complexity : O(N^2)\n",
    "\n",
    "Time Complexity : O(N)\n"
   ]
  },
  {
   "cell_type": "markdown",
   "id": "d4315257",
   "metadata": {},
   "source": [
    "PROBLEM NUMBER #121. Best Time to Buy and Sell Stock\n",
    "\n",
    "You are given an array prices where prices[i] is the price of a given stock on the ith day. You want to maximize your profit by choosing a single day to buy one stock and choosing a different day in the future to sell that stock. Return the maximum profit you can achieve from this transaction. If you cannot achieve any profit, return 0.\n",
    "\n",
    "Example 1:\n",
    "Input: prices = [7,1,5,3,6,4]\n",
    "Output: 5\n",
    "Explanation: Buy on day 2 (price = 1) and sell on day 5 (price = 6), profit = 6-1 = 5.\n",
    "Note that buying on day 2 and selling on day 1 is not allowed because you must buy before you sell.\n",
    "\n",
    "Example 2:\n",
    "Input: prices = [7,6,4,3,1]\n",
    "Output: 0\n",
    "Explanation: In this case, no transactions are done and the max profit = 0.\n"
   ]
  },
  {
   "cell_type": "code",
   "execution_count": 7,
   "id": "d6fc21b2",
   "metadata": {},
   "outputs": [],
   "source": [
    "class Solution(object):\n",
    "    def maxProfit(self, prices):\n",
    "        \"\"\"\n",
    "        :type prices: List[int]\n",
    "        :rtype: int\n",
    "        \"\"\"\n",
    "        if len(prices) < 2:\n",
    "            return 0\n",
    "\n",
    "        buy = prices[0]  # Initialize buy to the first price in the array\n",
    "        max_profit = 0\n",
    "\n",
    "        for i in range(1, len(prices)):\n",
    "            if prices[i] < buy:\n",
    "                buy = prices[i]\n",
    "            else:\n",
    "                profit = prices[i] - buy\n",
    "                max_profit = max(max_profit, profit)\n",
    "\n",
    "        return max_profit  \n",
    "    "
   ]
  },
  {
   "cell_type": "markdown",
   "id": "18792f5d",
   "metadata": {},
   "source": [
    "Time Complexity: 0(N)"
   ]
  },
  {
   "cell_type": "markdown",
   "id": "4a961472",
   "metadata": {},
   "source": [
    "PROBLEM NUMBER #88. Merge Sorted Array\n",
    "You are given two integer arrays nums1 and nums2, sorted in non-decreasing order, and two integers m and n, representing the number of elements in nums1 and nums2 respectively. Merge nums1 and nums2 into a single array sorted in non-decreasing order. The final sorted array should not be returned by the function, but instead be stored inside the array nums1. To accommodate this, nums1 has a length of m + n, where the first m elements denote the elements that should be merged, and the last n elements are set to 0 and should be ignored. nums2 has a length of n.\n",
    "\n",
    "Example 1:\n",
    "Input: nums1 = [1,2,3,0,0,0], m = 3, nums2 = [2,5,6], n = 3\n",
    "Output: [1,2,2,3,5,6]\n",
    "Explanation: The arrays we are merging are [1,2,3] and [2,5,6].\n",
    "The result of the merge is [1,2,2,3,5,6] with the underlined elements coming from nums1.\n",
    "\n",
    "Example 2:\n",
    "Input: nums1 = [1], m = 1, nums2 = [], n = 0\n",
    "Output: [1]\n",
    "Explanation: The arrays we are merging are [1] and [].\n",
    "The result of the merge is [1].\n",
    "\n"
   ]
  },
  {
   "cell_type": "code",
   "execution_count": 8,
   "id": "3d8449c9",
   "metadata": {},
   "outputs": [],
   "source": [
    "class Solution(object):\n",
    "    def merge(self, nums1, m, nums2, n):\n",
    "        \"\"\"\n",
    "        :type nums1: List[int]\n",
    "        :type m: int\n",
    "        :type nums2: List[int]\n",
    "        :type n: int\n",
    "        :rtype: None Do not return anything, modify nums1 in-place instead.\n",
    "        \"\"\"\n",
    "        n2 = n\n",
    "        for i in range(n):\n",
    "            nums1[m + i] = nums2[n2 - 1]\n",
    "            while n2 < 0:\n",
    "                return\n",
    "            n2 -= 1\n",
    "        nums1.sort() \n",
    "\n",
    "class Solution(object):\n",
    "    def merge(self, nums1, m, nums2, n):\n",
    "        \"\"\"\n",
    "        :type nums1: List[int]\n",
    "        :type m: int\n",
    "        :type nums2: List[int]\n",
    "        :type n: int\n",
    "        \"\"\"\n",
    "        i = m - 1\n",
    "        j = n - 1\n",
    "        k = m + n - 1\n",
    "        \n",
    "        while j >= 0:\n",
    "            if i >= 0 and nums1[i] > nums2[j]:\n",
    "                nums1[k] = nums1[i]\n",
    "                i -= 1\n",
    "            else:\n",
    "                nums1[k] = nums2[j]\n",
    "                j -= 1\n",
    "            k -= 1 \n",
    "        "
   ]
  },
  {
   "cell_type": "markdown",
   "id": "43d4741c",
   "metadata": {},
   "source": [
    "Time Complexity : O(1) with Runtime : 33ms \n",
    "\n",
    "Time Complexity : O(1) with Runtime : 16ms "
   ]
  },
  {
   "cell_type": "markdown",
   "id": "2b130c78",
   "metadata": {},
   "source": [
    "PROBLEM NUMBER #283. Move Zeroes\n",
    "\n",
    "Given an integer array nums, move all 0's to the end of it while maintaining the relative order of the non-zero elements. Note that you must do this in-place without making a copy of the array.\n",
    "\n",
    "Example 1:\n",
    "Input: nums = [0,1,0,3,12]\n",
    "Output: [1,3,12,0,0]\n",
    "\n",
    "Example 2:\n",
    "Input: nums = [0]\n",
    "Output: [0]"
   ]
  },
  {
   "cell_type": "code",
   "execution_count": 9,
   "id": "9991707b",
   "metadata": {},
   "outputs": [],
   "source": [
    "class Solution(object):\n",
    "    def moveZeroes(self, nums):\n",
    "        \"\"\"\n",
    "        :type nums: List[int]\n",
    "        :rtype: None Do not return anything, modify nums in-place instead.\n",
    "        \"\"\"\n",
    "        count = 0\n",
    "        i = 0\n",
    "        while i < len(nums):\n",
    "            if nums[i] == 0:\n",
    "                nums.pop(i)\n",
    "                count += 1\n",
    "            else:\n",
    "                i += 1\n",
    "        nums.extend([0] * count)\n",
    "        \n",
    "class Solution(object):\n",
    "    def moveZeroes(self, nums):\n",
    "        \"\"\"\n",
    "        :type nums: List[int]\n",
    "        :rtype: None Do not return anything, modify nums in-place instead.\n",
    "        \"\"\"\n",
    "        i = 0\n",
    "        for j in range(len(nums)):\n",
    "            if nums[j] != 0:\n",
    "                nums[i], nums[j] = nums[j], nums[i]\n",
    "                i += 1"
   ]
  },
  {
   "cell_type": "markdown",
   "id": "16f101d2",
   "metadata": {},
   "source": [
    "Time Complexity : O(n^2) Runtime : 150ms\n",
    "\n",
    "Time Complexity : O(n)   Runtime : 132ms"
   ]
  },
  {
   "cell_type": "markdown",
   "id": "ef337d99",
   "metadata": {},
   "source": [
    "PROBLEM NUMBER #122. Best Time to Buy and Sell Stock II\n",
    "\n",
    "You are given an integer array prices where prices[i] is the price of a given stock on the ith day. On each day, you may decide to buy and/or sell the stock. You can only hold at most one share of the stock at any time. However, you can buy it then immediately sell it on the same day. Find and return the maximum profit you can achieve.\n",
    "\n",
    " \n",
    "\n",
    "Example 1:\n",
    "\n",
    "Input: prices = [7,1,5,3,6,4]\n",
    "Output: 7\n",
    "Explanation: Buy on day 2 (price = 1) and sell on day 3 (price = 5), profit = 5-1 = 4.\n",
    "Then buy on day 4 (price = 3) and sell on day 5 (price = 6), profit = 6-3 = 3.\n",
    "Total profit is 4 + 3 = 7."
   ]
  },
  {
   "cell_type": "code",
   "execution_count": 10,
   "id": "f2b79a16",
   "metadata": {},
   "outputs": [],
   "source": [
    "class Solution(object):\n",
    "    def maxProfit(self, prices):\n",
    "        \"\"\"\n",
    "        :type prices: List[int]\n",
    "        :rtype: int\n",
    "        \"\"\"\n",
    "        profit = 0 \n",
    "        for i in range (1,len(prices)):\n",
    "            if prices[i] > prices[i-1]:\n",
    "                profit += (prices[i]-prices[i-1])\n",
    "        return profit "
   ]
  },
  {
   "cell_type": "markdown",
   "id": "38c9e158",
   "metadata": {},
   "source": [
    "Time Complexity : O(n) Runtime : 42ms "
   ]
  },
  {
   "cell_type": "markdown",
   "id": "07971e9e",
   "metadata": {},
   "source": [
    "PROBLEM NUMBER #1480. Running Sum of 1d Array\n",
    "\n",
    "Given an array nums. We define a running sum of an array as runningSum[i] = sum(nums[0]…nums[i]). Return the running sum of nums.\n",
    "\n",
    "Example 1:\n",
    "Input: nums = [1,2,3,4]\n",
    "Output: [1,3,6,10]\n",
    "Explanation: Running sum is obtained as follows: [1, 1+2, 1+2+3, 1+2+3+4]."
   ]
  },
  {
   "cell_type": "code",
   "execution_count": 11,
   "id": "0a5dad11",
   "metadata": {},
   "outputs": [],
   "source": [
    "class Solution(object):\n",
    "    def runningSum(self, nums):\n",
    "        \"\"\"\n",
    "        :type nums: List[int]\n",
    "        :rtype: List[int]\n",
    "        \"\"\"\n",
    "        result = []\n",
    "        result.append(nums[0])\n",
    "        for i in range(1,len(nums)):\n",
    "            nums[i] += nums[i-1]\n",
    "            result.append(nums[i])\n",
    "        return result"
   ]
  },
  {
   "cell_type": "markdown",
   "id": "303bb864",
   "metadata": {},
   "source": [
    "Time Complexity : O(n) Runtime : 42ms "
   ]
  },
  {
   "cell_type": "markdown",
   "id": "daa52872",
   "metadata": {},
   "source": [
    "PROBLEM NUMBER #724. Find Pivot Index\n",
    "\n",
    "Given an array of integers nums, calculate the pivot index of this array.\n",
    "The pivot index is the index where the sum of all the numbers strictly to the left of the index is equal to the sum of all the numbers strictly to the index's right.\n",
    "If the index is on the left edge of the array, then the left sum is 0 because there are no elements to the left. This also applies to the right edge of the array.\n",
    "Return the leftmost pivot index. If no such index exists, return -1.\n",
    "\n",
    "Example 1:\n",
    "\n",
    "Input: nums = [1,7,3,6,5,6]\n",
    "Output: 3\n",
    "Explanation:\n",
    "The pivot index is 3.\n",
    "Left sum = nums[0] + nums[1] + nums[2] = 1 + 7 + 3 = 11\n",
    "Right sum = nums[4] + nums[5] = 5 + 6 = 11"
   ]
  },
  {
   "cell_type": "code",
   "execution_count": 12,
   "id": "01ab7567",
   "metadata": {},
   "outputs": [],
   "source": [
    "class Solution(object):\n",
    "    def pivotIndex(self, nums):\n",
    "        \"\"\"\n",
    "        :type nums: List[int]\n",
    "        :rtype: int\n",
    "        \"\"\"\n",
    "        leftSum = 0 \n",
    "        total  = sum(nums)\n",
    "        for i in range(len(nums)):\n",
    "            rightsum = total - nums[i] - leftSum\n",
    "            if rightsum == leftSum:\n",
    "                return i\n",
    "            leftSum += nums[i]\n",
    "        return -1 "
   ]
  },
  {
   "cell_type": "markdown",
   "id": "8322b177",
   "metadata": {},
   "source": [
    "Time Complexity : O(n) Runtime : 110ms"
   ]
  },
  {
   "cell_type": "markdown",
   "id": "fab3cdd5",
   "metadata": {},
   "source": [
    "PROBLEM NUMBER #169. Majority Element\n",
    "\n",
    "Given an array nums of size n, return the majority element. The majority element is the element that appears more than ⌊n / 2⌋ times. You may assume that the majority element always exists in the array.\n",
    "\n",
    "Example 1:\n",
    "Input: nums = [3,2,3]\n",
    "Output: 3\n",
    "    \n",
    "Example 2:\n",
    "Input: nums = [2,2,1,1,1,2,2]\n",
    "Output: 2"
   ]
  },
  {
   "cell_type": "code",
   "execution_count": null,
   "id": "47618941",
   "metadata": {},
   "outputs": [],
   "source": []
  }
 ],
 "metadata": {
  "kernelspec": {
   "display_name": "Python 3 (ipykernel)",
   "language": "python",
   "name": "python3"
  },
  "language_info": {
   "codemirror_mode": {
    "name": "ipython",
    "version": 3
   },
   "file_extension": ".py",
   "mimetype": "text/x-python",
   "name": "python",
   "nbconvert_exporter": "python",
   "pygments_lexer": "ipython3",
   "version": "3.9.12"
  }
 },
 "nbformat": 4,
 "nbformat_minor": 5
}
