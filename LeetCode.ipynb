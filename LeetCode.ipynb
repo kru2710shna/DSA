{
 "cells": [
  {
   "cell_type": "markdown",
   "id": "e2d0caf8",
   "metadata": {},
   "source": [
    "#  LeetCode Problems "
   ]
  },
  {
   "cell_type": "markdown",
   "id": "bf3e16ae",
   "metadata": {},
   "source": [
    "### Topic: Arrays"
   ]
  },
  {
   "cell_type": "markdown",
   "id": "68cde915",
   "metadata": {},
   "source": [
    "PROBLEM NUMBER #1. Two Sum\n",
    "\n",
    "Given an array of integers nums and an integer target, return indices of the two numbers such that they add up to target.\n",
    "\n",
    "You may assume that each input would have exactly one solution, and you may not use the same element twice.\n",
    "\n",
    "You can return the answer in any order.\n",
    "\n",
    " \n",
    "\n",
    "Example 1:\n",
    "\n",
    "Input: nums = [2,7,11,15], target = 9\n",
    "Output: [0,1]\n",
    "Explanation: Because nums[0] + nums[1] == 9, we return [0, 1].\n",
    "Example 2:\n",
    "\n",
    "Input: nums = [3,2,4], target = 6\n",
    "Output: [1,2]"
   ]
  },
  {
   "cell_type": "code",
   "execution_count": null,
   "id": "05f819f7",
   "metadata": {},
   "outputs": [],
   "source": [
    "class Solution(object):\n",
    "    def twoSum(self, nums, target):\n",
    "        \"\"\"\n",
    "        :type nums: List[int]\n",
    "        :type target: int\n",
    "        :rtype: List[int]\n",
    "        \"\"\"\n",
    "        for i in range(len(nums)):\n",
    "            for j in range(i+1, len(nums)):\n",
    "                if (i != j and nums[i] + nums[j] == target):\n",
    "                    return [i,j]\n",
    "                \n",
    "class Solution:\n",
    "    def twoSum(self, nums, target):\n",
    "        \"\"\"\n",
    "        :type nums: List[int]\n",
    "        :type target: int\n",
    "        :rtype: List[int]\n",
    "        \"\"\"\n",
    "        num_dict = {}\n",
    "        for i, num in enumerate(nums):\n",
    "            complement = target - num\n",
    "            if complement in num_dict:\n",
    "                return [num_dict[complement], i]\n",
    "            num_dict[num] = i\n",
    "        return []\n",
    "                   \n",
    "                \n",
    "        "
   ]
  },
  {
   "cell_type": "markdown",
   "id": "61ff65ae",
   "metadata": {},
   "source": [
    "Time Complexity : O(N^2)\n",
    "\n",
    "Time Complexity : O(N)\n"
   ]
  },
  {
   "cell_type": "markdown",
   "id": "d4315257",
   "metadata": {},
   "source": [
    "PROBLEM NUMBER #121. Best Time to Buy and Sell Stock\n",
    "\n",
    "You are given an array prices where prices[i] is the price of a given stock on the ith day.\n",
    "\n",
    "You want to maximize your profit by choosing a single day to buy one stock and choosing a different day in the future to sell that stock.\n",
    "\n",
    "Return the maximum profit you can achieve from this transaction. If you cannot achieve any profit, return 0.\n",
    "\n",
    "Example 1:\n",
    "Input: prices = [7,1,5,3,6,4]\n",
    "Output: 5\n",
    "Explanation: Buy on day 2 (price = 1) and sell on day 5 (price = 6), profit = 6-1 = 5.\n",
    "Note that buying on day 2 and selling on day 1 is not allowed because you must buy before you sell.\n",
    "\n",
    "Example 2:\n",
    "Input: prices = [7,6,4,3,1]\n",
    "Output: 0\n",
    "Explanation: In this case, no transactions are done and the max profit = 0.\n"
   ]
  },
  {
   "cell_type": "code",
   "execution_count": 3,
   "id": "d6fc21b2",
   "metadata": {},
   "outputs": [],
   "source": [
    "class Solution(object):\n",
    "    def maxProfit(self, prices):\n",
    "        \"\"\"\n",
    "        :type prices: List[int]\n",
    "        :rtype: int\n",
    "        \"\"\"\n",
    "        if len(prices) < 2:\n",
    "            return 0\n",
    "\n",
    "        buy = prices[0]  # Initialize buy to the first price in the array\n",
    "        max_profit = 0\n",
    "\n",
    "        for i in range(1, len(prices)):\n",
    "            if prices[i] < buy:\n",
    "                buy = prices[i]\n",
    "            else:\n",
    "                profit = prices[i] - buy\n",
    "                max_profit = max(max_profit, profit)\n",
    "\n",
    "        return max_profit  \n",
    "    "
   ]
  },
  {
   "cell_type": "markdown",
   "id": "18792f5d",
   "metadata": {},
   "source": [
    "Time Complexity: 0(N)"
   ]
  },
  {
   "cell_type": "markdown",
   "id": "4a961472",
   "metadata": {},
   "source": [
    "PROBLEM NUMBER #88. Merge Sorted Array\n",
    "You are given two integer arrays nums1 and nums2, sorted in non-decreasing order, and two integers m and n, representing the number of elements in nums1 and nums2 respectively.\n",
    "\n",
    "Merge nums1 and nums2 into a single array sorted in non-decreasing order.\n",
    "\n",
    "The final sorted array should not be returned by the function, but instead be stored inside the array nums1. To accommodate this, nums1 has a length of m + n, where the first m elements denote the elements that should be merged, and the last n elements are set to 0 and should be ignored. nums2 has a length of n.\n",
    "\n",
    " \n",
    "\n",
    "Example 1:\n",
    "\n",
    "Input: nums1 = [1,2,3,0,0,0], m = 3, nums2 = [2,5,6], n = 3\n",
    "Output: [1,2,2,3,5,6]\n",
    "Explanation: The arrays we are merging are [1,2,3] and [2,5,6].\n",
    "The result of the merge is [1,2,2,3,5,6] with the underlined elements coming from nums1.\n",
    "Example 2:\n",
    "\n",
    "Input: nums1 = [1], m = 1, nums2 = [], n = 0\n",
    "Output: [1]\n",
    "Explanation: The arrays we are merging are [1] and [].\n",
    "The result of the merge is [1].\n",
    "\n"
   ]
  },
  {
   "cell_type": "code",
   "execution_count": 3,
   "id": "3d8449c9",
   "metadata": {},
   "outputs": [],
   "source": [
    "class Solution(object):\n",
    "    def merge(self, nums1, m, nums2, n):\n",
    "        \"\"\"\n",
    "        :type nums1: List[int]\n",
    "        :type m: int\n",
    "        :type nums2: List[int]\n",
    "        :type n: int\n",
    "        :rtype: None Do not return anything, modify nums1 in-place instead.\n",
    "        \"\"\"\n",
    "        n2 = n\n",
    "        for i in range(n):\n",
    "            nums1[m + i] = nums2[n2 - 1]\n",
    "            while n2 < 0:\n",
    "                return\n",
    "            n2 -= 1\n",
    "        nums1.sort() \n",
    "\n",
    "class Solution(object):\n",
    "    def merge(self, nums1, m, nums2, n):\n",
    "        \"\"\"\n",
    "        :type nums1: List[int]\n",
    "        :type m: int\n",
    "        :type nums2: List[int]\n",
    "        :type n: int\n",
    "        \"\"\"\n",
    "        i = m - 1\n",
    "        j = n - 1\n",
    "        k = m + n - 1\n",
    "        \n",
    "        while j >= 0:\n",
    "            if i >= 0 and nums1[i] > nums2[j]:\n",
    "                nums1[k] = nums1[i]\n",
    "                i -= 1\n",
    "            else:\n",
    "                nums1[k] = nums2[j]\n",
    "                j -= 1\n",
    "            k -= 1 \n",
    "        "
   ]
  },
  {
   "cell_type": "markdown",
   "id": "43d4741c",
   "metadata": {},
   "source": [
    "Time Complexity : O(1) with Runtime : 33ms \n",
    "Time Complexity : O(1) with Runtime : 16ms "
   ]
  },
  {
   "cell_type": "markdown",
   "id": "2b130c78",
   "metadata": {},
   "source": [
    "PROBLEM NUMBER #283. Move Zeroes\n",
    "\n",
    "Given an integer array nums, move all 0's to the end of it while maintaining the relative order of the non-zero elements.\n",
    "\n",
    "Note that you must do this in-place without making a copy of the array.\n",
    "\n",
    "Example 1:\n",
    "Input: nums = [0,1,0,3,12]\n",
    "Output: [1,3,12,0,0]\n",
    "\n",
    "Example 2:\n",
    "Input: nums = [0]\n",
    "Output: [0]"
   ]
  },
  {
   "cell_type": "markdown",
   "id": "d6d88553",
   "metadata": {},
   "source": [
    "The solution is "
   ]
  }
 ],
 "metadata": {
  "kernelspec": {
   "display_name": "Python 3 (ipykernel)",
   "language": "python",
   "name": "python3"
  },
  "language_info": {
   "codemirror_mode": {
    "name": "ipython",
    "version": 3
   },
   "file_extension": ".py",
   "mimetype": "text/x-python",
   "name": "python",
   "nbconvert_exporter": "python",
   "pygments_lexer": "ipython3",
   "version": "3.9.12"
  }
 },
 "nbformat": 4,
 "nbformat_minor": 5
}
