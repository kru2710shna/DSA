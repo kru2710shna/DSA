{
 "cells": [
  {
   "cell_type": "markdown",
   "id": "595a839c",
   "metadata": {},
   "source": [
    "## LeetCode Problems\n"
   ]
  },
  {
   "cell_type": "markdown",
   "id": "cb4d010d",
   "metadata": {},
   "source": [
    "#### Topic: Sliding Window \n",
    "#### Numbering of the problems are same as Numbering as per LeetCode Problems "
   ]
  },
  {
   "cell_type": "markdown",
   "id": "9a26290b",
   "metadata": {},
   "source": [
    "Problem: #1876. Substrings of Size Three with Distinct Characters\n",
    "\n",
    "Level - Easy\n",
    "\n",
    "A string is good if there are no repeated characters.\n",
    "Given a string s​​​​​, return the number of good substrings of length three in s​​​​​​.\n",
    "Note that if there are multiple occurrences of the same substring, every occurrence should be counted.\n",
    "A substring is a contiguous sequence of characters in a string.\n",
    "\n",
    "Example 1:\n",
    "Input: s = \"xyzzaz\"\n",
    "Output: 1\n",
    "Explanation: There are 4 substrings of size 3: \"xyz\", \"yzz\", \"zza\", and \"zaz\". \n",
    "The only good substring of length 3 is \"xyz\".\n",
    "\n",
    "Example 2:\n",
    "Input: s = \"aababcabc\"\n",
    "Output: 4\n",
    "Explanation: There are 7 substrings of size 3: \"aab\", \"aba\", \"bab\", \"abc\", \"bca\", \"cab\", and \"abc\".\n",
    "The good substrings are \"abc\", \"bca\", \"cab\", and \"abc\"."
   ]
  },
  {
   "cell_type": "code",
   "execution_count": 1,
   "id": "727a078e",
   "metadata": {},
   "outputs": [],
   "source": [
    "class Solution(object):\n",
    "    def countGoodSubstrings(self, s):\n",
    "        \"\"\"\n",
    "        :type s: str\n",
    "        :rtype: int\n",
    "        \"\"\"\n",
    "        ans = 0 \n",
    "        for i in range(len(s)-2):\n",
    "            if len(set(s[i:i+3])) == 3:\n",
    "                ans = ans + 1\n",
    "        return ans\n"
   ]
  },
  {
   "cell_type": "markdown",
   "id": "89582dc0",
   "metadata": {},
   "source": [
    "Time Complexity: O(n) Runtime: 23ms"
   ]
  },
  {
   "cell_type": "markdown",
   "id": "cd1cac54",
   "metadata": {},
   "source": [
    "Problem: #485. Max Consecutive Ones\n",
    "\n",
    "Level - Easy\n",
    "\n",
    "Given a binary array nums, return the maximum number of consecutive 1's in the array.\n",
    "\n",
    "Example 1:\n",
    "Input: nums = [1,1,0,1,1,1]\n",
    "Output: 3\n",
    "Explanation: The first two digits or the last three digits are consecutive 1s. The maximum number of consecutive 1s is 3.\n",
    "\n",
    "Example 2:\n",
    "Input: nums = [1,0,1,1,0,1]\n",
    "Output: 2"
   ]
  },
  {
   "cell_type": "code",
   "execution_count": 2,
   "id": "377ac043",
   "metadata": {},
   "outputs": [],
   "source": [
    "class Solution(object):\n",
    "    def findMaxConsecutiveOnes(self, nums):\n",
    "        \"\"\"\n",
    "        :type nums: List[int]\n",
    "        :rtype: int\n",
    "        \"\"\"\n",
    "        l , output  = 0,0\n",
    "\n",
    "        for r , n in enumerate(nums):\n",
    "            if n == 0:\n",
    "                l = r + 1\n",
    "            output = max(output, r-l+1)\n",
    "        return output \n"
   ]
  },
  {
   "cell_type": "markdown",
   "id": "53839dbc",
   "metadata": {},
   "source": [
    "Time Complexity: O(N) Runtime: 328ms"
   ]
  },
  {
   "cell_type": "markdown",
   "id": "6efd7b32",
   "metadata": {},
   "source": [
    "Problem: #1004. Max Consecutive Ones III\n",
    "\n",
    "Level - Medium\n",
    "\n",
    "Given a binary array nums and an integer k, return the maximum number of consecutive 1's in the array if you can flip at most k 0's. \n",
    "\n",
    "Example 1:\n",
    "Input: nums = [1,1,1,0,0,0,1,1,1,1,0], k = 2\n",
    "Output: 6\n",
    "Explanation: [1,1,1,0,0,1,1,1,1,1,1]\n",
    "Bolded numbers were flipped from 0 to 1. The longest subarray is underlined.\n",
    "\n",
    "Example 2:\n",
    "Input: nums = [0,0,1,1,0,0,1,1,1,0,1,1,0,0,0,1,1,1,1], k = 3\n",
    "Output: 10\n",
    "Explanation: [0,0,1,1,1,1,1,1,1,1,1,1,0,0,0,1,1,1,1]\n",
    "Bolded numbers were flipped from 0 to 1. The longest subarray is underlined."
   ]
  },
  {
   "cell_type": "code",
   "execution_count": 3,
   "id": "2d8ca478",
   "metadata": {},
   "outputs": [],
   "source": [
    "class Solution(object):\n",
    "    def longestOnes(self, nums, k):\n",
    "\n",
    "\n",
    "        \"\"\"\n",
    "        :type nums: List[int]\n",
    "        :type k: int\n",
    "        :rtype: int\n",
    "        \"\"\"\n",
    "        n, ans, l = len(nums), 0, 0\n",
    "        for r in range(n):\n",
    "            if nums[r] == 0:                        \n",
    "                if k == 0:                          \n",
    "                    while nums[l] != 0 : l += 1\n",
    "                    l += 1\n",
    "                else : k-= 1                        \n",
    "            ans = max(ans, r - l + 1)               \n",
    "        return ans"
   ]
  },
  {
   "cell_type": "markdown",
   "id": "ade6832f",
   "metadata": {},
   "source": [
    "Time Comlexity: O(N) Runtime: 528ms"
   ]
  },
  {
   "cell_type": "markdown",
   "id": "6c9d873c",
   "metadata": {},
   "source": [
    "Problem: #643. Maximum Average Subarray I\n",
    "Level - Easy\n",
    "\n",
    "You are given an integer array nums consisting of n elements, and an integer k.\n",
    "Find a contiguous subarray whose length is equal to k that has the maximum average value and return this value. Any answer with a calculation error less than 10-5 will be accepted.\n",
    "\n",
    "Example 1:\n",
    "Input: nums = [1,12,-5,-6,50,3], k = 4\n",
    "Output: 12.75000\n",
    "Explanation: Maximum average is (12 - 5 - 6 + 50) / 4 = 51 / 4 = 12.75\n",
    "    \n",
    "Example 2:\n",
    "Input: nums = [5], k = 1\n",
    "Output: 5.00000"
   ]
  },
  {
   "cell_type": "code",
   "execution_count": 4,
   "id": "ea9bcd9f",
   "metadata": {},
   "outputs": [],
   "source": [
    "class Solution(object):\n",
    "    def findMaxAverage(self, nums, k):\n",
    "        \"\"\"\n",
    "        :type nums: List[int]\n",
    "        :type k: int\n",
    "        :rtype: float\n",
    "        \"\"\"\n",
    "        n = len(nums)\n",
    "        windowSum = sum(nums[:k])\n",
    "        maxSum = windowSum\n",
    "    \n",
    "        for i in range(k, n):\n",
    "            windowSum += nums[i] - nums[i - k]\n",
    "            maxSum = max(maxSum, windowSum)\n",
    "    \n",
    "        return maxSum / float(k)\n",
    "        "
   ]
  },
  {
   "cell_type": "markdown",
   "id": "fe61a451",
   "metadata": {},
   "source": [
    "Time Complexity: O(N) Runtime: 1080ms "
   ]
  },
  {
   "cell_type": "markdown",
   "id": "685ae58f",
   "metadata": {},
   "source": [
    "Problem: #438. Find All Anagrams in a String\n",
    "\n",
    "Level - Medium\n",
    "\n",
    "Given two strings s and p, return an array of all the start indices of p's anagrams in s. You may return the answer in any order.\n",
    "An Anagram is a word or phrase formed by rearranging the letters of a different word or phrase, typically using all the original letters exactly once.\n",
    "\n",
    "Example 1:\n",
    "Input: s = \"cbaebabacd\", p = \"abc\"\n",
    "Output: [0,6]\n",
    "Explanation:\n",
    "The substring with start index = 0 is \"cba\", which is an anagram of \"abc\".\n",
    "The substring with start index = 6 is \"bac\", which is an anagram of \"abc\".\n",
    "\n",
    "Example 2:\n",
    "Input: s = \"abab\", p = \"ab\"\n",
    "Output: [0,1,2]\n",
    "Explanation:\n",
    "The substring with start index = 0 is \"ab\", which is an anagram of \"ab\".\n",
    "The substring with start index = 1 is \"ba\", which is an anagram of \"ab\".\n",
    "The substring with start index = 2 is \"ab\", which is an anagram of \"ab\"."
   ]
  },
  {
   "cell_type": "code",
   "execution_count": 1,
   "id": "854a6ac7",
   "metadata": {},
   "outputs": [],
   "source": [
    "class Solution(object):\n",
    "    def findAnagrams(self, s, p):\n",
    "        \"\"\"\n",
    "        :type s: str\n",
    "        :type p: str\n",
    "        :rtype: List[int]\n",
    "        \"\"\"\n",
    "\n",
    "        if len(p) > len(s):\n",
    "            return []\n",
    "        \n",
    "        pCount , sCount = {} , {}\n",
    "\n",
    "        for i in range(len(p)):\n",
    "            pCount[p[i]] = 1 + pCount.get(p[i] , 0)\n",
    "            sCount[s[i]] = 1 + sCount.get(s[i] , 0)\n",
    "        \n",
    "        res =[0] if pCount == sCount else []\n",
    "\n",
    "        l=0\n",
    "        for r in range(len(p), len(s)):\n",
    "            sCount[s[r]] = 1 + sCount.get(s[r] , 0)\n",
    "            sCount[s[l]] -= 1\n",
    "\n",
    "            if sCount[s[l]] == 0:\n",
    "                sCount.pop(s[l])\n",
    "\n",
    "            l += 1\n",
    "\n",
    "            if sCount == pCount:\n",
    "                res.append(l)\n",
    "        return res"
   ]
  },
  {
   "cell_type": "markdown",
   "id": "1e1e4085",
   "metadata": {},
   "source": [
    "Time Complexity: O(n) Runtime: 92ms"
   ]
  },
  {
   "cell_type": "markdown",
   "id": "53f34c6e-9210-482d-b5f2-2ca18b265a68",
   "metadata": {},
   "source": [
    "Problem : #209. Minimum Size Subarray Sum\n",
    "\n",
    "Level - Medium\n",
    "\n",
    "Given an array of positive integers nums and a positive integer target, return the minimal length of a \n",
    "subarray\n",
    " whose sum is greater than or equal to target. If there is no such subarray, return 0 instead.\n",
    "\n",
    "Example 1:\n",
    "Input: target = 7, nums = [2,3,1,2,4,3]\n",
    "Output: 2\n",
    "Explanation: The subarray [4,3] has the minimal length under the problem constraint.\n",
    "\n",
    "Example 2:\n",
    "Input: target = 4, nums = [1,4,4]\n",
    "Output: 1\n",
    "\n",
    "Example 3:\n",
    "Input: target = 11, nums = [1,1,1,1,1,1,1,1]\n",
    "Output: 0"
   ]
  },
  {
   "cell_type": "code",
   "execution_count": 1,
   "id": "38abb690-3b01-417e-acca-2535799bde77",
   "metadata": {},
   "outputs": [],
   "source": [
    "class Solution(object):\n",
    "    def minSubArrayLen(self, target, nums):\n",
    "        \"\"\"\n",
    "        :type target: int\n",
    "        :type nums: List[int]\n",
    "        :rtype: int\n",
    "        \"\"\"\n",
    "        n = len(nums)\n",
    "        left, right = 0, 0\n",
    "        min_length = float('inf')\n",
    "        current_sum = 0\n",
    "\n",
    "        while right < n:\n",
    "            current_sum += nums[right]\n",
    "\n",
    "            while current_sum >= target:\n",
    "                min_length = min(min_length, right - left + 1)\n",
    "                current_sum -= nums[left]\n",
    "                left += 1\n",
    "\n",
    "            right += 1\n",
    "\n",
    "        return min_length if min_length != float('inf') else 0"
   ]
  },
  {
   "cell_type": "markdown",
   "id": "5559c48d-94cb-4bab-b487-fe3639626ffc",
   "metadata": {},
   "source": [
    "Time Complexity: O(n) Space Complexity: O(1)"
   ]
  },
  {
   "cell_type": "markdown",
   "id": "15e2e5a8-787b-4754-8d87-c0eea3999683",
   "metadata": {},
   "source": [
    "Problem: #3. Longest Substring Without Repeating Characters\n",
    "    \n",
    "Level - Medium\n",
    "\n",
    "Given a string s, find the length of the longest  substring without repeating characters.\n",
    "\n",
    "Example 1:\n",
    "Input: s = \"abcabcbb\"\n",
    "Output: 3\n",
    "Explanation: The answer is \"abc\", with the length of 3.\n",
    "\n",
    "Example 2:\n",
    "Input: s = \"bbbbb\"\n",
    "Output: 1\n",
    "Explanation: The answer is \"b\", with the length of 1.\n",
    "\n",
    "Example 3:\n",
    "Input: s = \"pwwkew\"\n",
    "Output: 3\n",
    "Explanation: The answer is \"wke\", with the length of 3.\n",
    "Notice that the answer must be a substring, \"pwke\" is a subsequence and not a substring."
   ]
  },
  {
   "cell_type": "code",
   "execution_count": 3,
   "id": "76e1bf98-c96f-4bea-bb61-1542c64571b5",
   "metadata": {},
   "outputs": [],
   "source": [
    "class Solution(object):\n",
    "    def lengthOfLongestSubstring(self, s):\n",
    "        \"\"\"\n",
    "        :type s: str\n",
    "        :rtype: int\n",
    "        \"\"\"\n",
    "        left, right = 0, 0\n",
    "        max_length = 0\n",
    "        char_set = set()\n",
    "\n",
    "        while right < len(s):\n",
    "            if s[right] in char_set:\n",
    "                char_set.remove(s[left])\n",
    "                left += 1\n",
    "            else:\n",
    "                char_set.add(s[right])\n",
    "                max_length = max(max_length, right - left + 1)\n",
    "                right += 1\n",
    "\n",
    "        return max_length\n",
    "\n"
   ]
  },
  {
   "cell_type": "markdown",
   "id": "2fa1fde8-d64a-4d36-a8c8-9fbf5c58112a",
   "metadata": {},
   "source": [
    "Time Complexity :O(N) Space Complexity : O(N)"
   ]
  },
  {
   "cell_type": "code",
   "execution_count": null,
   "id": "545bb27b-85c7-45d7-91fd-cad460f45ff4",
   "metadata": {},
   "outputs": [],
   "source": []
  }
 ],
 "metadata": {
  "kernelspec": {
   "display_name": "Python 3 (ipykernel)",
   "language": "python",
   "name": "python3"
  },
  "language_info": {
   "codemirror_mode": {
    "name": "ipython",
    "version": 3
   },
   "file_extension": ".py",
   "mimetype": "text/x-python",
   "name": "python",
   "nbconvert_exporter": "python",
   "pygments_lexer": "ipython3",
   "version": "3.10.9"
  }
 },
 "nbformat": 4,
 "nbformat_minor": 5
}
