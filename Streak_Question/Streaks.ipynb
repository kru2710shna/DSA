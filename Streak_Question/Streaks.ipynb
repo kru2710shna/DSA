{
 "cells": [
  {
   "cell_type": "markdown",
   "id": "c11d545c-e2f9-415b-a5d4-ea098fe2360f",
   "metadata": {},
   "source": [
    "### Problem: #2366. Minimum Replacements to Sort the Array\n",
    "\n",
    "### Level - Hard\n",
    "\n",
    "##### You are given a 0-indexed integer array nums. In one operation you can replace any element of the array with any two elements that sum to it.\n",
    "\n",
    "##### For example, consider nums = [5,6,7]. In one operation, we can replace nums[1] with 2 and 4 and convert nums to [5,2,4,7]. Return the minimum number of operations to make an array that is sorted in non-decreasing order.\n",
    "\n",
    "\n",
    "##### Example 1:\n",
    "##### Input: nums = [3,9,3]\n",
    "##### Output: 2\n",
    "##### Explanation: Here are the steps to sort the array in non-decreasing order:\n",
    "#####  - From [3,9,3], replace the 9 with 3 and 6 so the array becomes [3,3,6,3]\n",
    "#####  - From [3,3,6,3], replace the 6 with 3 and 3 so the array becomes [3,3,3,3,3]\n",
    "##### There are 2 steps to sort the array in non-decreasing order. Therefore, we return 2.\n",
    "\n",
    "##### Example 2:\n",
    "##### Input: nums = [1,2,3,4,5]\n",
    "##### Output: 0\n",
    "##### Explanation: The array is already in non-decreasing order. Therefore, we return 0. "
   ]
  },
  {
   "cell_type": "code",
   "execution_count": 1,
   "id": "f669bedb-822a-473f-a8be-7f3dfaf0c307",
   "metadata": {},
   "outputs": [],
   "source": [
    "class Solution(object):\n",
    "    def minimumReplacement(self, nums):\n",
    "        \"\"\"\n",
    "        :type nums: List[int]\n",
    "        :rtype: int\n",
    "        \"\"\"\n",
    "        \n",
    "        x = nums[-1]\n",
    "        res = 0\n",
    "        for a in reversed(nums):\n",
    "            k = (a + x - 1) // x\n",
    "            x = a // k\n",
    "            res += k - 1\n",
    "        return res\n"
   ]
  },
  {
   "cell_type": "markdown",
   "id": "8e8eee16-7766-4405-9be0-f265898283c4",
   "metadata": {},
   "source": [
    "### Time Complexity: O(N) | Space Complexity:O(1) | Runtime: 415ms"
   ]
  },
  {
   "cell_type": "markdown",
   "id": "1dfadd4f",
   "metadata": {},
   "source": [
    "### Problem: #19. Remove Nth Node From End of List\n",
    "### Level - Medium \n",
    "##### Given the head of a linked list, remove the nth node from the end of the list and return its head.\n",
    "##### Input: head = [1,2,3,4,5], n = 2\n",
    "##### Output: [1,2,3,5]\n",
    "\n",
    "##### Example 2:\n",
    "##### Input: head = [1], n = 1\n",
    "##### Output: []\n",
    "\n",
    "#### Example 3:\n",
    "##### Input: head = [1,2], n = 1\n",
    "##### Output: [1]"
   ]
  },
  {
   "cell_type": "code",
   "execution_count": 2,
   "id": "40b3da4c",
   "metadata": {},
   "outputs": [],
   "source": [
    "class Solution(object):\n",
    "    def removeNthFromEnd(self, head, n):\n",
    "        \"\"\"\n",
    "        :type head: ListNode\n",
    "        :type n: int\n",
    "        :rtype: ListNode\n",
    "        \"\"\"\n",
    "        dummy = ListNode(0)\n",
    "        dummy.next = head\n",
    "        curr = head\n",
    "        before = dummy\n",
    "        after = dummy\n",
    "        \n",
    "        # Move the \"after\" pointer n nodes ahead\n",
    "        for _ in range(n):\n",
    "            after = after.next\n",
    "        \n",
    "        # Move both pointers until the \"after\" pointer reaches the end\n",
    "        while after.next:\n",
    "            before = before.next\n",
    "            after = after.next\n",
    "        \n",
    "        # Remove the nth node from the end\n",
    "        before.next = before.next.next\n",
    "        \n",
    "        return dummy.next\n"
   ]
  },
  {
   "cell_type": "markdown",
   "id": "d094fa73",
   "metadata": {},
   "source": [
    "Time Complexity: O(N)\n",
    "Space Complexity: O(1)"
   ]
  },
  {
   "cell_type": "markdown",
   "id": "e36ebdd3",
   "metadata": {},
   "source": [
    "## Problem Number: 948. Bag of Tokens\n",
    "## Level - Medium \n",
    "#### You start with an initial power of power, an initial score of 0, and a bag of tokens given as an integer array tokens, where each tokens[i] donates the value of tokeni. Your goal is to maximize the total score by strategically playing these tokens. In one move, you can play an unplayed token in one of the two ways (but not both for the same token): Face-up: If your current power is at least tokens[i], you may play tokeni, losing tokens[i] power and gaining 1 score. Face-down: If your current score is at least 1, you may play tokeni, gaining tokens[i] power and losing 1 score. Return the maximum possible score you can achieve after playing any number of tokens.\n",
    "\n",
    "#### Example 1:\n",
    "#### Input: tokens = [100], power = 50\n",
    "#### Output: 0\n",
    "#### Explanation: Since your score is 0 initially, you cannot play the token face-down. You also cannot play it face-up since your power (50) is less than tokens[0] (100).\n",
    "\n",
    "#### Example 2:\n",
    "#### Input: tokens = [200,100], power = 150\n",
    "#### Output: 1\n",
    "#### Explanation: Play token1 (100) face-up, reducing your power to 50 and increasing your score to 1. There is no need to play token0, since you cannot play it face-up to add to your score. The maximum score achievable is 1.\n",
    "\n",
    "#### Example 3:\n",
    "#### Input: tokens = [100,200,300,400], power = 200\n",
    "#### Output: 2\n",
    "#### Explanation: Play the tokens in this order to get a score of 2: Play token0 (100) face-up, reducing power to 100 and increasing score to 1. Play token3 (400) face-down, increasing power to 500 and reducing score to 0. Play token1 (200) face-up, reducing power to 300 and increasing score to 1. Play token2 (300) face-up, reducing power to 0 and increasing score to 2. The maximum score achievable is 2."
   ]
  },
  {
   "cell_type": "code",
   "execution_count": 3,
   "id": "718aeae8",
   "metadata": {},
   "outputs": [],
   "source": [
    "class Solution(object):\n",
    "    def bagOfTokensScore(self, tokens, power):\n",
    "        \"\"\"\n",
    "        :type tokens: List[int]\n",
    "        :type power: int\n",
    "        :rtype: int\n",
    "        \"\"\"\n",
    "        tokens.sort()  # Sort tokens in increasing order\n",
    "        score = 0\n",
    "        max_score = 0\n",
    "        left = 0\n",
    "        right = len(tokens) - 1\n",
    "        \n",
    "        while left <= right:\n",
    "            # Try playing tokens face-up as long as power allows\n",
    "            while left <= right and power >= tokens[left]:\n",
    "                power -= tokens[left]\n",
    "                score += 1\n",
    "                left += 1\n",
    "                max_score = max(max_score, score)\n",
    "            \n",
    "            # If no tokens can be played face-up, try playing one token face-down\n",
    "            if left <= right and score > 0:\n",
    "                power += tokens[right]\n",
    "                score -= 1\n",
    "                right -= 1\n",
    "            else:\n",
    "                break  # No more valid moves possible\n",
    "        \n",
    "        return max_score"
   ]
  },
  {
   "cell_type": "markdown",
   "id": "a834b6f2",
   "metadata": {},
   "source": [
    "Time Complexity: O(NLogN)\n",
    "    Space Complexity: O(1)"
   ]
  },
  {
   "cell_type": "markdown",
   "id": "566c76ae",
   "metadata": {},
   "source": [
    "### Problem Number: #876. Middle of the Linked List\n",
    "### Level - Easy\n",
    "#### Given the head of a singly linked list, return the middle node of the linked list. If there are two middle nodes, return the second middle node.\n",
    "\n",
    "#### Example 1:\n",
    "#### Input: head = [1,2,3,4,5]\n",
    "#### Output: [3,4,5]\n",
    "#### Explanation: The middle node of the list is node 3.\n",
    "\n",
    "#### Example 2:\n",
    "#### Input: head = [1,2,3,4,5,6]\n",
    "#### Output: [4,5,6]\n",
    "#### Explanation: Since the list has two middle nodes with values 3 and 4, we return the second one."
   ]
  },
  {
   "cell_type": "code",
   "execution_count": 4,
   "id": "60b9def2",
   "metadata": {},
   "outputs": [],
   "source": [
    "# Definition for singly-linked list.\n",
    "class ListNode(object):\n",
    "     def __init__(self, val=0, next=None):\n",
    "         self.val = val\n",
    "         self.next = next\n",
    "class Solution(object):\n",
    "    def middleNode(self, head):\n",
    "        \"\"\"\n",
    "        :type head: ListNode\n",
    "        :rtype: ListNode\n",
    "        \"\"\"\n",
    "        slow = head\n",
    "        fast = head\n",
    "        curr = head\n",
    "        count = 0\n",
    "        while fast and fast.next:\n",
    "            slow = slow.next\n",
    "            fast = fast.next.next\n",
    "        \n",
    "        return slow \n",
    "\n",
    "        "
   ]
  },
  {
   "cell_type": "markdown",
   "id": "80efd33c",
   "metadata": {},
   "source": [
    "Time Complexity: O(N)\n",
    "    Space Complexity:O(1)"
   ]
  },
  {
   "cell_type": "markdown",
   "id": "24982c9a",
   "metadata": {},
   "source": [
    "## Proble Number: #3005. Count Elements With Maximum Frequency\n",
    "## Level - Easy\n",
    "##### You are given an array nums consisting of positive integers. Return the total frequencies of elements in nums such that those elements all have the maximum frequency. The frequency of an element is the number of occurrences of that element in the array.\n",
    "\n",
    "##### Example 1:\n",
    "##### Input: nums = [1,2,2,3,1,4]\n",
    "##### Output: 4\n",
    "##### Explanation: The elements 1 and 2 have a frequency of 2 which is the maximum frequency in the array.\n",
    "##### So the number of elements in the array with maximum frequency is 4.\n",
    "\n",
    "##### Example 2:\n",
    "##### Input: nums = [1,2,3,4,5]\n",
    "##### Output: 5\n",
    "##### Explanation: All elements of the array have a frequency of 1 which is the maximum.\n",
    "##### So the number of elements in the array with maximum frequency is 5."
   ]
  },
  {
   "cell_type": "code",
   "execution_count": 5,
   "id": "dbf30e7b",
   "metadata": {},
   "outputs": [],
   "source": [
    "class Solution(object):\n",
    "    def maxFrequencyElements(self, nums):\n",
    "        \"\"\"\n",
    "        :type nums: List[int]\n",
    "        :rtype: int\n",
    "        \"\"\"\n",
    "        freq_dict = {}\n",
    "        max_freq = 0\n",
    "        \n",
    "        # Count the frequency of each element\n",
    "        for num in nums:\n",
    "            freq_dict[num] = freq_dict.get(num, 0) + 1\n",
    "            max_freq = max(max_freq, freq_dict[num])\n",
    "        \n",
    "        # Count the total frequencies of elements with the maximum frequency\n",
    "        total_max_freq = sum(freq for freq in freq_dict.values() if freq == max_freq)\n",
    "        \n",
    "        return total_max_freq\n"
   ]
  },
  {
   "cell_type": "markdown",
   "id": "41556a3c",
   "metadata": {},
   "source": [
    "Time Complexity:O(N) Space Comlexity:O(1)"
   ]
  },
  {
   "cell_type": "markdown",
   "id": "8ca64102",
   "metadata": {},
   "source": [
    "### Problem Number: #2540. Minimum Common Value\n",
    "### Level - Easy\n",
    "#### Given two integer arrays nums1 and nums2, sorted in non-decreasing order, return the minimum integer common to both arrays. If there is no common integer amongst nums1 and nums2, return -1. Note that an integer is said to be common to nums1 and nums2 if both arrays have at least one occurrence of that integer.\n",
    "\n",
    "#### Example 1:\n",
    "#### Input: nums1 = [1,2,3], nums2 = [2,4]\n",
    "#### Output: 2\n",
    "#### Explanation: The smallest element common to both arrays is 2, so we return 2.\n",
    "\n",
    "#### Example 2:\n",
    "#### Input: nums1 = [1,2,3,6], nums2 = [2,3,4,5]\n",
    "#### Output: 2\n",
    "#### Explanation: There are two common elements in the array 2 and 3 out of which 2 is the smallest, so 2 is returned."
   ]
  },
  {
   "cell_type": "code",
   "execution_count": 6,
   "id": "0c899d9f",
   "metadata": {},
   "outputs": [],
   "source": [
    "class Solution(object):\n",
    "    def getCommon(self, nums1, nums2):\n",
    "        \"\"\"\n",
    "        :type nums1: List[int]\n",
    "        :type nums2: List[int]\n",
    "        :rtype: int\n",
    "        \"\"\"\n",
    "        i = 0\n",
    "        j = 0\n",
    "        answer = float('inf') # Initialize answer to positive infinity\n",
    "        while i < len(nums1) and j < len(nums2):\n",
    "            if nums1[i] == nums2[j]:\n",
    "                answer = min(answer, nums1[i])\n",
    "                i += 1\n",
    "                j += 1\n",
    "            elif nums1[i] < nums2[j]:\n",
    "                i += 1\n",
    "            else:\n",
    "                j += 1\n",
    "        \n",
    "        if answer == float('inf'):\n",
    "            return -1\n",
    "        return answer\n",
    "\n",
    "\n",
    "        "
   ]
  },
  {
   "cell_type": "markdown",
   "id": "9a54445c",
   "metadata": {},
   "source": [
    "Time Complexity:O(N) Space Complexity:O(1)"
   ]
  },
  {
   "cell_type": "markdown",
   "id": "23693f66",
   "metadata": {},
   "source": [
    "## Problem Number: #930. Binary Subarrays With Sum\n",
    "## Level - Medium\n",
    "#### Given a binary array nums and an integer goal, return the number of non-empty subarrays with a sum goal. A subarray is a contiguous part of the array.\n",
    "\n",
    "#### Example 1:\n",
    "#### Input: nums = [1,0,1,0,1], goal = 2\n",
    "#### Output: 4\n",
    "#### Explanation: The 4 subarrays are bolded and underlined below:\n",
    "#### [1,0,1,0,1]\n",
    "#### [1,0,1,0,1]\n",
    "#### [1,0,1,0,1]\n",
    "#### [1,0,1,0,1]\n",
    "\n",
    "####Example 2:\n",
    "#### Input: nums = [0,0,0,0,0], goal = 0\n",
    "#### Output: 15"
   ]
  },
  {
   "cell_type": "code",
   "execution_count": 7,
   "id": "5687ae67",
   "metadata": {},
   "outputs": [],
   "source": [
    "class Solution(object):\n",
    "    def numSubarraysWithSum(self, nums, goal):\n",
    "        \"\"\"\n",
    "        :type nums: List[int]\n",
    "        :type goal: int\n",
    "        :rtype: int\n",
    "        \"\"\"\n",
    "        prefix_sum_count = {0: 1}  # Initialize prefix sum count with 0 having 1 occurrence\n",
    "        current_sum = 0\n",
    "        total_subarrays = 0\n",
    "\n",
    "        for num in nums:\n",
    "            current_sum += num\n",
    "            complement = current_sum - goal \n",
    "            if complement in prefix_sum_count:\n",
    "                total_subarrays += prefix_sum_count[complement]\n",
    "\n",
    "            prefix_sum_count[current_sum] = prefix_sum_count.get(current_sum, 0) + 1\n",
    "\n",
    "        return total_subarrays\n",
    "            \n",
    "\n"
   ]
  },
  {
   "cell_type": "markdown",
   "id": "9877e3d0",
   "metadata": {},
   "source": [
    "Time Complexity:O(N) Space Complexity:O(N)"
   ]
  },
  {
   "cell_type": "markdown",
   "id": "b0400741",
   "metadata": {},
   "source": [
    "#"
   ]
  },
  {
   "cell_type": "markdown",
   "id": "ab9d7873",
   "metadata": {},
   "source": [
    "### Problem Number: #205. Isomorphic Strings\n",
    "### level - Easy\n",
    "\n",
    "#### Given two strings s and t, determine if they are isomorphic. Two strings s and t are isomorphic if the characters in s can be replaced to get t. All occurrences of a character must be replaced with another character while preserving the order of characters. No two characters may map to the same character, but a character may map to itself.\n",
    "\n",
    "#### Example 1:\n",
    "#### Input: s = \"egg\", t = \"add\"\n",
    "#### Output: true\n",
    "\n",
    "#### Example 2:\n",
    "#### Input: s = \"foo\", t = \"bar\"\n",
    "#### Output: false\n",
    "\n",
    "#### Example 3:\n",
    "#### Input: s = \"paper\", t = \"title\"\n",
    "#### Output: true"
   ]
  },
  {
   "cell_type": "code",
   "execution_count": 8,
   "id": "203ab668",
   "metadata": {},
   "outputs": [],
   "source": [
    "class Solution(object):\n",
    "    def isIsomorphic(self, s, t):\n",
    "        \"\"\"\n",
    "        :type s: str\n",
    "        :type t: str\n",
    "        :rtype: bool\n",
    "        \"\"\"\n",
    "        if len(t) != len(s):\n",
    "            return False \n",
    "            \n",
    "        map1 = []\n",
    "        map2 = []\n",
    "        for i in s:\n",
    "            map1.append(s.index(i))\n",
    "        for j in t:\n",
    "            map2.append(t.index(j))\n",
    "        \n",
    "        if map1== map2:\n",
    "            return True \n",
    "        \n",
    "        return False \n",
    "\n",
    "            "
   ]
  },
  {
   "cell_type": "code",
   "execution_count": 9,
   "id": "106c3f6d",
   "metadata": {},
   "outputs": [],
   "source": [
    "class Solution(object):\n",
    "    def isIsomorphic(self, s, t):\n",
    "        \"\"\"\n",
    "        :type s: str\n",
    "        :type t: str\n",
    "        :rtype: bool\n",
    "        \"\"\"\n",
    "        if len(set(s))==len(set(zip(s,t)))==len(set(t)):\n",
    "            return True \n",
    "        else :\n",
    "            return False \n",
    "\n",
    "            "
   ]
  },
  {
   "cell_type": "markdown",
   "id": "f9fadb7d",
   "metadata": {},
   "source": [
    "Time Complexity:O(N)\n",
    "Space Complexity:O(N)\n",
    "\n",
    "Time Complexity:O(1)\n",
    "Space Complexity:O(1)"
   ]
  },
  {
   "cell_type": "markdown",
   "id": "8c10acc6",
   "metadata": {},
   "source": [
    "### Problem Number #79. Word Search\n",
    "### Level - Medium\n",
    "\n",
    "#### Given an m x n grid of characters board and a string word, return true if word exists in the grid. The word can be constructed from letters of sequentially adjacent cells, where adjacent cells are horizontally or vertically neighboring. The same letter cell may not be used more than once.\n",
    "\n",
    "#### Example 1:\n",
    "#### Input: board = [[\"A\",\"B\",\"C\",\"E\"],[\"S\",\"F\",\"C\",\"S\"],[\"A\",\"D\",\"E\",\"E\"]], word = \"ABCCED\"\n",
    "#### Output: true\n",
    "\n",
    "#### Example 2:\n",
    "#### Input: board = [[\"A\",\"B\",\"C\",\"E\"],[\"S\",\"F\",\"C\",\"S\"],[\"A\",\"D\",\"E\",\"E\"]], word = \"SEE\"\n",
    "#### Output: true\n",
    "\n",
    "####Example 3:\n",
    "#### Input: board = [[\"A\",\"B\",\"C\",\"E\"],[\"S\",\"F\",\"C\",\"S\"],[\"A\",\"D\",\"E\",\"E\"]], word = \"ABCB\"\n",
    "#### Output: false\n"
   ]
  },
  {
   "cell_type": "code",
   "execution_count": 10,
   "id": "4d0ea04f",
   "metadata": {},
   "outputs": [],
   "source": [
    "class Solution(object):\n",
    "    def exist(self, board, word):\n",
    "        \"\"\"\n",
    "        :type board: List[List[str]]\n",
    "        :type word: str\n",
    "        :rtype: bool\n",
    "        \"\"\"\n",
    "        rows,cols=len(board),len(board[0])\n",
    "        path= set()\n",
    "        \n",
    "        def dfs(r,c,i):# i is current character\n",
    "            if i ==len(word):# what is i is last index or at the length of the word \n",
    "                return True\n",
    "            if(r<0 or c < 0 or r>= rows or c>= cols or word[i] != board[r][c] or (r,c)in path):\n",
    "                return False\n",
    "            \n",
    "            path.add((r,c))\n",
    "            res = (dfs(r+1,c,i+1)or\n",
    "                  dfs(r-1,c,i+1)or\n",
    "                  dfs(r,c+1,i+1)or\n",
    "                  dfs(r,c-1,i+1)) \n",
    "            path.remove((r,c))\n",
    "            return res\n",
    "        for r in range(rows):\n",
    "            for c in range(cols):\n",
    "                if dfs(r,c,0):\n",
    "                    return True\n",
    "        return False\n",
    "\n"
   ]
  },
  {
   "cell_type": "markdown",
   "id": "198620e5",
   "metadata": {},
   "source": [
    "Time Complexity:O(N^2)\n",
    "Space Complexity:O(N^2)"
   ]
  },
  {
   "cell_type": "code",
   "execution_count": null,
   "id": "d7d5ddae",
   "metadata": {},
   "outputs": [],
   "source": []
  }
 ],
 "metadata": {
  "kernelspec": {
   "display_name": "Python 3 (ipykernel)",
   "language": "python",
   "name": "python3"
  },
  "language_info": {
   "codemirror_mode": {
    "name": "ipython",
    "version": 3
   },
   "file_extension": ".py",
   "mimetype": "text/x-python",
   "name": "python",
   "nbconvert_exporter": "python",
   "pygments_lexer": "ipython3",
   "version": "3.11.5"
  }
 },
 "nbformat": 4,
 "nbformat_minor": 5
}
