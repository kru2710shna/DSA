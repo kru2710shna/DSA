{
 "cells": [
  {
   "cell_type": "markdown",
   "id": "fc11f8c3",
   "metadata": {},
   "source": [
    "## LeetCode Problems "
   ]
  },
  {
   "cell_type": "markdown",
   "id": "38d5093c",
   "metadata": {},
   "source": [
    "### Topic: Tree BFS\n",
    "#### Level: Easy - Hard   \n",
    "###### Question To Pratice: 1\n",
    "###### Probelms are numbered according to LeetCode Numbering."
   ]
  },
  {
   "cell_type": "markdown",
   "id": "de5785a2",
   "metadata": {},
   "source": [
    "Problem: #1161. Maximum Level Sum of a Binary Tree\n",
    "\n",
    "Level - Medium\n",
    "\n",
    "Given the root of a binary tree, the level of its root is 1, the level of its children is 2, and so on.\n",
    "\n",
    "Return the smallest level x such that the sum of all the values of nodes at level x is maximal.\n",
    "\n",
    "Example 1:\n",
    "Input: root = [1,7,0,7,-8,null,null]\n",
    "Output: 2\n",
    "Explanation: \n",
    "Level 1 sum = 1.\n",
    "Level 2 sum = 7 + 0 = 7.\n",
    "Level 3 sum = 7 + -8 = -1.\n",
    "So we return the level with the maximum sum which is level 2.\n",
    "\n",
    "Example 2:\n",
    "Input: root = [989,null,10250,98693,-89388,null,null,null,-32127]\n",
    "Output: 2"
   ]
  },
  {
   "cell_type": "code",
   "execution_count": 1,
   "id": "d370d3f4",
   "metadata": {},
   "outputs": [],
   "source": [
    "import collections\n",
    "\n",
    "class Solution(object):\n",
    "    def maxLevelSum(self, root):\n",
    "        max_sum = float('-inf')\n",
    "        max_level = 0\n",
    "        level = 1\n",
    "\n",
    "        q = collections.deque([root])\n",
    "\n",
    "        while q:\n",
    "            curr_sum = 0\n",
    "            qlen = len(q)\n",
    "\n",
    "            for _ in range(qlen):\n",
    "                node = q.popleft()\n",
    "                curr_sum += node.val\n",
    "\n",
    "                if node.left:\n",
    "                    q.append(node.left)\n",
    "                if node.right:\n",
    "                    q.append(node.right)\n",
    "\n",
    "            if curr_sum > max_sum:\n",
    "                max_sum = curr_sum\n",
    "                max_level = level\n",
    "\n",
    "            level += 1\n",
    "\n",
    "        return max_level\n"
   ]
  },
  {
   "cell_type": "markdown",
   "id": "6a963ec9",
   "metadata": {},
   "source": [
    "Time Complexity:O(N) Runtime: 290ms"
   ]
  }
 ],
 "metadata": {
  "kernelspec": {
   "display_name": "Python 3 (ipykernel)",
   "language": "python",
   "name": "python3"
  },
  "language_info": {
   "codemirror_mode": {
    "name": "ipython",
    "version": 3
   },
   "file_extension": ".py",
   "mimetype": "text/x-python",
   "name": "python",
   "nbconvert_exporter": "python",
   "pygments_lexer": "ipython3",
   "version": "3.10.9"
  }
 },
 "nbformat": 4,
 "nbformat_minor": 5
}
