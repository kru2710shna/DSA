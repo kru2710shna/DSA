{
 "cells": [
  {
   "cell_type": "markdown",
   "id": "22b2401b-f8d0-4ce9-b90b-425ad50fc634",
   "metadata": {},
   "source": [
    "# LeetCode Probelems "
   ]
  },
  {
   "cell_type": "markdown",
   "id": "30392614-03ce-40e3-aadc-af7c07d2ac54",
   "metadata": {},
   "source": [
    "#### Topic: Binary Search \n",
    "#### Problems are numbered according to LeetCode Problems "
   ]
  },
  {
   "cell_type": "markdown",
   "id": "8bc5772e-5063-48b5-b219-2b46672cb174",
   "metadata": {},
   "source": [
    "Probelm: #69. Sqrt(x)\n",
    "\n",
    "Level - Easy\n",
    "\n",
    "Given a non-negative integer x, return the square root of x rounded down to the nearest integer. The returned integer should be non-negative as well.\n",
    "You must not use any built-in exponent function or operator.\n",
    "For example, do not use pow(x, 0.5) in c++ or x ** 0.5 in python.\n",
    " \n",
    "Example 1:\n",
    "Input: x = 4\n",
    "Output: 2\n",
    "Explanation: The square root of 4 is 2, so we return 2.\n",
    "\n",
    "Example 2:\n",
    "Input: x = 8\n",
    "Output: 2\n",
    "Explanation: The square root of 8 is 2.82842..., and since we round it down to the nearest integer, 2 is returned."
   ]
  },
  {
   "cell_type": "code",
   "execution_count": 3,
   "id": "f7fe4313-1333-4d19-a2fd-5fd8a17bcbab",
   "metadata": {},
   "outputs": [],
   "source": [
    "import math\n",
    "class Solution(object):\n",
    "    def mySqrt(self, x):\n",
    "        \"\"\"\n",
    "        :type x: int\n",
    "        :rtype: int\n",
    "        \"\"\"\n",
    "        return int(math.sqrt(x))\n",
    "        "
   ]
  },
  {
   "cell_type": "markdown",
   "id": "d8c8f3c4-feca-4516-9ba0-c0274eb097d7",
   "metadata": {},
   "source": [
    "Time Complexity: O(1) Runtime: 16ms "
   ]
  },
  {
   "cell_type": "markdown",
   "id": "950440e3-9a21-4d6b-8020-872276e84c23",
   "metadata": {},
   "source": [
    "Problem: #704. Binary Search\n",
    "\n",
    "Level - Easy\n",
    "\n",
    "Given an array of integers nums which is sorted in ascending order, and an integer target, write a function to search target in nums. If target exists, then return its index. Otherwise, return -1.\n",
    "You must write an algorithm with O(log n) runtime complexity.\n",
    "\n",
    "Example 1:\n",
    "Input: nums = [-1,0,3,5,9,12], target = 9\n",
    "Output: 4\n",
    "Explanation: 9 exists in nums and its index is 4\n",
    "\n",
    "Example 2:\n",
    "Input: nums = [-1,0,3,5,9,12], target = 2\n",
    "Output: -1\n",
    "Explanation: 2 does not exist in nums so return -1"
   ]
  },
  {
   "cell_type": "code",
   "execution_count": 4,
   "id": "db0a363d-a396-42d9-93be-15293c57a61d",
   "metadata": {},
   "outputs": [],
   "source": [
    "class Solution(object):\n",
    "    def search(self, nums, target):\n",
    "        \"\"\"\n",
    "        :type nums: List[int]\n",
    "        :type target: int\n",
    "        :rtype: int\n",
    "        \"\"\"\n",
    "        left = 0\n",
    "        right = len(nums) - 1\n",
    "        \n",
    "        while left <= right:\n",
    "            mid = left + (right - left) // 2\n",
    "            \n",
    "            if nums[mid] == target:\n",
    "                return mid\n",
    "            \n",
    "            if nums[mid] < target:\n",
    "                left = mid + 1\n",
    "            else:\n",
    "                right = mid - 1\n",
    "        \n",
    "        return -1"
   ]
  },
  {
   "cell_type": "markdown",
   "id": "0b3a0a42-9fb8-49ec-8bc6-bf4d670f02e1",
   "metadata": {},
   "source": [
    "Problem: #1351. Count Negative Numbers in a Sorted Matrix\n",
    "\n",
    "Level - Easy\n",
    "\n",
    "Given a m x n matrix grid which is sorted in non-increasing order both row-wise and column-wise, return the number of negative numbers in grid.\n",
    "\n",
    "Example 1:\n",
    "Input: grid = [[4,3,2,-1],[3,2,1,-1],[1,1,-1,-2],[-1,-1,-2,-3]]\n",
    "Output: 8\n",
    "Explanation: There are 8 negatives number in the matrix.\n",
    "\n",
    "Example 2:\n",
    "Input: grid = [[3,2],[1,0]]\n",
    "Output: 0"
   ]
  },
  {
   "cell_type": "code",
   "execution_count": 5,
   "id": "0316a40f-0f9d-4eaf-a879-36a1a4dfc2f3",
   "metadata": {},
   "outputs": [],
   "source": [
    "class Solution(object):\n",
    "    def countNegatives(self, grid):\n",
    "        \"\"\"\n",
    "        :type grid: List[List[int]]\n",
    "        :rtype: int\n",
    "        \"\"\"\n",
    "        i = len(grid) - 1 \n",
    "        j = 0 \n",
    "        count = 0 \n",
    "        while i >= 0 and j < len(grid[0]):\n",
    "            if grid[i][j]< 0:\n",
    "                count += len(grid[0]) - j \n",
    "                i -= 1\n",
    "            else:\n",
    "                j += 1\n",
    "        return (count)"
   ]
  },
  {
   "cell_type": "markdown",
   "id": "680ba565-ade0-4c77-8084-39a68fb74e83",
   "metadata": {},
   "source": [
    "Time Complexity:O(n+m) Runtime: 90ms"
   ]
  },
  {
   "cell_type": "markdown",
   "id": "3d1f8d37-5e1e-4788-83f1-5e4d726893e9",
   "metadata": {},
   "source": [
    "Problem: #852. Peak Index in a Mountain Array\n",
    "\n",
    "Level - Medium\n",
    "\n",
    "An array arr a mountain if the following properties hold:\n",
    "arr.length >= 3\n",
    "There exists some i with 0 < i < arr.length - 1 such that:\n",
    "arr[0] < arr[1] < ... < arr[i - 1] < arr[i] \n",
    "arr[i] > arr[i + 1] > ... > arr[arr.length - 1]\n",
    "Given a mountain array arr, return the index i such that arr[0] < arr[1] < ... < arr[i - 1] < arr[i] > arr[i + 1] > ... > arr[arr.length - 1].\n",
    "You must solve it in O(log(arr.length)) time complexity.\n",
    "\n",
    "Example 1:\n",
    "Input: arr = [0,1,0]\n",
    "Output: 1\n",
    "\n",
    "Example 2:\n",
    "Input: arr = [0,2,1,0]\n",
    "Output: 1\n",
    "\n",
    "Example 3:\n",
    "Input: arr = [0,10,5,2]\n",
    "Output: 1"
   ]
  },
  {
   "cell_type": "code",
   "execution_count": 7,
   "id": "d1d197a9-2a93-4db4-9149-efae93a314d0",
   "metadata": {},
   "outputs": [],
   "source": [
    "class Solution:\n",
    "    def peakIndexInMountainArray(self, arr):\n",
    "        left = 0 \n",
    "        right = len(arr) - 1 \n",
    "        while left < right:\n",
    "            mid = (left + right) // 2\n",
    "            if arr[mid - 1] <= arr[mid] and arr[mid] >= arr[mid + 1]:\n",
    "                return mid\n",
    "            elif arr[mid] < arr[mid + 1]:\n",
    "                left = mid\n",
    "            else:\n",
    "                right = mid\n"
   ]
  },
  {
   "cell_type": "markdown",
   "id": "e8fd8e32-eb83-49b3-8816-7d6306c4326e",
   "metadata": {},
   "source": [
    "Time Complexity: O(log(len(arr))) Runtime: 537"
   ]
  },
  {
   "cell_type": "code",
   "execution_count": null,
   "id": "68d86e6c-6832-45d6-ac88-4f5e9375d404",
   "metadata": {},
   "outputs": [],
   "source": []
  }
 ],
 "metadata": {
  "kernelspec": {
   "display_name": "Python 3 (ipykernel)",
   "language": "python",
   "name": "python3"
  },
  "language_info": {
   "codemirror_mode": {
    "name": "ipython",
    "version": 3
   },
   "file_extension": ".py",
   "mimetype": "text/x-python",
   "name": "python",
   "nbconvert_exporter": "python",
   "pygments_lexer": "ipython3",
   "version": "3.10.9"
  }
 },
 "nbformat": 4,
 "nbformat_minor": 5
}
