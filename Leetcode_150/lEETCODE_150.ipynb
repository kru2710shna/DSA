{
 "cells": [
  {
   "cell_type": "markdown",
   "id": "20ace943-0757-4207-9041-92c0d210eeb3",
   "metadata": {},
   "source": [
    "# Leetcode 150"
   ]
  },
  {
   "cell_type": "markdown",
   "id": "7be5882e-8498-43ce-bb36-b664511af007",
   "metadata": {},
   "source": [
    "#"
   ]
  },
  {
   "cell_type": "markdown",
   "id": "58e45613-37fa-47dd-b7b9-16297127076d",
   "metadata": {},
   "source": [
    "88. Merge Sorted Array"
   ]
  },
  {
   "cell_type": "code",
   "execution_count": 1,
   "id": "daf40ec1-0b0e-494c-b149-8f770c9827a4",
   "metadata": {},
   "outputs": [],
   "source": [
    "class Solution(object):\n",
    "    def merge(self, nums1, m, nums2, n):\n",
    "        \"\"\"\n",
    "        :type nums1: List[int]\n",
    "        :type m: int\n",
    "        :type nums2: List[int]\n",
    "        :type n: int\n",
    "        :rtype: None Do not return anything, modify nums1 in-place instead.\n",
    "        \"\"\"\n",
    "        i = m-1\n",
    "        j= n-1\n",
    "        k = m + n - 1\n",
    "\n",
    "        while i >= 0 and j>= 0:\n",
    "            print(nums1)\n",
    "            if nums1[i]< nums2[j]:\n",
    "                nums1[k] = nums2[j]\n",
    "                j-=1\n",
    "            else:\n",
    "                nums1[k] = nums1[i]\n",
    "                i-=1\n",
    "            \n",
    "            k-=1\n",
    "        \n",
    "        while j >= 0:\n",
    "            nums1[k] = nums2[j]\n",
    "            j -= 1\n",
    "            k -= 1     "
   ]
  },
  {
   "cell_type": "markdown",
   "id": "e20a253f-5ce1-4c30-92c8-f338757aea0f",
   "metadata": {},
   "source": [
    "Time Complexity:O(N+M)\n",
    "Space Complexity:O(1)"
   ]
  },
  {
   "cell_type": "markdown",
   "id": "9eb79fd7-8bee-4753-878e-d34c6195b57e",
   "metadata": {},
   "source": [
    "#"
   ]
  },
  {
   "cell_type": "markdown",
   "id": "71b6c6df-cd08-49c5-bfdb-c835c0916faf",
   "metadata": {},
   "source": [
    "27. Remove Element"
   ]
  },
  {
   "cell_type": "code",
   "execution_count": 3,
   "id": "ab499bce-da19-41a7-8739-0ead675794ae",
   "metadata": {},
   "outputs": [],
   "source": [
    "class Solution(object):\n",
    "    def removeElement(self, nums, val):\n",
    "        \"\"\"\n",
    "        :type nums: List[int]\n",
    "        :type val: int\n",
    "        :rtype: int\n",
    "        \"\"\"\n",
    "        k = 0\n",
    "        for i in range(len(nums)):\n",
    "            if nums[i] != val:\n",
    "                nums[k] = nums[i]\n",
    "                k +=1\n",
    "        \n",
    "        return k \n",
    "        \n"
   ]
  },
  {
   "cell_type": "code",
   "execution_count": 4,
   "id": "f3991261-898b-4443-8ef7-fdf95ecb2d04",
   "metadata": {},
   "outputs": [],
   "source": [
    "class Solution(object):\n",
    "    def removeElement(self, nums, val):\n",
    "        \"\"\"\n",
    "        :type nums: List[int]\n",
    "        :type val: int\n",
    "        :rtype: int\n",
    "        \"\"\"\n",
    "        start, end = 0, len(nums) - 1\n",
    "        while start <= end:\n",
    "            if nums[start] == val:\n",
    "                nums[start], nums[end], end = nums[end], nums[start], end - 1\n",
    "            else:\n",
    "                start +=1\n",
    "        return start"
   ]
  },
  {
   "cell_type": "markdown",
   "id": "b837533b-8dba-4794-80a5-ece0e30ae1a2",
   "metadata": {},
   "source": [
    "Time Complexity:O(N) Space Complexity:O(1)"
   ]
  },
  {
   "cell_type": "code",
   "execution_count": null,
   "id": "d8051d15-1ed8-4f14-9e80-af50a69b2644",
   "metadata": {},
   "outputs": [],
   "source": []
  }
 ],
 "metadata": {
  "kernelspec": {
   "display_name": "Python 3 (ipykernel)",
   "language": "python",
   "name": "python3"
  },
  "language_info": {
   "codemirror_mode": {
    "name": "ipython",
    "version": 3
   },
   "file_extension": ".py",
   "mimetype": "text/x-python",
   "name": "python",
   "nbconvert_exporter": "python",
   "pygments_lexer": "ipython3",
   "version": "3.10.0"
  }
 },
 "nbformat": 4,
 "nbformat_minor": 5
}
