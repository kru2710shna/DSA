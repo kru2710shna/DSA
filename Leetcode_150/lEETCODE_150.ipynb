{
 "cells": [
  {
   "cell_type": "markdown",
   "id": "20ace943-0757-4207-9041-92c0d210eeb3",
   "metadata": {},
   "source": [
    "# Leetcode 150"
   ]
  },
  {
   "cell_type": "markdown",
   "id": "7be5882e-8498-43ce-bb36-b664511af007",
   "metadata": {},
   "source": [
    "#"
   ]
  },
  {
   "cell_type": "markdown",
   "id": "58e45613-37fa-47dd-b7b9-16297127076d",
   "metadata": {},
   "source": [
    "88. Merge Sorted Array"
   ]
  },
  {
   "cell_type": "code",
   "execution_count": 1,
   "id": "daf40ec1-0b0e-494c-b149-8f770c9827a4",
   "metadata": {},
   "outputs": [],
   "source": [
    "class Solution(object):\n",
    "    def merge(self, nums1, m, nums2, n):\n",
    "        \"\"\"\n",
    "        :type nums1: List[int]\n",
    "        :type m: int\n",
    "        :type nums2: List[int]\n",
    "        :type n: int\n",
    "        :rtype: None Do not return anything, modify nums1 in-place instead.\n",
    "        \"\"\"\n",
    "        i = m-1\n",
    "        j= n-1\n",
    "        k = m + n - 1\n",
    "\n",
    "        while i >= 0 and j>= 0:\n",
    "            print(nums1)\n",
    "            if nums1[i]< nums2[j]:\n",
    "                nums1[k] = nums2[j]\n",
    "                j-=1\n",
    "            else:\n",
    "                nums1[k] = nums1[i]\n",
    "                i-=1\n",
    "            \n",
    "            k-=1\n",
    "        \n",
    "        while j >= 0:\n",
    "            nums1[k] = nums2[j]\n",
    "            j -= 1\n",
    "            k -= 1     "
   ]
  },
  {
   "cell_type": "markdown",
   "id": "e20a253f-5ce1-4c30-92c8-f338757aea0f",
   "metadata": {},
   "source": [
    "Time Complexity:O(N+M)\n",
    "Space Complexity:O(1)"
   ]
  },
  {
   "cell_type": "markdown",
   "id": "9eb79fd7-8bee-4753-878e-d34c6195b57e",
   "metadata": {},
   "source": [
    "#"
   ]
  },
  {
   "cell_type": "markdown",
   "id": "71b6c6df-cd08-49c5-bfdb-c835c0916faf",
   "metadata": {},
   "source": [
    "27. Remove Element"
   ]
  },
  {
   "cell_type": "code",
   "execution_count": 2,
   "id": "ab499bce-da19-41a7-8739-0ead675794ae",
   "metadata": {},
   "outputs": [],
   "source": [
    "class Solution(object):\n",
    "    def removeElement(self, nums, val):\n",
    "        \"\"\"\n",
    "        :type nums: List[int]\n",
    "        :type val: int\n",
    "        :rtype: int\n",
    "        \"\"\"\n",
    "        k = 0\n",
    "        for i in range(len(nums)):\n",
    "            if nums[i] != val:\n",
    "                nums[k] = nums[i]\n",
    "                k +=1\n",
    "        \n",
    "        return k \n",
    "        \n"
   ]
  },
  {
   "cell_type": "code",
   "execution_count": 3,
   "id": "f3991261-898b-4443-8ef7-fdf95ecb2d04",
   "metadata": {},
   "outputs": [],
   "source": [
    "class Solution(object):\n",
    "    def removeElement(self, nums, val):\n",
    "        \"\"\"\n",
    "        :type nums: List[int]\n",
    "        :type val: int\n",
    "        :rtype: int\n",
    "        \"\"\"\n",
    "        start, end = 0, len(nums) - 1\n",
    "        while start <= end:\n",
    "            if nums[start] == val:\n",
    "                nums[start], nums[end], end = nums[end], nums[start], end - 1\n",
    "            else:\n",
    "                start +=1\n",
    "        return start"
   ]
  },
  {
   "cell_type": "markdown",
   "id": "b837533b-8dba-4794-80a5-ece0e30ae1a2",
   "metadata": {},
   "source": [
    "Time Complexity:O(N) Space Complexity:O(1)"
   ]
  },
  {
   "cell_type": "markdown",
   "id": "437d6d88-d203-4e2c-910c-fcb64d3a89cf",
   "metadata": {},
   "source": [
    "#"
   ]
  },
  {
   "cell_type": "markdown",
   "id": "072d794d-1934-4773-aa50-224901f9a6ef",
   "metadata": {},
   "source": [
    "26. Remove Duplicates from Sorted Array"
   ]
  },
  {
   "cell_type": "code",
   "execution_count": 4,
   "id": "a27c73e1-9c2c-4ec5-8377-65f536edc2d4",
   "metadata": {},
   "outputs": [],
   "source": [
    "class Solution(object):\n",
    "    def removeDuplicates(self, nums):\n",
    "        \"\"\"\n",
    "        :type nums: List[int]\n",
    "        :rtype: int\n",
    "        \"\"\"\n",
    "        k = 1 \n",
    "        for i in range(1, len(nums)):\n",
    "            if nums[i] != nums[i-1]:\n",
    "                nums[k] = nums[i]\n",
    "                k+=1      \n",
    "        return k\n",
    "        "
   ]
  },
  {
   "cell_type": "markdown",
   "id": "66fa6aad-4606-4ed9-b1d1-ff683f239c65",
   "metadata": {},
   "source": [
    "Time Complexity:O(N) Space Complexity:O(1)"
   ]
  },
  {
   "cell_type": "markdown",
   "id": "086400eb-f123-40f7-8fce-b39dd5bd862d",
   "metadata": {},
   "source": [
    "#"
   ]
  },
  {
   "cell_type": "markdown",
   "id": "5770c670-ac22-4327-9b9b-b24692853695",
   "metadata": {},
   "source": [
    "80. Remove Duplicates from Sorted Array II"
   ]
  },
  {
   "cell_type": "code",
   "execution_count": 5,
   "id": "3c0185db-9fb3-431d-96bc-6ff32546ecc4",
   "metadata": {},
   "outputs": [],
   "source": [
    "class Solution(object):\n",
    "    def removeDuplicates(self, nums):\n",
    "        \"\"\"\n",
    "        :type nums: List[int]\n",
    "        :rtype: int\n",
    "        \"\"\"\n",
    "        if len(nums) <= 2:\n",
    "            return len(nums)\n",
    "        \n",
    "        k = 2  # Start from the third element since the first two are always allowed\n",
    "\n",
    "        for i in range(2, len(nums)):\n",
    "            if nums[i] != nums[k - 2]:  # Compare with the element at position k-2\n",
    "                nums[k] = nums[i]\n",
    "                k += 1\n",
    "                \n",
    "        return k\n",
    "\n",
    "        "
   ]
  },
  {
   "cell_type": "markdown",
   "id": "68d350bf-ff45-40d8-a934-a81966b6a515",
   "metadata": {},
   "source": [
    "Time Complexity:O(N) Space Complexity:O(1)"
   ]
  },
  {
   "cell_type": "markdown",
   "id": "64bead2b-6843-40c0-8b61-29d509276afc",
   "metadata": {},
   "source": [
    "#"
   ]
  },
  {
   "cell_type": "markdown",
   "id": "aaa62132-b466-4d94-921c-54af50a56971",
   "metadata": {},
   "source": [
    "169. Majority Element"
   ]
  },
  {
   "cell_type": "code",
   "execution_count": 6,
   "id": "d0c4f840-dd2a-408b-ba21-5e9bf25b1d87",
   "metadata": {},
   "outputs": [],
   "source": [
    "class Solution(object):\n",
    "    def majorityElement(self, nums):\n",
    "        \"\"\"\n",
    "        :type nums: List[int]\n",
    "        :rtype: int\n",
    "        \"\"\"\n",
    "        counts = {}\n",
    "\n",
    "        for n in nums:\n",
    "            if n in counts:\n",
    "                counts[n] +=1\n",
    "            else:\n",
    "                counts[n] = 1\n",
    "        \n",
    "        for num , count in counts.items():\n",
    "            if count > len(nums) // 2:\n",
    "                return num"
   ]
  },
  {
   "cell_type": "markdown",
   "id": "60fcd6e5-a470-4047-b730-1ce85074df33",
   "metadata": {},
   "source": [
    "Time Complexity:O(N) Space Complexity:O(N)"
   ]
  },
  {
   "cell_type": "markdown",
   "id": "90ea1987-5f75-42ea-9724-6730a55767bf",
   "metadata": {},
   "source": [
    "#"
   ]
  },
  {
   "cell_type": "markdown",
   "id": "32ff816c-38c4-48b8-b709-75afb883ade7",
   "metadata": {},
   "source": [
    "185, Rotate Array"
   ]
  },
  {
   "cell_type": "code",
   "execution_count": 7,
   "id": "773b1231-383b-460e-99fe-f95344f05561",
   "metadata": {},
   "outputs": [],
   "source": [
    "class Solution(object):\n",
    "    def rotate(self, nums, k):\n",
    "        \"\"\"\n",
    "        :type nums: List[int]\n",
    "        :type k: int\n",
    "        :rtype: None Do not return anything, modify nums in-place instead.\n",
    "        \"\"\"\n",
    "        k = k % len(nums)\n",
    "\n",
    "        def reverse(num, start, end):\n",
    "            while start < end:\n",
    "                num[start], num[end] = num[end]  , num[start]\n",
    "                start +=1\n",
    "                end -=1\n",
    "\n",
    "        reverse(nums, 0, len(nums)-1)\n",
    "        reverse(nums, 0, k-1)\n",
    "        reverse(nums, k, len(nums)-1)  "
   ]
  },
  {
   "cell_type": "markdown",
   "id": "47f3021c-cb66-43ac-8ebf-4e6371f2a5bc",
   "metadata": {},
   "source": [
    "#"
   ]
  },
  {
   "cell_type": "markdown",
   "id": "3cde55f7-f3ad-48ba-9189-865f903d708f",
   "metadata": {},
   "source": [
    "121. Best Time to Buy and Sell Stock"
   ]
  },
  {
   "cell_type": "code",
   "execution_count": 8,
   "id": "9a9e9574-4af3-446f-b431-10d94daa4663",
   "metadata": {},
   "outputs": [],
   "source": [
    "class Solution(object):\n",
    "    def maxProfit(self, prices):\n",
    "        \"\"\"\n",
    "        :type prices: List[int]\n",
    "        :rtype: int\n",
    "        \"\"\"\n",
    "        buy = 0\n",
    "        sell = 1\n",
    "        profit = 0\n",
    "\n",
    "        while sell < len(prices):\n",
    "            if prices[buy] < prices[sell]:\n",
    "                cur = prices[sell] - prices[buy]\n",
    "                profit = max(profit, cur)\n",
    "            else:\n",
    "                buy =sell\n",
    "            sell+=1\n",
    "\n",
    "        return profit\n",
    "\n",
    "\n",
    "        \n",
    "\n",
    "        "
   ]
  },
  {
   "cell_type": "markdown",
   "id": "f9323220-8651-4995-b7e6-73662ed837b5",
   "metadata": {},
   "source": [
    "#"
   ]
  },
  {
   "cell_type": "markdown",
   "id": "04610ad0-1a0c-496a-9ff2-bcd9bfa681fe",
   "metadata": {},
   "source": [
    "122. Best Time to Buy and Sell Stock II"
   ]
  },
  {
   "cell_type": "code",
   "execution_count": 9,
   "id": "48c5ceab-8c20-42e9-988a-d22cbfed0490",
   "metadata": {},
   "outputs": [],
   "source": [
    "class Solution(object):\n",
    "    def maxProfit(self, prices):\n",
    "        \"\"\"\n",
    "        :type prices: List[int]\n",
    "        :rtype: int\n",
    "        \"\"\"\n",
    "        profit = 0 \n",
    "        for i in range (1,len(prices)):\n",
    "            if prices[i] > prices[i-1]:\n",
    "                profit += (prices[i]-prices[i-1])\n",
    "        return profit \n",
    "\n",
    "\n",
    "        "
   ]
  },
  {
   "cell_type": "markdown",
   "id": "cb5f182c-c962-433c-83e2-1b0bfeef2108",
   "metadata": {},
   "source": [
    "#"
   ]
  },
  {
   "cell_type": "markdown",
   "id": "cc222e9a-5c72-46ac-a9c8-2149e3fd19fb",
   "metadata": {},
   "source": [
    "55. Jump Game"
   ]
  },
  {
   "cell_type": "code",
   "execution_count": 10,
   "id": "52466908-1903-48a1-b041-b42603eb32f6",
   "metadata": {},
   "outputs": [],
   "source": [
    "class Solution(object):\n",
    "    def canJump(self, nums):\n",
    "        \"\"\"\n",
    "        :type nums: List[int]\n",
    "        :rtype: bool\n",
    "        \"\"\"\n",
    "        n = 0 \n",
    "\n",
    "        for i in range(len(nums)):\n",
    "\n",
    "            if i > n:\n",
    "                return False \n",
    "            n = max(n , i + nums[i])\n",
    "        \n",
    "        return True\n"
   ]
  },
  {
   "cell_type": "markdown",
   "id": "ddd59a72-6d63-4dc3-9054-561e285bc4ed",
   "metadata": {},
   "source": [
    "#"
   ]
  },
  {
   "cell_type": "markdown",
   "id": "9138bdbd-bed9-4820-8963-3d3db7c29b5a",
   "metadata": {},
   "source": [
    "45. Jump Game II"
   ]
  },
  {
   "cell_type": "code",
   "execution_count": null,
   "id": "0cde2979-9714-4efc-8003-77d64db67d00",
   "metadata": {},
   "outputs": [],
   "source": [
    "class Solution(object):\n",
    "    def jump(self, nums):\n",
    "        \"\"\"\n",
    "        :type nums: List[int]\n",
    "        :rtype: int\n",
    "        \"\"\"\n",
    "        res = 0\n",
    "        l=r=0\n",
    "        while r < len(nums) - 1:\n",
    "            farthest = 0\n",
    "            for i in range(l, r + 1):\n",
    "                farthest = max(farthest, i + nums[i])\n",
    "            l = r + 1 \n",
    "            r = farthest\n",
    "            res+=1\n",
    "        return res\n",
    "                \n",
    "    "
   ]
  }
 ],
 "metadata": {
  "kernelspec": {
   "display_name": "Python 3 (ipykernel)",
   "language": "python",
   "name": "python3"
  },
  "language_info": {
   "codemirror_mode": {
    "name": "ipython",
    "version": 3
   },
   "file_extension": ".py",
   "mimetype": "text/x-python",
   "name": "python",
   "nbconvert_exporter": "python",
   "pygments_lexer": "ipython3",
   "version": "3.10.0"
  }
 },
 "nbformat": 4,
 "nbformat_minor": 5
}
