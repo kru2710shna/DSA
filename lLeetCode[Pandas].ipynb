{
 "cells": [
  {
   "cell_type": "markdown",
   "id": "0b990081-afe8-41d7-975a-b626c2327ade",
   "metadata": {},
   "source": [
    "## LeetCode- Pandas "
   ]
  },
  {
   "cell_type": "markdown",
   "id": "c9699897-3413-494e-864e-91bc57c66b92",
   "metadata": {},
   "source": [
    "#"
   ]
  },
  {
   "cell_type": "markdown",
   "id": "4c9a52ff-ba2e-4a41-86a0-d037a4f64a43",
   "metadata": {},
   "source": [
    "Problem Number: 595. Big Countries"
   ]
  },
  {
   "cell_type": "code",
   "execution_count": 1,
   "id": "16fd6442-9e9b-4f5b-8ed8-5eaef4ba3984",
   "metadata": {},
   "outputs": [],
   "source": [
    "import pandas as pd\n",
    "\n",
    "def big_countries(world: pd.DataFrame) -> pd.DataFrame:\n",
    "    # define restriction\n",
    "\n",
    "    restrict = world[(world['area'] >= 3000000) | (world['population'] >= 25000000 )]\n",
    "    result = restrict[['name', 'population', 'area']]\n",
    "\n",
    "    return result\n",
    "    "
   ]
  },
  {
   "cell_type": "markdown",
   "id": "3e768d6a-c937-40d4-a4dd-363d6c300c02",
   "metadata": {},
   "source": [
    "#"
   ]
  },
  {
   "cell_type": "markdown",
   "id": "84febf53-73d6-4d3f-9512-8cb9ea932831",
   "metadata": {},
   "source": [
    "Problem Number:1757. Recyclable and Low Fat Products"
   ]
  },
  {
   "cell_type": "code",
   "execution_count": 2,
   "id": "24e1fe09-ea55-41de-87e4-c96e7b18a801",
   "metadata": {},
   "outputs": [],
   "source": [
    "import pandas as pd\n",
    "\n",
    "def find_products(products: pd.DataFrame) -> pd.DataFrame:\n",
    "\n",
    "    restrict = products[(products['low_fats'] == 'Y') & (products['recyclable'] == 'Y')]\n",
    "\n",
    "    result = restrict[['product_id']]\n",
    "    \n",
    "    return result\n",
    "    "
   ]
  },
  {
   "cell_type": "markdown",
   "id": "bbcbfdfc-73d7-471b-8b75-07e8bedf8e38",
   "metadata": {},
   "source": [
    "#"
   ]
  },
  {
   "cell_type": "markdown",
   "id": "802a4add-acc5-44d8-8e7a-be5216aea7f4",
   "metadata": {},
   "source": [
    "Problem Number:183. Customers Who Never Order"
   ]
  },
  {
   "cell_type": "code",
   "execution_count": 3,
   "id": "b8b297a4-6838-4c01-9b79-ba06bc00dbde",
   "metadata": {},
   "outputs": [],
   "source": [
    "# Solution-1 \n",
    "import pandas as pd\n",
    "\n",
    "def find_customers(customers: pd.DataFrame, orders: pd.DataFrame) -> pd.DataFrame:\n",
    "    df = customers.merge(orders, left_on='id', right_on='customerId', how='left')\n",
    "    return df[df['customerId'].isna()][['name']].rename(columns={'name':'Customers'})\n",
    "\n",
    "# Solution-2 \n",
    "import pandas as pd\n",
    "\n",
    "def find_customers(customers: pd.DataFrame, orders: pd.DataFrame) -> pd.DataFrame:\n",
    "    # Create the filter of all the customer who doesn't appear in 'orders'\n",
    "    filter = ~customers[\"id\"].isin(orders[\"customerId\"])\n",
    "\n",
    "    # Filter the DataFrame to get the non-buyers\n",
    "    non_buyers = customers[filter]\n",
    "\n",
    "    # Select the proper column and rename it\n",
    "    result = non_buyers[['name']].rename(columns={'name':\"Customers\"})\n",
    "\n",
    "    # Return the result\n",
    "    return result"
   ]
  },
  {
   "cell_type": "markdown",
   "id": "ddf45b39-edf4-418f-80d3-779aade79f8d",
   "metadata": {},
   "source": [
    "#"
   ]
  },
  {
   "cell_type": "markdown",
   "id": "ab0b8933-4ec3-4a82-bba9-5a511ccbabbd",
   "metadata": {},
   "source": [
    "Problem Number: 1148. Article Views I"
   ]
  },
  {
   "cell_type": "markdown",
   "id": "e76d9940-2db2-42c2-920a-5f626c5fe67a",
   "metadata": {},
   "source": [
    "Problem Number: 1148. Article Views I"
   ]
  },
  {
   "cell_type": "code",
   "execution_count": 4,
   "id": "d08167eb-dc68-430b-8a31-8f386a57ed77",
   "metadata": {},
   "outputs": [],
   "source": [
    "import pandas as pd\n",
    "\n",
    "def article_views(views: pd.DataFrame) -> pd.DataFrame:\n",
    "\n",
    "    # Filter out what we need \n",
    "    # Time complexity = 0(N)\n",
    "    constraint = views[views['author_id'] == views['viewer_id']]\n",
    "    \n",
    "    # return what it was aksed considering filter\n",
    "    # T: O(1) + Unique(O(N)) = O(N)\n",
    "    result = constraint['author_id'].unique()\n",
    "\n",
    "    # final dataset to retun with sorted and only column \n",
    "    # T: O(N)\n",
    "    res = pd.DataFrame(result, columns=['id'])\n",
    "\n",
    "    # T:O(m logm)\n",
    "    res = res.sort_values(by='id').reset_index(drop=True)\n",
    "\n",
    "    return res \n",
    "\n",
    "# Time - O(m log m )\n",
    "    "
   ]
  },
  {
   "cell_type": "markdown",
   "id": "6e058774-54ce-409f-9301-414dea678ea3",
   "metadata": {},
   "source": [
    "#"
   ]
  },
  {
   "cell_type": "markdown",
   "id": "d72cc5bd-9e6c-436d-a9e4-bdc8dfe8106b",
   "metadata": {},
   "source": [
    "Problem Number: 1683. Invalid Tweets"
   ]
  },
  {
   "cell_type": "code",
   "execution_count": 5,
   "id": "bcc76668-5284-437d-a991-dd51e1aeac11",
   "metadata": {},
   "outputs": [],
   "source": [
    "import pandas as pd\n",
    "\n",
    "def invalid_tweets(tweets: pd.DataFrame) -> pd.DataFrame:\n",
    "\n",
    "    to_filer_out = tweets[tweets['content'].apply(len) > 15]\n",
    "\n",
    "    result = to_filer_out[['tweet_id']]\n",
    "\n",
    "    return result\n",
    "\n",
    "#Time Complexity: O(N)\n",
    "#Space Complexity:O(f)"
   ]
  },
  {
   "cell_type": "code",
   "execution_count": null,
   "id": "4a3e1c85-d848-4937-8faa-5875472b2dbb",
   "metadata": {},
   "outputs": [],
   "source": []
  }
 ],
 "metadata": {
  "kernelspec": {
   "display_name": "Python 3 (ipykernel)",
   "language": "python",
   "name": "python3"
  },
  "language_info": {
   "codemirror_mode": {
    "name": "ipython",
    "version": 3
   },
   "file_extension": ".py",
   "mimetype": "text/x-python",
   "name": "python",
   "nbconvert_exporter": "python",
   "pygments_lexer": "ipython3",
   "version": "3.10.0"
  }
 },
 "nbformat": 4,
 "nbformat_minor": 5
}
