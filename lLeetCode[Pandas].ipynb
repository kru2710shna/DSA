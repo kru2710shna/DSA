{
 "cells": [
  {
   "cell_type": "markdown",
   "id": "0b990081-afe8-41d7-975a-b626c2327ade",
   "metadata": {},
   "source": [
    "## LeetCode- Pandas "
   ]
  },
  {
   "cell_type": "markdown",
   "id": "c9699897-3413-494e-864e-91bc57c66b92",
   "metadata": {},
   "source": [
    "#"
   ]
  },
  {
   "cell_type": "markdown",
   "id": "4c9a52ff-ba2e-4a41-86a0-d037a4f64a43",
   "metadata": {},
   "source": [
    "Problem Number: 595. Big Countries"
   ]
  },
  {
   "cell_type": "code",
   "execution_count": 1,
   "id": "16fd6442-9e9b-4f5b-8ed8-5eaef4ba3984",
   "metadata": {},
   "outputs": [],
   "source": [
    "import pandas as pd\n",
    "\n",
    "def big_countries(world: pd.DataFrame) -> pd.DataFrame:\n",
    "    # define restriction\n",
    "\n",
    "    restrict = world[(world['area'] >= 3000000) | (world['population'] >= 25000000 )]\n",
    "    result = restrict[['name', 'population', 'area']]\n",
    "\n",
    "    return result\n",
    "    "
   ]
  },
  {
   "cell_type": "markdown",
   "id": "3e768d6a-c937-40d4-a4dd-363d6c300c02",
   "metadata": {},
   "source": [
    "#"
   ]
  },
  {
   "cell_type": "markdown",
   "id": "84febf53-73d6-4d3f-9512-8cb9ea932831",
   "metadata": {},
   "source": [
    "Problem Number:1757. Recyclable and Low Fat Products"
   ]
  },
  {
   "cell_type": "code",
   "execution_count": 2,
   "id": "24e1fe09-ea55-41de-87e4-c96e7b18a801",
   "metadata": {},
   "outputs": [],
   "source": [
    "import pandas as pd\n",
    "\n",
    "def find_products(products: pd.DataFrame) -> pd.DataFrame:\n",
    "\n",
    "    restrict = products[(products['low_fats'] == 'Y') & (products['recyclable'] == 'Y')]\n",
    "\n",
    "    result = restrict[['product_id']]\n",
    "    \n",
    "    return result\n",
    "    "
   ]
  },
  {
   "cell_type": "markdown",
   "id": "bbcbfdfc-73d7-471b-8b75-07e8bedf8e38",
   "metadata": {},
   "source": [
    "#"
   ]
  },
  {
   "cell_type": "markdown",
   "id": "802a4add-acc5-44d8-8e7a-be5216aea7f4",
   "metadata": {},
   "source": [
    "Problem Number:183. Customers Who Never Order"
   ]
  },
  {
   "cell_type": "code",
   "execution_count": 3,
   "id": "b8b297a4-6838-4c01-9b79-ba06bc00dbde",
   "metadata": {},
   "outputs": [],
   "source": [
    "# Solution-1 \n",
    "import pandas as pd\n",
    "\n",
    "def find_customers(customers: pd.DataFrame, orders: pd.DataFrame) -> pd.DataFrame:\n",
    "    df = customers.merge(orders, left_on='id', right_on='customerId', how='left')\n",
    "    return df[df['customerId'].isna()][['name']].rename(columns={'name':'Customers'})\n",
    "\n",
    "# Solution-2 \n",
    "import pandas as pd\n",
    "\n",
    "def find_customers(customers: pd.DataFrame, orders: pd.DataFrame) -> pd.DataFrame:\n",
    "    # Create the filter of all the customer who doesn't appear in 'orders'\n",
    "    filter = ~customers[\"id\"].isin(orders[\"customerId\"])\n",
    "\n",
    "    # Filter the DataFrame to get the non-buyers\n",
    "    non_buyers = customers[filter]\n",
    "\n",
    "    # Select the proper column and rename it\n",
    "    result = non_buyers[['name']].rename(columns={'name':\"Customers\"})\n",
    "\n",
    "    # Return the result\n",
    "    return result"
   ]
  },
  {
   "cell_type": "markdown",
   "id": "ddf45b39-edf4-418f-80d3-779aade79f8d",
   "metadata": {},
   "source": [
    "#"
   ]
  },
  {
   "cell_type": "markdown",
   "id": "ab0b8933-4ec3-4a82-bba9-5a511ccbabbd",
   "metadata": {},
   "source": [
    "Problem Number: 1148. Article Views I"
   ]
  },
  {
   "cell_type": "markdown",
   "id": "e76d9940-2db2-42c2-920a-5f626c5fe67a",
   "metadata": {},
   "source": [
    "Problem Number: 1148. Article Views I"
   ]
  },
  {
   "cell_type": "code",
   "execution_count": 4,
   "id": "d08167eb-dc68-430b-8a31-8f386a57ed77",
   "metadata": {},
   "outputs": [],
   "source": [
    "import pandas as pd\n",
    "\n",
    "def article_views(views: pd.DataFrame) -> pd.DataFrame:\n",
    "\n",
    "    # Filter out what we need \n",
    "    # Time complexity = 0(N)\n",
    "    constraint = views[views['author_id'] == views['viewer_id']]\n",
    "    \n",
    "    # return what it was aksed considering filter\n",
    "    # T: O(1) + Unique(O(N)) = O(N)\n",
    "    result = constraint['author_id'].unique()\n",
    "\n",
    "    # final dataset to retun with sorted and only column \n",
    "    # T: O(N)\n",
    "    res = pd.DataFrame(result, columns=['id'])\n",
    "\n",
    "    # T:O(m logm)\n",
    "    res = res.sort_values(by='id').reset_index(drop=True)\n",
    "\n",
    "    return res \n",
    "\n",
    "# Time - O(m log m )\n",
    "    "
   ]
  },
  {
   "cell_type": "markdown",
   "id": "6e058774-54ce-409f-9301-414dea678ea3",
   "metadata": {},
   "source": [
    "#"
   ]
  },
  {
   "cell_type": "markdown",
   "id": "d72cc5bd-9e6c-436d-a9e4-bdc8dfe8106b",
   "metadata": {},
   "source": [
    "Problem Number: 1683. Invalid Tweets"
   ]
  },
  {
   "cell_type": "code",
   "execution_count": 5,
   "id": "bcc76668-5284-437d-a991-dd51e1aeac11",
   "metadata": {},
   "outputs": [],
   "source": [
    "import pandas as pd\n",
    "\n",
    "def invalid_tweets(tweets: pd.DataFrame) -> pd.DataFrame:\n",
    "\n",
    "    to_filer_out = tweets[tweets['content'].apply(len) > 15]\n",
    "\n",
    "    result = to_filer_out[['tweet_id']]\n",
    "\n",
    "    return result\n",
    "\n",
    "#Time Complexity: O(N)\n",
    "#Space Complexity:O(f)"
   ]
  },
  {
   "cell_type": "markdown",
   "id": "b974a354-4d32-48cb-a64f-9caff0501fd4",
   "metadata": {},
   "source": [
    "#"
   ]
  },
  {
   "cell_type": "markdown",
   "id": "9b9980d6-7323-4fb4-945b-2f612dedb188",
   "metadata": {},
   "source": [
    "1873. Calculate Special Bonus"
   ]
  },
  {
   "cell_type": "code",
   "execution_count": 6,
   "id": "a58c7d0d-dacf-483d-8d4f-7a1033492fa5",
   "metadata": {},
   "outputs": [
    {
     "ename": "SyntaxError",
     "evalue": "'return' outside function (2522591890.py, line 11)",
     "output_type": "error",
     "traceback": [
      "\u001b[0;36m  Cell \u001b[0;32mIn[6], line 11\u001b[0;36m\u001b[0m\n\u001b[0;31m    return result\u001b[0m\n\u001b[0m    ^\u001b[0m\n\u001b[0;31mSyntaxError\u001b[0m\u001b[0;31m:\u001b[0m 'return' outside function\n"
     ]
    }
   ],
   "source": [
    "import pandas as pd\n",
    "\n",
    "def calculate_special_bonus(employees: pd.DataFrame) -> pd.DataFrame:\n",
    "\n",
    "    employees['bonus'] = employees.apply(\n",
    "        lambda row: row['salary'] if row['employee_id'] %2 != 0 and not row['name'].startswith(\"M\") else 0, axis =1\n",
    "    )\n",
    "    \n",
    "    result  = employees[['employee_id' , 'bonus']].sort_values(by= \"employee_id\").reset_index(drop=True)\n",
    "\n",
    "return result \n",
    "\n",
    "#Time Complexity: O(N)\n",
    "#Space Complexity:O(f)"
   ]
  },
  {
   "cell_type": "markdown",
   "id": "20bdd26d-0c57-4b27-ab01-05a36eef3ffd",
   "metadata": {},
   "source": [
    "#"
   ]
  },
  {
   "cell_type": "markdown",
   "id": "8918ec3e-7d14-4afc-9682-4fbce5ea1f38",
   "metadata": {},
   "source": [
    "1667. Fix Names in a Table"
   ]
  },
  {
   "cell_type": "code",
   "execution_count": 7,
   "id": "bb45517d-5e54-4f22-891d-319655801ea2",
   "metadata": {},
   "outputs": [],
   "source": [
    "import pandas as pd\n",
    "\n",
    "def fix_names(users: pd.DataFrame) -> pd.DataFrame:\n",
    "\n",
    "    users['name'] = users['name'].str.capitalize()\n",
    "\n",
    "    # Sort the result by 'user_id'\n",
    "    result = users.sort_values(by='user_id').reset_index(drop=True)\n",
    "\n",
    "    return result\n",
    "\n",
    "#Time Complexity: O(N)\n",
    "#Space Complexity:O(f)"
   ]
  },
  {
   "cell_type": "markdown",
   "id": "b36b1134-11fc-40d2-aba3-ea577499e077",
   "metadata": {},
   "source": [
    "#"
   ]
  },
  {
   "cell_type": "markdown",
   "id": "6d2ded84-d3ea-409d-b5f6-2bee6c68eea4",
   "metadata": {},
   "source": [
    "1517. Find Users With Valid E-Mails"
   ]
  },
  {
   "cell_type": "markdown",
   "id": "b26d4f5e-4835-4f8d-8e73-e500c4456b0b",
   "metadata": {},
   "source": [
    "1517. Find Users With Valid E-Mails"
   ]
  },
  {
   "cell_type": "code",
   "execution_count": 8,
   "id": "aa948e12-726f-4498-a6e2-5ca5f2053740",
   "metadata": {},
   "outputs": [],
   "source": [
    "import pandas \n",
    "import re\n",
    "\n",
    "\n",
    "def valid_emails(users: pd.DataFrame) -> pd.DataFrame:\n",
    "    # Define the regular expression pattern for a valid email prefix\n",
    "    regexify = r'^[a-zA-Z][a-zA-Z0-9._-]*$'\n",
    "    \n",
    "    def validcheck(mail):\n",
    "        # Check if the email ends with '@leetcode.com'\n",
    "        if mail.endswith(\"@leetcode.com\"):\n",
    "            # Extract the prefix (part before '@')\n",
    "            prefix = mail[:-len(\"@leetcode.com\")]\n",
    "            # Check if the prefix matches the regex pattern\n",
    "            if re.match(regexify, prefix):\n",
    "                return True\n",
    "        return False\n",
    "    \n",
    "    # Apply the validcheck function to each email in the 'mail' column\n",
    "    temp = users[users['mail'].apply(validcheck)]\n",
    "    \n",
    "    # Return only the user_id, name, and mail columns of the filtered DataFrame\n",
    "    result = temp[['user_id', 'name', 'mail']]\n",
    "    return result"
   ]
  },
  {
   "cell_type": "markdown",
   "id": "18c19e31-7c34-4a7f-98b2-8736c7f094b3",
   "metadata": {},
   "source": [
    "#"
   ]
  },
  {
   "cell_type": "markdown",
   "id": "8a9a0e6d-c3d4-47db-b2d6-3603be38d92a",
   "metadata": {},
   "source": [
    "1527. Patients With a Condition"
   ]
  },
  {
   "cell_type": "code",
   "execution_count": 9,
   "id": "a47a92fc-7975-4204-873f-b31bf880b023",
   "metadata": {},
   "outputs": [],
   "source": [
    "import pandas as pd\n",
    "\n",
    "def find_patients(patients: pd.DataFrame) -> pd.DataFrame:\n",
    "\n",
    "    contraint = patients[patients['conditions'].str.contains('DIAB1', na=False)]\n",
    "\n",
    "    result = contraint[['patient_id', 'patient_name', 'conditions']]\n",
    "\n",
    "    return result \n",
    "\n",
    "    "
   ]
  },
  {
   "cell_type": "markdown",
   "id": "e7069259-af3a-4ebc-aba8-03872aeb6ccd",
   "metadata": {},
   "source": []
  },
  {
   "cell_type": "markdown",
   "id": "5e1887d9-bb99-43cc-b574-d88352e0755c",
   "metadata": {},
   "source": [
    "177. Nth Highest Salary"
   ]
  },
  {
   "cell_type": "code",
   "execution_count": 10,
   "id": "32e18577-a82b-43c8-8ad0-b25449f94f49",
   "metadata": {},
   "outputs": [],
   "source": [
    "import pandas as pd\n",
    "\n",
    "def nth_highest_salary(df: pd.DataFrame, N: int) -> pd.DataFrame:\n",
    "    df = df['salary'].drop_duplicates()\n",
    "    df = df.sort_values(ascending=False)\n",
    "    column = 'getNthHighestSalary('+str(N)+')'\n",
    "    if N > len(df) or N<=0:\n",
    "        return pd.DataFrame({column:[None]})\n",
    "    return pd.DataFrame({column:[df.iloc[N-1]]})"
   ]
  },
  {
   "cell_type": "markdown",
   "id": "24ef1293-7a68-4d5f-916e-1152094c35e6",
   "metadata": {},
   "source": [
    "#"
   ]
  },
  {
   "cell_type": "code",
   "execution_count": null,
   "id": "3508ca66-25fe-452b-b8cc-4edced156f5e",
   "metadata": {},
   "outputs": [],
   "source": []
  }
 ],
 "metadata": {
  "kernelspec": {
   "display_name": "Python 3 (ipykernel)",
   "language": "python",
   "name": "python3"
  },
  "language_info": {
   "codemirror_mode": {
    "name": "ipython",
    "version": 3
   },
   "file_extension": ".py",
   "mimetype": "text/x-python",
   "name": "python",
   "nbconvert_exporter": "python",
   "pygments_lexer": "ipython3",
   "version": "3.10.0"
  }
 },
 "nbformat": 4,
 "nbformat_minor": 5
}
