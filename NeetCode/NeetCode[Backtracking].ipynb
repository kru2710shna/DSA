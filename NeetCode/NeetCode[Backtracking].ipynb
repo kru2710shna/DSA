{
 "cells": [
  {
   "cell_type": "markdown",
   "id": "4697960b-c331-4e79-af75-9cba8ff05f38",
   "metadata": {},
   "source": [
    "## NeetCode- Backtracking "
   ]
  },
  {
   "cell_type": "markdown",
   "id": "f8e7af81-5243-49f4-8d9c-d30c67e94ca6",
   "metadata": {},
   "source": [
    "#"
   ]
  },
  {
   "cell_type": "markdown",
   "id": "e8befb24-ac3f-4f5a-98b7-907c22076356",
   "metadata": {},
   "source": [
    "Problem Number: 46. Permutations"
   ]
  },
  {
   "cell_type": "code",
   "execution_count": 2,
   "id": "d5d030c9-f714-464d-b3fb-41496112e89f",
   "metadata": {},
   "outputs": [],
   "source": [
    "class Solution(object):\n",
    "    def permute(self, nums):\n",
    "        \"\"\"\n",
    "        :type nums: List[int]\n",
    "        :rtype: List[List[int]]\n",
    "        \"\"\"\n",
    "        result = []\n",
    "\n",
    "        def permute_inside(nums,l,r):\n",
    "\n",
    "            if l ==r:\n",
    "                result.append(nums[:])\n",
    "            \n",
    "            for i in range(l,r):\n",
    "                nums[l] , nums[i] = nums[i] , nums[l]\n",
    "                permute_inside(nums,l+1,r)\n",
    "                nums[l] , nums[i] = nums[i] , nums[l]\n",
    "        \n",
    "        permute_inside(nums,0,len(nums))\n",
    "        return result\n",
    "\n",
    "        "
   ]
  },
  {
   "cell_type": "markdown",
   "id": "d2ab75ce-570c-4560-8b4e-3a36320962b0",
   "metadata": {},
   "source": [
    "Time Complexity:O(N!) Space Complexity:O(N) Runtime:20ms Highest"
   ]
  },
  {
   "cell_type": "markdown",
   "id": "591aca9b-a724-434b-9831-7019b84436b6",
   "metadata": {},
   "source": [
    "#"
   ]
  },
  {
   "cell_type": "markdown",
   "id": "f71f2113-8546-4719-abb7-de4fd64add1a",
   "metadata": {},
   "source": [
    "Problem Number: 78. Subsets"
   ]
  },
  {
   "cell_type": "code",
   "execution_count": null,
   "id": "643cb633-cd32-4cbd-b4bc-2995dcc7b67a",
   "metadata": {},
   "outputs": [],
   "source": []
  }
 ],
 "metadata": {
  "kernelspec": {
   "display_name": "Python 3 (ipykernel)",
   "language": "python",
   "name": "python3"
  },
  "language_info": {
   "codemirror_mode": {
    "name": "ipython",
    "version": 3
   },
   "file_extension": ".py",
   "mimetype": "text/x-python",
   "name": "python",
   "nbconvert_exporter": "python",
   "pygments_lexer": "ipython3",
   "version": "3.11.7"
  }
 },
 "nbformat": 4,
 "nbformat_minor": 5
}
