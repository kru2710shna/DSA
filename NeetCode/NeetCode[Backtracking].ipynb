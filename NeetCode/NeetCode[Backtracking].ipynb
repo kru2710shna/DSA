{
 "cells": [
  {
   "cell_type": "markdown",
   "id": "4697960b-c331-4e79-af75-9cba8ff05f38",
   "metadata": {},
   "source": [
    "## NeetCode- Backtracking "
   ]
  },
  {
   "cell_type": "markdown",
   "id": "f8e7af81-5243-49f4-8d9c-d30c67e94ca6",
   "metadata": {},
   "source": [
    "#"
   ]
  },
  {
   "cell_type": "markdown",
   "id": "e8befb24-ac3f-4f5a-98b7-907c22076356",
   "metadata": {},
   "source": [
    "Problem Number: 46. Permutations"
   ]
  },
  {
   "cell_type": "code",
   "execution_count": 9,
   "id": "d5d030c9-f714-464d-b3fb-41496112e89f",
   "metadata": {},
   "outputs": [],
   "source": [
    "class Solution(object):\n",
    "    def permute(self, nums):\n",
    "        \"\"\"\n",
    "        :type nums: List[int]\n",
    "        :rtype: List[List[int]]\n",
    "        \"\"\"\n",
    "        result = []\n",
    "\n",
    "        def permute_inside(nums,l,r):\n",
    "\n",
    "            if l ==r:\n",
    "                result.append(nums[:])\n",
    "            \n",
    "            for i in range(l,r):\n",
    "                nums[l] , nums[i] = nums[i] , nums[l]\n",
    "                permute_inside(nums,l+1,r)\n",
    "                nums[l] , nums[i] = nums[i] , nums[l]\n",
    "        \n",
    "        permute_inside(nums,0,len(nums))\n",
    "        return result\n",
    "\n",
    "        "
   ]
  },
  {
   "cell_type": "markdown",
   "id": "d2ab75ce-570c-4560-8b4e-3a36320962b0",
   "metadata": {},
   "source": [
    "Time Complexity:O(N!) Space Complexity:O(N) Runtime:20ms Highest"
   ]
  },
  {
   "cell_type": "markdown",
   "id": "591aca9b-a724-434b-9831-7019b84436b6",
   "metadata": {},
   "source": [
    "#"
   ]
  },
  {
   "cell_type": "markdown",
   "id": "f71f2113-8546-4719-abb7-de4fd64add1a",
   "metadata": {},
   "source": [
    "Problem Number: 39. Combination Sum"
   ]
  },
  {
   "cell_type": "code",
   "execution_count": 10,
   "id": "643cb633-cd32-4cbd-b4bc-2995dcc7b67a",
   "metadata": {},
   "outputs": [],
   "source": [
    "class Solution(object):\n",
    "    def combinationSum(self, candidates, target):\n",
    "        \"\"\"\n",
    "        :type candidates: List[int]\n",
    "        :type target: int\n",
    "        :rtype: List[List[int]]\n",
    "        \"\"\"\n",
    "        res = []\n",
    "        def dfs(candidates, path,res, target):\n",
    "            if target < 0 :\n",
    "                return \n",
    "            \n",
    "            if target == 0:\n",
    "                res.append(path)\n",
    "                return \n",
    "                \n",
    "            for i in range(len(candidates)):\n",
    "                dfs(candidates[i:], path + [candidates[i]] ,res , target - candidates[i] )\n",
    "\n",
    "        dfs(candidates, [],res, target)\n",
    "        return res"
   ]
  },
  {
   "cell_type": "markdown",
   "id": "831bcbc3-1f71-4014-bdf1-035c5e639bb2",
   "metadata": {},
   "source": [
    "Time Complexity:O(2^N) Space Complexity:O(N) Runtime:20ms Highest"
   ]
  },
  {
   "cell_type": "markdown",
   "id": "523bc9c6-a044-40f9-8150-dfaca327e14f",
   "metadata": {},
   "source": [
    "#"
   ]
  },
  {
   "cell_type": "markdown",
   "id": "2864656f-89c7-4858-ae1b-bdcd99f60dcc",
   "metadata": {},
   "source": [
    "Problem Number: 78. Subsets"
   ]
  },
  {
   "cell_type": "code",
   "execution_count": 11,
   "id": "4de7feb4-83df-48d0-83b8-417eda759e30",
   "metadata": {},
   "outputs": [],
   "source": [
    "class Solution(object):\n",
    "    def subsets(self, nums):\n",
    "        \"\"\"\n",
    "        :type nums: List[int]\n",
    "        :rtype: List[List[int]]\n",
    "        \"\"\"\n",
    "\n",
    "        res=[]\n",
    "        subset=[]\n",
    "\n",
    "        def dfs(i):\n",
    "            if i >= len(nums):\n",
    "                res.append(list(subset))\n",
    "                return\n",
    "            subset.append(nums[i])\n",
    "            dfs(i+1)\n",
    "            \n",
    "            subset.pop()\n",
    "            dfs(i+1)\n",
    "        dfs(0)\n",
    "        return res"
   ]
  },
  {
   "cell_type": "markdown",
   "id": "40af20d9-0335-4300-9706-74d83caf1b93",
   "metadata": {},
   "source": [
    "Time Complexity:O(2^N) Space Complexity:O(N) Runtime:20ms Highest"
   ]
  },
  {
   "cell_type": "markdown",
   "id": "9a9fd7e3-92d0-4db6-8a2c-95c51f17ce44",
   "metadata": {},
   "source": [
    "#"
   ]
  },
  {
   "cell_type": "markdown",
   "id": "7650a828-7f99-494e-bbe4-c15faed2540d",
   "metadata": {},
   "source": [
    "Problem Number: 90. Subsets II"
   ]
  },
  {
   "cell_type": "code",
   "execution_count": 12,
   "id": "53207afa-f63b-4090-8fb9-dbea8b7851eb",
   "metadata": {},
   "outputs": [],
   "source": [
    "class Solution(object):\n",
    "    def subsetsWithDup(self, nums):\n",
    "        \"\"\"\n",
    "        :type nums: List[int]\n",
    "        :rtype: List[List[int]]\n",
    "        \"\"\"\n",
    "        res = []\n",
    "        nums.sort()\n",
    "\n",
    "        def backtrack(i , subset):\n",
    "            if i == len(nums):\n",
    "                res.append(list(subset))\n",
    "                return \n",
    "\n",
    "            subset.append(nums[i])\n",
    "            backtrack(i+1, subset)\n",
    "            subset.pop()\n",
    "\n",
    "            while i +1  < len(nums) and nums[i] == nums[i+1]:\n",
    "                i = i + 1\n",
    "            backtrack(i+1, subset)\n",
    "        backtrack(0 , [])\n",
    "        return res\n"
   ]
  },
  {
   "cell_type": "markdown",
   "id": "06674660-6797-4abb-9508-ef5a7c2e530f",
   "metadata": {},
   "source": [
    "Time Complexity:O(2^N) Space Complexity:O(N) Runtime:20ms Highest"
   ]
  },
  {
   "cell_type": "markdown",
   "id": "c624f415-83f7-4c6e-8a13-ba36297dbf60",
   "metadata": {},
   "source": [
    "#"
   ]
  },
  {
   "cell_type": "markdown",
   "id": "86024e16-6328-4bc2-a6ed-0b4429d1295d",
   "metadata": {},
   "source": [
    "Problem Number: 40. Combination Sum II"
   ]
  },
  {
   "cell_type": "code",
   "execution_count": 13,
   "id": "1d802f11-72f7-46b9-a00e-ab7560a89a76",
   "metadata": {},
   "outputs": [],
   "source": [
    "class Solution(object):\n",
    "    def combinationSum2(self, candidates, target):\n",
    "        ret = []\n",
    "        self.dfs(sorted(candidates), target, 0, [], ret)\n",
    "        return ret\n",
    "    \n",
    "    def dfs(self, nums, target, idx, path, ret):\n",
    "        if target <= 0:\n",
    "            if target == 0:\n",
    "                ret.append(path)\n",
    "            return \n",
    "        for i in range(idx, len(nums)):\n",
    "            if i > idx and nums[i] == nums[i-1]:\n",
    "                continue\n",
    "            self.dfs(nums, target-nums[i], i+1, path+[nums[i]], ret)"
   ]
  },
  {
   "cell_type": "markdown",
   "id": "7b78a9e5-866b-4e58-9d38-869ef9638217",
   "metadata": {},
   "source": [
    "Time Complexity:O(2^N) Space Complexity:O(N) Runtime:20ms Highest"
   ]
  },
  {
   "cell_type": "markdown",
   "id": "d9347c95-1161-4dc7-89e9-c7f8407a0a4a",
   "metadata": {},
   "source": [
    "#"
   ]
  },
  {
   "cell_type": "markdown",
   "id": "74ed867a-9aeb-4284-be81-13285652fe36",
   "metadata": {},
   "source": [
    "Problem Number: 79. Word Search"
   ]
  },
  {
   "cell_type": "code",
   "execution_count": 14,
   "id": "be8fddc9-9e61-4266-af84-3a2ae043fd0f",
   "metadata": {},
   "outputs": [],
   "source": [
    "class Solution(object):\n",
    "    def exist(self, board, word):\n",
    "        \"\"\"\n",
    "        :type board: List[List[str]]\n",
    "        :type word: str\n",
    "        :rtype: bool\n",
    "        \"\"\"\n",
    "        R  = len(board)\n",
    "        C = len(board[0])\n",
    "        path = set()\n",
    "        def dfs(r,c,i):\n",
    "            if i == len(word):\n",
    "                return True \n",
    "            \n",
    "            if (r < 0 or c <0 or r >= R or c >= C or (r,c) in path or word[i] != board[r][c]):\n",
    "                return False \n",
    "            \n",
    "            path.add((r,c))\n",
    "            res = (( dfs(r+1,c,i+1)) or \n",
    "                (dfs(r-1,c,i+1)) or \n",
    "                (dfs(r,c+1,i+1)) or \n",
    "                (dfs(r,c-1,i+1)))\n",
    "            \n",
    "            path.remove((r,c))\n",
    "            return res\n",
    "        \n",
    "        for i in range(R):\n",
    "            for j in range(C):\n",
    "                if dfs(i,j,0):\n",
    "                    return True\n",
    "        \n",
    "        return False \n",
    "\n",
    "\n",
    "        "
   ]
  },
  {
   "cell_type": "markdown",
   "id": "994936a7-7a0e-4390-ace6-3a8e64d0a744",
   "metadata": {},
   "source": [
    "Time Complexity:O(R x C X 4^L) Space Complexity:O(N) Runtime:20ms #"
   ]
  },
  {
   "cell_type": "markdown",
   "id": "a44f5ca5-084c-4e5b-abb2-9ee7f949d606",
   "metadata": {},
   "source": [
    "#"
   ]
  },
  {
   "cell_type": "markdown",
   "id": "86255371-c573-42af-b958-8c689370ba3a",
   "metadata": {},
   "source": [
    "Problem number: 131. Palindrome Partitioning"
   ]
  },
  {
   "cell_type": "code",
   "execution_count": 15,
   "id": "e91da370-2454-45b4-9684-4a4ced8ebf21",
   "metadata": {},
   "outputs": [],
   "source": [
    "class Solution(object):\n",
    "    def partition(self, s):\n",
    "        \"\"\"\n",
    "        :type s: str\n",
    "        :rtype: List[List[str]]\n",
    "        \"\"\"\n",
    "\n",
    "        n = len(s)\n",
    "        output = []\n",
    "\n",
    "\n",
    "        def dfs(start, sofar):\n",
    "            if start == n:\n",
    "                output.append(sofar)\n",
    "                return \n",
    "            \n",
    "            for i in range(start,n):\n",
    "                if s[start:i+1] == s[start:i+1][::-1]:\n",
    "                    dfs(i+1, sofar + [s[start:i+1]])\n",
    "            \n",
    "        \n",
    "        dfs(0, [])\n",
    "        return output\n",
    "                \n",
    "\n",
    "\n",
    "        "
   ]
  },
  {
   "cell_type": "markdown",
   "id": "71ee9250-eefd-4334-803c-1c74f6d18ca5",
   "metadata": {},
   "source": [
    "Time Complexity:O(N x 2^n) Space Complexity:O(N) Runtime:20ms n is the length of string "
   ]
  },
  {
   "cell_type": "markdown",
   "id": "dd2d26b3-82a0-4733-96fa-3faafa9effaf",
   "metadata": {},
   "source": [
    "#"
   ]
  },
  {
   "cell_type": "markdown",
   "id": "6f4925e3-a8d6-4f3d-b3ee-3f8e2b1e647b",
   "metadata": {},
   "source": [
    "Problem Number:17. Letter Combinations of a Phone Number"
   ]
  },
  {
   "cell_type": "code",
   "execution_count": 16,
   "id": "d7847f02-0724-4237-a0bb-ae8045844b60",
   "metadata": {},
   "outputs": [],
   "source": [
    "class Solution(object):\n",
    "    def letterCombinations(self, digits):\n",
    "        \"\"\"\n",
    "        :type digits: str\n",
    "        :rtype: List[str]\n",
    "        \"\"\"\n",
    "        output = []\n",
    "        dig = {\"2\": \"abc\",\n",
    "               \"3\": \"def\",\n",
    "               \"4\": \"ghi\",\n",
    "               \"5\": \"jkl\",\n",
    "               \"6\": \"mno\",\n",
    "               \"7\": \"pqrs\",\n",
    "               \"8\": \"tuv\",\n",
    "               \"9\": \"wxyz\"}\n",
    "        def dfs(i, path):\n",
    "            if len(path) == len(digits):\n",
    "                output.append(path)\n",
    "                return \n",
    "            \n",
    "            for c in dig[digits[i]]:\n",
    "                dfs(i+1, path+c)\n",
    "            \n",
    "        if digits:\n",
    "            dfs(0, \"\")\n",
    "            \n",
    "        return output\n",
    "\n",
    "            \n",
    "\n",
    "        "
   ]
  },
  {
   "cell_type": "markdown",
   "id": "5a31e2b8-91a7-4033-8cf0-2b316ba59985",
   "metadata": {},
   "source": [
    "Time Complexity:O(4^N) Space Complexity:O(N x 4^N) Runtime:20ms n is the length of string"
   ]
  },
  {
   "cell_type": "markdown",
   "id": "0cbfcf62-f45f-4c18-ba3a-ce1a64ab7bab",
   "metadata": {},
   "source": [
    "#"
   ]
  },
  {
   "cell_type": "markdown",
   "id": "d8a7d7af-2709-4ed8-9def-6da21277bd88",
   "metadata": {},
   "source": [
    "Problem Number: 51. N-Queens"
   ]
  },
  {
   "cell_type": "code",
   "execution_count": 17,
   "id": "89727fd6-c5b5-4ecd-aaf4-5d15e5fbc24a",
   "metadata": {},
   "outputs": [],
   "source": [
    "class Solution(object):\n",
    "    def solveNQueens(self, n):\n",
    "        \"\"\"\n",
    "        :type n: int\n",
    "        :rtype: List[List[str]]\n",
    "        \"\"\"\n",
    "        cols = set()\n",
    "        positived = set()\n",
    "        negetived = set()\n",
    "        res = []\n",
    "        board = [[\".\"]*n for i in range(n)]\n",
    "\n",
    "        def backtrack(r):\n",
    "            if r == n:\n",
    "                copy = [\"\". join(row) for row in board]\n",
    "                res.append(copy)\n",
    "                return \n",
    "            \n",
    "            for c in range(n):\n",
    "                if c in cols or (r+c) in positived or (r-c) in negetived:\n",
    "                    continue \n",
    "                \n",
    "                cols.add(c)\n",
    "                positived.add(r+c)\n",
    "                negetived.add(r-c)\n",
    "                board[r][c] = \"Q\"\n",
    "\n",
    "                backtrack(r+1)\n",
    "\n",
    "                cols.remove(c)\n",
    "                positived.remove(r+c)\n",
    "                negetived.remove(r-c)\n",
    "                board[r][c] = \".\"\n",
    "\n",
    "        backtrack(0)\n",
    "        return res\n"
   ]
  },
  {
   "cell_type": "markdown",
   "id": "e15a9bc9-fa95-4b5e-b0bf-c6659a0691aa",
   "metadata": {},
   "source": [
    "Time Complexity:O(N!) Space Complexity:O(N x N) Runtime:20ms n is the length of string"
   ]
  }
 ],
 "metadata": {
  "kernelspec": {
   "display_name": "Python 3 (ipykernel)",
   "language": "python",
   "name": "python3"
  },
  "language_info": {
   "codemirror_mode": {
    "name": "ipython",
    "version": 3
   },
   "file_extension": ".py",
   "mimetype": "text/x-python",
   "name": "python",
   "nbconvert_exporter": "python",
   "pygments_lexer": "ipython3",
   "version": "3.11.7"
  }
 },
 "nbformat": 4,
 "nbformat_minor": 5
}
