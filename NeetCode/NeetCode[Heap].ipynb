{
 "cells": [
  {
   "cell_type": "markdown",
   "id": "8e565ce8-5b16-45f4-9d04-5675867181f6",
   "metadata": {},
   "source": [
    "## Heap - NeetCode"
   ]
  },
  {
   "cell_type": "markdown",
   "id": "4628a967-f039-4aee-a9ad-d3372060f336",
   "metadata": {},
   "source": [
    "#"
   ]
  },
  {
   "cell_type": "markdown",
   "id": "f9968821-e366-4827-8bfe-6e17e28e4519",
   "metadata": {},
   "source": [
    "Problem Number:215. Kth Largest Element in an Array"
   ]
  },
  {
   "cell_type": "code",
   "execution_count": 6,
   "id": "ebd43bfc-09e1-4b1f-986a-eb50c9800514",
   "metadata": {},
   "outputs": [],
   "source": [
    "class Solution(object):\n",
    "    def findKthLargest(self, nums, k):\n",
    "        \"\"\"\n",
    "        :type nums: List[int]\n",
    "        :type k: int\n",
    "        :rtype: int\n",
    "        \"\"\"\n",
    "        min_heap = []\n",
    "        for num in nums:\n",
    "            heapq.heappush(min_heap, num)\n",
    "            if len(min_heap) > k :\n",
    "                heapq.heappop(min_heap)\n",
    "        return min_heap[0]"
   ]
  },
  {
   "cell_type": "markdown",
   "id": "f4b992cf-0025-469e-99b4-f6ea3935d04a",
   "metadata": {},
   "source": [
    "Time Complexity:O(N logK) Space Complexity:O(k) Runtime: 900ms "
   ]
  },
  {
   "cell_type": "markdown",
   "id": "5bf2a5c5-ca00-45f2-98c4-5733c230e8ce",
   "metadata": {},
   "source": [
    "#"
   ]
  },
  {
   "cell_type": "markdown",
   "id": "1c27f310-f0eb-449b-8b15-29eb782a92ff",
   "metadata": {},
   "source": [
    "Problem Number:973. K Closest Points to Origin"
   ]
  },
  {
   "cell_type": "code",
   "execution_count": 7,
   "id": "4e2defb4-2a28-409d-9019-74f551ad1e5d",
   "metadata": {},
   "outputs": [],
   "source": [
    "import math \n",
    "class Solution(object):\n",
    "    def kClosest(self, points, k):\n",
    "        \"\"\"\n",
    "        :type points: List[List[int]]\n",
    "        :type k: int\n",
    "        :rtype: List[List[int]]\n",
    "        \"\"\"\n",
    "\n",
    "        max_heap = []\n",
    "        for x ,y in points:\n",
    "            difference  = (x ** 2) + (y ** 2)\n",
    "\n",
    "            heapq.heappush(max_heap , (-difference ,[x,y] ) )\n",
    "\n",
    "            if len(max_heap) > k:\n",
    "                heapq.heappop(max_heap)\n",
    "        return [ans for _,ans in max_heap]\n",
    "\n",
    "        "
   ]
  },
  {
   "cell_type": "markdown",
   "id": "d2163a92-d26c-4b2d-a5b2-2b5c5d12ce45",
   "metadata": {},
   "source": [
    "Time Complexity:O(N logK) Space Complexity:O(k) Runtime: 20ms"
   ]
  },
  {
   "cell_type": "markdown",
   "id": "1b4a6d09-40cc-48fe-8146-c7e8289ebe92",
   "metadata": {},
   "source": [
    "#"
   ]
  },
  {
   "cell_type": "markdown",
   "id": "c757cea3-d6a0-4357-b4b0-832acaefdce4",
   "metadata": {},
   "source": [
    "Problem Number 703. Kth Largest Element in a Stream"
   ]
  },
  {
   "cell_type": "code",
   "execution_count": 8,
   "id": "9124ca72-3fed-4e74-8c84-d28ce4d18a72",
   "metadata": {},
   "outputs": [],
   "source": [
    "class KthLargest(object):\n",
    "\n",
    "    def __init__(self, k, nums):\n",
    "        self.k = k\n",
    "        self.heap = []\n",
    "        \n",
    "        # Initialize the min-heap with the first k elements\n",
    "        for num in nums:\n",
    "            self.add(num)\n",
    "\n",
    "    def add(self, val):\n",
    "        if len(self.heap) < self.k:\n",
    "            heapq.heappush(self.heap, val)\n",
    "        elif val > self.heap[0]:\n",
    "            heapq.heapreplace(self.heap, val)\n",
    "        \n",
    "        return self.heap[0]\n",
    "        \n",
    "\n",
    "\n",
    "# Your KthLargest object will be instantiated and called as such:\n",
    "# obj = KthLargest(k, nums)\n",
    "# param_1 = obj.add(val)"
   ]
  },
  {
   "cell_type": "markdown",
   "id": "6ad2b521-2eda-4989-8c22-46ae331cebc6",
   "metadata": {},
   "source": [
    "Time Complexity:O(N logK) Space Complexity:O(k) Runtime: 100ms"
   ]
  },
  {
   "cell_type": "markdown",
   "id": "a188fe44-23a8-4836-aa57-04b5f58d8a85",
   "metadata": {},
   "source": [
    "#"
   ]
  },
  {
   "cell_type": "markdown",
   "id": "1cdb9375-ee4a-40d7-b77d-1cb9c4e7fe4d",
   "metadata": {},
   "source": [
    "Problem Number: 1046. Last Stone Weight"
   ]
  },
  {
   "cell_type": "code",
   "execution_count": 10,
   "id": "2d5be36c-224e-4894-a855-f3832469169d",
   "metadata": {},
   "outputs": [],
   "source": [
    "class Solution(object):\n",
    "    def lastStoneWeight(self, stones):\n",
    "        \"\"\"\n",
    "        :type stones: List[int]\n",
    "        :rtype: int\n",
    "        \"\"\"\n",
    "\n",
    "        # Convert stones to a max-heap by using negative values\n",
    "        max_heap = [-stone for stone in stones]\n",
    "        heapq.heapify(max_heap)\n",
    "        \n",
    "        # Process the heap until one or zero stones are left\n",
    "        while len(max_heap) > 1:\n",
    "            # Get the two largest stones\n",
    "            first = -heapq.heappop(max_heap)\n",
    "            second = -heapq.heappop(max_heap)\n",
    "            \n",
    "            if first != second:\n",
    "                # If they are not equal, push the difference back into the heap\n",
    "                heapq.heappush(max_heap, -(first - second))\n",
    "        \n",
    "        # If there is a stone left, return its weight (negate to get the original value)\n",
    "        return -max_heap[0] if max_heap else 0\n",
    "\n",
    "\n",
    "        "
   ]
  },
  {
   "cell_type": "markdown",
   "id": "78c1d4a7-49da-4deb-b1cb-448b76a7dfdb",
   "metadata": {},
   "source": [
    "Time Complexity:O(N logN) Space Complexity:O(N) Runtime: 20ms"
   ]
  },
  {
   "cell_type": "markdown",
   "id": "53c2e7f3-ade4-4592-b999-e78d5ccf89ac",
   "metadata": {},
   "source": [
    "#"
   ]
  },
  {
   "cell_type": "markdown",
   "id": "d5825e11-6e33-46cc-bee4-1a94d8d58fac",
   "metadata": {},
   "source": [
    "Problem Number: 621. Task Scheduler"
   ]
  },
  {
   "cell_type": "raw",
   "id": "2caaa09d-da53-401c-b436-8b465ba9c0a1",
   "metadata": {},
   "source": [
    "class Solution:\n",
    "    def leastInterval(self, tasks: List[str], n: int) -> int:\n",
    "        counter = dict()\n",
    "        for task in tasks:\n",
    "            counter[task] = counter.get(task, 0) + 1\n",
    "        \n",
    "        # create a max heap of the frequency\n",
    "        # of the task occuring using the map\n",
    "        hq = list()\n",
    "        for task, count in counter.items():\n",
    "            heappush(hq, (-count, task))\n",
    "        \n",
    "        time = 0\n",
    "        while hq:\n",
    "            tmp = []\n",
    "            for _ in range(n+1): # units are inclusive hence n+1\n",
    "                # add all tasks to the temp list\n",
    "                # if there are tasks to be processed\n",
    "                # in the queue, note that for this n\n",
    "                # cycles, we're not pushing processed\n",
    "                # items back in the queue but rather in the\n",
    "                # tmp list so that they don't appear before n\n",
    "                # cycles have been passed.\n",
    "                if hq: tmp.append((heappop(hq)))\n",
    "                \n",
    "            # but once we've done n cycles from the\n",
    "            # queue, we can safely add the processed\n",
    "            # tasks back to the queue to be processed\n",
    "            # again if they have repititions left (count)\n",
    "            for count, task in tmp:\n",
    "                if count+1 < 0: heappush(hq, (count+1, task))\n",
    "            \n",
    "            # for every cycle, we will add n+1 cycles to the total\n",
    "            # time because that's the max number of cycles you can\n",
    "            # perform at a time without repeating characters\n",
    "            # BUT for the last few tasks, there can be <n tasks\n",
    "            # in the queue and we would've put them inside tmp\n",
    "            # so only in that case, we'll check if queue is empty\n",
    "            # and if so, we'll add len(tmp) to the overall time\n",
    "            time += len(tmp) if not hq else n+1\n",
    "                \n",
    "        return time"
   ]
  },
  {
   "cell_type": "markdown",
   "id": "57b1f320-8bb0-41a6-943c-c782401693e9",
   "metadata": {},
   "source": [
    "Time Complexity:O(N logN) Space Complexity:O(N) Runtime : 443ms "
   ]
  },
  {
   "cell_type": "markdown",
   "id": "9f0ceca5-9f75-472c-af69-10f1152e5667",
   "metadata": {},
   "source": [
    "#"
   ]
  },
  {
   "cell_type": "markdown",
   "id": "5623349b-2f84-459c-a1aa-ea066ec4f746",
   "metadata": {},
   "source": [
    "Problem Number: 355. Design Twitter"
   ]
  },
  {
   "cell_type": "code",
   "execution_count": 12,
   "id": "cbf6ef4a-4daf-4767-86d6-f4763c43523e",
   "metadata": {},
   "outputs": [],
   "source": [
    "from collections import defaultdict\n",
    "import heapq\n",
    "\n",
    "class Twitter(object):\n",
    "\n",
    "    def __init__(self):\n",
    "        # Dictionary to hold the list of tweets for each user\n",
    "        self.tweets = defaultdict(list)\n",
    "        # Dictionary to hold the set of users each user is following\n",
    "        self.following = defaultdict(set)\n",
    "        # Global timestamp counter to ensure tweet ordering\n",
    "        self.timestamp = 0\n",
    "\n",
    "    def postTweet(self, userId, tweetId):\n",
    "        # Add a tweet with current timestamp to the user's tweet list\n",
    "        self.timestamp += 1\n",
    "        self.tweets[userId].append((self.timestamp, tweetId))\n",
    "\n",
    "    def getNewsFeed(self, userId):\n",
    "        # Min-heap to keep the 10 most recent tweets\n",
    "        min_heap = []\n",
    "        \n",
    "        # Get tweets from the user and the users they follow\n",
    "        users_to_check = self.following[userId] | set([userId])\n",
    "        for user in users_to_check:\n",
    "            for timestamp, tweetId in self.tweets[user]:\n",
    "                # Add tweets to the heap, keeping the 10 most recent\n",
    "                heapq.heappush(min_heap, (timestamp, tweetId))\n",
    "                if len(min_heap) > 10:\n",
    "                    heapq.heappop(min_heap)\n",
    "        \n",
    "        # Extract tweet IDs from the heap, sorted by most recent first\n",
    "        return [tweetId for _, tweetId in sorted(min_heap, reverse=True)]\n",
    "\n",
    "    def follow(self, followerId, followeeId):\n",
    "        # A user cannot follow themselves\n",
    "        if followerId != followeeId:\n",
    "            self.following[followerId].add(followeeId)\n",
    "\n",
    "    def unfollow(self, followerId, followeeId):\n",
    "        # A user cannot unfollow themselves\n",
    "        if followerId != followeeId:\n",
    "            self.following[followerId].discard(followeeId)\n"
   ]
  },
  {
   "cell_type": "markdown",
   "id": "edd02e16-6626-40c6-bf6c-9720109a5901",
   "metadata": {},
   "source": [
    "Time Complexity:O(N log N) Space complexity:O(N) Runtime: 10ms Highest"
   ]
  },
  {
   "cell_type": "markdown",
   "id": "2e2cb9e0-a583-4641-948f-19bffcad8104",
   "metadata": {},
   "source": [
    "#"
   ]
  },
  {
   "cell_type": "markdown",
   "id": "e7453b26-3ac5-461d-b2af-b9e0f6ae08af",
   "metadata": {},
   "source": [
    "Find Median in a Data Stream"
   ]
  },
  {
   "cell_type": "code",
   "execution_count": 13,
   "id": "89c13987-8cbb-4dd8-abec-4bc1d30b1ed2",
   "metadata": {},
   "outputs": [],
   "source": [
    "import heapq\n",
    "\n",
    "class MedianFinder(object):\n",
    "\n",
    "    def __init__(self):\n",
    "        # Max-heap (inverted to work with Python's min-heap)\n",
    "        self.max_heap = []\n",
    "        # Min-heap\n",
    "        self.min_heap = []\n",
    "\n",
    "    def addNum(self, num):\n",
    "        \"\"\"\n",
    "        :type num: int\n",
    "        :rtype: None\n",
    "        \"\"\"\n",
    "        # Add to max-heap (inverted to work as max-heap)\n",
    "        if not self.max_heap or num <= -self.max_heap[0]:\n",
    "            heapq.heappush(self.max_heap, -num)\n",
    "        else:\n",
    "            heapq.heappush(self.min_heap, num)\n",
    "        \n",
    "        # Balance the heaps\n",
    "        if len(self.max_heap) > len(self.min_heap) + 1:\n",
    "            heapq.heappush(self.min_heap, -heapq.heappop(self.max_heap))\n",
    "        elif len(self.min_heap) > len(self.max_heap):\n",
    "            heapq.heappush(self.max_heap, -heapq.heappop(self.min_heap))\n",
    "\n",
    "    def findMedian(self):\n",
    "        \"\"\"\n",
    "        :rtype: float\n",
    "        \"\"\"\n",
    "        if len(self.max_heap) > len(self.min_heap):\n",
    "            return -self.max_heap[0]\n",
    "        else:\n",
    "            return (-self.max_heap[0] + self.min_heap[0]) / 2.0\n",
    "\n",
    "\n"
   ]
  },
  {
   "cell_type": "markdown",
   "id": "593421ae-edb6-4aa2-8bf1-bc7dde7820ae",
   "metadata": {},
   "source": [
    "Time cOMPLEXITY:O(n LOG N) Space Complexity:O(N) "
   ]
  },
  {
   "cell_type": "code",
   "execution_count": null,
   "id": "13dc15e5-7806-4faf-af7b-8aed426d041a",
   "metadata": {},
   "outputs": [],
   "source": []
  }
 ],
 "metadata": {
  "kernelspec": {
   "display_name": "Python 3 (ipykernel)",
   "language": "python",
   "name": "python3"
  },
  "language_info": {
   "codemirror_mode": {
    "name": "ipython",
    "version": 3
   },
   "file_extension": ".py",
   "mimetype": "text/x-python",
   "name": "python",
   "nbconvert_exporter": "python",
   "pygments_lexer": "ipython3",
   "version": "3.11.7"
  }
 },
 "nbformat": 4,
 "nbformat_minor": 5
}
