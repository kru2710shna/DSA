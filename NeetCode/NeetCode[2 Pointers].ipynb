{
 "cells": [
  {
   "cell_type": "markdown",
   "id": "673daa23-7679-4bdb-93d3-2996b17c4676",
   "metadata": {},
   "source": [
    "Problem Number: 125. Valid Palindrome"
   ]
  },
  {
   "cell_type": "code",
   "execution_count": 1,
   "id": "fd84116d-4fca-46cc-9ace-662e3f24c603",
   "metadata": {},
   "outputs": [],
   "source": [
    "class Solution(object):\n",
    "    def isPalindrome(self, s):\n",
    "        \"\"\"\n",
    "        :type s: str\n",
    "        :rtype: bool\n",
    "        \"\"\"\n",
    "        new_s = ''.join(a.lower() for a in s if a.isalnum())\n",
    "        \n",
    "        left = 0\n",
    "        right = len(new_s)-1\n",
    "\n",
    "        while left < right:\n",
    "            if new_s[left] != new_s[right]:\n",
    "                return False \n",
    "            left +=1\n",
    "            right -=1\n",
    "        return True \n"
   ]
  },
  {
   "cell_type": "markdown",
   "id": "c3cef8c7-f507-4754-bd7a-2c52a80fdac4",
   "metadata": {},
   "source": [
    "Time Complexity:O(N) Space Complexity: O(1) Runtime: 83% 23ms "
   ]
  },
  {
   "cell_type": "markdown",
   "id": "e19bb6be-ca31-48a4-a403-9af2715a8ed5",
   "metadata": {},
   "source": [
    "#"
   ]
  },
  {
   "cell_type": "markdown",
   "id": "d7c49f86-e9e3-4fa0-80f5-3bb570691589",
   "metadata": {},
   "source": [
    "Problem Number: 167. Two Sum II - Input Array Is Sorted"
   ]
  },
  {
   "cell_type": "code",
   "execution_count": 3,
   "id": "8a909cf7-118e-441b-8e79-adf8e42f986e",
   "metadata": {},
   "outputs": [],
   "source": [
    "class Solution(object):\n",
    "    def twoSum(self, numbers, target):\n",
    "        \"\"\"\n",
    "        :type numbers: List[int]\n",
    "        :type target: int\n",
    "        :rtype: List[int]\n",
    "        \"\"\"\n",
    "        left = 0\n",
    "        right = len(numbers) - 1\n",
    "        \n",
    "        while left < right:\n",
    "            current_sum = numbers[left] + numbers[right]\n",
    "            if current_sum == target:\n",
    "                return [left + 1, right + 1]\n",
    "            elif current_sum < target:\n",
    "                left += 1\n",
    "            else:\n",
    "                right -= 1\n",
    "                \n",
    "        return None"
   ]
  },
  {
   "cell_type": "markdown",
   "id": "8d0d5a33-4668-416b-958b-fa613b83e9b7",
   "metadata": {},
   "source": [
    "Time Complexity:O(N) Space Complexity:(1) Runtime: 92ms 60%"
   ]
  },
  {
   "cell_type": "code",
   "execution_count": 5,
   "id": "fb89a7a9-b83f-4006-9589-61036223175d",
   "metadata": {},
   "outputs": [],
   "source": [
    "class Solution(object):\n",
    "    def twoSum(self, numbers, target):\n",
    "        \"\"\"\n",
    "        :type numbers: List[int]\n",
    "        :type target: int\n",
    "        :rtype: List[int]\n",
    "        \"\"\"\n",
    "        dict1 = {}\n",
    "        for i in range(len(numbers)):\n",
    "            if target-numbers[i] not in dict1:\n",
    "                dict1[numbers[i]] = i + 1\n",
    "            else:\n",
    "                return [dict1[target-numbers[i]], i+1]\n",
    "        \n",
    "\n",
    "\n",
    "        "
   ]
  },
  {
   "cell_type": "markdown",
   "id": "10e74313-f495-4147-889a-b0c1baa46ba2",
   "metadata": {},
   "source": [
    "Time Complexity:O(N) Space Complexity:(N) Runtime: 80ms 95%"
   ]
  },
  {
   "cell_type": "markdown",
   "id": "e82cd8b6-1c59-44e7-84a8-c33247cb8a78",
   "metadata": {},
   "source": [
    "#"
   ]
  },
  {
   "cell_type": "markdown",
   "id": "bb0dc199-768c-4fba-a31c-24e3a1e12179",
   "metadata": {},
   "source": [
    "Problem Number: 15. 3Sum"
   ]
  },
  {
   "cell_type": "code",
   "execution_count": 7,
   "id": "3e9d4f1f-ad28-4450-b41b-420f74886c72",
   "metadata": {},
   "outputs": [],
   "source": [
    "class Solution(object):\n",
    "    def threeSum(self, nums):\n",
    "        \"\"\"\n",
    "        :type nums: List[int]\n",
    "        :rtype: List[List[int]]\n",
    "        \"\"\"\n",
    "        res = []\n",
    "        nums.sort()\n",
    "\n",
    "        for i ,a in enumerate(nums):\n",
    "            if i > 0 and a == nums[i-1]:\n",
    "                continue\n",
    "            l = i+1\n",
    "            r = len(nums)-1\n",
    "            while l < r:\n",
    "                three = nums[l]+nums[r] + a\n",
    "                if three > 0:\n",
    "                    r -= 1\n",
    "                elif three < 0:\n",
    "                    l +=1\n",
    "                else:\n",
    "                    res.append([nums[l], nums[r], a])\n",
    "                    l +=1\n",
    "                    while (l <r and nums[l] == nums[l-1]):\n",
    "                        l +=1\n",
    "        return res\n",
    "\n"
   ]
  },
  {
   "cell_type": "markdown",
   "id": "017b4b4a-e763-4f0d-b5ca-67e1e1912a95",
   "metadata": {},
   "source": [
    "Time Complexity:O(N) Space Complexity:O(1) Runtime: 734ms 80%"
   ]
  },
  {
   "cell_type": "markdown",
   "id": "ef4b5603-4d14-4541-9670-f98c9476793e",
   "metadata": {},
   "source": [
    "#"
   ]
  },
  {
   "cell_type": "markdown",
   "id": "83608265-c5e1-413b-afaa-43aec493528d",
   "metadata": {},
   "source": [
    "Problem Number:11. Container With Most Water"
   ]
  },
  {
   "cell_type": "code",
   "execution_count": 8,
   "id": "8a2cbb79-3b2d-416b-b2e7-31d81dd1de4b",
   "metadata": {},
   "outputs": [],
   "source": [
    "class Solution(object):\n",
    "    def maxArea(self, height):\n",
    "        \"\"\"\n",
    "        :type height: List[int]\n",
    "        :rtype: int\n",
    "        \"\"\"\n",
    "        l = 0\n",
    "        r = len(height) - 1\n",
    "        max_answer = 0\n",
    "\n",
    "        while l < r:\n",
    "            # Calculate the current area\n",
    "            curr_area = min(height[l], height[r]) * (r - l)\n",
    "            # Update the maximum area found so far\n",
    "            max_answer = max(max_answer, curr_area)\n",
    "\n",
    "            # Move the pointer pointing to the shorter line\n",
    "            if height[l] < height[r]:\n",
    "                l += 1\n",
    "            else:\n",
    "                r -= 1\n",
    "\n",
    "        return max_answer"
   ]
  },
  {
   "cell_type": "markdown",
   "id": "6f4aed91-ed4c-49c8-996a-0cdeb53fc2d3",
   "metadata": {},
   "source": [
    "Time Complexity:O(N) Space Complexity:O(1) Runtime: 5254ms 80%"
   ]
  },
  {
   "cell_type": "markdown",
   "id": "e7af471f-d94e-45f1-a8db-f7fc72e84832",
   "metadata": {},
   "source": [
    "#"
   ]
  },
  {
   "cell_type": "markdown",
   "id": "f408569e-92d9-4016-9439-17bbef122c49",
   "metadata": {},
   "source": [
    "Problem Number: 42. Trapping Rain Water"
   ]
  },
  {
   "cell_type": "code",
   "execution_count": 9,
   "id": "60593b8a-c6b0-4391-ad92-1705f202cb64",
   "metadata": {},
   "outputs": [],
   "source": [
    "class Solution(object):\n",
    "    def trap(self, height):\n",
    "        \"\"\"\n",
    "        :type height: List[int]\n",
    "        :rtype: int\n",
    "        \"\"\"\n",
    "\n",
    "        if not height:\n",
    "            return 0\n",
    "        \n",
    "        maxLeft = height[0]\n",
    "        maxRight = height[-1]\n",
    "        l = 0\n",
    "        r = len(height) - 1\n",
    "\n",
    "        result = 0\n",
    "\n",
    "        while l < r:\n",
    "            if maxLeft < maxRight:\n",
    "                l += 1\n",
    "                maxLeft = max(maxLeft, height[l])\n",
    "                result += maxLeft - height[l]\n",
    "            else:\n",
    "                r -= 1\n",
    "                maxRight = max(maxRight, height[r])\n",
    "                result += maxRight - height[r]\n",
    "        return result"
   ]
  },
  {
   "cell_type": "markdown",
   "id": "816a3fea-2e00-41f7-a645-566e54919b4c",
   "metadata": {},
   "source": [
    "Time Complexity:O(N) Space Complexity:O(1) Runtime: 1254ms 90%"
   ]
  },
  {
   "cell_type": "code",
   "execution_count": null,
   "id": "18242b8a-8a07-4c21-a73c-08bc9b81a07b",
   "metadata": {},
   "outputs": [],
   "source": []
  }
 ],
 "metadata": {
  "kernelspec": {
   "display_name": "Python 3 (ipykernel)",
   "language": "python",
   "name": "python3"
  },
  "language_info": {
   "codemirror_mode": {
    "name": "ipython",
    "version": 3
   },
   "file_extension": ".py",
   "mimetype": "text/x-python",
   "name": "python",
   "nbconvert_exporter": "python",
   "pygments_lexer": "ipython3",
   "version": "3.11.7"
  }
 },
 "nbformat": 4,
 "nbformat_minor": 5
}
