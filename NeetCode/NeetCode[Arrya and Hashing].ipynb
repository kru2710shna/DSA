{
 "cells": [
  {
   "cell_type": "markdown",
   "id": "2f079235",
   "metadata": {},
   "source": [
    "# NeetCode RoadMap - Array and Hashing \n"
   ]
  },
  {
   "cell_type": "markdown",
   "id": "bd0c6cf3",
   "metadata": {},
   "source": [
    "#"
   ]
  },
  {
   "cell_type": "markdown",
   "id": "fee47344",
   "metadata": {},
   "source": [
    "    Problem Number 217. Contains Duplicate:"
   ]
  },
  {
   "cell_type": "code",
   "execution_count": 5,
   "id": "6c8f8e23",
   "metadata": {},
   "outputs": [],
   "source": [
    "class Solution(object):\n",
    "    def containsDuplicate(self, nums):\n",
    "        \"\"\"\n",
    "        :type nums: List[int]\n",
    "        :rtype: bool\n",
    "        \"\"\"\n",
    "        l = len(set(nums))\n",
    "        m = len(nums)\n",
    "        if l == m:\n",
    "            return False\n",
    "\n",
    "        return True\n",
    "        "
   ]
  },
  {
   "cell_type": "markdown",
   "id": "a665b9fa",
   "metadata": {},
   "source": [
    "     Time Complexity: O(N) Space Complexity: O(1)  Runtime: 406ms Beats- 99%"
   ]
  },
  {
   "cell_type": "markdown",
   "id": "fd047592",
   "metadata": {},
   "source": [
    "#"
   ]
  },
  {
   "cell_type": "markdown",
   "id": "374cf567",
   "metadata": {},
   "source": [
    "    Problem Number 242. Valid Anagram"
   ]
  },
  {
   "cell_type": "code",
   "execution_count": 6,
   "id": "c81bb96f",
   "metadata": {},
   "outputs": [],
   "source": [
    "class Solution(object):\n",
    "    def isAnagram(self, s, t):\n",
    "        \"\"\"\n",
    "        :type s: str\n",
    "        :type t: str\n",
    "        :rtype: bool\n",
    "        \"\"\"\n",
    "        if len(s) != len(t):\n",
    "            return False\n",
    "        \n",
    "        temp = set(s)\n",
    "\n",
    "        for i in temp:\n",
    "            if not (i in t and i in s and s.count(i) == t.count(i)):\n",
    "                return False  \n",
    "                \n",
    "        return True "
   ]
  },
  {
   "cell_type": "markdown",
   "id": "d044771f",
   "metadata": {},
   "source": [
    "    Time Complexity: O(N) Space Complexity: O(N) Runtime: 9ms Beats- 99.8%"
   ]
  },
  {
   "cell_type": "markdown",
   "id": "6df02eec",
   "metadata": {},
   "source": [
    "#"
   ]
  },
  {
   "cell_type": "markdown",
   "id": "7fb1a60a",
   "metadata": {},
   "source": [
    "    Probem Number 1. Two Sum"
   ]
  },
  {
   "cell_type": "code",
   "execution_count": 7,
   "id": "1dfb0d5c",
   "metadata": {},
   "outputs": [],
   "source": [
    "class Solution(object):\n",
    "    def twoSum(self, nums, target):\n",
    "        \"\"\"\n",
    "        :type nums: List[int]\n",
    "        :type target: int\n",
    "        :rtype: List[int]\n",
    "        \"\"\"\n",
    "        lookup = {}\n",
    "\n",
    "        for i in range(len(nums)):\n",
    "            # value in look up\n",
    "            if nums[i] in lookup:\n",
    "                return [lookup[nums[i]] , i ]\n",
    "            # value not in lookup\n",
    "            else:\n",
    "                lookup[target-nums[i]] = i\n",
    "        \n",
    "        return None"
   ]
  },
  {
   "cell_type": "markdown",
   "id": "39c70358",
   "metadata": {},
   "source": [
    "    Time Complexity: O(N)  Space Complexity:O(N)  Runtime:96.8%"
   ]
  },
  {
   "cell_type": "markdown",
   "id": "899bc10e",
   "metadata": {},
   "source": [
    "#"
   ]
  },
  {
   "cell_type": "markdown",
   "id": "40aac678-98d6-4371-8f1d-b07b07e31775",
   "metadata": {},
   "source": [
    "Problem Number 347. Top K Frequent Elements"
   ]
  },
  {
   "cell_type": "code",
   "execution_count": 8,
   "id": "5892ab94-8a19-44a7-89ae-88fd51af346d",
   "metadata": {},
   "outputs": [],
   "source": [
    "class Solution(object):\n",
    "    def topKFrequent(self, nums, k):\n",
    "        \"\"\"\n",
    "        :type nums: List[int]\n",
    "        :type k: int\n",
    "        :rtype: List[int]\n",
    "        \"\"\"\n",
    "\n",
    "        freq_map = Counter(nums)\n",
    " \n",
    "        heap = []\n",
    "        for num, freq in freq_map.items():\n",
    "            heapq.heappush(heap, (freq, num))\n",
    "            if len(heap) > k:\n",
    "                heapq.heappop(heap)\n",
    "        \n",
    "        \n",
    "        result = []\n",
    "        while heap:\n",
    "            result.append(heapq.heappop(heap)[1])\n",
    "        \n",
    "        return result[::-1]  "
   ]
  },
  {
   "cell_type": "markdown",
   "id": "0ae1f8fb-323c-4ea2-9d53-fdae936b9518",
   "metadata": {},
   "source": [
    "Time Complexity: O(N logK)  Space Complexity:O(N)  Runtime:33.8%"
   ]
  },
  {
   "cell_type": "markdown",
   "id": "25ba18df-3871-4f96-aa7f-f97e257a8caf",
   "metadata": {},
   "source": [
    "#"
   ]
  },
  {
   "cell_type": "markdown",
   "id": "d9575fff-4a29-4c9e-9b14-aa48715dc5d3",
   "metadata": {},
   "source": [
    "Problem Number: 238. Product of Array Except Self"
   ]
  },
  {
   "cell_type": "code",
   "execution_count": 1,
   "id": "3a19d9bf-ac30-45cc-8d91-6630a9cac4e1",
   "metadata": {},
   "outputs": [],
   "source": [
    "class Solution(object):\n",
    "    def productExceptSelf(self, nums):\n",
    "        \"\"\"\n",
    "        :type nums: List[int]\n",
    "        :rtype: List[int]\n",
    "        \"\"\"\n",
    "        res = [1] * len(nums)\n",
    "        prefix = 1\n",
    "        for i in range(len(nums)):\n",
    "            res[i] = prefix\n",
    "            prefix *=  nums[i]\n",
    "        \n",
    "        postfix = 1\n",
    "        for i in range(len(nums)-1 ,-1,-1):\n",
    "            res[i] *= postfix\n",
    "            postfix *= nums[i]\n",
    "\n",
    "        return res"
   ]
  },
  {
   "cell_type": "markdown",
   "id": "98f6491b-ed41-421f-ab5c-c032532631a7",
   "metadata": {},
   "source": [
    "Time Complexity: O(N) Space Complexity:O(N) Runtime:99.59%"
   ]
  },
  {
   "cell_type": "markdown",
   "id": "b4bd36b4-e7dc-4f7f-be3d-102c2d1149d7",
   "metadata": {},
   "source": [
    "#"
   ]
  },
  {
   "cell_type": "markdown",
   "id": "3f9ed024-27c3-461f-859b-3be05e2490dc",
   "metadata": {},
   "source": [
    "Problem Numner: 36. Valid Sudoku"
   ]
  },
  {
   "cell_type": "code",
   "execution_count": 2,
   "id": "5502288b-df11-4157-b462-7d4c191b2b9d",
   "metadata": {},
   "outputs": [],
   "source": [
    "class Solution(object):\n",
    "    def isValidSudoku(self, board):\n",
    "        \"\"\"\n",
    "        :type board: List[List[str]]\n",
    "        :rtype: bool\n",
    "        \"\"\"\n",
    "        N= 9 \n",
    "        # Row\n",
    "        for r in range(N):\n",
    "            row = [c for c in board[r] if c!= \".\"]\n",
    "            if len(row) != len(set(row)):\n",
    "                return False \n",
    "        \n",
    "        # Columns\n",
    "        for c in range(N):\n",
    "            col = [board[r][c] for r in range(N) if board[r][c] != '.']\n",
    "            if len(col) != len(set(col)):\n",
    "                return False \n",
    "        \n",
    "        # Blocks \n",
    "        def helper(R,C):\n",
    "            l = set()\n",
    "            for r in range(R,R+3):\n",
    "                for c in range(C, C+3):\n",
    "                    if board[r][c] == \".\":\n",
    "                        continue \n",
    "                    if board[r][c] not in l:\n",
    "                        l.add(board[r][c])\n",
    "                    else:\n",
    "                        return False \n",
    "            return True \n",
    "        for r in range(0,N,3):\n",
    "            for c in range(0,N,3):\n",
    "                if not helper(r,c):\n",
    "                    return False \n",
    "        return True\n",
    "\n",
    "        "
   ]
  },
  {
   "cell_type": "markdown",
   "id": "118bebb7-adb7-4136-93d5-63b445135b1e",
   "metadata": {},
   "source": [
    "Time Complexity: O(N^2) Space Complexity:O(N) Runtime:50%"
   ]
  },
  {
   "cell_type": "markdown",
   "id": "9493849c-aafe-4bf4-93f4-e4f58991704b",
   "metadata": {},
   "source": [
    "#"
   ]
  },
  {
   "cell_type": "markdown",
   "id": "ddc0a631-d0e7-4ba5-9730-b1c46c00a911",
   "metadata": {},
   "source": [
    "Problem Number: 128. Longest Consecutive Sequence "
   ]
  },
  {
   "cell_type": "code",
   "execution_count": 4,
   "id": "8a9b97e3-fa4d-45a5-a914-2b053f72bd3f",
   "metadata": {},
   "outputs": [],
   "source": [
    "class Solution(object):\n",
    "    def longestConsecutive(self, nums):\n",
    "        \"\"\"\n",
    "        :type nums: List[int]\n",
    "        :rtype: int\n",
    "        \"\"\"\n",
    "        nums = set(nums)\n",
    "\n",
    "        output = 0\n",
    "        for n in nums:\n",
    "            if n-1 not in nums: # it means we are at starting\n",
    "                start = n \n",
    "                while start in nums:\n",
    "                    start+=1\n",
    "                output = max(output, start-n)\n",
    "        return output"
   ]
  },
  {
   "cell_type": "markdown",
   "id": "377b1257-ec48-45b8-8c06-968b653b32b5",
   "metadata": {},
   "source": [
    "Time Complexity: O(N) Space Complexity:O(1) Runtime:67%"
   ]
  },
  {
   "cell_type": "code",
   "execution_count": null,
   "id": "6cce5b80-73ec-4f22-9ca0-e3cefdfa015c",
   "metadata": {},
   "outputs": [],
   "source": []
  }
 ],
 "metadata": {
  "kernelspec": {
   "display_name": "Python 3 (ipykernel)",
   "language": "python",
   "name": "python3"
  },
  "language_info": {
   "codemirror_mode": {
    "name": "ipython",
    "version": 3
   },
   "file_extension": ".py",
   "mimetype": "text/x-python",
   "name": "python",
   "nbconvert_exporter": "python",
   "pygments_lexer": "ipython3",
   "version": "3.11.7"
  }
 },
 "nbformat": 4,
 "nbformat_minor": 5
}
