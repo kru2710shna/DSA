{
 "cells": [
  {
   "cell_type": "markdown",
   "id": "77895d0f-bcc6-4eb5-bd34-befe3728f43e",
   "metadata": {},
   "source": [
    "## NeetCode- Trees"
   ]
  },
  {
   "cell_type": "markdown",
   "id": "3dba10d1-d7cb-4e98-b49c-9a1b2c8f7a3f",
   "metadata": {},
   "source": [
    "#"
   ]
  },
  {
   "cell_type": "markdown",
   "id": "074b3072-f6cf-4791-b097-b1f881cdac1a",
   "metadata": {},
   "source": [
    "Problem Number102. Binary Tree Level Order Traversal"
   ]
  },
  {
   "cell_type": "code",
   "execution_count": 1,
   "id": "1a8d2dd3-33b7-449d-b0cd-d18936d90b74",
   "metadata": {},
   "outputs": [],
   "source": [
    "# Definition for a binary tree node.\n",
    "# class TreeNode(object):\n",
    "#     def __init__(self, val=0, left=None, right=None):\n",
    "#         self.val = val\n",
    "#         self.left = left\n",
    "#         self.right = right\n",
    "class Solution(object):\n",
    "    def levelOrder(self, root):\n",
    "        \"\"\"\n",
    "        :type root: TreeNode\n",
    "        :rtype: List[List[int]]\n",
    "        \"\"\"\n",
    "        if not root:\n",
    "            return []\n",
    "        \n",
    "        q = collections.deque([root])\n",
    "        result = []\n",
    "\n",
    "        while q:\n",
    "            level = []\n",
    "\n",
    "            for _ in range(len(q)):\n",
    "                curr_node = q.popleft()\n",
    "                level.append(curr_node.val)\n",
    "\n",
    "                if curr_node.left:\n",
    "                    q.append(curr_node.left)\n",
    "\n",
    "                if curr_node.right:\n",
    "                    q.append(curr_node.right)\n",
    "                \n",
    "            result.append(level)\n",
    "        \n",
    "        return result\n",
    "                "
   ]
  },
  {
   "cell_type": "markdown",
   "id": "9d33fcc4-b849-48f9-af2f-0450f02daed4",
   "metadata": {},
   "source": [
    "Time Complexity:O(N) Space Complexity:O(N) Runtime: 19ms Highest N= Number of Nodes "
   ]
  },
  {
   "cell_type": "markdown",
   "id": "48935816-3877-4a85-af6a-addf76ac061e",
   "metadata": {},
   "source": [
    "#"
   ]
  },
  {
   "cell_type": "markdown",
   "id": "284c77da-1fd2-4e1c-a50b-f59913ca327e",
   "metadata": {},
   "source": [
    "Problem Number: 199. Binary Tree Right Side View"
   ]
  },
  {
   "cell_type": "code",
   "execution_count": 5,
   "id": "191c34ba-bc18-42ea-b63f-cae02b5ea647",
   "metadata": {},
   "outputs": [],
   "source": [
    "# Definition for a binary tree node.\n",
    "# class TreeNode(object):\n",
    "#     def __init__(self, val=0, left=None, right=None):\n",
    "#         self.val = val\n",
    "#         self.left = left\n",
    "#         self.right = right\n",
    "class Solution(object):\n",
    "    def rightSideView(self, root):\n",
    "        \"\"\"\n",
    "        :type root: TreeNode\n",
    "        :rtype: List[int]\n",
    "        \"\"\"\n",
    "        if not root:\n",
    "            return []\n",
    "        \n",
    "        q = collections.deque([root])\n",
    "        result = []\n",
    "\n",
    "        while q:\n",
    "            level = []\n",
    "\n",
    "            for _ in range(len(q)):\n",
    "                curr_node = q.popleft()\n",
    "                level.append(curr_node.val)\n",
    "\n",
    "                if curr_node.left:\n",
    "                    q.append(curr_node.left)\n",
    "\n",
    "                if curr_node.right:\n",
    "                    q.append(curr_node.right)\n",
    "                \n",
    "            result.append(level[-1]) # THE ONLY CHANGE FROM ABOVE\n",
    "        \n",
    "        return result\n",
    "\n",
    "        "
   ]
  },
  {
   "cell_type": "markdown",
   "id": "d240b03c-3eb7-40ec-a249-52e777b8a005",
   "metadata": {},
   "source": [
    "Time Complexity:O(N) Space Complexity:O(N) Runtime: 19ms Highest N= Number of Nodes"
   ]
  },
  {
   "cell_type": "markdown",
   "id": "f113287e-95d5-4d28-a273-1e3d672342ce",
   "metadata": {},
   "source": [
    "#"
   ]
  },
  {
   "cell_type": "markdown",
   "id": "40d686ff-d07a-4c7e-94b9-215b7e2fefa6",
   "metadata": {},
   "source": [
    "Problem Number: 543. Diameter of Binary Tree"
   ]
  },
  {
   "cell_type": "code",
   "execution_count": 6,
   "id": "8de95654-d601-462c-8996-739446230986",
   "metadata": {},
   "outputs": [],
   "source": [
    "# Definition for a binary tree node.\n",
    "# class TreeNode(object):\n",
    "#     def __init__(self, val=0, left=None, right=None):\n",
    "#         self.val = val\n",
    "#         self.left = left\n",
    "#         self.right = right\n",
    "class Solution(object):\n",
    "    def diameterOfBinaryTree(self, root):\n",
    "        \"\"\"\n",
    "        :type root: TreeNode\n",
    "        :rtype: int\n",
    "        \"\"\"\n",
    "        diameter = [0]\n",
    "\n",
    "        def dfs(node):\n",
    "            if not node:\n",
    "                return 0\n",
    "            \n",
    "            left = dfs(node.left)\n",
    "            right = dfs(node.right)\n",
    "            diameter[0] = max(diameter[0] , left+right) \n",
    "\n",
    "            return max(right,left)+1\n",
    "        \n",
    "        dfs(root)\n",
    "        return diameter[0]\n"
   ]
  },
  {
   "cell_type": "markdown",
   "id": "6a8f4c6f-1409-4a28-9de6-e581f5016e77",
   "metadata": {},
   "source": [
    "Time Complexity:O(N) Space Complexity:O(1) Runtime: 20ms Highest N= Number of Nodes"
   ]
  },
  {
   "cell_type": "markdown",
   "id": "37dfe857-36a3-4251-8ac6-d20a37d55d10",
   "metadata": {},
   "source": [
    "#"
   ]
  },
  {
   "cell_type": "markdown",
   "id": "c57239f9-b86c-4c24-af74-741cfa345736",
   "metadata": {},
   "source": [
    "Problem Number: 226. Invert Binary Tree"
   ]
  },
  {
   "cell_type": "code",
   "execution_count": 8,
   "id": "485e931d-25ea-47f6-9ba4-c993a949fda8",
   "metadata": {},
   "outputs": [],
   "source": [
    "# Definition for a binary tree node.\n",
    "# class TreeNode(object):\n",
    "#     def __init__(self, val=0, left=None, right=None):\n",
    "#         self.val = val\n",
    "#         self.left = left\n",
    "#         self.right = right\n",
    "class Solution(object):\n",
    "    def invertTree(self, root):\n",
    "        \"\"\"\n",
    "        :type root: TreeNode\n",
    "        :rtype: TreeNode\n",
    "        \"\"\"\n",
    "        if not root:\n",
    "            return None\n",
    "        \n",
    "        temp = root.left\n",
    "        root.left = root.right\n",
    "        root.right= temp\n",
    "        self.invertTree(root.left)\n",
    "        self.invertTree(root.right)\n",
    "        return root\n",
    "\n",
    "        \n",
    "        "
   ]
  },
  {
   "cell_type": "markdown",
   "id": "ed9fc7ea-f60d-4b48-9683-8beafda5c2e0",
   "metadata": {},
   "source": [
    "Time Complexity:O(N) Space Complexity:O(1) Runtime: 8ms Highest N= Number of Nodes"
   ]
  },
  {
   "cell_type": "markdown",
   "id": "6786d249-07bb-4a02-81db-bbf1ef859505",
   "metadata": {},
   "source": [
    "#"
   ]
  },
  {
   "cell_type": "markdown",
   "id": "ae0a6f5e-a2e9-4480-9280-904dfd195a98",
   "metadata": {},
   "source": [
    "Problem Number: 104. Maximum Depth of Binary Tree"
   ]
  },
  {
   "cell_type": "code",
   "execution_count": 9,
   "id": "a5c6c663-7fc9-4ad0-8371-6e71663c8f8f",
   "metadata": {},
   "outputs": [],
   "source": [
    "# Definition for a binary tree node.\n",
    "# class TreeNode(object):\n",
    "#     def __init__(self, val=0, left=None, right=None):\n",
    "#         self.val = val\n",
    "#         self.left = left\n",
    "#         self.right = right\n",
    "class Solution(object):\n",
    "    def maxDepth(self, root):\n",
    "        \"\"\"\n",
    "        :type root: TreeNode\n",
    "        :rtype: int\n",
    "        \"\"\"\n",
    "\n",
    "        if not root:\n",
    "            return 0\n",
    "        right = self.maxDepth(root.right)\n",
    "        left = self.maxDepth(root.left)\n",
    "\n",
    "        return max(right, left)+1\n",
    "\n",
    "\n",
    "        "
   ]
  },
  {
   "cell_type": "markdown",
   "id": "438d711c-7813-46e8-833e-8df262e68d50",
   "metadata": {},
   "source": [
    "Time Complexity:O(N) Space Complexity:O(1) Runtime: 8ms Highest N= Number of Nodes"
   ]
  },
  {
   "cell_type": "markdown",
   "id": "0bcd9eb0-9507-4de3-951d-eaf6c0d9429d",
   "metadata": {},
   "source": [
    "#"
   ]
  },
  {
   "cell_type": "markdown",
   "id": "752f9dbd-f008-4f1f-b268-832a061334ed",
   "metadata": {},
   "source": [
    "Problem Number: 98. Validate Binary Search Tree"
   ]
  },
  {
   "cell_type": "code",
   "execution_count": 1,
   "id": "3b242020-6976-47b0-ab12-f7d6d56914a5",
   "metadata": {},
   "outputs": [],
   "source": [
    "# Definition for a binary tree node.\n",
    "# class TreeNode(object):\n",
    "#     def __init__(self, val=0, left=None, right=None):\n",
    "#         self.val = val\n",
    "#         self.left = left\n",
    "#         self.right = right\n",
    "class Solution(object):\n",
    "    def isValidBST(self, root):\n",
    "        \"\"\"\n",
    "        :type root: TreeNode\n",
    "        :rtype: bool\n",
    "        \"\"\"\n",
    "        \n",
    "        def isvalid(node, minvalue, maxvalue):\n",
    "            if not node:\n",
    "                return True \n",
    "            \n",
    "            if (minvalue is not None and node.val <= minvalue) or (maxvalue is not None and node.val >= maxvalue):\n",
    "                return False \n",
    "            \n",
    "            return isvalid(node.left, minvalue, node.val) and isvalid(node.right, node.val, maxvalue)\n",
    "        \n",
    "        return isvalid(root, float('-inf') , float('inf') )\n",
    "\n",
    "        \n",
    "\n",
    "        "
   ]
  },
  {
   "cell_type": "markdown",
   "id": "4dad4f2d-a497-4f5e-8261-ff4bc25d6020",
   "metadata": {},
   "source": [
    "Time Complexity:O(N) Space Complexity:O(1) Runtime: 20ms Highest N= Number of Nodes"
   ]
  },
  {
   "cell_type": "markdown",
   "id": "8556afca-2213-48d9-a018-493382c583a1",
   "metadata": {},
   "source": [
    "#"
   ]
  },
  {
   "cell_type": "markdown",
   "id": "a96beeab-da11-4ca4-b7ab-e75733c56b03",
   "metadata": {},
   "source": [
    "Problem Number: 236. Lowest Common Ancestor of a Binary Tree"
   ]
  },
  {
   "cell_type": "code",
   "execution_count": 2,
   "id": "9846d8b3-a2ee-4344-835c-634f7806593b",
   "metadata": {},
   "outputs": [],
   "source": [
    "# Definition for a binary tree node.\n",
    "# class TreeNode(object):\n",
    "#     def __init__(self, x):\n",
    "#         self.val = x\n",
    "#         self.left = None\n",
    "#         self.right = None\n",
    "\n",
    "class Solution(object):\n",
    "    def lowestCommonAncestor(self, root, p, q):\n",
    "        \"\"\"\n",
    "        :type root: TreeNode\n",
    "        :type p: TreeNode\n",
    "        :type q: TreeNode\n",
    "        :rtype: TreeNode\n",
    "        \"\"\"\n",
    "        \n",
    "        def dfs(node):\n",
    "            if not node:\n",
    "                return None\n",
    "            \n",
    "            if node ==p or node == q:\n",
    "                return node\n",
    "            \n",
    "            left = dfs(node.left)\n",
    "            right = dfs(node.right)\n",
    "\n",
    "            if left and right:\n",
    "                return node\n",
    "            \n",
    "            return left if left else right\n",
    "        \n",
    "        return dfs(root)\n",
    "\n",
    "\n",
    "        "
   ]
  },
  {
   "cell_type": "markdown",
   "id": "a093b6a0-1222-4475-b1ba-fdb53c059782",
   "metadata": {},
   "source": [
    "Time Complexity:O(N) Space Complexity:O(1) Runtime: 20ms N= Number of Nodes"
   ]
  },
  {
   "cell_type": "markdown",
   "id": "dc492ff9-9736-4ca1-a98d-15fa93d6784f",
   "metadata": {},
   "source": [
    "#"
   ]
  },
  {
   "cell_type": "markdown",
   "id": "9e872a19-d69a-4823-8f3b-e21698f1cb0b",
   "metadata": {},
   "source": [
    "Problem Number: 230. Kth Smallest Element in a BST"
   ]
  },
  {
   "cell_type": "code",
   "execution_count": 3,
   "id": "2b9011bf-fd71-46dc-8654-7843b88e2bd6",
   "metadata": {},
   "outputs": [],
   "source": [
    "# Definition for a binary tree node.\n",
    "# class TreeNode(object):\n",
    "#     def __init__(self, val=0, left=None, right=None):\n",
    "#         self.val = val\n",
    "#         self.left = left\n",
    "#         self.right = right\n",
    "class Solution(object):\n",
    "    def kthSmallest(self, root, k):\n",
    "        \"\"\"\n",
    "        :type root: TreeNode\n",
    "        :type k: int\n",
    "        :rtype: int\n",
    "        \"\"\"\n",
    "        self.k = k\n",
    "        self.result = None\n",
    "\n",
    "        def check(node):\n",
    "            if not node:\n",
    "                return\n",
    "            \n",
    "            check(node.left)\n",
    "            \n",
    "            self.k -= 1\n",
    "            if self.k == 0:\n",
    "                self.result = node.val\n",
    "                return\n",
    "            \n",
    "            check(node.right)\n",
    "        \n",
    "        check(root)\n",
    "        return self.result\n",
    "\n",
    "       "
   ]
  },
  {
   "cell_type": "markdown",
   "id": "89282b47-18f6-45c3-8b63-a2f9b169a336",
   "metadata": {},
   "source": [
    "Time Complexity:O(N) Space Complexity:O(1) Runtime: 20ms N= Number of Nodes"
   ]
  },
  {
   "cell_type": "markdown",
   "id": "16ce8ac0-d61c-40fe-a3d3-edd3c764d22f",
   "metadata": {},
   "source": [
    "#"
   ]
  },
  {
   "cell_type": "markdown",
   "id": "e2c674c2-23b7-41e8-bf07-4223898b332f",
   "metadata": {},
   "source": [
    "Problem number: 889. Construct Binary Tree from Preorder and Inorder Traversal"
   ]
  },
  {
   "cell_type": "code",
   "execution_count": 4,
   "id": "29145137-eeba-4425-862f-7532a006aaf5",
   "metadata": {},
   "outputs": [],
   "source": [
    "# Definition for a binary tree node.\n",
    "# class TreeNode(object):\n",
    "#     def __init__(self, val=0, left=None, right=None):\n",
    "#         self.val = val\n",
    "#         self.left = left\n",
    "#         self.right = right\n",
    "class Solution(object):\n",
    "    def buildTree(self, preorder, inorder):\n",
    "        \"\"\"\n",
    "        :type preorder: List[int]\n",
    "        :type inorder: List[int]\n",
    "        :rtype: TreeNode\n",
    "        \"\"\"\n",
    "        if not preorder and not inorder :\n",
    "            return  None\n",
    "        root = TreeNode(preorder[0])\n",
    "\n",
    "        mid = inorder.index(preorder[0])\n",
    "\n",
    "        root.left =  self.buildTree(preorder[1:mid+1], inorder[:mid])\n",
    "        root.right =  self.buildTree(preorder[mid+1:], inorder[mid+1:])\n",
    "        return root\n",
    "\n",
    "\n",
    "        "
   ]
  },
  {
   "cell_type": "markdown",
   "id": "8b9d7888-518a-4af4-bcc5-5999a7c5d506",
   "metadata": {},
   "source": [
    "Time Complexity:O(N) Space Complexity:O(1) Runtime: 20ms N= Number of Nodes"
   ]
  },
  {
   "cell_type": "markdown",
   "id": "1955043f-386c-4527-9ab0-a1054f9e4202",
   "metadata": {},
   "source": [
    "#"
   ]
  },
  {
   "cell_type": "code",
   "execution_count": 5,
   "id": "3c76e558-aba3-42a6-a395-48d2b4e6b8fc",
   "metadata": {},
   "outputs": [],
   "source": [
    "# Definition for a binary tree node.\n",
    "# class TreeNode(object):\n",
    "#     def __init__(self, x):\n",
    "#         self.val = x\n",
    "#         self.left = None\n",
    "#         self.right = None\n",
    "\n",
    "class Codec:\n",
    "\n",
    "    def serialize(self, root):\n",
    "        \"\"\"Encodes a tree to a single string.\n",
    "        \n",
    "        :type root: TreeNode\n",
    "        :rtype: str\n",
    "        \"\"\"\n",
    "        if not root:\n",
    "            return \"null\"\n",
    "        \n",
    "        queue = [root]\n",
    "        result = []\n",
    "        \n",
    "        while queue:\n",
    "            node = queue.pop(0)\n",
    "            if node:\n",
    "                result.append(str(node.val))\n",
    "                queue.append(node.left)\n",
    "                queue.append(node.right)\n",
    "            else:\n",
    "                result.append(\"null\")\n",
    "        \n",
    "        return \",\".join(result)\n",
    "\n",
    "    def deserialize(self, data):\n",
    "        \"\"\"Decodes your encoded data to tree.\n",
    "        \n",
    "        :type data: str\n",
    "        :rtype: TreeNode\n",
    "        \"\"\"\n",
    "        if data == \"null\":\n",
    "            return None\n",
    "        \n",
    "        values = data.split(\",\")\n",
    "        root = TreeNode(int(values[0]))\n",
    "        queue = [root]\n",
    "        i = 1\n",
    "        \n",
    "        while queue:\n",
    "            node = queue.pop(0)\n",
    "            if values[i] != \"null\":\n",
    "                node.left = TreeNode(int(values[i]))\n",
    "                queue.append(node.left)\n",
    "            i += 1\n",
    "            if values[i] != \"null\":\n",
    "                node.right = TreeNode(int(values[i]))\n",
    "                queue.append(node.right)\n",
    "            i += 1\n",
    "        \n",
    "        return root\n",
    "\n",
    "\n",
    "        \n",
    "        \n",
    "\n",
    "# Your Codec object will be instantiated and called as such:\n",
    "# ser = Codec()\n",
    "# deser = Codec()\n",
    "# ans = deser.deserialize(ser.serialize(root))"
   ]
  },
  {
   "cell_type": "markdown",
   "id": "2159153b-55f0-4d93-a5c4-95aac1049b6f",
   "metadata": {},
   "source": [
    "Time Complexity:O(N) Space Complexity:O(N) Runtime: 20ms N= Number of Nodes"
   ]
  },
  {
   "cell_type": "markdown",
   "id": "306e4294-72d2-4fe7-a59d-a90c68a062d6",
   "metadata": {},
   "source": [
    "#"
   ]
  },
  {
   "cell_type": "code",
   "execution_count": null,
   "id": "3980fc41-ff0b-4f23-a6dc-16698a8c7062",
   "metadata": {},
   "outputs": [],
   "source": []
  }
 ],
 "metadata": {
  "kernelspec": {
   "display_name": "Python 3 (ipykernel)",
   "language": "python",
   "name": "python3"
  },
  "language_info": {
   "codemirror_mode": {
    "name": "ipython",
    "version": 3
   },
   "file_extension": ".py",
   "mimetype": "text/x-python",
   "name": "python",
   "nbconvert_exporter": "python",
   "pygments_lexer": "ipython3",
   "version": "3.11.7"
  }
 },
 "nbformat": 4,
 "nbformat_minor": 5
}
