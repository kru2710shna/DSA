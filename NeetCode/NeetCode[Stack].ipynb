{
 "cells": [
  {
   "cell_type": "markdown",
   "id": "16cc9b0d-5f6e-4515-ad4d-54be9b87afa0",
   "metadata": {},
   "source": [
    "## NeetCode - Stack"
   ]
  },
  {
   "cell_type": "markdown",
   "id": "b66c44e2-ec22-4b50-a635-823fda4ad5e9",
   "metadata": {},
   "source": [
    "#"
   ]
  },
  {
   "cell_type": "markdown",
   "id": "c99aa2d5-d9b2-4f5d-8ddc-f887163b9af2",
   "metadata": {},
   "source": [
    "Problem Number: 20. Valid Parentheses"
   ]
  },
  {
   "cell_type": "code",
   "execution_count": 1,
   "id": "e927ce92-8db8-458e-9dc1-a8576f782941",
   "metadata": {},
   "outputs": [],
   "source": [
    "class Solution(object):\n",
    "    def isValid(self, s):\n",
    "        \"\"\"\n",
    "        :type s: str\n",
    "        :rtype: bool\n",
    "        \"\"\"\n",
    "        h = { \")\" : \"(\" ,\n",
    "               \"]\" : \"[\" ,\n",
    "                \"}\" : \"{\"}\n",
    "        stack = []\n",
    "        \n",
    "        for c in s:\n",
    "            if c in h:\n",
    "                if stack and stack[-1] == h[c]:\n",
    "                    stack.pop()\n",
    "                else:\n",
    "                    return False\n",
    "            else:\n",
    "                stack.append(c)\n",
    "        return True if not stack else False\n",
    "        \n",
    "        return stack == [] "
   ]
  },
  {
   "cell_type": "markdown",
   "id": "dd70468b-da53-4588-951f-ae47a18b9f72",
   "metadata": {},
   "source": [
    "Time Complexity:O(N) Space Complexity:O(1) Runtime: 80ms 80%"
   ]
  },
  {
   "cell_type": "markdown",
   "id": "6257e796-35b2-478a-ab8a-249bdcf0922d",
   "metadata": {},
   "source": [
    "#"
   ]
  },
  {
   "cell_type": "markdown",
   "id": "5aee07bc-02d0-41f0-8ea3-d2b09934773c",
   "metadata": {},
   "source": [
    "Problem Number: 150. Evaluate Reverse Polish Notation"
   ]
  },
  {
   "cell_type": "code",
   "execution_count": 2,
   "id": "8489d600-ca5b-4a70-bef3-0094cff76234",
   "metadata": {},
   "outputs": [],
   "source": [
    "class Solution(object):\n",
    "    def evalRPN(self, tokens):\n",
    "        \"\"\"\n",
    "        :type tokens: List[str]\n",
    "        :rtype: int\n",
    "        \"\"\"\n",
    "        stack = []\n",
    "        for t in tokens:\n",
    "            if t not in \"+-*/\":\n",
    "                stack.append(int(t))\n",
    "            else:\n",
    "                b = stack.pop()\n",
    "                a = stack.pop()\n",
    "                if t == '+':\n",
    "                    stack.append(a + b)\n",
    "                elif t == '-':\n",
    "                    stack.append(a - b)\n",
    "                elif t == '*':\n",
    "                    stack.append(a * b)\n",
    "                elif t == '/':\n",
    "                    # Using integer division that truncates towards zero\n",
    "                    stack.append(int(float(a) / b))\n",
    "        return stack[-1]\n"
   ]
  },
  {
   "cell_type": "markdown",
   "id": "3f617500-72f1-49cb-8aeb-114a72d9468c",
   "metadata": {},
   "source": [
    "Time complexity:O(N) Space Complexity:O(1) Runtime: 60ms 60%"
   ]
  },
  {
   "cell_type": "markdown",
   "id": "65e4f70c-e202-4466-b2db-3819d94fbffd",
   "metadata": {},
   "source": [
    "#"
   ]
  },
  {
   "cell_type": "markdown",
   "id": "102cee47-117a-4222-8d56-3ad239c73214",
   "metadata": {},
   "source": [
    "Problem Number: 739. Daily Temperatures"
   ]
  },
  {
   "cell_type": "code",
   "execution_count": 4,
   "id": "b3a013e0-277f-46ac-b6c5-cc40cdbc845e",
   "metadata": {},
   "outputs": [],
   "source": [
    "class Solution(object):\n",
    "    def dailyTemperatures(self, temperatures):\n",
    "        \"\"\"\n",
    "        :type temperatures: List[int]\n",
    "        :rtype: List[int]\n",
    "        \"\"\"\n",
    "        n = len(temperatures)\n",
    "        res = [0] * n\n",
    "        stack = []\n",
    "\n",
    "        for i , t in enumerate(temperatures):\n",
    "\n",
    "            while stack and stack[-1][0] < t:\n",
    "                stack_t , stack_i  = stack.pop()\n",
    "                res[stack_i] = i - stack_i \n",
    "            \n",
    "            stack.append([t,i])\n",
    "        \n",
    "        return res"
   ]
  },
  {
   "cell_type": "markdown",
   "id": "2a37b27f-66ba-42b6-92c0-60f20150bf58",
   "metadata": {},
   "source": [
    "Time complexity:O(N) Space Complexity:O(1) Runtime: 60ms 60%"
   ]
  },
  {
   "cell_type": "markdown",
   "id": "a4cfcf69-a1cd-4170-8f0c-bd92eaa42922",
   "metadata": {},
   "source": [
    "#"
   ]
  },
  {
   "cell_type": "markdown",
   "id": "2c214676-f36f-4863-a86d-a28f2f56d7cb",
   "metadata": {},
   "source": [
    "Problem Number: 853. Car Fleet"
   ]
  },
  {
   "cell_type": "code",
   "execution_count": null,
   "id": "30f28f91-2461-4821-a77c-63b7bd031449",
   "metadata": {},
   "outputs": [],
   "source": []
  }
 ],
 "metadata": {
  "kernelspec": {
   "display_name": "Python 3 (ipykernel)",
   "language": "python",
   "name": "python3"
  },
  "language_info": {
   "codemirror_mode": {
    "name": "ipython",
    "version": 3
   },
   "file_extension": ".py",
   "mimetype": "text/x-python",
   "name": "python",
   "nbconvert_exporter": "python",
   "pygments_lexer": "ipython3",
   "version": "3.11.7"
  }
 },
 "nbformat": 4,
 "nbformat_minor": 5
}
