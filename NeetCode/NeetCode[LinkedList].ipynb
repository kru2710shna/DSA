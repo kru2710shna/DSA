{
 "cells": [
  {
   "cell_type": "markdown",
   "id": "2b14781e-8fca-48d4-aa97-016440b4d8a9",
   "metadata": {},
   "source": [
    "## NeetCode - LinkedList"
   ]
  },
  {
   "cell_type": "markdown",
   "id": "f5b96452-2b50-4ddf-83a4-4690b274069a",
   "metadata": {},
   "source": [
    "#"
   ]
  },
  {
   "cell_type": "markdown",
   "id": "7dd9977f-8aff-4502-878f-5a34b49cdce5",
   "metadata": {},
   "source": [
    "Problem number 206. Reverse Linked List"
   ]
  },
  {
   "cell_type": "code",
   "execution_count": 1,
   "id": "ed23487e-250e-430b-96a1-541f21ff3aa1",
   "metadata": {},
   "outputs": [],
   "source": [
    "# Definition for singly-linked list.\n",
    "# class ListNode(object):\n",
    "#     def __init__(self, val=0, next=None):\n",
    "#         self.val = val\n",
    "#         self.next = next\n",
    "class Solution(object):\n",
    "    def reverseList(self, head):\n",
    "        \"\"\"\n",
    "        :type head: ListNode\n",
    "        :rtype: ListNode\n",
    "        \"\"\"\n",
    "        if not head:\n",
    "            return \n",
    "        \n",
    "        prev = None\n",
    "        while head:\n",
    "            curr = head\n",
    "            head = head.next\n",
    "            curr.next = prev\n",
    "            prev = curr\n",
    "        return curr\n",
    "\n",
    "        "
   ]
  },
  {
   "cell_type": "markdown",
   "id": "00d8d29c-f61b-4212-8d1f-fbfbf5683767",
   "metadata": {},
   "source": [
    "Time Complexity:O(N) Space Complexity:O(1) Runtime: Highest"
   ]
  },
  {
   "cell_type": "markdown",
   "id": "4b67c9a9-db17-446f-a992-68ee05b58021",
   "metadata": {},
   "source": [
    "#"
   ]
  },
  {
   "cell_type": "markdown",
   "id": "6b7f0e87-6bf3-43ce-8a88-e4d9974ad249",
   "metadata": {},
   "source": [
    "Problem Number 21. Merge Two Sorted Lists"
   ]
  },
  {
   "cell_type": "code",
   "execution_count": 2,
   "id": "5e0bf34a-efde-47d7-bac6-6336be660f8e",
   "metadata": {},
   "outputs": [],
   "source": [
    "## Approach-1 \n",
    "\n",
    "# Definition for singly-linked list.\n",
    "# class ListNode(object):\n",
    "#     def __init__(self, val=0, next=None):\n",
    "#         self.val = val\n",
    "#         self.next = next\n",
    "class Solution(object):\n",
    "    def mergeTwoLists(self, list1, list2):\n",
    "        \"\"\"\n",
    "        :type list1: Optional[ListNode]\n",
    "        :type list2: Optional[ListNode]\n",
    "        :rtype: Optional[ListNode]\n",
    "        \"\"\"\n",
    "        if not list1:\n",
    "            return list2\n",
    "        if not list2:\n",
    "            return list1\n",
    "\n",
    "        if list1.val <= list2.val:\n",
    "            merged = list1\n",
    "            merged.next = self.mergeTwoLists(list1.next, list2)\n",
    "        else:\n",
    "            merged = list2\n",
    "            merged.next = self.mergeTwoLists(list1, list2.next)\n",
    "\n",
    "        return merged "
   ]
  },
  {
   "cell_type": "markdown",
   "id": "d6840334-ee2a-4492-937b-2045d11288c8",
   "metadata": {},
   "source": [
    "Time Complexity:O(N) Space Complexity:O(1) Runtime: Highest"
   ]
  },
  {
   "cell_type": "code",
   "execution_count": 4,
   "id": "31c5dbec-a16e-4527-a92f-1876208fa036",
   "metadata": {},
   "outputs": [],
   "source": [
    "## Approach-2 \n",
    "# Definition for singly-linked list.\n",
    "# class ListNode(object):\n",
    "#     def __init__(self, val=0, next=None):\n",
    "#         self.val = val\n",
    "#         self.next = next\n",
    "class Solution(object):\n",
    "    def mergeTwoLists(self, list1, list2):\n",
    "        \"\"\"\n",
    "        :type list1: Optional[ListNode]\n",
    "        :type list2: Optional[ListNode]\n",
    "        :rtype: Optional[ListNode]\n",
    "        \"\"\"\n",
    "        if not list1:\n",
    "            return list2\n",
    "        if not list2:\n",
    "            return list1\n",
    "\n",
    "        dummy = ListNode(0)\n",
    "        curr = dummy\n",
    "\n",
    "        while list1 and list2:\n",
    "            if list1.val <= list2.val:\n",
    "                curr.next = list1\n",
    "                list1 = list1.next\n",
    "            else:\n",
    "                curr.next = list2\n",
    "                list2 = list2.next\n",
    "            curr =curr.next\n",
    "        \n",
    "        if list1:\n",
    "            curr.next = list1\n",
    "        if list2:\n",
    "            curr.next = list2\n",
    "            \n",
    "        # curr.next = list1 or list2\n",
    "\n",
    "        return dummy.next\n",
    "\n"
   ]
  },
  {
   "cell_type": "markdown",
   "id": "ac6d1586-96da-42e7-b23e-cdb05a08776f",
   "metadata": {},
   "source": [
    "Time Complexity:O(N) Space Complexity:O(1) Runtime: Highest"
   ]
  },
  {
   "cell_type": "markdown",
   "id": "124e5e32-0fe0-42b0-8b40-30125bb5388d",
   "metadata": {},
   "source": [
    "#"
   ]
  },
  {
   "cell_type": "markdown",
   "id": "7a395247-c39b-4eaa-a79f-9d1d5bfd66cf",
   "metadata": {},
   "source": [
    "Problem Number: 143. Reorder List"
   ]
  },
  {
   "cell_type": "code",
   "execution_count": null,
   "id": "5692152e-377a-4069-88b1-5f066b873f6a",
   "metadata": {},
   "outputs": [],
   "source": []
  }
 ],
 "metadata": {
  "kernelspec": {
   "display_name": "Python 3 (ipykernel)",
   "language": "python",
   "name": "python3"
  },
  "language_info": {
   "codemirror_mode": {
    "name": "ipython",
    "version": 3
   },
   "file_extension": ".py",
   "mimetype": "text/x-python",
   "name": "python",
   "nbconvert_exporter": "python",
   "pygments_lexer": "ipython3",
   "version": "3.11.7"
  }
 },
 "nbformat": 4,
 "nbformat_minor": 5
}
