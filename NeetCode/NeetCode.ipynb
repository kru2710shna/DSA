{
 "cells": [
  {
   "cell_type": "markdown",
   "id": "2f079235",
   "metadata": {},
   "source": [
    "# NeetCode RoadMap - Array and Hashing \n"
   ]
  },
  {
   "cell_type": "markdown",
   "id": "bd0c6cf3",
   "metadata": {},
   "source": [
    "#"
   ]
  },
  {
   "cell_type": "markdown",
   "id": "fee47344",
   "metadata": {},
   "source": [
    "    Problem Number 217. Contains Duplicate:"
   ]
  },
  {
   "cell_type": "code",
   "execution_count": 6,
   "id": "6c8f8e23",
   "metadata": {},
   "outputs": [],
   "source": [
    "class Solution(object):\n",
    "    def containsDuplicate(self, nums):\n",
    "        \"\"\"\n",
    "        :type nums: List[int]\n",
    "        :rtype: bool\n",
    "        \"\"\"\n",
    "        l = len(set(nums))\n",
    "        m = len(nums)\n",
    "        if l == m:\n",
    "            return False\n",
    "\n",
    "        return True\n",
    "        "
   ]
  },
  {
   "cell_type": "markdown",
   "id": "a665b9fa",
   "metadata": {},
   "source": [
    "     Time Complexity: O(N) Space Complexity: O(1)  Runtime: 406ms Beats- 99%"
   ]
  },
  {
   "cell_type": "markdown",
   "id": "fd047592",
   "metadata": {},
   "source": [
    "#"
   ]
  },
  {
   "cell_type": "markdown",
   "id": "374cf567",
   "metadata": {},
   "source": [
    "    Problem Number 242. Valid Anagram"
   ]
  },
  {
   "cell_type": "code",
   "execution_count": 7,
   "id": "c81bb96f",
   "metadata": {},
   "outputs": [],
   "source": [
    "class Solution(object):\n",
    "    def isAnagram(self, s, t):\n",
    "        \"\"\"\n",
    "        :type s: str\n",
    "        :type t: str\n",
    "        :rtype: bool\n",
    "        \"\"\"\n",
    "        if len(s) != len(t):\n",
    "            return False\n",
    "        \n",
    "        temp = set(s)\n",
    "\n",
    "        for i in temp:\n",
    "            if not (i in t and i in s and s.count(i) == t.count(i)):\n",
    "                return False  \n",
    "                \n",
    "        return True "
   ]
  },
  {
   "cell_type": "markdown",
   "id": "d044771f",
   "metadata": {},
   "source": [
    "    Time Complexity: O(N) Space Complexity: O(N) Runtime: 9ms Beats- 99.8%"
   ]
  },
  {
   "cell_type": "markdown",
   "id": "6df02eec",
   "metadata": {},
   "source": [
    "#"
   ]
  },
  {
   "cell_type": "markdown",
   "id": "7fb1a60a",
   "metadata": {},
   "source": [
    "    Probem Number 1. Two Sum"
   ]
  },
  {
   "cell_type": "code",
   "execution_count": 8,
   "id": "1dfb0d5c",
   "metadata": {},
   "outputs": [],
   "source": [
    "class Solution(object):\n",
    "    def twoSum(self, nums, target):\n",
    "        \"\"\"\n",
    "        :type nums: List[int]\n",
    "        :type target: int\n",
    "        :rtype: List[int]\n",
    "        \"\"\"\n",
    "        lookup = {}\n",
    "\n",
    "        for i in range(len(nums)):\n",
    "            # value in look up\n",
    "            if nums[i] in lookup:\n",
    "                return [lookup[nums[i]] , i ]\n",
    "            # value not in lookup\n",
    "            else:\n",
    "                lookup[target-nums[i]] = i\n",
    "        \n",
    "        return None"
   ]
  },
  {
   "cell_type": "markdown",
   "id": "39c70358",
   "metadata": {},
   "source": [
    "    Time Complexity: O(N)  Space Complexity:O(N)  Runtime:96.8%"
   ]
  },
  {
   "cell_type": "markdown",
   "id": "899bc10e",
   "metadata": {},
   "source": [
    "#"
   ]
  },
  {
   "cell_type": "code",
   "execution_count": null,
   "id": "b4712aa4",
   "metadata": {},
   "outputs": [],
   "source": []
  }
 ],
 "metadata": {
  "kernelspec": {
   "display_name": "Python 3 (ipykernel)",
   "language": "python",
   "name": "python3"
  },
  "language_info": {
   "codemirror_mode": {
    "name": "ipython",
    "version": 3
   },
   "file_extension": ".py",
   "mimetype": "text/x-python",
   "name": "python",
   "nbconvert_exporter": "python",
   "pygments_lexer": "ipython3",
   "version": "3.11.5"
  }
 },
 "nbformat": 4,
 "nbformat_minor": 5
}
