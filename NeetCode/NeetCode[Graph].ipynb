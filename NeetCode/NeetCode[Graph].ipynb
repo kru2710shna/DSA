{
 "cells": [
  {
   "cell_type": "markdown",
   "id": "a161926a-bb58-49d0-9e59-090e5adca150",
   "metadata": {},
   "source": [
    "## NeetCode - Graph "
   ]
  },
  {
   "cell_type": "markdown",
   "id": "87698398-b5e0-4143-abb2-1e16a97b79e1",
   "metadata": {},
   "source": [
    "#"
   ]
  },
  {
   "cell_type": "markdown",
   "id": "e3cd3be8-7af1-49f4-98d7-032e2aa68998",
   "metadata": {},
   "source": [
    "Problem Number: 200. Number of Islands"
   ]
  },
  {
   "cell_type": "code",
   "execution_count": 1,
   "id": "6ca87603-84cc-49e1-a51c-f3531a3718af",
   "metadata": {},
   "outputs": [],
   "source": [
    "class Solution(object):\n",
    "    def numIslands(self, grid):\n",
    "        \"\"\"\n",
    "        :type grid: List[List[str]]\n",
    "        :rtype: int\n",
    "        \"\"\"\n",
    "        if not grid:\n",
    "            return 0\n",
    "\n",
    "        R = len(grid)\n",
    "        C = len(grid[0])\n",
    "        count = 0\n",
    "\n",
    "        def dfs(r,c):\n",
    "\n",
    "            if r < 0 or c < 0 or r >= R or c>= C or grid[r][c] == '0':\n",
    "                return  \n",
    "\n",
    "            grid[r][c] = '0'\n",
    "\n",
    "            dfs(r+1,c)\n",
    "            dfs(r-1,c)\n",
    "            dfs(r,c+1) \n",
    "            dfs(r,c-1)\n",
    "        \n",
    "        for i in range(R):\n",
    "            for j in range(C):\n",
    "                if grid[i][j] == \"1\":\n",
    "                    dfs(i,j)\n",
    "                    count+=1\n",
    "        return count \n",
    "\n",
    "\n",
    "        "
   ]
  },
  {
   "cell_type": "markdown",
   "id": "d01f22ca-192d-4fd8-a0f7-a3fb721d8142",
   "metadata": {},
   "source": [
    "TimeComplexity:O(V^2) Space Complexity:O(V^2) Runtime: Highest"
   ]
  },
  {
   "cell_type": "markdown",
   "id": "b6bddc9e-a34f-4b41-a2f1-872806017330",
   "metadata": {},
   "source": [
    "#"
   ]
  },
  {
   "cell_type": "markdown",
   "id": "fa869bf7-9df4-49ba-add2-281a6d8f59b4",
   "metadata": {},
   "source": [
    "Problem Number: 695. Max Area of Island"
   ]
  },
  {
   "cell_type": "code",
   "execution_count": 2,
   "id": "64955e09-34a1-4065-b258-0a7420198f77",
   "metadata": {},
   "outputs": [],
   "source": [
    "class Solution:\n",
    "    def maxAreaOfIsland(self, grid):\n",
    "        \"\"\"\n",
    "        :type grid: List[List[int]]\n",
    "        :rtype: int\n",
    "        \"\"\"\n",
    "        if not grid:\n",
    "            return 0\n",
    "\n",
    "        R, C = len(grid), len(grid[0])\n",
    "        max_area = 0\n",
    "\n",
    "        def dfs(r, c):\n",
    "            if r < 0 or c < 0 or r >= R or c >= C or grid[r][c] == 0:\n",
    "                return 0\n",
    "            grid[r][c] = 0  # Mark the land as visited\n",
    "            area = 1  # Current cell\n",
    "\n",
    "            # Visit all 4 adjacent cells\n",
    "            area += dfs(r + 1, c)\n",
    "            area += dfs(r - 1, c)\n",
    "            area += dfs(r, c + 1)\n",
    "            area += dfs(r, c - 1)\n",
    "\n",
    "            return area\n",
    "\n",
    "        for r in range(R):\n",
    "            for c in range(C):\n",
    "                if grid[r][c] == 1:\n",
    "                    max_area = max(max_area, dfs(r, c))\n",
    "\n",
    "        return max_area\n"
   ]
  },
  {
   "cell_type": "markdown",
   "id": "5f3fcffd-62f4-4af9-a0e0-76388faf10a3",
   "metadata": {},
   "source": [
    "Time Complexity:O(V^2) Space Complexity:O(V^2) Runtime: Highest"
   ]
  },
  {
   "cell_type": "markdown",
   "id": "e718fe67-c133-43df-9e90-32714c00f18e",
   "metadata": {},
   "source": [
    "#"
   ]
  },
  {
   "cell_type": "markdown",
   "id": "0b7038b8-1387-4390-b677-6104b6336bfc",
   "metadata": {},
   "source": [
    "Problem Number: 133. Clone Graph"
   ]
  },
  {
   "cell_type": "code",
   "execution_count": 3,
   "id": "4d28efea-d116-4730-996b-6ef248b104ba",
   "metadata": {},
   "outputs": [],
   "source": [
    "\"\"\"\n",
    "# Definition for a Node.\n",
    "class Node(object):\n",
    "    def __init__(self, val = 0, neighbors = None):\n",
    "        self.val = val\n",
    "        self.neighbors = neighbors if neighbors is not None else []\n",
    "\"\"\"\n",
    "\n",
    "class Solution(object):\n",
    "    def cloneGraph(self, node):\n",
    "        \"\"\"\n",
    "        :type node: Node\n",
    "        :rtype: Node\n",
    "        \"\"\"\n",
    "        clone = {}\n",
    "\n",
    "        def dfs(node):\n",
    "            if node in clone:\n",
    "                return clone[node]\n",
    "\n",
    "            copy = Node(node.val)\n",
    "            clone[node] = copy\n",
    "\n",
    "            for nei in node.neighbors:\n",
    "                copy.neighbors.append(dfs(nei))\n",
    "            return copy\n",
    "        return dfs (node) if node else None\n",
    "\n",
    "\n",
    "        "
   ]
  },
  {
   "cell_type": "markdown",
   "id": "34117ae2-8abc-43cc-8707-ad69bebe4a4e",
   "metadata": {},
   "source": [
    "TimeComplexity:O(V + E) Space Complexity:O(V + E) Runtime: Highest"
   ]
  },
  {
   "cell_type": "markdown",
   "id": "b9aa9e4f-9493-4d09-b718-25430e15a24d",
   "metadata": {},
   "source": [
    "#"
   ]
  },
  {
   "cell_type": "markdown",
   "id": "4d676887-3fd1-4436-8d43-83ddcf9c25c0",
   "metadata": {},
   "source": [
    "Problem Number: 994. Rotting Oranges"
   ]
  },
  {
   "cell_type": "code",
   "execution_count": 4,
   "id": "68fb6694-6d2a-4fdd-8171-002b6f9370e3",
   "metadata": {},
   "outputs": [],
   "source": [
    "from collections import deque\n",
    "\n",
    "class Solution(object):\n",
    "    def orangesRotting(self, grid):\n",
    "        \"\"\"\n",
    "        :type grid: List[List[int]]\n",
    "        :rtype: int\n",
    "        \"\"\"\n",
    "        if not grid:\n",
    "            return -1\n",
    "\n",
    "        R, C = len(grid), len(grid[0])\n",
    "        queue = deque()\n",
    "        fresh_count = 0\n",
    "\n",
    "        # Step 1: Initialize the queue with all initially rotten oranges\n",
    "        for r in range(R):\n",
    "            for c in range(C):\n",
    "                if grid[r][c] == 2:\n",
    "                    queue.append((r, c))\n",
    "                elif grid[r][c] == 1:\n",
    "                    fresh_count += 1\n",
    "\n",
    "        # Directions for 4-directional movement\n",
    "        directions = [(1, 0), (-1, 0), (0, 1), (0, -1)]\n",
    "\n",
    "        # Step 2: BFS traversal to rot adjacent fresh oranges\n",
    "        minutes_passed = 0\n",
    "        while queue and fresh_count > 0:\n",
    "            minutes_passed += 1\n",
    "            for _ in range(len(queue)):\n",
    "                r, c = queue.popleft()\n",
    "                for dr, dc in directions:\n",
    "                    rr, cc = r + dr, c + dc\n",
    "                    if 0 <= rr < R and 0 <= cc < C and grid[rr][cc] == 1:\n",
    "                        grid[rr][cc] = 2\n",
    "                        fresh_count -= 1\n",
    "                        queue.append((rr, cc))\n",
    "\n",
    "        # Step 3: Check if there are any remaining fresh oranges\n",
    "        return minutes_passed if fresh_count == 0 else -1\n"
   ]
  },
  {
   "cell_type": "markdown",
   "id": "ede224b1-6629-4471-b693-2d198f229107",
   "metadata": {},
   "source": [
    "TimeComplexity:O(V * E) Space Complexity:O(V * E) Runtime: Highest"
   ]
  },
  {
   "cell_type": "markdown",
   "id": "70da48b6-f970-45b1-a2e4-ae32c3e98eaf",
   "metadata": {},
   "source": [
    "#"
   ]
  },
  {
   "cell_type": "code",
   "execution_count": null,
   "id": "83b488f4-6cdf-41cd-ba60-d5dc15bc9ec6",
   "metadata": {},
   "outputs": [],
   "source": []
  }
 ],
 "metadata": {
  "kernelspec": {
   "display_name": "Python 3 (ipykernel)",
   "language": "python",
   "name": "python3"
  },
  "language_info": {
   "codemirror_mode": {
    "name": "ipython",
    "version": 3
   },
   "file_extension": ".py",
   "mimetype": "text/x-python",
   "name": "python",
   "nbconvert_exporter": "python",
   "pygments_lexer": "ipython3",
   "version": "3.11.7"
  }
 },
 "nbformat": 4,
 "nbformat_minor": 5
}
