{
 "cells": [
  {
   "cell_type": "markdown",
   "id": "a161926a-bb58-49d0-9e59-090e5adca150",
   "metadata": {},
   "source": [
    "## NeetCode - Graph "
   ]
  },
  {
   "cell_type": "markdown",
   "id": "87698398-b5e0-4143-abb2-1e16a97b79e1",
   "metadata": {},
   "source": [
    "#"
   ]
  },
  {
   "cell_type": "markdown",
   "id": "e3cd3be8-7af1-49f4-98d7-032e2aa68998",
   "metadata": {},
   "source": [
    "Problem Number: 200. Number of Islands"
   ]
  },
  {
   "cell_type": "code",
   "execution_count": 1,
   "id": "6ca87603-84cc-49e1-a51c-f3531a3718af",
   "metadata": {},
   "outputs": [],
   "source": [
    "class Solution(object):\n",
    "    def numIslands(self, grid):\n",
    "        \"\"\"\n",
    "        :type grid: List[List[str]]\n",
    "        :rtype: int\n",
    "        \"\"\"\n",
    "        if not grid:\n",
    "            return 0\n",
    "\n",
    "        R = len(grid)\n",
    "        C = len(grid[0])\n",
    "        count = 0\n",
    "\n",
    "        def dfs(r,c):\n",
    "\n",
    "            if r < 0 or c < 0 or r >= R or c>= C or grid[r][c] == '0':\n",
    "                return  \n",
    "\n",
    "            grid[r][c] = '0'\n",
    "\n",
    "            dfs(r+1,c)\n",
    "            dfs(r-1,c)\n",
    "            dfs(r,c+1) \n",
    "            dfs(r,c-1)\n",
    "        \n",
    "        for i in range(R):\n",
    "            for j in range(C):\n",
    "                if grid[i][j] == \"1\":\n",
    "                    dfs(i,j)\n",
    "                    count+=1\n",
    "        return count \n",
    "\n",
    "\n",
    "        "
   ]
  },
  {
   "cell_type": "markdown",
   "id": "d01f22ca-192d-4fd8-a0f7-a3fb721d8142",
   "metadata": {},
   "source": [
    "TimeComplexity:O(V^2) Space Complexity:O(V^2) Runtime: Highest"
   ]
  },
  {
   "cell_type": "markdown",
   "id": "b6bddc9e-a34f-4b41-a2f1-872806017330",
   "metadata": {},
   "source": [
    "#"
   ]
  },
  {
   "cell_type": "markdown",
   "id": "fa869bf7-9df4-49ba-add2-281a6d8f59b4",
   "metadata": {},
   "source": [
    "Problem Number: 695. Max Area of Island"
   ]
  },
  {
   "cell_type": "code",
   "execution_count": 2,
   "id": "64955e09-34a1-4065-b258-0a7420198f77",
   "metadata": {},
   "outputs": [],
   "source": [
    "class Solution:\n",
    "    def maxAreaOfIsland(self, grid):\n",
    "        \"\"\"\n",
    "        :type grid: List[List[int]]\n",
    "        :rtype: int\n",
    "        \"\"\"\n",
    "        if not grid:\n",
    "            return 0\n",
    "\n",
    "        R, C = len(grid), len(grid[0])\n",
    "        max_area = 0\n",
    "\n",
    "        def dfs(r, c):\n",
    "            if r < 0 or c < 0 or r >= R or c >= C or grid[r][c] == 0:\n",
    "                return 0\n",
    "            grid[r][c] = 0  # Mark the land as visited\n",
    "            area = 1  # Current cell\n",
    "\n",
    "            # Visit all 4 adjacent cells\n",
    "            area += dfs(r + 1, c)\n",
    "            area += dfs(r - 1, c)\n",
    "            area += dfs(r, c + 1)\n",
    "            area += dfs(r, c - 1)\n",
    "\n",
    "            return area\n",
    "\n",
    "        for r in range(R):\n",
    "            for c in range(C):\n",
    "                if grid[r][c] == 1:\n",
    "                    max_area = max(max_area, dfs(r, c))\n",
    "\n",
    "        return max_area\n"
   ]
  },
  {
   "cell_type": "markdown",
   "id": "5f3fcffd-62f4-4af9-a0e0-76388faf10a3",
   "metadata": {},
   "source": [
    "Time Complexity:O(V^2) Space Complexity:O(V^2) Runtime: Highest"
   ]
  },
  {
   "cell_type": "markdown",
   "id": "e718fe67-c133-43df-9e90-32714c00f18e",
   "metadata": {},
   "source": [
    "#"
   ]
  },
  {
   "cell_type": "markdown",
   "id": "0b7038b8-1387-4390-b677-6104b6336bfc",
   "metadata": {},
   "source": [
    "Problem Number: 133. Clone Graph"
   ]
  },
  {
   "cell_type": "code",
   "execution_count": 3,
   "id": "4d28efea-d116-4730-996b-6ef248b104ba",
   "metadata": {},
   "outputs": [],
   "source": [
    "\"\"\"\n",
    "# Definition for a Node.\n",
    "class Node(object):\n",
    "    def __init__(self, val = 0, neighbors = None):\n",
    "        self.val = val\n",
    "        self.neighbors = neighbors if neighbors is not None else []\n",
    "\"\"\"\n",
    "\n",
    "class Solution(object):\n",
    "    def cloneGraph(self, node):\n",
    "        \"\"\"\n",
    "        :type node: Node\n",
    "        :rtype: Node\n",
    "        \"\"\"\n",
    "        clone = {}\n",
    "\n",
    "        def dfs(node):\n",
    "            if node in clone:\n",
    "                return clone[node]\n",
    "\n",
    "            copy = Node(node.val)\n",
    "            clone[node] = copy\n",
    "\n",
    "            for nei in node.neighbors:\n",
    "                copy.neighbors.append(dfs(nei))\n",
    "            return copy\n",
    "        return dfs (node) if node else None\n",
    "\n",
    "\n",
    "        "
   ]
  },
  {
   "cell_type": "markdown",
   "id": "34117ae2-8abc-43cc-8707-ad69bebe4a4e",
   "metadata": {},
   "source": [
    "TimeComplexity:O(V + E) Space Complexity:O(V + E) Runtime: Highest"
   ]
  },
  {
   "cell_type": "markdown",
   "id": "b9aa9e4f-9493-4d09-b718-25430e15a24d",
   "metadata": {},
   "source": [
    "#"
   ]
  },
  {
   "cell_type": "markdown",
   "id": "4d676887-3fd1-4436-8d43-83ddcf9c25c0",
   "metadata": {},
   "source": [
    "Problem Number: 994. Rotting Oranges"
   ]
  },
  {
   "cell_type": "code",
   "execution_count": 4,
   "id": "68fb6694-6d2a-4fdd-8171-002b6f9370e3",
   "metadata": {},
   "outputs": [],
   "source": [
    "from collections import deque\n",
    "\n",
    "class Solution(object):\n",
    "    def orangesRotting(self, grid):\n",
    "        \"\"\"\n",
    "        :type grid: List[List[int]]\n",
    "        :rtype: int\n",
    "        \"\"\"\n",
    "        if not grid:\n",
    "            return -1\n",
    "\n",
    "        R, C = len(grid), len(grid[0])\n",
    "        queue = deque()\n",
    "        fresh_count = 0\n",
    "\n",
    "        # Step 1: Initialize the queue with all initially rotten oranges\n",
    "        for r in range(R):\n",
    "            for c in range(C):\n",
    "                if grid[r][c] == 2:\n",
    "                    queue.append((r, c))\n",
    "                elif grid[r][c] == 1:\n",
    "                    fresh_count += 1\n",
    "\n",
    "        # Directions for 4-directional movement\n",
    "        directions = [(1, 0), (-1, 0), (0, 1), (0, -1)]\n",
    "\n",
    "        # Step 2: BFS traversal to rot adjacent fresh oranges\n",
    "        minutes_passed = 0\n",
    "        while queue and fresh_count > 0:\n",
    "            minutes_passed += 1\n",
    "            for _ in range(len(queue)):\n",
    "                r, c = queue.popleft()\n",
    "                for dr, dc in directions:\n",
    "                    rr, cc = r + dr, c + dc\n",
    "                    if 0 <= rr < R and 0 <= cc < C and grid[rr][cc] == 1:\n",
    "                        grid[rr][cc] = 2\n",
    "                        fresh_count -= 1\n",
    "                        queue.append((rr, cc))\n",
    "\n",
    "        # Step 3: Check if there are any remaining fresh oranges\n",
    "        return minutes_passed if fresh_count == 0 else -1\n"
   ]
  },
  {
   "cell_type": "markdown",
   "id": "ede224b1-6629-4471-b693-2d198f229107",
   "metadata": {},
   "source": [
    "TimeComplexity:O(V * E) Space Complexity:O(V * E) Runtime: Highest"
   ]
  },
  {
   "cell_type": "markdown",
   "id": "70da48b6-f970-45b1-a2e4-ae32c3e98eaf",
   "metadata": {},
   "source": [
    "#"
   ]
  },
  {
   "cell_type": "markdown",
   "id": "0e0eb28c-5f9b-430c-b7b6-63b313f465eb",
   "metadata": {},
   "source": [
    "Problem Number: 417. Pacific Atlantic Water Flow"
   ]
  },
  {
   "cell_type": "code",
   "execution_count": 1,
   "id": "fd6061df-c016-4db5-b01e-6fdcd9325f77",
   "metadata": {},
   "outputs": [],
   "source": [
    "class Solution(object):\n",
    "    def pacificAtlantic(self, heights):\n",
    "        \"\"\"\n",
    "        :type heights: List[List[int]]\n",
    "        :rtype: List[List[int]]\n",
    "        \"\"\"\n",
    "        \n",
    "        if not heights or not heights[0]:\n",
    "            return []\n",
    "        \n",
    "        def dfs(r, c, visited, prev_height):\n",
    "            if (r, c) in visited or r < 0 or c < 0 or r >= len(heights) or c >= len(heights[0]) or heights[r][c] < prev_height:\n",
    "                return\n",
    "            visited.add((r, c))\n",
    "            directions = [(0, 1), (1, 0), (0, -1), (-1, 0)]\n",
    "            for dr, dc in directions:\n",
    "                dfs(r + dr, c + dc, visited, heights[r][c])\n",
    "        \n",
    "        pacific_reachable = set()\n",
    "        atlantic_reachable = set()\n",
    "        \n",
    "        rows, cols = len(heights), len(heights[0])\n",
    "        \n",
    "        # Perform DFS from all cells adjacent to the Pacific and Atlantic oceans\n",
    "        for r in range(rows):\n",
    "            dfs(r, 0, pacific_reachable, heights[r][0])\n",
    "            dfs(r, cols - 1, atlantic_reachable, heights[r][cols - 1])\n",
    "        \n",
    "        for c in range(cols):\n",
    "            dfs(0, c, pacific_reachable, heights[0][c])\n",
    "            dfs(rows - 1, c, atlantic_reachable, heights[rows - 1][c])\n",
    "        \n",
    "        # Find all cells that can reach both oceans\n",
    "        result = []\n",
    "        for r in range(rows):\n",
    "            for c in range(cols):\n",
    "                if (r, c) in pacific_reachable and (r, c) in atlantic_reachable:\n",
    "                    result.append([r, c])\n",
    "        \n",
    "        return result\n"
   ]
  },
  {
   "cell_type": "markdown",
   "id": "44d9eb5a-632e-4bce-930e-e50e20e73246",
   "metadata": {},
   "source": [
    "Time Complexity:O(N * M) Space Complexity:O(N * M) Runtime: Highest"
   ]
  },
  {
   "cell_type": "markdown",
   "id": "6b784d43-03bb-4075-ac58-c39734c45337",
   "metadata": {},
   "source": [
    "#"
   ]
  },
  {
   "cell_type": "markdown",
   "id": "3275732c-7cce-4f7b-a8c3-89ef6db681d8",
   "metadata": {},
   "source": [
    "Problem Number: 130. Surrounded Regions"
   ]
  },
  {
   "cell_type": "code",
   "execution_count": 2,
   "id": "601b7ea1-93dd-47ac-b315-9dfa225a066b",
   "metadata": {},
   "outputs": [],
   "source": [
    "class Solution(object):\n",
    "    def solve(self, board):\n",
    "        \"\"\"\n",
    "        :type board: List[List[str]]\n",
    "        :rtype: None Do not return anything, modify board in-place instead.\n",
    "        \"\"\"\n",
    "\n",
    "        R = len(board)\n",
    "        C = len(board[0])\n",
    "\n",
    "        # mark every O in borders as T\n",
    "        def dfs(r,c):\n",
    "            if r < 0 or c < 0 or r >= R or c >= C or board[r][c] != 'O':\n",
    "                return \n",
    "            board[r][c] = 'T'\n",
    "            dfs(r+1,c)\n",
    "            dfs(r-1,c)\n",
    "            dfs(r,c+1)\n",
    "            dfs(r,c-1)\n",
    "        \n",
    "        for i in range(R):\n",
    "            for j in range(C):\n",
    "                if board[i][j] == 'O' and (i in [0, R-1] or j in [0, C-1]):\n",
    "                    dfs(i,j)\n",
    "        \n",
    "        # Take all the inner O and mark it to X\n",
    "        for i in range(R):\n",
    "            if board[i][0] == 'O':\n",
    "                dfs(i, 0)\n",
    "            if board[i][C - 1] == 'O':\n",
    "                dfs(i, C - 1)\n",
    "        for j in range(C):\n",
    "            if board[0][j] == 'O':\n",
    "                dfs(0, j)\n",
    "            if board[R - 1][j] == 'O':\n",
    "                dfs(R - 1, j)\n",
    "        \n",
    "        # Change the Outer T to O again\n",
    "        for i in range(R):\n",
    "            for j in range(C):\n",
    "                if board[i][j] == 'O':\n",
    "                    board[i][j] = 'X'\n",
    "                elif board[i][j] == 'T':\n",
    "                    board[i][j] = 'O'\n",
    "        \n",
    "\n",
    "\n",
    "\n",
    "\n",
    "\n",
    "        "
   ]
  },
  {
   "cell_type": "markdown",
   "id": "4dd8bd3e-0857-4143-a417-631620f29d2d",
   "metadata": {},
   "source": [
    "Time Complexity:O(N * M) Space Complexity:O(N * M) Runtime: Highest"
   ]
  },
  {
   "cell_type": "markdown",
   "id": "6cfe1034-318b-440b-928b-bc545a8a691c",
   "metadata": {},
   "source": [
    "#"
   ]
  },
  {
   "cell_type": "markdown",
   "id": "4f7fd15a-f80b-4664-8ee3-3644542c2cfe",
   "metadata": {},
   "source": [
    "Problem Number: 207. Course Schedule"
   ]
  },
  {
   "cell_type": "code",
   "execution_count": 3,
   "id": "90f8c1c3-2bfc-432b-bf0d-c65d7d2aff6e",
   "metadata": {},
   "outputs": [],
   "source": [
    "class Solution(object):\n",
    "    def canFinish(self, numCourses, prerequisites):\n",
    "        \"\"\"\n",
    "        :type numCourses: int\n",
    "        :type prerequisites: List[List[int]]\n",
    "        :rtype: bool\n",
    "        \"\"\"\n",
    "        # make graph in from of adjlist\n",
    "        def make_graph(numCourses, prerequisites):\n",
    "            graph = [[] for _ in range(numCourses)] \n",
    "\n",
    "            for course, preq in prerequisites:\n",
    "                graph[course].append(preq)\n",
    "            return graph\n",
    "        \n",
    "        # Detect cycle\n",
    "        def cycle(graph,node, onpath, visited):\n",
    "            if visited[node]:\n",
    "                return False \n",
    "            \n",
    "            visited[node] = True\n",
    "            onpath[node] = True\n",
    "            for nei in graph[node]:\n",
    "                if onpath[nei] or cycle(graph,nei, onpath, visited):\n",
    "                    return True \n",
    "            onpath[node] = False\n",
    "            return False \n",
    "\n",
    "\n",
    "        \n",
    "        def dfs(numCourses, prerequisites):\n",
    "            g = make_graph(numCourses, prerequisites)\n",
    "            visited =[False]*numCourses\n",
    "            onpath= [False]*numCourses\n",
    "            for i in range(numCourses):\n",
    "                if not visited[i] and cycle(g, i, onpath, visited):\n",
    "                    return False \n",
    "            return True \n",
    "        \n",
    "        return dfs(numCourses, prerequisites)   "
   ]
  },
  {
   "cell_type": "markdown",
   "id": "39b248a6-abf9-4735-97d5-c3d2ddb46907",
   "metadata": {},
   "source": [
    "Time Complexity:O(V+E) Space Complexity:O(V+E) Rintime: Highest"
   ]
  },
  {
   "cell_type": "markdown",
   "id": "d77db6aa-c809-4748-ac6e-df4cdf766a47",
   "metadata": {},
   "source": [
    "#"
   ]
  },
  {
   "cell_type": "markdown",
   "id": "3dae9ef7-3058-45be-90c1-6388d7faaf73",
   "metadata": {},
   "source": [
    "Problem Number: 210. Course Schedule II"
   ]
  },
  {
   "cell_type": "code",
   "execution_count": 4,
   "id": "1c0b8129-a005-40c5-b1e6-6a0c0c48d930",
   "metadata": {},
   "outputs": [],
   "source": [
    "class Solution(object):\n",
    "    def findOrder(self, numCourses, prerequisites):\n",
    "        \"\"\"\n",
    "        :type numCourses: int\n",
    "        :type prerequisites: List[List[int]]\n",
    "        :rtype: List[int]\n",
    "        \"\"\"\n",
    "        # Create graph as an adjacency list\n",
    "        def make_graph(numCourses, prerequisites):\n",
    "            graph = [[] for _ in range(numCourses)]\n",
    "            for course, preq in prerequisites:\n",
    "                graph[preq].append(course)\n",
    "            return graph\n",
    "        \n",
    "        # Perform DFS to detect cycle and generate topological order\n",
    "        def dfs(graph, node, onpath, visited, stack):\n",
    "            if onpath[node]:\n",
    "                return True  # Found a cycle\n",
    "            if visited[node]:\n",
    "                return False  # Already processed\n",
    "            \n",
    "            visited[node] = True\n",
    "            onpath[node] = True\n",
    "            \n",
    "            for neighbor in graph[node]:\n",
    "                if dfs(graph, neighbor, onpath, visited, stack):\n",
    "                    return True  # Propagate the cycle detection\n",
    "            \n",
    "            onpath[node] = False\n",
    "            stack.append(node)\n",
    "            return False\n",
    "        \n",
    "        graph = make_graph(numCourses, prerequisites)\n",
    "        visited = [False] * numCourses\n",
    "        onpath = [False] * numCourses\n",
    "        stack = []\n",
    "        \n",
    "        for i in range(numCourses):\n",
    "            if not visited[i]:\n",
    "                if dfs(graph, i, onpath, visited, stack):\n",
    "                    return []  # Cycle detected, return empty list\n",
    "        \n",
    "        return stack[::-1]  # Reverse stack to get correct order\n"
   ]
  },
  {
   "cell_type": "markdown",
   "id": "8946b7fe-0ea9-4335-ac26-8f46127a110d",
   "metadata": {},
   "source": [
    "Time Complexity:O(V+E) Space Complexity:O(V+E) Rintime: Highest"
   ]
  },
  {
   "cell_type": "markdown",
   "id": "3d51c246-bedc-49da-8cc2-ef22c3a6288e",
   "metadata": {},
   "source": [
    "#"
   ]
  },
  {
   "cell_type": "code",
   "execution_count": null,
   "id": "bea992bf-3863-49d5-b6fc-2551bfccf4f4",
   "metadata": {},
   "outputs": [],
   "source": []
  }
 ],
 "metadata": {
  "kernelspec": {
   "display_name": "Python 3 (ipykernel)",
   "language": "python",
   "name": "python3"
  },
  "language_info": {
   "codemirror_mode": {
    "name": "ipython",
    "version": 3
   },
   "file_extension": ".py",
   "mimetype": "text/x-python",
   "name": "python",
   "nbconvert_exporter": "python",
   "pygments_lexer": "ipython3",
   "version": "3.11.7"
  }
 },
 "nbformat": 4,
 "nbformat_minor": 5
}
