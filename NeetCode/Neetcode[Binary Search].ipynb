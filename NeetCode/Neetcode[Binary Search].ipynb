{
 "cells": [
  {
   "cell_type": "markdown",
   "id": "41e87c90-7c52-4fab-87a0-04a88f8e5fb4",
   "metadata": {},
   "source": [
    "## NeetCode[Binary Search]"
   ]
  },
  {
   "cell_type": "markdown",
   "id": "1655d3b3-e865-4183-9855-5103860d2a08",
   "metadata": {},
   "source": [
    "#"
   ]
  },
  {
   "cell_type": "markdown",
   "id": "7dc907bf-c008-4ebd-8b89-a232376a3dbc",
   "metadata": {},
   "source": [
    "Problem Number 704. Binary Search"
   ]
  },
  {
   "cell_type": "code",
   "execution_count": 1,
   "id": "09e3f318-0ac3-4da3-813d-4d6f537cce4f",
   "metadata": {},
   "outputs": [],
   "source": [
    "class Solution(object):\n",
    "    def search(self, nums, target):\n",
    "        \"\"\"\n",
    "        :type nums: List[int]\n",
    "        :type target: int\n",
    "        :rtype: int\n",
    "        \"\"\"\n",
    "        left = 0\n",
    "        right = len(nums) - 1\n",
    "        \n",
    "        while left <= right:\n",
    "            mid = left + (right - left) // 2\n",
    "            \n",
    "            if nums[mid] == target:\n",
    "                return mid\n",
    "            \n",
    "            if nums[mid] < target:\n",
    "                left = mid + 1\n",
    "            else:\n",
    "                right = mid - 1\n",
    "        \n",
    "        return -1\n",
    "\n",
    "        "
   ]
  },
  {
   "cell_type": "markdown",
   "id": "dad14730-4dc6-40ab-91ed-7112bc5b4b6b",
   "metadata": {},
   "source": [
    "Time Complexity:O(N) Space Complexity:O(1) Runtime: 81ms"
   ]
  },
  {
   "cell_type": "markdown",
   "id": "8fe30ee1-6c47-417d-b5d2-c99233df313f",
   "metadata": {},
   "source": [
    "#"
   ]
  },
  {
   "cell_type": "markdown",
   "id": "011a2056-7d6a-4dab-8ab9-6629ccd7c6a0",
   "metadata": {},
   "source": [
    "Problem Number: 74. Search a 2D Matrix"
   ]
  },
  {
   "cell_type": "code",
   "execution_count": 2,
   "id": "08e4cf5a-8739-4780-89d9-e2201fc2b321",
   "metadata": {},
   "outputs": [],
   "source": [
    "class Solution(object):\n",
    "    def searchMatrix(self, matrix, target):\n",
    "        \"\"\"\n",
    "        :type matrix: List[List[int]]\n",
    "        :type target: int\n",
    "        :rtype: bool\n",
    "        \"\"\"\n",
    "        start = 0\n",
    "        end = len(matrix[0]) -1\n",
    "\n",
    "        while start < len(matrix) and end >= 0:\n",
    "            if matrix[start][end] == target:\n",
    "                return True \n",
    "            \n",
    "            elif matrix[start][end] > target:\n",
    "                end -=1 \n",
    "            else:\n",
    "                start +=1\n",
    "        return False \n",
    "\n",
    "        "
   ]
  },
  {
   "cell_type": "markdown",
   "id": "aaaf45b6-43af-47ad-b1f3-61f63de9eb3c",
   "metadata": {},
   "source": [
    "Time Complexity:O(N+M) Space Complexity:O(1) Runtime: 81ms 79%"
   ]
  },
  {
   "cell_type": "markdown",
   "id": "ec275510-6c76-4eb8-a938-4c7c163600a6",
   "metadata": {},
   "source": [
    "#"
   ]
  },
  {
   "cell_type": "markdown",
   "id": "236bca12-ff2e-4995-8b41-814f64a43f68",
   "metadata": {},
   "source": [
    "Problem Number: 875. Koko Eating Bananas"
   ]
  },
  {
   "cell_type": "code",
   "execution_count": 3,
   "id": "cf890bcd-a79c-4241-952c-5976cbe5d51e",
   "metadata": {},
   "outputs": [],
   "source": [
    "class Solution(object):\n",
    "    def minEatingSpeed(self, piles, h):\n",
    "        \"\"\"\n",
    "        :type piles: List[int]\n",
    "        :type h: int\n",
    "        :rtype: int\n",
    "        \"\"\"\n",
    "\n",
    "        def canEatAllInTime(k):\n",
    "            hours_needed = 0\n",
    "            for pile in piles:\n",
    "                hours_needed += (pile + k - 1) // k  # This is equivalent to math.ceil(pile / k)\n",
    "            return hours_needed <= h\n",
    "    \n",
    "        left, right = 1, max(piles)\n",
    "        \n",
    "        while left < right:\n",
    "            mid = (left + right) // 2\n",
    "            if canEatAllInTime(mid):\n",
    "                right = mid  # Try for a smaller k\n",
    "            else:\n",
    "                left = mid + 1  # Increase k since current mid is too slow\n",
    "        \n",
    "        return left\n",
    "                \n",
    "        "
   ]
  },
  {
   "cell_type": "markdown",
   "id": "2ccf8639-814a-4968-882d-a9bdc0a951c7",
   "metadata": {},
   "source": [
    "Time Complexity: O(N) Space Complexity:O(1) "
   ]
  },
  {
   "cell_type": "markdown",
   "id": "da929af1-923a-425b-9a06-ee5c349e35f7",
   "metadata": {},
   "source": [
    "#"
   ]
  },
  {
   "cell_type": "markdown",
   "id": "ac67b4c3-a4c9-460c-9805-1e4d278ca550",
   "metadata": {},
   "source": [
    "Problem Number 981. Time Based Key-Value Store"
   ]
  },
  {
   "cell_type": "code",
   "execution_count": 5,
   "id": "09a7e172-d141-4dc3-a098-4208e0bd3578",
   "metadata": {},
   "outputs": [],
   "source": [
    "class TimeMap(object):\n",
    "\n",
    "    def __init__(self):\n",
    "        self.store = {}\n",
    "\n",
    "    def set(self, key, value, timestamp):\n",
    "        \"\"\"\n",
    "        :type key: str\n",
    "        :type value: str\n",
    "        :type timestamp: int\n",
    "        :rtype: None\n",
    "        \"\"\"\n",
    "        if key not in self.store:\n",
    "            self.store[key] = []\n",
    "        self.store[key].append((timestamp, value))\n",
    "\n",
    "    def get(self, key, timestamp):\n",
    "        \"\"\"\n",
    "        :type key: str\n",
    "        :type timestamp: int\n",
    "        :rtype: str\n",
    "        \"\"\"\n",
    "        if key not in self.store:\n",
    "            return \"\"\n",
    "        values = self.store[key]\n",
    "        # Perform binary search\n",
    "        left, right = 0, len(values) - 1\n",
    "        while left <= right:\n",
    "            mid = (left + right) // 2\n",
    "            if values[mid][0] == timestamp:\n",
    "                return values[mid][1]\n",
    "            elif values[mid][0] < timestamp:\n",
    "                left = mid + 1\n",
    "            else:\n",
    "                right = mid - 1\n",
    "        \n",
    "        return values[right][1] if right >= 0 else \"\"\n",
    "        \n",
    "\n",
    "\n",
    "# Your TimeMap object will be instantiated and called as such:\n",
    "# obj = TimeMap()\n",
    "# obj.set(key,value,timestamp)\n",
    "# param_2 = obj.get(key,timestamp)"
   ]
  },
  {
   "cell_type": "markdown",
   "id": "a75e796d-7b5f-4a1a-a2b6-5bcbaa9b40b6",
   "metadata": {},
   "source": [
    "Time Complexity: O(N) Space Complexity:O(N)"
   ]
  },
  {
   "cell_type": "markdown",
   "id": "17cef8ff-3222-472a-9da0-f06f0861223e",
   "metadata": {},
   "source": [
    "#"
   ]
  },
  {
   "cell_type": "markdown",
   "id": "c68a0714-5d04-4ca8-8ab8-3c847f3951c5",
   "metadata": {},
   "source": [
    "Problem Number:  4. Median of Two Sorted Arrays"
   ]
  },
  {
   "cell_type": "code",
   "execution_count": 7,
   "id": "ca184511-d869-4bf3-967f-20f39465d816",
   "metadata": {},
   "outputs": [],
   "source": [
    "class Solution:\n",
    "    def findMedianSortedArrays(self, nums1, nums2):\n",
    "        # Ensure nums1 is the smaller array to minimize the binary search range\n",
    "        if len(nums1) > len(nums2):\n",
    "            nums1, nums2 = nums2, nums1\n",
    "        \n",
    "        m, n = len(nums1), len(nums2)\n",
    "        imin, imax, half_len = 0, m, (m + n + 1) // 2\n",
    "        \n",
    "        while imin <= imax:\n",
    "            i = (imin + imax) // 2\n",
    "            j = half_len - i\n",
    "            \n",
    "            if i < m and nums1[i] < nums2[j-1]:\n",
    "                # i is too small, must increase it\n",
    "                imin = i + 1\n",
    "            elif i > 0 and nums1[i-1] > nums2[j]:\n",
    "                # i is too large, must decrease it\n",
    "                imax = i - 1\n",
    "            else:\n",
    "                # i is perfect\n",
    "                if i == 0: max_of_left = nums2[j-1]\n",
    "                elif j == 0: max_of_left = nums1[i-1]\n",
    "                else: max_of_left = max(nums1[i-1], nums2[j-1])\n",
    "                \n",
    "                if (m + n) % 2 == 1:\n",
    "                    return max_of_left\n",
    "                \n",
    "                if i == m: min_of_right = nums2[j]\n",
    "                elif j == n: min_of_right = nums1[i]\n",
    "                else: min_of_right = min(nums1[i], nums2[j])\n",
    "                \n",
    "                return (max_of_left + min_of_right) / 2.0"
   ]
  },
  {
   "cell_type": "markdown",
   "id": "cc24ff6a-9c88-4ab0-b7d8-d1fcdf6dc149",
   "metadata": {},
   "source": [
    "Time Complexity:O(log (N+m)) Space ComplexityL(N)"
   ]
  },
  {
   "cell_type": "code",
   "execution_count": null,
   "id": "0acaad5d-b5f1-49fc-a351-dc3e73a48498",
   "metadata": {},
   "outputs": [],
   "source": []
  }
 ],
 "metadata": {
  "kernelspec": {
   "display_name": "Python 3 (ipykernel)",
   "language": "python",
   "name": "python3"
  },
  "language_info": {
   "codemirror_mode": {
    "name": "ipython",
    "version": 3
   },
   "file_extension": ".py",
   "mimetype": "text/x-python",
   "name": "python",
   "nbconvert_exporter": "python",
   "pygments_lexer": "ipython3",
   "version": "3.11.7"
  }
 },
 "nbformat": 4,
 "nbformat_minor": 5
}
