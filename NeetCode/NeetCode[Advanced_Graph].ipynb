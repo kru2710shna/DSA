{
 "cells": [
  {
   "cell_type": "markdown",
   "id": "ee1d9a71-9d8b-4c35-a806-694a935da1b5",
   "metadata": {},
   "source": [
    "## NeetCode- Advanced Graph"
   ]
  },
  {
   "cell_type": "markdown",
   "id": "b410ee13-c708-4779-8c09-c7917195a3d6",
   "metadata": {},
   "source": [
    "#"
   ]
  },
  {
   "cell_type": "markdown",
   "id": "13df484c-c3ff-4919-aa86-604d31b5e566",
   "metadata": {},
   "source": [
    "Problem Number: 332. Reconstruct Itinerary"
   ]
  },
  {
   "cell_type": "code",
   "execution_count": 8,
   "id": "d3086997-13d9-4cd3-b3bd-e6926ef851ae",
   "metadata": {},
   "outputs": [],
   "source": [
    "class Solution(object):\n",
    "    def findItinerary(self, tickets):\n",
    "        \"\"\"\n",
    "        :type tickets: List[List[str]]\n",
    "        :rtype: List[str]\n",
    "        \"\"\"\n",
    "        # Create an adjacency list using a defaultdict with a min-heap\n",
    "        adj = defaultdict(list)\n",
    "        for src, dst in tickets:\n",
    "            heapq.heappush(adj[src], dst)\n",
    "        \n",
    "        result = []\n",
    "        \n",
    "        def dfs(node):\n",
    "            while adj[node]:\n",
    "                next_dest = heapq.heappop(adj[node])\n",
    "                dfs(next_dest)\n",
    "            result.append(node)\n",
    "        \n",
    "        # Start DFS from 'JFK'\n",
    "        dfs('JFK')\n",
    "        \n",
    "        # The result list will be in reverse order, so reverse it before returning\n",
    "        return result[::-1]\n",
    "       "
   ]
  },
  {
   "cell_type": "markdown",
   "id": "442cfdab-a980-4fa2-95e5-0347270edc11",
   "metadata": {},
   "source": [
    "tIME cOMPLEXITY:O(N logN) Space Complexity:O(N) Runtime: Highest"
   ]
  },
  {
   "cell_type": "markdown",
   "id": "a7889885-035b-4fde-a0d0-0634760a4ea2",
   "metadata": {},
   "source": [
    "#"
   ]
  },
  {
   "cell_type": "markdown",
   "id": "76744eda-929e-4a5a-8f3d-c8b7b45d66b7",
   "metadata": {},
   "source": [
    "Problem Number: 1584. Min Cost to Connect All Points"
   ]
  },
  {
   "cell_type": "code",
   "execution_count": 9,
   "id": "3de393ce-fd14-4241-ab41-745b310fb516",
   "metadata": {},
   "outputs": [],
   "source": [
    "class Solution(object):\n",
    "    def minCostConnectPoints(self, points):\n",
    "        \"\"\"\n",
    "        :type points: List[List[int]]\n",
    "        :rtype: int\n",
    "        \"\"\"\n",
    "\n",
    "        def manhattan_dist(p1, p2):\n",
    "            return abs(p1[0] - p2[0]) + abs(p1[1] - p2[1])\n",
    "        \n",
    "        # Number of points\n",
    "        n = len(points)\n",
    "        if n == 1:\n",
    "            return 0\n",
    "        \n",
    "        # Initialize a priority queue\n",
    "        pq = []\n",
    "        # Add the first point (0-indexed) to the queue with cost 0\n",
    "        heapq.heappush(pq, (0, 0))\n",
    "        \n",
    "        # Track visited points\n",
    "        visited = set()\n",
    "        \n",
    "        # Total cost to connect all points\n",
    "        total_cost = 0\n",
    "        \n",
    "        while pq:\n",
    "            # Pop the point with the minimum cost\n",
    "            cost, i = heapq.heappop(pq)\n",
    "            \n",
    "            # If this point has been visited, continue\n",
    "            if i in visited:\n",
    "                continue\n",
    "            \n",
    "            # Add the point to the visited set\n",
    "            visited.add(i)\n",
    "            \n",
    "            # Add the cost\n",
    "            total_cost += cost\n",
    "            \n",
    "            # Add all edges from the current point to the queue\n",
    "            for j in range(n):\n",
    "                if j not in visited:\n",
    "                    heapq.heappush(pq, (manhattan_dist(points[i], points[j]), j))\n",
    "        \n",
    "        return total_cost        "
   ]
  },
  {
   "cell_type": "markdown",
   "id": "1ab73f73-c1a9-4fe3-8f9a-e9a7651089f6",
   "metadata": {},
   "source": [
    "Time ComplexityY:O(N^2 logN) Space Complexity:O(N^2) Runtime: Highest"
   ]
  },
  {
   "cell_type": "markdown",
   "id": "ad98f07e-1487-4e2d-a863-a7a04bcf44dc",
   "metadata": {},
   "source": [
    "#"
   ]
  },
  {
   "cell_type": "markdown",
   "id": "77efa523-596d-4c86-8053-dff4304f8c94",
   "metadata": {},
   "source": [
    "Problem Number: 743. Network Delay Time"
   ]
  },
  {
   "cell_type": "code",
   "execution_count": 10,
   "id": "6b7b711d-27b6-44fd-adad-e4feacbcf772",
   "metadata": {},
   "outputs": [],
   "source": [
    "class Solution(object):\n",
    "    def networkDelayTime(self, times, n, k):\n",
    "        \"\"\"\n",
    "        :type times: List[List[int]]\n",
    "        :type n: int\n",
    "        :type k: int\n",
    "        :rtype: int\n",
    "        \"\"\"\n",
    "        def make_graph(n, times):\n",
    "            graph = [[] for _ in range(n+1)]\n",
    "            for u, v, w in times:\n",
    "                graph[u].append((v, w))\n",
    "            return graph\n",
    "        \n",
    "        graph = make_graph(n, times)\n",
    "        distances = {node:float('inf') for node in range(1,n+1)}\n",
    "        heap = [(0, k)]\n",
    "        distances[k] = 0 \n",
    "\n",
    "        while heap:\n",
    "            cur_d , cur_node = heapq.heappop(heap)\n",
    "\n",
    "            if cur_d > distances[cur_node]:\n",
    "                continue \n",
    "            \n",
    "            for nei , w in graph[cur_node]:\n",
    "                dist = cur_d + w\n",
    "                if dist < distances[nei]:\n",
    "                    distances[nei] = dist\n",
    "                    heapq.heappush(heap, (dist, nei))\n",
    "\n",
    "\n",
    "        max_time = max(distances.values())\n",
    "        return max_time if max_time < float(\"inf\") else -1        "
   ]
  },
  {
   "cell_type": "markdown",
   "id": "b59fcfac-75ff-4516-9bba-2ceec5368c5d",
   "metadata": {},
   "source": [
    "Time Complexity:O(V + E LogV) Space Complexity:O(V+E) Runtime: Good "
   ]
  },
  {
   "cell_type": "markdown",
   "id": "51e91a13-6a49-4451-aa16-6d74bdd8f585",
   "metadata": {},
   "source": [
    "#"
   ]
  },
  {
   "cell_type": "markdown",
   "id": "1e20c5e6-cea4-45ba-9f75-ab45781cf961",
   "metadata": {},
   "source": [
    "Problem Number: 778. Swim in Rising Water"
   ]
  },
  {
   "cell_type": "code",
   "execution_count": 11,
   "id": "80f5dc84-a655-4b5c-93ff-08c4188ee8c3",
   "metadata": {},
   "outputs": [],
   "source": [
    "class Solution(object):\n",
    "    def swimInWater(self, grid):\n",
    "        \"\"\"\n",
    "        :type grid: List[List[int]]\n",
    "        :rtype: int\n",
    "        \"\"\"\n",
    "        R = len(grid)\n",
    "        C = len(grid[0])\n",
    "        \n",
    "        # Directions: right, down, left, up\n",
    "        directions = [(0, 1), (1, 0), (0, -1), (-1, 0)]\n",
    "        \n",
    "        # Priority queue for DFS-like approach\n",
    "        min_heap = [(grid[0][0], 0, 0)]  # (time, row, col)\n",
    "        # Time matrix to track the minimum time to reach each cell\n",
    "        min_time = [[float('inf')] * C for _ in range(R)]\n",
    "        min_time[0][0] = grid[0][0]\n",
    "        \n",
    "        while min_heap:\n",
    "            time, r, c = heapq.heappop(min_heap)\n",
    "            \n",
    "            # If we reached the bottom-right corner\n",
    "            if r == R - 1 and c == C - 1:\n",
    "                return time\n",
    "            \n",
    "            # Explore all 4 directions\n",
    "            for dr, dc in directions:\n",
    "                nr, nc = r + dr, c + dc\n",
    "                if 0 <= nr < R and 0 <= nc < C:\n",
    "                    # Calculate the new time to move to the neighboring cell\n",
    "                    new_time = max(time, grid[nr][nc])\n",
    "                    # If we found a better time\n",
    "                    if new_time < min_time[nr][nc]:\n",
    "                        min_time[nr][nc] = new_time\n",
    "                        heapq.heappush(min_heap, (new_time, nr, nc))\n",
    "        \n",
    "        # If the bottom-right corner is not reachable\n",
    "        return -1\n"
   ]
  },
  {
   "cell_type": "markdown",
   "id": "11a81923-0bc7-4ab1-88f2-88493fe6e3ce",
   "metadata": {},
   "source": [
    "Time Complexity:O(V * ELog(V*E)) Space Complexity:O(V*E) Runtime: Good"
   ]
  },
  {
   "cell_type": "markdown",
   "id": "9eb9e59f-dc76-43b6-8c22-636ce96214ef",
   "metadata": {},
   "source": [
    "#"
   ]
  },
  {
   "cell_type": "markdown",
   "id": "37ef6f7d-9941-4608-a382-56e378b97893",
   "metadata": {},
   "source": [
    "Probelm Number: Cheapest flight to reach stop k "
   ]
  },
  {
   "cell_type": "code",
   "execution_count": 12,
   "id": "9f351d5f-f620-47f8-8ad3-7f38a0f7dcaa",
   "metadata": {},
   "outputs": [],
   "source": [
    "class Solution(object):\n",
    "    def findCheapestPrice(self, n, flights, src, dst, k):\n",
    "        \"\"\"\n",
    "        :type n: int\n",
    "        :type flights: List[List[int]]\n",
    "        :type src: int\n",
    "        :type dst: int\n",
    "        :type k: int\n",
    "        :rtype: int\n",
    "        \"\"\"\n",
    "        graph = defaultdict(list)\n",
    "\n",
    "        for u, v, w in flights:\n",
    "            graph[u].append((v, w))\n",
    "        \n",
    "        queue = [(src, 0)]\n",
    "        costs = [float('inf')]*n\n",
    "\n",
    "        while queue and k >= 0:\n",
    "            size = len(queue)\n",
    "            for _ in range(size):\n",
    "                node, cost_of_node = queue.pop(0)\n",
    "                for next_node, cost_of_next_node in graph[node]:\n",
    "                    if cost_of_node + cost_of_next_node < costs[next_node]:\n",
    "                        costs[next_node] = cost_of_node + cost_of_next_node\n",
    "                        queue.append((next_node, costs[next_node]))\n",
    "            k-=1\n",
    "        if costs[dst] != float('inf'):\n",
    "            return costs[dst]\n",
    "        return -1"
   ]
  },
  {
   "cell_type": "markdown",
   "id": "c9ef4a38-9cde-4cbd-97d3-731b060d0eea",
   "metadata": {},
   "source": [
    "Time Complexity:O(ELog(V)) Space Complexity:O(V) Runtime: Good"
   ]
  }
 ],
 "metadata": {
  "kernelspec": {
   "display_name": "Python 3 (ipykernel)",
   "language": "python",
   "name": "python3"
  },
  "language_info": {
   "codemirror_mode": {
    "name": "ipython",
    "version": 3
   },
   "file_extension": ".py",
   "mimetype": "text/x-python",
   "name": "python",
   "nbconvert_exporter": "python",
   "pygments_lexer": "ipython3",
   "version": "3.11.7"
  }
 },
 "nbformat": 4,
 "nbformat_minor": 5
}
