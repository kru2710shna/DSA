{
 "cells": [
  {
   "cell_type": "markdown",
   "id": "c2f3c45d-93b5-4ee5-842d-c5e480617a07",
   "metadata": {},
   "source": [
    "## Sliding Window "
   ]
  },
  {
   "cell_type": "markdown",
   "id": "bd3186b8-4d31-493c-b89c-8626d90a0245",
   "metadata": {},
   "source": [
    "#"
   ]
  },
  {
   "cell_type": "markdown",
   "id": "3c357934-2b8b-46b1-b15c-d751cb3466e2",
   "metadata": {},
   "source": [
    "Problem number: 121. Best Time to Buy and Sell Stock"
   ]
  },
  {
   "cell_type": "code",
   "execution_count": 1,
   "id": "63763101-da13-4496-9c64-1fb17800bea7",
   "metadata": {},
   "outputs": [],
   "source": [
    "class Solution(object):\n",
    "    def maxProfit(self, prices):\n",
    "        \"\"\"\n",
    "        :type prices: List[int]\n",
    "        :rtype: int\n",
    "        \"\"\"\n",
    "        if not prices:\n",
    "            return 0 \n",
    "        sell = prices[0]\n",
    "        buy = prices[0]\n",
    "        diff = 0\n",
    "\n",
    "        for i in prices:\n",
    "            if i < buy:\n",
    "                sell = i \n",
    "                buy = i \n",
    "            elif i > sell:\n",
    "                sell = i \n",
    "                diff = max(diff , sell-buy)\n",
    "\n",
    "        return diff"
   ]
  },
  {
   "cell_type": "markdown",
   "id": "2d552ad7-8b7a-4a74-9bd1-9ddbcaaa7e46",
   "metadata": {},
   "source": [
    "Time Complexity:O(N) Space Complexity:O(1) Runtime 90%"
   ]
  },
  {
   "cell_type": "markdown",
   "id": "1d0051af-fd6c-4b5d-a09e-8fbed2e91f5e",
   "metadata": {},
   "source": [
    "#"
   ]
  },
  {
   "cell_type": "code",
   "execution_count": null,
   "id": "bda3926d-f270-4f52-8910-189568aa0914",
   "metadata": {},
   "outputs": [],
   "source": []
  }
 ],
 "metadata": {
  "kernelspec": {
   "display_name": "Python 3 (ipykernel)",
   "language": "python",
   "name": "python3"
  },
  "language_info": {
   "codemirror_mode": {
    "name": "ipython",
    "version": 3
   },
   "file_extension": ".py",
   "mimetype": "text/x-python",
   "name": "python",
   "nbconvert_exporter": "python",
   "pygments_lexer": "ipython3",
   "version": "3.11.7"
  }
 },
 "nbformat": 4,
 "nbformat_minor": 5
}
