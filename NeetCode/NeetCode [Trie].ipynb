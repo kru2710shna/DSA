{
 "cells": [
  {
   "cell_type": "markdown",
   "id": "5851e315-78fa-48eb-8fe9-a364224c1d8d",
   "metadata": {},
   "source": [
    "## NeetCode - Trie"
   ]
  },
  {
   "cell_type": "markdown",
   "id": "a8401909-251f-496a-8535-32370c0f33ea",
   "metadata": {},
   "source": [
    "#"
   ]
  },
  {
   "cell_type": "markdown",
   "id": "411d17c9-e35d-4d7f-834b-b2dac619e60e",
   "metadata": {},
   "source": [
    "Problem Number 208. Implement Trie (Prefix Tree)"
   ]
  },
  {
   "cell_type": "code",
   "execution_count": 2,
   "id": "26efcf84-d254-4b43-add8-62fb452c0400",
   "metadata": {},
   "outputs": [],
   "source": [
    "class TrieNode:\n",
    "    def __init__(self):\n",
    "        self.children = [None] * 26\n",
    "        self.isEndOfWord = False\n",
    "\n",
    "class Trie:\n",
    "\n",
    "    def __init__(self):\n",
    "        self.root = TrieNode()\n",
    "\n",
    "    def insert(self, word):\n",
    "        \"\"\"\n",
    "        :type word: str\n",
    "        :rtype: None\n",
    "        \"\"\"\n",
    "        curr = self.root\n",
    "        for char in word:\n",
    "            index = ord(char) - ord('a')\n",
    "            if not curr.children[index]:\n",
    "                curr.children[index] = TrieNode()\n",
    "            curr = curr.children[index]\n",
    "        curr.isEndOfWord = True\n",
    "        \n",
    "\n",
    "    def search(self, word):\n",
    "        \"\"\"\n",
    "        :type word: str\n",
    "        :rtype: bool\n",
    "        \"\"\"\n",
    "        curr = self.root\n",
    "        for char in word:\n",
    "            index = ord(char) - ord('a')\n",
    "            if not curr.children[index]:\n",
    "                return False\n",
    "            curr = curr.children[index]\n",
    "        return curr.isEndOfWord\n",
    " \n",
    "\n",
    "    def startsWith(self, prefix):\n",
    "        \"\"\"\n",
    "        :type prefix: str\n",
    "        :rtype: bool\n",
    "        \"\"\"\n",
    "        curr = self.root\n",
    "        for char in prefix:\n",
    "            index = ord(char) - ord('a')\n",
    "            if not curr.children[index]:\n",
    "                return False\n",
    "            curr = curr.children[index]\n",
    "        return True \n",
    "                \n",
    "# Your Trie object will be instantiated and called as such:\n",
    "# obj = Trie()\n",
    "# obj.insert(word)\n",
    "# param_2 = obj.search(word)\n",
    "# param_3 = obj.startsWith(prefix)"
   ]
  },
  {
   "cell_type": "markdown",
   "id": "6eccc3f7-f401-4a3f-aa76-4520afb45939",
   "metadata": {},
   "source": [
    "Time Complexity:O(N) Space ComplexityO(N) for Insert and O(1) for Search, Runtime: 20ms Highest"
   ]
  },
  {
   "cell_type": "markdown",
   "id": "690de1f4-543f-456f-b4d5-630879af7346",
   "metadata": {},
   "source": [
    "#"
   ]
  },
  {
   "cell_type": "markdown",
   "id": "59bd5dd8-8fe4-4290-be20-09311163629f",
   "metadata": {},
   "source": [
    "Problem Number: 211. Design Add and Search Words Data Structure"
   ]
  },
  {
   "cell_type": "code",
   "execution_count": 4,
   "id": "8f755e13-191e-4e30-894e-abdca6d03ca1",
   "metadata": {},
   "outputs": [],
   "source": [
    "class TrieNode:\n",
    "    def __init__(self):\n",
    "        self.children = {}\n",
    "        self.isEndOfWord = False\n",
    "\n",
    "class WordDictionary:\n",
    "\n",
    "    def __init__(self):\n",
    "        self.root = TrieNode()\n",
    "\n",
    "    def addWord(self, word):\n",
    "        \"\"\"\n",
    "        :type word: str\n",
    "        :rtype: None\n",
    "        \"\"\"\n",
    "        curr = self.root\n",
    "        for char in word:\n",
    "            if char not in curr.children:\n",
    "                curr.children[char] = TrieNode()\n",
    "            curr = curr.children[char]\n",
    "        curr.isEndOfWord = True\n",
    "\n",
    "    def search(self, word):\n",
    "        \"\"\"\n",
    "        :type word: str\n",
    "        :rtype: bool\n",
    "        \"\"\"\n",
    "        return self._search_in_node(word, self.root)\n",
    "\n",
    "    def _search_in_node(self, word, node):\n",
    "        curr = node\n",
    "        for i, char in enumerate(word):\n",
    "            if char == '.':\n",
    "                for child in curr.children.values():\n",
    "                    if self._search_in_node(word[i + 1:], child):\n",
    "                        return True\n",
    "                return False\n",
    "            else:\n",
    "                if char not in curr.children:\n",
    "                    return False\n",
    "                curr = curr.children[char]\n",
    "        return curr.isEndOfWord\n",
    "\n",
    "# Your WordDictionary object will be instantiated and called as such:\n",
    "# obj = WordDictionary()\n",
    "# obj.addWord(word)\n",
    "# param_2 = obj.search(word)\n"
   ]
  },
  {
   "cell_type": "markdown",
   "id": "1df3afa5-4221-40ff-ae55-60059fd66506",
   "metadata": {},
   "source": [
    "Time Complexity:O(N) Space ComplexityO(N) for Insert and O(1) for Search, Runtime: 20ms Highest"
   ]
  },
  {
   "cell_type": "markdown",
   "id": "6385bf64-4aee-4fde-ad24-00ff3cb85c24",
   "metadata": {},
   "source": [
    "#"
   ]
  },
  {
   "cell_type": "markdown",
   "id": "ba0f5a39-e49c-4196-95de-4e846c46d398",
   "metadata": {},
   "source": [
    "Problem Number: 212. Word Search II"
   ]
  },
  {
   "cell_type": "code",
   "execution_count": 5,
   "id": "657a3050-4dc8-4167-82fc-04a3f5335547",
   "metadata": {},
   "outputs": [],
   "source": [
    "class TrieNode:\n",
    "    def __init__(self):\n",
    "        self.children = {}\n",
    "        self.is_end_word = False\n",
    "\n",
    "class Trie:\n",
    "    def __init__(self):\n",
    "        self.root = TrieNode()\n",
    "\n",
    "    def insert(self, word):\n",
    "        node = self.root\n",
    "        for char in word:\n",
    "            if char not in node.children:\n",
    "                node.children[char] = TrieNode()\n",
    "            node = node.children[char]\n",
    "        node.is_end_word = True\n",
    "\n",
    "class Solution:\n",
    "    def findWords(self, board, words):\n",
    "        def dfs(i, j, node, path):\n",
    "            char = board[i][j]\n",
    "            if char not in node.children:\n",
    "                return\n",
    "\n",
    "            path += char\n",
    "            node = node.children[char]\n",
    "\n",
    "            if node.is_end_word:\n",
    "                result.add(path)\n",
    "\n",
    "            board[i][j] = '#'  # Mark the cell as visited\n",
    "\n",
    "            for x, y in [(i + 1, j), (i - 1, j), (i, j + 1), (i, j - 1)]:\n",
    "                if 0 <= x < m and 0 <= y < n and board[x][y] != '#':\n",
    "                    dfs(x, y, node, path)\n",
    "\n",
    "            board[i][j] = char  # Restore the cell value after backtracking\n",
    "\n",
    "        trie = Trie()\n",
    "        for word in words:\n",
    "            trie.insert(word)\n",
    "\n",
    "        m, n = len(board), len(board[0])\n",
    "        result = set()\n",
    "\n",
    "        for i in range(m):\n",
    "            for j in range(n):\n",
    "                dfs(i, j, trie.root, \"\")\n",
    "\n",
    "        return list(result)"
   ]
  },
  {
   "cell_type": "markdown",
   "id": "d983a319-e489-475e-b844-1df6fe2da461",
   "metadata": {},
   "source": [
    "Time Complexity:O(N) Space Complexity:O(N) Runtime: 90ms "
   ]
  },
  {
   "cell_type": "code",
   "execution_count": null,
   "id": "aae46660-0f3a-435a-bd45-c4ef0fb200dd",
   "metadata": {},
   "outputs": [],
   "source": []
  }
 ],
 "metadata": {
  "kernelspec": {
   "display_name": "Python 3 (ipykernel)",
   "language": "python",
   "name": "python3"
  },
  "language_info": {
   "codemirror_mode": {
    "name": "ipython",
    "version": 3
   },
   "file_extension": ".py",
   "mimetype": "text/x-python",
   "name": "python",
   "nbconvert_exporter": "python",
   "pygments_lexer": "ipython3",
   "version": "3.11.7"
  }
 },
 "nbformat": 4,
 "nbformat_minor": 5
}
