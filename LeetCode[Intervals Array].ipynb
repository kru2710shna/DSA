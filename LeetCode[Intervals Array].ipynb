{
 "cells": [
  {
   "cell_type": "markdown",
   "id": "5f2f86f5-434a-499e-b337-72435c85935f",
   "metadata": {},
   "source": [
    "## LeetCode Problems\n"
   ]
  },
  {
   "cell_type": "markdown",
   "id": "17d066a8-c9a0-4b3a-8add-56035e5af84e",
   "metadata": {},
   "source": [
    "#### Topic: Intervals Arrays \n",
    "#### Numbering of the problems are same as Numbering as per LeetCode Problems "
   ]
  },
  {
   "cell_type": "markdown",
   "id": "2e3322e7-4567-44cf-937e-7bb3a656a9e3",
   "metadata": {},
   "source": [
    "Problem: #228. Summary Ranges\n",
    "\n",
    "Level - Easy\n",
    "\n",
    "You are given a sorted unique integer array nums.\n",
    "A range [a,b] is the set of all integers from a to b (inclusive).\n",
    "Return the smallest sorted list of ranges that cover all the numbers in the array exactly. That is, each element of nums is covered by exactly one of the ranges, and there is no integer x such that x is in one of the ranges but not in nums.\n",
    "Each range [a,b] in the list should be output as:\n",
    "\"a->b\" if a != b\n",
    "\"a\" if a == b\n",
    "\n",
    "Example 1:\n",
    "Input: nums = [0,1,2,4,5,7]\n",
    "Output: [\"0->2\",\"4->5\",\"7\"]\n",
    "Explanation: The ranges are:\n",
    "[0,2] --> \"0->2\"\n",
    "[4,5] --> \"4->5\"\n",
    "[7,7] --> \"7\"\n",
    "\n",
    "Example 2:\n",
    "Input: nums = [0,2,3,4,6,8,9]\n",
    "Output: [\"0\",\"2->4\",\"6\",\"8->9\"]\n",
    "Explanation: The ranges are:\n",
    "[0,0] --> \"0\"\n",
    "[2,4] --> \"2->4\"\n",
    "[6,6] --> \"6\"\n",
    "[8,9] --> \"8->9\""
   ]
  },
  {
   "cell_type": "code",
   "execution_count": 1,
   "id": "79d2fd37-4758-4448-9aea-3157933e41a6",
   "metadata": {},
   "outputs": [],
   "source": [
    "class Solution(object):\n",
    "    def summaryRanges(self, nums):\n",
    "        \"\"\"\n",
    "        :type nums: List[int]\n",
    "        :rtype: List[str]\n",
    "        \"\"\"\n",
    "        if not nums:\n",
    "            return []\n",
    "\n",
    "        start, end = nums[0], nums[0]\n",
    "        output = []\n",
    "\n",
    "        for i in range(1, len(nums)):\n",
    "            if nums[i] == end + 1:\n",
    "                end = nums[i]\n",
    "            else:\n",
    "                output.append(str(start) if start == end else str(start) + \"->\" + str(end))\n",
    "                start, end = nums[i], nums[i]\n",
    "\n",
    "        output.append(str(start) if start == end else str(start) + \"->\" + str(end))\n",
    "        return output\n"
   ]
  },
  {
   "cell_type": "markdown",
   "id": "192ade64-91b4-48d7-8c2e-4a906802a039",
   "metadata": {},
   "source": [
    "Time Complexity: O(N) Space Complexity:O(N)"
   ]
  },
  {
   "cell_type": "markdown",
   "id": "49c194f2-0430-4d5b-97a0-590637f267f0",
   "metadata": {},
   "source": [
    "Problem: #56. Merge Intervals\n",
    "\n",
    "Level - Medium\n",
    "\n",
    "Given an array of intervals where intervals[i] = [starti, endi], merge all overlapping intervals, and return an array of the non-overlapping intervals that cover all the intervals in the input.\n",
    "\n",
    "Example 1:\n",
    "Input: intervals = [[1,3],[2,6],[8,10],[15,18]]\n",
    "Output: [[1,6],[8,10],[15,18]]\n",
    "Explanation: Since intervals [1,3] and [2,6] overlap, merge them into [1,6].\n",
    "\n",
    "Example 2:\n",
    "Input: intervals = [[1,4],[4,5]]\n",
    "Output: [[1,5]]\n",
    "Explanation: Intervals [1,4] and [4,5] are considered overlapping."
   ]
  },
  {
   "cell_type": "code",
   "execution_count": null,
   "id": "54fca384-aa58-4fe9-84e7-86f613024577",
   "metadata": {},
   "outputs": [],
   "source": []
  }
 ],
 "metadata": {
  "kernelspec": {
   "display_name": "Python 3 (ipykernel)",
   "language": "python",
   "name": "python3"
  },
  "language_info": {
   "codemirror_mode": {
    "name": "ipython",
    "version": 3
   },
   "file_extension": ".py",
   "mimetype": "text/x-python",
   "name": "python",
   "nbconvert_exporter": "python",
   "pygments_lexer": "ipython3",
   "version": "3.10.9"
  }
 },
 "nbformat": 4,
 "nbformat_minor": 5
}
