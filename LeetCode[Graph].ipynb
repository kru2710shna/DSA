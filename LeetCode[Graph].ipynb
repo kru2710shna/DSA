{
 "cells": [
  {
   "cell_type": "markdown",
   "id": "e0fb000d-85be-4914-99b0-626ca679f261",
   "metadata": {},
   "source": [
    "# LeetCode Problems "
   ]
  },
  {
   "cell_type": "markdown",
   "id": "276a93ed-5448-4a4c-a589-8cff2d6babd8",
   "metadata": {},
   "source": [
    "#### Topic: Graph\n",
    "#### Problems are numbered according to LeetCode Numbering "
   ]
  },
  {
   "cell_type": "markdown",
   "id": "9e60f036-234f-4d08-b4ac-20b1140115b2",
   "metadata": {},
   "source": [
    "Problem: #733. Flood Fill\n",
    "\n",
    "Level - Easy\n",
    "\n",
    "An image is represented by an m x n integer grid image where image[i][j] represents the pixel value of the image.\n",
    "You are also given three integers sr, sc, and color. You should perform a flood fill on the image starting from the pixel image[sr][sc].\n",
    "To perform a flood fill, consider the starting pixel, plus any pixels connected 4-directionally to the starting pixel of the same color as the starting pixel, plus any pixels connected 4-directionally to those pixels (also with the same color), and so on. Replace the color of all of the aforementioned pixels with color.\n",
    "Return the modified image after performing the flood fill.\n",
    "\n",
    "Example 1:\n",
    "Input: image = [[1,1,1],[1,1,0],[1,0,1]], sr = 1, sc = 1, color = 2\n",
    "Output: [[2,2,2],[2,2,0],[2,0,1]]\n",
    "Explanation: From the center of the image with position (sr, sc) = (1, 1) (i.e., the red pixel), all pixels connected by a path of the same color as the starting pixel (i.e., the blue pixels) are colored with the new color.\n",
    "Note the bottom corner is not colored 2, because it is not 4-directionally connected to the starting pixel.\n",
    "\n",
    "Example 2:\n",
    "Input: image = [[0,0,0],[0,0,0]], sr = 0, sc = 0, color = 0\n",
    "Output: [[0,0,0],[0,0,0]]\n",
    "Explanation: The starting pixel is already colored 0, so no changes are made to the image."
   ]
  },
  {
   "cell_type": "code",
   "execution_count": 1,
   "id": "2f5389d8-426a-4eff-b0f0-68e83db233be",
   "metadata": {},
   "outputs": [],
   "source": [
    "class Solution(object):\n",
    "    def floodFill(self, image, sr, sc, color):\n",
    "        \"\"\"\n",
    "        :type image: List[List[int]]\n",
    "        :type sr: int\n",
    "        :type sc: int\n",
    "        :type color: int\n",
    "        :rtype: List[List[int]]\n",
    "        \"\"\"\n",
    "        r = len(image) - 1\n",
    "        c = len(image[0]) - 1\n",
    "        sp = image[sr][sc]\n",
    "\n",
    "        def dfs(image, sr, sc, color, sp):\n",
    "            if sr < 0 or sc < 0 or sr > r or sc > c or image[sr][sc] == color or image[sr][sc] != sp:\n",
    "                return\n",
    "\n",
    "            image[sr][sc] = color\n",
    "\n",
    "            dfs(image, sr + 1, sc, color, sp)\n",
    "            dfs(image, sr - 1, sc, color, sp)\n",
    "            dfs(image, sr, sc + 1, color, sp)\n",
    "            dfs(image, sr, sc - 1, color, sp)\n",
    "\n",
    "        dfs(image, sr, sc, color, sp)  # Corrected the starting call arguments\n",
    "        return image\n"
   ]
  },
  {
   "cell_type": "markdown",
   "id": "bce2f749-1b07-4b07-93fa-c0ff10196bf9",
   "metadata": {},
   "source": [
    "Time Complexity: O(r*c) Space Complexity: O(r*c)"
   ]
  },
  {
   "cell_type": "markdown",
   "id": "b902886f-f362-4127-96fa-4e4920c103fe",
   "metadata": {},
   "source": [
    "Probelm: #200. Number of Islands\n",
    "\n",
    "Level - Medium\n",
    "\n",
    "Given an m x n 2D binary grid grid which represents a map of '1's (land) and '0's (water), return the number of islands.\n",
    "An island is surrounded by water and is formed by connecting adjacent lands horizontally or vertically. You may assume all four edges of the grid are all surrounded by water.\n",
    "\n",
    "Example 1:\n",
    "Input: grid = [\n",
    "  [\"1\",\"1\",\"1\",\"1\",\"0\"],\n",
    "  [\"1\",\"1\",\"0\",\"1\",\"0\"],\n",
    "  [\"1\",\"1\",\"0\",\"0\",\"0\"],\n",
    "  [\"0\",\"0\",\"0\",\"0\",\"0\"]\n",
    "]\n",
    "Output: 1\n",
    "\n",
    "Example 2:\n",
    "Input: grid = [\n",
    "  [\"1\",\"1\",\"0\",\"0\",\"0\"],\n",
    "  [\"1\",\"1\",\"0\",\"0\",\"0\"],\n",
    "  [\"0\",\"0\",\"1\",\"0\",\"0\"],\n",
    "  [\"0\",\"0\",\"0\",\"1\",\"1\"]\n",
    "]\n",
    "Output: 3"
   ]
  },
  {
   "cell_type": "code",
   "execution_count": 2,
   "id": "e19d4e61-f306-42f6-bcda-728c9ed4135d",
   "metadata": {},
   "outputs": [],
   "source": [
    "class Solution:\n",
    "    def mark_current_island(self, matrix, x, y, r, c):\n",
    "        if x >= r or y >= c or x < 0 or y < 0 or matrix[x][y] != '1':\n",
    "            return \n",
    "\n",
    "        matrix[x][y] = '2'\n",
    "\n",
    "        self.mark_current_island(matrix, x + 1, y, r, c)  # DOWN\n",
    "        self.mark_current_island(matrix, x, y + 1, r, c)  # RIGHT\n",
    "        self.mark_current_island(matrix, x - 1, y, r, c)  # TOP\n",
    "        self.mark_current_island(matrix, x, y - 1, r, c)  # LEFT\n",
    "        \n",
    "\n",
    "    def numIslands(self, grid):\n",
    "        num = 0\n",
    "\n",
    "        x = len(grid)\n",
    "        if x == 0:\n",
    "            return 0 \n",
    "\n",
    "        y = len(grid[0]) \n",
    "\n",
    "        for i in range(x):\n",
    "            for j in range(y):\n",
    "                if grid[i][j] == '1':\n",
    "                    self.mark_current_island(grid, i, j, x, y)\n",
    "                    num +=1 \n",
    "        \n",
    "        return num \n",
    "\n",
    "        "
   ]
  },
  {
   "cell_type": "markdown",
   "id": "307a6cbc-374d-4cf4-9c31-76fc5474a4af",
   "metadata": {},
   "source": [
    "Time Complexity: O(r*c) Space Complexity: O(r*c)"
   ]
  },
  {
   "cell_type": "markdown",
   "id": "e09aa2cb-703c-4870-a05c-7a4db983e879",
   "metadata": {},
   "source": [
    "Problem: #994. Rotting Oranges\n",
    "\n",
    "Level - Medium\n",
    "\n",
    "You are given an m x n grid where each cell can have one of three values:\n",
    "\n",
    "0 representing an empty cell,\n",
    "1 representing a fresh orange, or\n",
    "2 representing a rotten orange.\n",
    "Every minute, any fresh orange that is 4-directionally adjacent to a rotten orange becomes rotten.\n",
    "\n",
    "Return the minimum number of minutes that must elapse until no cell has a fresh orange. If this is impossible, return -1.\n",
    "\n",
    " \n",
    "\n",
    "Example 1:\n",
    "\n",
    "\n",
    "Input: grid = [[2,1,1],[1,1,0],[0,1,1]]\n",
    "Output: 4\n",
    "Example 2:\n",
    "\n",
    "Input: grid = [[2,1,1],[0,1,1],[1,0,1]]\n",
    "Output: -1\n",
    "Explanation: The orange in the bottom left corner (row 2, column 0) is never rotten, because rotting only happens 4-directionally.\n",
    "Example 3:\n",
    "\n",
    "Input: grid = [[0,2]]\n",
    "Output: 0\n",
    "Explanation: Since there are already no fresh oranges at minute 0, the answer is just 0."
   ]
  },
  {
   "cell_type": "code",
   "execution_count": 3,
   "id": "89a67490-dda8-421b-a347-d1bf307c3e80",
   "metadata": {},
   "outputs": [],
   "source": [
    "class Solution(object):\n",
    "    def orangesRotting(self, grid):\n",
    "        \"\"\"\n",
    "        :type grid: List[List[int]]\n",
    "        :rtype: int\n",
    "        \"\"\"\n",
    "        # find number of fresh and mark roytten as rotten \n",
    "        fresh = 0\n",
    "        time = 0\n",
    "        q = collections.deque()\n",
    "        x = len(grid)\n",
    "        y = len(grid[0])\n",
    "        for i in range(x):\n",
    "            for j in range(y):\n",
    "                if grid[i][j] == 1:\n",
    "                    fresh += 1 \n",
    "                if grid[i][j] == 2:\n",
    "                    q.append([i,j])\n",
    "        \n",
    "        # BFS\n",
    "        directions  = [[1,0],[0,1],[0,-1],[-1,0]]\n",
    "        while q and fresh > 0:\n",
    "            for i in range(len(q)):\n",
    "                r, c = q.popleft()\n",
    "                for dr , dc in directions:\n",
    "                    row , col = r + dr , c + dc\n",
    "\n",
    "                    if (row < 0 or col < 0 or row  == x or col == y or grid[row][col] != 1):\n",
    "                        continue\n",
    "                    grid[row][col] = 2\n",
    "                    q.append([row,col])\n",
    "                    fresh -= 1\n",
    "            time += 1\n",
    "        return time if fresh == 0 else -1"
   ]
  },
  {
   "cell_type": "markdown",
   "id": "7ce0224d-3110-4fe4-9b24-67c35c60f956",
   "metadata": {},
   "source": [
    "Time Complexity :O(n * m) Space Complexity: O(n)"
   ]
  },
  {
   "cell_type": "code",
   "execution_count": null,
   "id": "3af319be-8d3f-4b14-8c9a-b3cb82702244",
   "metadata": {},
   "outputs": [],
   "source": []
  }
 ],
 "metadata": {
  "kernelspec": {
   "display_name": "Python 3 (ipykernel)",
   "language": "python",
   "name": "python3"
  },
  "language_info": {
   "codemirror_mode": {
    "name": "ipython",
    "version": 3
   },
   "file_extension": ".py",
   "mimetype": "text/x-python",
   "name": "python",
   "nbconvert_exporter": "python",
   "pygments_lexer": "ipython3",
   "version": "3.10.9"
  }
 },
 "nbformat": 4,
 "nbformat_minor": 5
}
