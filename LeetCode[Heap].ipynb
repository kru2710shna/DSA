{
 "cells": [
  {
   "cell_type": "markdown",
   "id": "3d581add-52ad-4d10-8143-e74998518cc9",
   "metadata": {},
   "source": [
    "## LeetCode Problems "
   ]
  },
  {
   "cell_type": "markdown",
   "id": "dc1dfa3d-caba-43e9-a624-9676b815eaf4",
   "metadata": {},
   "source": [
    "#### Topic: Heap\n",
    "#### The probelms are numbered according to numbering on LeetCode Problems "
   ]
  },
  {
   "cell_type": "markdown",
   "id": "e3ef018b-5d14-41bc-b98d-42667b923e7b",
   "metadata": {},
   "source": [
    "Problem: #973. K Closest Points to Origin\n",
    "\n",
    "Level - Medium\n",
    "\n",
    "Given an array of points where points[i] = [xi, yi] represents a point on the X-Y plane and an integer k, return the k closest points to the origin (0, 0).\n",
    "\n",
    "The distance between two points on the X-Y plane is the Euclidean distance (i.e., √(x1 - x2)2 + (y1 - y2)2).\n",
    "\n",
    "You may return the answer in any order. The answer is guaranteed to be unique (except for the order that it is in).\n",
    "\n",
    "Example 1:\n",
    "Input: points = [[1,3],[-2,2]], k = 1\n",
    "Output: [[-2,2]]\n",
    "Explanation:\n",
    "The distance between (1, 3) and the origin is sqrt(10).\n",
    "The distance between (-2, 2) and the origin is sqrt(8).\n",
    "Since sqrt(8) < sqrt(10), (-2, 2) is closer to the origin.\n",
    "We only want the closest k = 1 points from the origin, so the answer is just [[-2,2]].\n",
    "\n",
    "Example 2:\n",
    "Input: points = [[3,3],[5,-1],[-2,4]], k = 2\n",
    "Output: [[3,3],[-2,4]]\n",
    "Explanation: The answer [[-2,4],[3,3]] would also be accepted."
   ]
  },
  {
   "cell_type": "code",
   "execution_count": 2,
   "id": "bcad2478-c6f0-4144-98f0-99b5219f0baa",
   "metadata": {},
   "outputs": [],
   "source": [
    " class Solution(object):\n",
    "    def kClosest(self, points, k):\n",
    "        \"\"\"\n",
    "        :type points: List[List[int]]\n",
    "        :type k: int\n",
    "        :rtype: List[List[int]]\n",
    "        \"\"\"\n",
    "        minHeap = []\n",
    "        for x, y in points:\n",
    "            dist = (x ** 2) + (y ** 2)\n",
    "            minHeap.append([dist, x, y]) \n",
    "\n",
    "        heapq.heapify(minHeap)\n",
    "        res = []\n",
    "        while k > 0:\n",
    "            dist, x, y = heapq.heappop(minHeap)\n",
    "            res.append([x, y])\n",
    "            k -= 1\n",
    "        return res"
   ]
  },
  {
   "cell_type": "markdown",
   "id": "3c41ec5b-f5c2-455b-905c-6415f71e98ca",
   "metadata": {},
   "source": [
    "Time Complexity: O(nlog k) Runtime: 746ms"
   ]
  },
  {
   "cell_type": "markdown",
   "id": "456e5cb8-2131-4cbf-bad0-e7e09a815d62",
   "metadata": {},
   "source": [
    "Problem: #215. Kth Largest Element in an Array\n",
    "\n",
    "Level - Medium\n",
    "\n",
    "Given an integer array nums and an integer k, return the kth largest element in the array.\n",
    "Note that it is the kth largest element in the sorted order, not the kth distinct element.\n",
    "Can you solve it without sorting?\n",
    "\n",
    "Example 1:\n",
    "Input: nums = [3,2,1,5,6,4], k = 2\n",
    "Output: 5\n",
    "\n",
    "Example 2:\n",
    "Input: nums = [3,2,3,1,2,4,5,5,6], k = 4\n",
    "Output: 4"
   ]
  },
  {
   "cell_type": "code",
   "execution_count": 3,
   "id": "9498ab28-b325-43e1-b152-d4a0c0128493",
   "metadata": {},
   "outputs": [],
   "source": [
    "import heapq\n",
    "class Solution(object):\n",
    "    def findKthLargest(self, nums, k):\n",
    "        \"\"\"\n",
    "        :type nums: List[int]\n",
    "        :type k: int\n",
    "        :rtype: int\n",
    "        \"\"\"\n",
    "        minheap = []\n",
    "\n",
    "        for num in nums:\n",
    "            heapq.heappush(minheap , num)\n",
    "            if len(minheap) > k:\n",
    "                heapq.heappop(minheap)\n",
    "        return minheap[0]"
   ]
  },
  {
   "cell_type": "markdown",
   "id": "2ebed2f2-ad95-4e0e-8848-510486ac27d6",
   "metadata": {},
   "source": [
    "Time Complexity:O(n logk) Runtime: 1102ms"
   ]
  },
  {
   "cell_type": "markdown",
   "id": "823709c8-5a11-48b4-91b0-501a7cbd05b4",
   "metadata": {},
   "source": [
    "Problem: #767. Reorganize String\n",
    "\n",
    "Level - Medium\n",
    "\n",
    "Given a string s, rearrange the characters of s so that any two adjacent characters are not the same.\n",
    "Return any possible rearrangement of s or return \"\" if not possible.\n",
    "\n",
    "Example 1:\n",
    "Input: s = \"aab\"\n",
    "Output: \"aba\"\n",
    "\n",
    "Example 2:\n",
    "Input: s = \"aaab\"\n",
    "Output: \"\"\n"
   ]
  },
  {
   "cell_type": "code",
   "execution_count": 4,
   "id": "d6c37a78-8403-48bb-97b0-28d4450bf8a0",
   "metadata": {},
   "outputs": [],
   "source": [
    "class Solution(object):\n",
    "    def reorganizeString(self, s):\n",
    "        \"\"\"\n",
    "        :type s: str\n",
    "        :rtype: str\n",
    "        \"\"\"\n",
    "        count = Counter(s) # Hashmap, count each char\n",
    "        maxHeap = [[-cnt, char] for char, cnt in count.items()]\n",
    "        heapq.heapify(maxHeap) # 0(n)\n",
    "        prev = None\n",
    "        res = \"\"\n",
    "        while maxHeap or prev:\n",
    "            if prev and not maxHeap:\n",
    "                return \"\"\n",
    "        # most frequent, except prev\n",
    "            cnt, char = heapq.heappop(maxHeap)\n",
    "            res += char \n",
    "            cnt += 1\n",
    "\n",
    "            if prev:\n",
    "                heapq.heappush(maxHeap, prev)\n",
    "                prev = None\n",
    "            if cnt != 0:\n",
    "                prev = [cnt, char]\n",
    "        return res\n",
    "        "
   ]
  },
  {
   "cell_type": "markdown",
   "id": "243ef383-87e7-4a87-a2a8-27173d11a597",
   "metadata": {},
   "source": [
    "Time Complexity: O(nlog n ) Runtime: 20ms"
   ]
  },
  {
   "cell_type": "code",
   "execution_count": 5,
   "id": "8bacb46a-aa13-413b-9582-f9ac0fe81a86",
   "metadata": {},
   "outputs": [],
   "source": [
    "class Solution(object):\n",
    "    def furthestBuilding(self, heights, bricks, ladders):\n",
    "        \"\"\"\n",
    "        :type heights: List[int]\n",
    "        :type bricks: int\n",
    "        :type ladders: int\n",
    "        :rtype: int\n",
    "        \"\"\"\n",
    "        n = len(heights)\n",
    "        heap =[]\n",
    "        for i in range(n-1):\n",
    "            diff = heights[i] - heights[i+1]\n",
    "            if diff <=  0 :\n",
    "                continue \n",
    "            heappush(heap, diff)\n",
    "            if len(heap) > ladders:\n",
    "                min_h = heappop(heap)\n",
    "                bricks -= min_h\n",
    "            if bricks < 0 :\n",
    "                return i \n",
    "        return N-1"
   ]
  },
  {
   "cell_type": "markdown",
   "id": "32df75da-b89c-4f32-9c7a-9abe100282aa",
   "metadata": {},
   "source": [
    "Time Complexity: O(n logn) Runtime: 750ms"
   ]
  },
  {
   "cell_type": "markdown",
   "id": "c30203a2",
   "metadata": {},
   "source": [
    "Probelm: #494. Target Sum\n",
    "\n",
    "Level - Medium\n",
    "\n",
    "You are given an integer array nums and an integer target.\n",
    "\n",
    "You want to build an expression out of nums by adding one of the symbols '+' and '-' before each integer in nums and then concatenate all the integers.\n",
    "\n",
    "For example, if nums = [2, 1], you can add a '+' before 2 and a '-' before 1 and concatenate them to build the expression \"+2-1\".\n",
    "Return the number of different expressions that you can build, which evaluates to target.\n",
    "\n",
    "Example 1:\n",
    "Input: nums = [1,1,1,1,1], target = 3\n",
    "Output: 5\n",
    "Explanation: There are 5 ways to assign symbols to make the sum of nums be target 3.\n",
    "-1 + 1 + 1 + 1 + 1 = 3\n",
    "+1 - 1 + 1 + 1 + 1 = 3\n",
    "+1 + 1 - 1 + 1 + 1 = 3\n",
    "+1 + 1 + 1 - 1 + 1 = 3\n",
    "+1 + 1 + 1 + 1 - 1 = 3\n",
    "\n",
    "Example 2:\n",
    "Input: nums = [1], target = 1\n",
    "Output: 1"
   ]
  },
  {
   "cell_type": "code",
   "execution_count": 1,
   "id": "62cab45c",
   "metadata": {},
   "outputs": [],
   "source": [
    "class Solution:\n",
    "    def findTargetSumWays(self, nums: List[int], target: int) -> int:\n",
    "        sumOfNums = sum(nums)\n",
    "        n = len(nums)\n",
    "        \n",
    "        if abs(target) > sumOfNums:\n",
    "            return 0\n",
    "\n",
    "        if (target + sumOfNums) % 2 != 0:\n",
    "            return 0\n",
    "        \n",
    "        s1 = (sumOfNums + target) // 2\n",
    "        \n",
    "        # DP Table\n",
    "        t = [[0] * (s1 + 1) for i in range(n + 1)]\n",
    "\t\t\n",
    "        t[0][0] = 1\n",
    "        \n",
    "        for i in range(1, n + 1):\n",
    "            for j in range(s1 + 1):\n",
    "                \n",
    "                if nums[i - 1] <= j:\n",
    "                    t[i][j] = t[i - 1][j] + t[i - 1][j - nums[i - 1]]\n",
    "                \n",
    "                else:\n",
    "                    t[i][j] = t[i-1][j]\n",
    "            \n",
    "        return t[n][s1]"
   ]
  },
  {
   "cell_type": "markdown",
   "id": "b4fb120f",
   "metadata": {},
   "source": [
    "Time Complexity: O(n*m) Runtime: 146ms"
   ]
  },
  {
   "cell_type": "code",
   "execution_count": null,
   "id": "0e539715",
   "metadata": {},
   "outputs": [],
   "source": []
  }
 ],
 "metadata": {
  "kernelspec": {
   "display_name": "Python 3 (ipykernel)",
   "language": "python",
   "name": "python3"
  },
  "language_info": {
   "codemirror_mode": {
    "name": "ipython",
    "version": 3
   },
   "file_extension": ".py",
   "mimetype": "text/x-python",
   "name": "python",
   "nbconvert_exporter": "python",
   "pygments_lexer": "ipython3",
   "version": "3.10.9"
  }
 },
 "nbformat": 4,
 "nbformat_minor": 5
}
