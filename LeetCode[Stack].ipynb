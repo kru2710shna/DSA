{
 "cells": [
  {
   "cell_type": "markdown",
   "id": "0fe77ad1",
   "metadata": {},
   "source": [
    "#  LeetCode Problems "
   ]
  },
  {
   "cell_type": "markdown",
   "id": "28891375",
   "metadata": {},
   "source": [
    "### Topic: Stack\n",
    "#### Level: Easy - Hard\n",
    "###### Question To Pratice: 6\n",
    "###### Probelms are numbered according to LeetCode Numbering."
   ]
  },
  {
   "cell_type": "markdown",
   "id": "a83d7092",
   "metadata": {},
   "source": [
    "Probelm: #20. Valid Parentheses\n",
    "    \n",
    "Level - Easy\n",
    "\n",
    "Given a string s containing just the characters '(', ')', '{', '}', '[' and ']', determine if the input string is valid.\n",
    "An input string is valid if:\n",
    "Open brackets must be closed by the same type of brackets.\n",
    "Open brackets must be closed in the correct order.\n",
    "Every close bracket has a corresponding open bracket of the same type.\n",
    " \n",
    "Example 1:\n",
    "Input: s = \"()\"\n",
    "Output: true\n",
    "    \n",
    "Example 2:\n",
    "Input: s = \"()[]{}\"\n",
    "Output: true\n",
    "    \n",
    "Example 3:\n",
    "Input: s = \"(]\"\n",
    "Output: false"
   ]
  },
  {
   "cell_type": "markdown",
   "id": "90f1a266",
   "metadata": {},
   "source": [
    "class Solution(object):\n",
    "    def isValid(self, s):\n",
    "        \"\"\"\n",
    "        :type s: str\n",
    "        :rtype: bool\n",
    "        \"\"\"\n",
    "        h = { \")\" : \"(\" ,\n",
    "               \"]\" : \"[\" ,\n",
    "                \"}\" : \"{\"}\n",
    "        stack = []\n",
    "        \n",
    "        for c in s:\n",
    "            if c in h:\n",
    "                if stack and stack[-1] == h[c]:\n",
    "                    stack.pop()\n",
    "                else:\n",
    "                    return False\n",
    "            else:\n",
    "                stack.append(c)\n",
    "    return True if not stack else False\n",
    "                \n",
    "                "
   ]
  },
  {
   "cell_type": "markdown",
   "id": "70619a15",
   "metadata": {},
   "source": [
    "Time Complexity: O(n) Runtime: 15ms"
   ]
  },
  {
   "cell_type": "markdown",
   "id": "14307abd",
   "metadata": {},
   "source": [
    "Problem: #155. Min Stack\n",
    "\n",
    "Level - Medium\n",
    "\n",
    "Design a stack that supports push, pop, top, and retrieving the minimum element in constant time.\n",
    "Implement the MinStack class:\n",
    "MinStack() initializes the stack object.\n",
    "void push(int val) pushes the element val onto the stack.\n",
    "void pop() removes the element on the top of the stack.\n",
    "int top() gets the top element of the stack.\n",
    "int getMin() retrieves the minimum element in the stack.\n",
    "You must implement a solution with O(1) time complexity for each function.\n",
    "\n",
    "Example 1:\n",
    "Input\n",
    "[\"MinStack\",\"push\",\"push\",\"push\",\"getMin\",\"pop\",\"top\",\"getMin\"]\n",
    "[[],[-2],[0],[-3],[],[],[],[]]\n",
    "Output\n",
    "[null,null,null,null,-3,null,0,-2]\n",
    "Explanation\n",
    "MinStack minStack = new MinStack();\n",
    "minStack.push(-2);\n",
    "minStack.push(0);\n",
    "minStack.push(-3);\n",
    "minStack.getMin(); // return -3\n",
    "minStack.pop();\n",
    "minStack.top();    // return 0\n",
    "minStack.getMin(); // return -2"
   ]
  },
  {
   "cell_type": "code",
   "execution_count": 6,
   "id": "7e49e902",
   "metadata": {},
   "outputs": [],
   "source": [
    "class MinStack(object):\n",
    "\n",
    "    def __init__(self):\n",
    "        self.stack=[]\n",
    "        self.minstacl = []\n",
    "        \n",
    "\n",
    "    def push(self, val):\n",
    "        \"\"\"\n",
    "        :type val: int\n",
    "        :rtype: None\n",
    "        \"\"\"\n",
    "        self.stack.append(val)\n",
    "        val = min(val,self.minstack[-1] if self.minstack else val)\n",
    "        self.minstack.append(val)\n",
    "\n",
    "    def pop(self):\n",
    "        \"\"\"\n",
    "        :rtype: None\n",
    "        \"\"\"\n",
    "        self.stack.pop()\n",
    "        self.minstack.pop()\n",
    "\n",
    "    def top(self):\n",
    "        \"\"\"\n",
    "        :rtype: int\n",
    "        \"\"\"\n",
    "        return self.stack[-1]\n",
    "\n",
    "    def getMin(self):\n",
    "        \"\"\"\n",
    "        :rtype: int\n",
    "        \"\"\"\n",
    "        return self.minstack[-1]\n",
    "\n",
    "\n",
    "# Your MinStack object will be instantiated and called as such:\n",
    "# obj = MinStack()\n",
    "# obj.push(val)\n",
    "# obj.pop()\n",
    "# param_3 = obj.top()\n",
    "# param_4 = obj.getMin()"
   ]
  },
  {
   "cell_type": "markdown",
   "id": "a3c337f7",
   "metadata": {},
   "source": [
    "Time Complexity: O(n) Runtime: 49ms"
   ]
  },
  {
   "cell_type": "markdown",
   "id": "8236c760",
   "metadata": {},
   "source": [
    "Problem: #150. Evaluate Reverse Polish Notation\n",
    "\n",
    "Level - Medium\n",
    "\n",
    "You are given an array of strings tokens that represents an arithmetic expression in a Reverse Polish Notation.\n",
    "Evaluate the expression. Return an integer that represents the value of the expression.\n",
    "Note that:\n",
    "The valid operators are '+', '-', '*', and '/'.\n",
    "Each operand may be an integer or another expression.\n",
    "The division between two integers always truncates toward zero.\n",
    "There will not be any division by zero.\n",
    "The input represents a valid arithmetic expression in a reverse polish notation.\n",
    "The answer and all the intermediate calculations can be represented in a 32-bit integer.\n",
    " \n",
    "\n",
    "Example 1:\n",
    "Input: tokens = [\"2\",\"1\",\"+\",\"3\",\"*\"]\n",
    "Output: 9\n",
    "Explanation: ((2 + 1) * 3) = 9\n",
    "\n",
    "Example 2:\n",
    "Input: tokens = [\"4\",\"13\",\"5\",\"/\",\"+\"]\n",
    "Output: 6\n",
    "Explanation: (4 + (13 / 5)) = 6\n",
    "\n",
    "Example 3:\n",
    "Input: tokens = [\"10\",\"6\",\"9\",\"3\",\"+\",\"-11\",\"*\",\"/\",\"*\",\"17\",\"+\",\"5\",\"+\"]\n",
    "Output: 22\n",
    "Explanation: ((10 * (6 / ((9 + 3) * -11))) + 17) + 5\n",
    "= ((10 * (6 / (12 * -11))) + 17) + 5\n",
    "= ((10 * (6 / -132)) + 17) + 5\n",
    "= ((10 * 0) + 17) + 5\n",
    "= (0 + 17) + 5\n",
    "= 17 + 5\n",
    "= 22"
   ]
  },
  {
   "cell_type": "code",
   "execution_count": null,
   "id": "14f50fd3",
   "metadata": {},
   "outputs": [],
   "source": []
  }
 ],
 "metadata": {
  "kernelspec": {
   "display_name": "Python 3 (ipykernel)",
   "language": "python",
   "name": "python3"
  },
  "language_info": {
   "codemirror_mode": {
    "name": "ipython",
    "version": 3
   },
   "file_extension": ".py",
   "mimetype": "text/x-python",
   "name": "python",
   "nbconvert_exporter": "python",
   "pygments_lexer": "ipython3",
   "version": "3.9.12"
  }
 },
 "nbformat": 4,
 "nbformat_minor": 5
}
