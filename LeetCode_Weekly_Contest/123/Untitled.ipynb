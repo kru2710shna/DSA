{
 "cells": [
  {
   "cell_type": "markdown",
   "id": "df54239f",
   "metadata": {},
   "source": [
    "## Weekly Contest 231"
   ]
  },
  {
   "cell_type": "markdown",
   "id": "c98a2f3c",
   "metadata": {},
   "source": [
    "## Problem Number: #3024. Type of Triangle\n",
    "## Difficulty: Easy\n",
    "#### You are given a 0-indexed integer array nums of size 3 which can form the sides of a triangle. A triangle is called equilateral if it has all sides of equal length. A triangle is called isosceles if it has exactly two sides of equal length. A triangle is called scalene if all its sides are of different lengths. Return a string representing the type of triangle that can be formed or \"none\" if it cannot form a triangle.\n",
    "\n",
    "### Example 1:\n",
    "### Input: nums = [3,3,3]\n",
    "### Output: \"equilateral\"\n",
    "### Explanation: Since all the sides are of equal length, therefore, it will form an equilateral triangle.\n",
    "\n",
    "### Example 2:\n",
    "### Input: nums = [3,4,5]\n",
    "### Output: \"scalene\"\n",
    "### Explanation: \n",
    "### nums[0] + nums[1] = 3 + 4 = 7, which is greater than nums[2] = 5.\n",
    "### nums[0] + nums[2] = 3 + 5 = 8, which is greater than nums[1] = 4.\n",
    "### nums[1] + nums[2] = 4 + 5 = 9, which is greater than nums[0] = 3. \n",
    "### Since the sum of the two sides is greater than the third side for all three cases, therefore, it can form a triangle.\n",
    "### As all the sides are of different lengths, it will form a scalene triangle.\n"
   ]
  },
  {
   "cell_type": "code",
   "execution_count": 1,
   "id": "e6078fae",
   "metadata": {},
   "outputs": [],
   "source": [
    "class Solution(object):\n",
    "    def triangleType(self, nums):\n",
    "        \"\"\"\n",
    "        :type nums: List[int]\n",
    "        :rtype: str\n",
    "        \"\"\"\n",
    "        # Sort the sides\n",
    "        nums.sort()\n",
    "\n",
    "        # Check if triangle is possible\n",
    "        if nums[0] + nums[1] <= nums[2]:\n",
    "            return \"none\"\n",
    "\n",
    "        # Check triangle type\n",
    "        if nums[0] == nums[1] == nums[2]:\n",
    "            return \"equilateral\"\n",
    "        elif nums[0] == nums[1] or nums[1] == nums[2]:\n",
    "            return \"isosceles\"\n",
    "        else:\n",
    "            return \"scalene\""
   ]
  },
  {
   "cell_type": "markdown",
   "id": "be0057e7",
   "metadata": {},
   "source": [
    "Time Complexity: O(N) Space Complexity:O(1)"
   ]
  },
  {
   "cell_type": "markdown",
   "id": "2a1a31fa",
   "metadata": {},
   "source": [
    "### Problem Number: #3025. Find the Number of Ways to Place People I\n",
    "### Level: Medium\n",
    "#### You are given a 2D array points of size n x 2 representing integer coordinates of some points on a 2D-plane, where points[i] = [xi, yi]. We define the right direction as positive x-axis (increasing x-coordinate) and the left direction as negative x-axis (decreasing x-coordinate). Similarly, we define the up direction as positive y-axis (increasing y-coordinate) and the down direction as negative y-axis (decreasing y-coordinate) You have to place n people, including Alice and Bob, at these points such that there is exactly one person at every point. Alice wants to be alone with Bob, so Alice will build a rectangular fence with Alice's position as the upper left corner and Bob's position as the lower right corner of the fence (Note that the fence might not enclose any area, i.e. it can be a line). If any person other than Alice and Bob is either inside the fence or on the fence, Alice will be sad. Return the number of pairs of points where you can place Alice and Bob, such that Alice does not become sad on building the fence. Note that Alice can only build a fence with Alice's position as the upper left corner, and Bob's position as the lower right corner. For example, Alice cannot build either of the fences in the picture below with four corners (1, 1), (1, 3), (3, 1), and (3, 3), because: With Alice at (3, 3) and Bob at (1, 1), Alice's position is not the upper left corner and Bob's position is not the lower right corner of the fence. With Alice at (1, 3) and Bob at (1, 1), Bob's position is not the lower right corner of the fence."
   ]
  },
  {
   "cell_type": "code",
   "execution_count": null,
   "id": "5e19b125",
   "metadata": {},
   "outputs": [],
   "source": []
  }
 ],
 "metadata": {
  "kernelspec": {
   "display_name": "Python 3 (ipykernel)",
   "language": "python",
   "name": "python3"
  },
  "language_info": {
   "codemirror_mode": {
    "name": "ipython",
    "version": 3
   },
   "file_extension": ".py",
   "mimetype": "text/x-python",
   "name": "python",
   "nbconvert_exporter": "python",
   "pygments_lexer": "ipython3",
   "version": "3.11.5"
  }
 },
 "nbformat": 4,
 "nbformat_minor": 5
}
