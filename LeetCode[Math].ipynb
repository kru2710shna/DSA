{
 "cells": [
  {
   "cell_type": "markdown",
   "id": "6d90627d",
   "metadata": {},
   "source": [
    "# LeetCode Problems "
   ]
  },
  {
   "cell_type": "markdown",
   "id": "43c318da",
   "metadata": {},
   "source": [
    "## Topic: Math \n",
    "###### Question To Pratice: 3\n",
    "###### Probelms are numbered according to LeetCode Numbering."
   ]
  },
  {
   "cell_type": "markdown",
   "id": "0a735dc7",
   "metadata": {},
   "source": [
    "Problem #7. Reverse Integer\n",
    "\n",
    "Level- Medium\n",
    "\n",
    "Given a signed 32-bit integer x, return x with its digits reversed. If reversing x causes the value to go outside the signed 32-bit integer range [-231, 231 - 1], then return 0.\n",
    "Assume the environment does not allow you to store 64-bit integers (signed or unsigned).\n",
    "\n",
    "Example 1:\n",
    "Input: x = 123\n",
    "Output: 321\n",
    "    \n",
    "Example 2:\n",
    "Input: x = -123\n",
    "Output: -321"
   ]
  },
  {
   "cell_type": "code",
   "execution_count": 14,
   "id": "e226862d",
   "metadata": {},
   "outputs": [],
   "source": [
    "class Solution(object):\n",
    "    def reverse(self, x):\n",
    "        \"\"\"\n",
    "        :type x: int\n",
    "        :rtype: int\n",
    "        \"\"\"\n",
    "        min_val = -2147483648\n",
    "        max_val = 2147483647\n",
    "        res = 0\n",
    "        neg = False\n",
    "        if x < 0:\n",
    "            neg = True\n",
    "            x = -x\n",
    "        \n",
    "        while x:\n",
    "            digit = int(math.fmod(x, 10))\n",
    "            x = int(x / 10)\n",
    "            \n",
    "            if (res > max_val // 10 or (res == max_val // 10 and digit > max_val % 10)):\n",
    "                return 0\n",
    "\n",
    "            if (res < min_val // 10 or (res == min_val // 10 and digit < min_val % 10)):\n",
    "                return 0\n",
    "\n",
    "            res = (res * 10) + digit"
   ]
  },
  {
   "cell_type": "markdown",
   "id": "0db0fb36",
   "metadata": {},
   "source": [
    "Time Complexity: O(n) Runtime: 7ms"
   ]
  },
  {
   "cell_type": "markdown",
   "id": "2df4d591",
   "metadata": {},
   "source": [
    "Problem #67. Add Binary\n",
    "\n",
    "Given two binary strings a and b, return their sum as a binary string.\n",
    "\n",
    "Example 1:\n",
    "Input: a = \"11\", b = \"1\"\n",
    "Output: \"100\"\n",
    "    \n",
    "Example 2:\n",
    "Input: a = \"1010\", b = \"1011\"\n",
    "Output: \"10101\""
   ]
  },
  {
   "cell_type": "code",
   "execution_count": 15,
   "id": "ff4bb914",
   "metadata": {},
   "outputs": [],
   "source": [
    "class Solution(object):\n",
    "    def addBinary(self, a, b):\n",
    "        \"\"\"\n",
    "        :type a: str\n",
    "        :type b: str\n",
    "        :rtype: str\n",
    "        \"\"\"\n",
    "        a, b = a[::-1], b[::-1]\n",
    "        res = \"\"\n",
    "        carry = 0\n",
    "        \n",
    "        for i in range(max(len(a), len(b))):\n",
    "            dA = ord(a[i]) - ord(\"0\") if i < len(a) else 0\n",
    "            dB = ord(b[i]) - ord(\"0\") if i < len(b) else 0\n",
    "            total = dA + dB + carry\n",
    "            char = str(total % 2)\n",
    "            res = char + res\n",
    "            carry = total // 2\n",
    "        \n",
    "        if carry:\n",
    "            res = \"1\" + res\n",
    "        \n",
    "        return res\n"
   ]
  },
  {
   "cell_type": "markdown",
   "id": "d7f3269c",
   "metadata": {},
   "source": [
    "Time Complexity: O(n) Runtime: 20ms"
   ]
  },
  {
   "cell_type": "markdown",
   "id": "96b26f05",
   "metadata": {},
   "source": [
    "Problem #9. Palindrome Number\n",
    "\n",
    "Level - EASY\n",
    "\n",
    "Given an integer x, return true if x is a \n",
    "palindrome, and false otherwise.\n",
    "\n",
    "Example 1:\n",
    "Input: x = 121\n",
    "Output: true\n",
    "Explanation: 121 reads as 121 from left to right and from right to left.\n",
    "\n",
    "Example 2:\n",
    "Input: x = -121\n",
    "Output: false\n",
    "Explanation: From left to right, it reads -121. From right to left, it becomes 121-. Therefore it is not a palindrome.\n",
    "\n",
    "Example 3:\n",
    "Input: x = 10\n",
    "Output: false\n",
    "Explanation: Reads 01 from right to left. Therefore it is not a palindrome."
   ]
  },
  {
   "cell_type": "code",
   "execution_count": 16,
   "id": "a244ffe1",
   "metadata": {},
   "outputs": [],
   "source": [
    "class Solution(object):\n",
    "    def isPalindrome(self, x):\n",
    "        \"\"\"\n",
    "        :type x: int\n",
    "        :rtype: bool\n",
    "        \"\"\"\n",
    "        if x < 0:\n",
    "            return False\n",
    "        \n",
    "        div = 1 # Reason behinf creating div was for the step where we cut off forst and last element and to check other numbers \n",
    "        \n",
    "        while x >= 10 * div: # to generate Div for future \n",
    "            div *= 10\n",
    "            \n",
    "        while x:\n",
    "            right = x%10 #getting rightmost value \n",
    "            left  = x //div #getting leftmost value \n",
    "            \n",
    "            if left != right: # compare\n",
    "                return False\n",
    "            \n",
    "            x = (x%div) // 10 # cuttig off first (x%div)) and last ( // 10)\n",
    "            \n",
    "            div = div /100 # remianing element \n",
    "        return True\n",
    "            \n",
    "        "
   ]
  },
  {
   "cell_type": "markdown",
   "id": "b8c3c091",
   "metadata": {},
   "source": [
    "Time Complexity O(n) Runtime: 63ms\n",
    "    "
   ]
  },
  {
   "cell_type": "markdown",
   "id": "2dbce9d6",
   "metadata": {},
   "source": [
    "Problem. #453. Minimum Moves to Equal Array Elements\n",
    "\n",
    "Level - EASY\n",
    "\n",
    "Given an integer array nums of size n, return the minimum number of moves required to make all array elements equal. In one move, you can increment n - 1 elements of the array by 1.\n",
    "\n",
    "Example 1:\n",
    "Input: nums = [1,2,3]\n",
    "Output: 3\n",
    "Explanation: Only three moves are needed (remember each move increments two elements):\n",
    "[1,2,3]  =>  [2,3,3]  =>  [3,4,3]  =>  [4,4,4]\n",
    "\n",
    "Example 2:\n",
    "Input: nums = [1,1,1]\n",
    "Output: 0"
   ]
  },
  {
   "cell_type": "code",
   "execution_count": 17,
   "id": "664546ee",
   "metadata": {},
   "outputs": [],
   "source": [
    "class Solution(object):\n",
    "    def minMoves(self, nums):\n",
    "        \"\"\"\n",
    "        :type nums: List[int]\n",
    "        :rtype: int\n",
    "        \"\"\"\n",
    "        return sum(nums) - min(nums) * len(nums)"
   ]
  },
  {
   "cell_type": "markdown",
   "id": "71d67449",
   "metadata": {},
   "source": [
    "Time Complexity: O(n) Runtime: 216ms "
   ]
  },
  {
   "cell_type": "markdown",
   "id": "4ed89483",
   "metadata": {},
   "source": [
    "Problem #202. Happy Number\n",
    "\n",
    "Level - EASY\n",
    "\n",
    "Write an algorithm to determine if a number n is happy.\n",
    "\n",
    "A happy number is a number defined by the following process:\n",
    "\n",
    "Starting with any positive integer, replace the number by the sum of the squares of its digits.\n",
    "Repeat the process until the number equals 1 (where it will stay), or it loops endlessly in a cycle which does not include 1.\n",
    "Those numbers for which this process ends in 1 are happy.\n",
    "Return true if n is a happy number, and false if not.\n",
    "\n",
    "Example 1:\n",
    "Input: n = 19\n",
    "Output: true\n",
    "Explanation:\n",
    "12 + 92 = 82\n",
    "82 + 22 = 68\n",
    "62 + 82 = 100\n",
    "12 + 02 + 02 = 1"
   ]
  },
  {
   "cell_type": "code",
   "execution_count": 18,
   "id": "8ac47bd7",
   "metadata": {},
   "outputs": [],
   "source": [
    "import math\n",
    "class Solution(object):\n",
    "    def isHappy(self, n):\n",
    "        \"\"\"\n",
    "        :type n: int\n",
    "        :rtype: bool\n",
    "        \"\"\"\n",
    "        if n < 0:\n",
    "            return False\n",
    "        visited = set()  # Track visited numbers to detect cycles\n",
    "        while n != 1:\n",
    "            if n in visited:\n",
    "                return False  # Entered a cycle, not a happy number\n",
    "            visited.add(n)\n",
    "            ans = 0\n",
    "            while n > 0:\n",
    "                digit = n % 10\n",
    "                ans += digit ** 2\n",
    "                n //= 10\n",
    "            n = ans\n",
    "        return True \n",
    "\n",
    "\n",
    "        "
   ]
  },
  {
   "cell_type": "markdown",
   "id": "640000c2",
   "metadata": {},
   "source": [
    "Time Complexity : O(n) Runtime : 13ms"
   ]
  },
  {
   "cell_type": "markdown",
   "id": "21e75153",
   "metadata": {},
   "source": [
    "Problem. #268. Missing Number\n",
    "\n",
    "Level - EASY\n",
    "\n",
    "Given an array nums containing n distinct numbers in the range [0, n], return the only number in the range that is missing from the array.\n",
    "\n",
    "Example 1:\n",
    "Input: nums = [3,0,1]\n",
    "Output: 2\n",
    "Explanation: n = 3 since there are 3 numbers, so all numbers are in the range [0,3]. 2 is the missing number in the range since it does not appear in nums.\n",
    "\n",
    "Example 2:\n",
    "Input: nums = [0,1]\n",
    "Output: 2\n",
    "Explanation: n = 2 since there are 2 numbers, so all numbers are in the range [0,2]. 2 is the missing number in the range since it does not appear in nums.\n",
    "\n",
    "Example 3:\n",
    "Input: nums = [9,6,4,2,3,5,7,0,1]\n",
    "Output: 8\n",
    "Explanation: n = 9 since there are 9 numbers, so all numbers are in the range [0,9]. 8 is the missing number in the range since it does not appear in nums."
   ]
  },
  {
   "cell_type": "code",
   "execution_count": 19,
   "id": "e0244e26",
   "metadata": {},
   "outputs": [],
   "source": [
    "class Solution(object):\n",
    "    def missingNumber(self, nums):\n",
    "        \"\"\"\n",
    "        :type nums: List[int]\n",
    "        :rtype: int\n",
    "        \"\"\"\n",
    "        n = len(nums)\n",
    "        return n * (n+1) / 2 - sum(nums)\n",
    "    "
   ]
  },
  {
   "cell_type": "markdown",
   "id": "320ce721",
   "metadata": {},
   "source": [
    "Time Complexity: O(1) Runtime: 99ms"
   ]
  },
  {
   "cell_type": "markdown",
   "id": "c8916613",
   "metadata": {},
   "source": [
    "Problem: #628 Maximum Product of Three Numbers\n",
    "\n",
    "Level - EASY\n",
    "    \n",
    "Given an integer array nums, find three numbers whose product is maximum and return the maximum product.\n",
    "Example 1:\n",
    "\n",
    "Input: nums = [1,2,3]\n",
    "Output: 6\n",
    "    \n",
    "Example 2:\n",
    "Input: nums = [1,2,3,4]\n",
    "Output: 24\n",
    "    \n",
    "Example 3:\n",
    "Input: nums = [-1,-2,-3]\n",
    "Output: -6"
   ]
  },
  {
   "cell_type": "code",
   "execution_count": 20,
   "id": "a2dce07a",
   "metadata": {},
   "outputs": [],
   "source": [
    "class Solution(object):\n",
    "    def maximumProduct(self, nums):\n",
    "        \"\"\"\n",
    "        :type nums: List[int]\n",
    "        :rtype: int\n",
    "        \"\"\"\n",
    "        if len(nums) == 3:\n",
    "            return nums[0]*nums[1]*nums[2]\n",
    "            \n",
    "        max1 = max(nums)\n",
    "        min1 = min(nums)\n",
    "        nums.remove(max1)\n",
    "        nums.remove(min1)\n",
    "        max2 = max(nums)\n",
    "        min2 = min(nums)\n",
    "        nums.remove(max2)\n",
    "        max3 = max(nums)\n",
    "\n",
    "        return max(max1*max2*max3, min1*min2*max1)\n",
    "        "
   ]
  },
  {
   "cell_type": "markdown",
   "id": "47b76a8e",
   "metadata": {},
   "source": [
    "Time Complexity: O(1) Runtime : 208ms "
   ]
  }
 ],
 "metadata": {
  "kernelspec": {
   "display_name": "Python 3 (ipykernel)",
   "language": "python",
   "name": "python3"
  },
  "language_info": {
   "codemirror_mode": {
    "name": "ipython",
    "version": 3
   },
   "file_extension": ".py",
   "mimetype": "text/x-python",
   "name": "python",
   "nbconvert_exporter": "python",
   "pygments_lexer": "ipython3",
   "version": "3.9.12"
  }
 },
 "nbformat": 4,
 "nbformat_minor": 5
}
